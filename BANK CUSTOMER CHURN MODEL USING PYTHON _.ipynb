{
  "nbformat": 4,
  "nbformat_minor": 0,
  "metadata": {
    "colab": {
      "provenance": [],
      "authorship_tag": "ABX9TyMpFUkxeBh0UPLeDSff+QDn",
      "include_colab_link": true
    },
    "kernelspec": {
      "name": "python3",
      "display_name": "Python 3"
    },
    "language_info": {
      "name": "python"
    }
  },
  "cells": [
    {
      "cell_type": "markdown",
      "metadata": {
        "id": "view-in-github",
        "colab_type": "text"
      },
      "source": [
        "<a href=\"https://colab.research.google.com/github/devrishisharma/INTERNSHIP-PROJECTS-/blob/main/BANK%20CUSTOMER%20CHURN%20MODEL%20USING%20PYTHON%20_.ipynb\" target=\"_parent\"><img src=\"https://colab.research.google.com/assets/colab-badge.svg\" alt=\"Open In Colab\"/></a>"
      ]
    },
    {
      "cell_type": "markdown",
      "source": [
        "BANK CUSTOMER CHURN MODEL"
      ],
      "metadata": {
        "id": "_a1ESdMXGeM_"
      }
    },
    {
      "cell_type": "markdown",
      "source": [
        "LEARNING OBJECTIVE\n",
        "\n",
        "1 DATA ENCODING\n",
        "2 FEATURE SCALING\n",
        "3 HANDLING IMBALANCE DATA\n",
        "   a RANDOM UNDER SAMPLING\n",
        "   b RANDOM OVER SAMPLING\n",
        "4 SUPPORT VECTOR MACHINE CLASSIFIER\n",
        "5 GRID SEARCH FOR HYPERPARAMETER TUNNING"
      ],
      "metadata": {
        "id": "pmbKpGe1GnKO"
      }
    },
    {
      "cell_type": "markdown",
      "source": [
        "IMPORT LIBRARY"
      ],
      "metadata": {
        "id": "HipBQfS4HSvH"
      }
    },
    {
      "cell_type": "code",
      "source": [
        "import pandas as pd"
      ],
      "metadata": {
        "id": "zofSNQJEHWKz"
      },
      "execution_count": 4,
      "outputs": []
    },
    {
      "cell_type": "code",
      "source": [
        "import numpy as np"
      ],
      "metadata": {
        "id": "elhIgVmcHaYP"
      },
      "execution_count": 5,
      "outputs": []
    },
    {
      "cell_type": "code",
      "source": [
        "import matplotlib.pyplot as plt"
      ],
      "metadata": {
        "id": "MMyHiQ7bHdOp"
      },
      "execution_count": 6,
      "outputs": []
    },
    {
      "cell_type": "code",
      "source": [
        "import seaborn as sns"
      ],
      "metadata": {
        "id": "LDYuILegHgjg"
      },
      "execution_count": 7,
      "outputs": []
    },
    {
      "cell_type": "markdown",
      "source": [
        "import data"
      ],
      "metadata": {
        "id": "Kop8DpeOHzVJ"
      }
    },
    {
      "source": [
        "df = pd.read_csv('https://github.com/YBIFoundation/Dataset/raw/main/Bank%20Churn%20Modelling.csv')"
      ],
      "cell_type": "code",
      "metadata": {
        "id": "ptjrXtOwKfpe"
      },
      "execution_count": 8,
      "outputs": []
    },
    {
      "cell_type": "markdown",
      "source": [
        "analyse data"
      ],
      "metadata": {
        "id": "XYrRduK6KsKQ"
      }
    },
    {
      "cell_type": "code",
      "source": [
        "df.head()"
      ],
      "metadata": {
        "colab": {
          "base_uri": "https://localhost:8080/",
          "height": 206
        },
        "id": "XHSeiLY_Ku8v",
        "outputId": "00c379f3-2464-4ca2-824b-3b115b6cda3a"
      },
      "execution_count": 9,
      "outputs": [
        {
          "output_type": "execute_result",
          "data": {
            "text/plain": [
              "   CustomerId   Surname  CreditScore Geography  Gender  Age  Tenure  \\\n",
              "0    15634602  Hargrave          619    France  Female   42       2   \n",
              "1    15647311      Hill          608     Spain  Female   41       1   \n",
              "2    15619304      Onio          502    France  Female   42       8   \n",
              "3    15701354      Boni          699    France  Female   39       1   \n",
              "4    15737888  Mitchell          850     Spain  Female   43       2   \n",
              "\n",
              "     Balance  Num Of Products  Has Credit Card  Is Active Member  \\\n",
              "0       0.00                1                1                 1   \n",
              "1   83807.86                1                0                 1   \n",
              "2  159660.80                3                1                 0   \n",
              "3       0.00                2                0                 0   \n",
              "4  125510.82                1                1                 1   \n",
              "\n",
              "   Estimated Salary  Churn  \n",
              "0         101348.88      1  \n",
              "1         112542.58      0  \n",
              "2         113931.57      1  \n",
              "3          93826.63      0  \n",
              "4          79084.10      0  "
            ],
            "text/html": [
              "\n",
              "  <div id=\"df-93dd57bf-ec82-4422-8a2e-9da01bfd1393\" class=\"colab-df-container\">\n",
              "    <div>\n",
              "<style scoped>\n",
              "    .dataframe tbody tr th:only-of-type {\n",
              "        vertical-align: middle;\n",
              "    }\n",
              "\n",
              "    .dataframe tbody tr th {\n",
              "        vertical-align: top;\n",
              "    }\n",
              "\n",
              "    .dataframe thead th {\n",
              "        text-align: right;\n",
              "    }\n",
              "</style>\n",
              "<table border=\"1\" class=\"dataframe\">\n",
              "  <thead>\n",
              "    <tr style=\"text-align: right;\">\n",
              "      <th></th>\n",
              "      <th>CustomerId</th>\n",
              "      <th>Surname</th>\n",
              "      <th>CreditScore</th>\n",
              "      <th>Geography</th>\n",
              "      <th>Gender</th>\n",
              "      <th>Age</th>\n",
              "      <th>Tenure</th>\n",
              "      <th>Balance</th>\n",
              "      <th>Num Of Products</th>\n",
              "      <th>Has Credit Card</th>\n",
              "      <th>Is Active Member</th>\n",
              "      <th>Estimated Salary</th>\n",
              "      <th>Churn</th>\n",
              "    </tr>\n",
              "  </thead>\n",
              "  <tbody>\n",
              "    <tr>\n",
              "      <th>0</th>\n",
              "      <td>15634602</td>\n",
              "      <td>Hargrave</td>\n",
              "      <td>619</td>\n",
              "      <td>France</td>\n",
              "      <td>Female</td>\n",
              "      <td>42</td>\n",
              "      <td>2</td>\n",
              "      <td>0.00</td>\n",
              "      <td>1</td>\n",
              "      <td>1</td>\n",
              "      <td>1</td>\n",
              "      <td>101348.88</td>\n",
              "      <td>1</td>\n",
              "    </tr>\n",
              "    <tr>\n",
              "      <th>1</th>\n",
              "      <td>15647311</td>\n",
              "      <td>Hill</td>\n",
              "      <td>608</td>\n",
              "      <td>Spain</td>\n",
              "      <td>Female</td>\n",
              "      <td>41</td>\n",
              "      <td>1</td>\n",
              "      <td>83807.86</td>\n",
              "      <td>1</td>\n",
              "      <td>0</td>\n",
              "      <td>1</td>\n",
              "      <td>112542.58</td>\n",
              "      <td>0</td>\n",
              "    </tr>\n",
              "    <tr>\n",
              "      <th>2</th>\n",
              "      <td>15619304</td>\n",
              "      <td>Onio</td>\n",
              "      <td>502</td>\n",
              "      <td>France</td>\n",
              "      <td>Female</td>\n",
              "      <td>42</td>\n",
              "      <td>8</td>\n",
              "      <td>159660.80</td>\n",
              "      <td>3</td>\n",
              "      <td>1</td>\n",
              "      <td>0</td>\n",
              "      <td>113931.57</td>\n",
              "      <td>1</td>\n",
              "    </tr>\n",
              "    <tr>\n",
              "      <th>3</th>\n",
              "      <td>15701354</td>\n",
              "      <td>Boni</td>\n",
              "      <td>699</td>\n",
              "      <td>France</td>\n",
              "      <td>Female</td>\n",
              "      <td>39</td>\n",
              "      <td>1</td>\n",
              "      <td>0.00</td>\n",
              "      <td>2</td>\n",
              "      <td>0</td>\n",
              "      <td>0</td>\n",
              "      <td>93826.63</td>\n",
              "      <td>0</td>\n",
              "    </tr>\n",
              "    <tr>\n",
              "      <th>4</th>\n",
              "      <td>15737888</td>\n",
              "      <td>Mitchell</td>\n",
              "      <td>850</td>\n",
              "      <td>Spain</td>\n",
              "      <td>Female</td>\n",
              "      <td>43</td>\n",
              "      <td>2</td>\n",
              "      <td>125510.82</td>\n",
              "      <td>1</td>\n",
              "      <td>1</td>\n",
              "      <td>1</td>\n",
              "      <td>79084.10</td>\n",
              "      <td>0</td>\n",
              "    </tr>\n",
              "  </tbody>\n",
              "</table>\n",
              "</div>\n",
              "    <div class=\"colab-df-buttons\">\n",
              "\n",
              "  <div class=\"colab-df-container\">\n",
              "    <button class=\"colab-df-convert\" onclick=\"convertToInteractive('df-93dd57bf-ec82-4422-8a2e-9da01bfd1393')\"\n",
              "            title=\"Convert this dataframe to an interactive table.\"\n",
              "            style=\"display:none;\">\n",
              "\n",
              "  <svg xmlns=\"http://www.w3.org/2000/svg\" height=\"24px\" viewBox=\"0 -960 960 960\">\n",
              "    <path d=\"M120-120v-720h720v720H120Zm60-500h600v-160H180v160Zm220 220h160v-160H400v160Zm0 220h160v-160H400v160ZM180-400h160v-160H180v160Zm440 0h160v-160H620v160ZM180-180h160v-160H180v160Zm440 0h160v-160H620v160Z\"/>\n",
              "  </svg>\n",
              "    </button>\n",
              "\n",
              "  <style>\n",
              "    .colab-df-container {\n",
              "      display:flex;\n",
              "      gap: 12px;\n",
              "    }\n",
              "\n",
              "    .colab-df-convert {\n",
              "      background-color: #E8F0FE;\n",
              "      border: none;\n",
              "      border-radius: 50%;\n",
              "      cursor: pointer;\n",
              "      display: none;\n",
              "      fill: #1967D2;\n",
              "      height: 32px;\n",
              "      padding: 0 0 0 0;\n",
              "      width: 32px;\n",
              "    }\n",
              "\n",
              "    .colab-df-convert:hover {\n",
              "      background-color: #E2EBFA;\n",
              "      box-shadow: 0px 1px 2px rgba(60, 64, 67, 0.3), 0px 1px 3px 1px rgba(60, 64, 67, 0.15);\n",
              "      fill: #174EA6;\n",
              "    }\n",
              "\n",
              "    .colab-df-buttons div {\n",
              "      margin-bottom: 4px;\n",
              "    }\n",
              "\n",
              "    [theme=dark] .colab-df-convert {\n",
              "      background-color: #3B4455;\n",
              "      fill: #D2E3FC;\n",
              "    }\n",
              "\n",
              "    [theme=dark] .colab-df-convert:hover {\n",
              "      background-color: #434B5C;\n",
              "      box-shadow: 0px 1px 3px 1px rgba(0, 0, 0, 0.15);\n",
              "      filter: drop-shadow(0px 1px 2px rgba(0, 0, 0, 0.3));\n",
              "      fill: #FFFFFF;\n",
              "    }\n",
              "  </style>\n",
              "\n",
              "    <script>\n",
              "      const buttonEl =\n",
              "        document.querySelector('#df-93dd57bf-ec82-4422-8a2e-9da01bfd1393 button.colab-df-convert');\n",
              "      buttonEl.style.display =\n",
              "        google.colab.kernel.accessAllowed ? 'block' : 'none';\n",
              "\n",
              "      async function convertToInteractive(key) {\n",
              "        const element = document.querySelector('#df-93dd57bf-ec82-4422-8a2e-9da01bfd1393');\n",
              "        const dataTable =\n",
              "          await google.colab.kernel.invokeFunction('convertToInteractive',\n",
              "                                                    [key], {});\n",
              "        if (!dataTable) return;\n",
              "\n",
              "        const docLinkHtml = 'Like what you see? Visit the ' +\n",
              "          '<a target=\"_blank\" href=https://colab.research.google.com/notebooks/data_table.ipynb>data table notebook</a>'\n",
              "          + ' to learn more about interactive tables.';\n",
              "        element.innerHTML = '';\n",
              "        dataTable['output_type'] = 'display_data';\n",
              "        await google.colab.output.renderOutput(dataTable, element);\n",
              "        const docLink = document.createElement('div');\n",
              "        docLink.innerHTML = docLinkHtml;\n",
              "        element.appendChild(docLink);\n",
              "      }\n",
              "    </script>\n",
              "  </div>\n",
              "\n",
              "\n",
              "<div id=\"df-ed7e7bc1-4ef8-4e35-8a87-8996b252defd\">\n",
              "  <button class=\"colab-df-quickchart\" onclick=\"quickchart('df-ed7e7bc1-4ef8-4e35-8a87-8996b252defd')\"\n",
              "            title=\"Suggest charts\"\n",
              "            style=\"display:none;\">\n",
              "\n",
              "<svg xmlns=\"http://www.w3.org/2000/svg\" height=\"24px\"viewBox=\"0 0 24 24\"\n",
              "     width=\"24px\">\n",
              "    <g>\n",
              "        <path d=\"M19 3H5c-1.1 0-2 .9-2 2v14c0 1.1.9 2 2 2h14c1.1 0 2-.9 2-2V5c0-1.1-.9-2-2-2zM9 17H7v-7h2v7zm4 0h-2V7h2v10zm4 0h-2v-4h2v4z\"/>\n",
              "    </g>\n",
              "</svg>\n",
              "  </button>\n",
              "\n",
              "<style>\n",
              "  .colab-df-quickchart {\n",
              "      --bg-color: #E8F0FE;\n",
              "      --fill-color: #1967D2;\n",
              "      --hover-bg-color: #E2EBFA;\n",
              "      --hover-fill-color: #174EA6;\n",
              "      --disabled-fill-color: #AAA;\n",
              "      --disabled-bg-color: #DDD;\n",
              "  }\n",
              "\n",
              "  [theme=dark] .colab-df-quickchart {\n",
              "      --bg-color: #3B4455;\n",
              "      --fill-color: #D2E3FC;\n",
              "      --hover-bg-color: #434B5C;\n",
              "      --hover-fill-color: #FFFFFF;\n",
              "      --disabled-bg-color: #3B4455;\n",
              "      --disabled-fill-color: #666;\n",
              "  }\n",
              "\n",
              "  .colab-df-quickchart {\n",
              "    background-color: var(--bg-color);\n",
              "    border: none;\n",
              "    border-radius: 50%;\n",
              "    cursor: pointer;\n",
              "    display: none;\n",
              "    fill: var(--fill-color);\n",
              "    height: 32px;\n",
              "    padding: 0;\n",
              "    width: 32px;\n",
              "  }\n",
              "\n",
              "  .colab-df-quickchart:hover {\n",
              "    background-color: var(--hover-bg-color);\n",
              "    box-shadow: 0 1px 2px rgba(60, 64, 67, 0.3), 0 1px 3px 1px rgba(60, 64, 67, 0.15);\n",
              "    fill: var(--button-hover-fill-color);\n",
              "  }\n",
              "\n",
              "  .colab-df-quickchart-complete:disabled,\n",
              "  .colab-df-quickchart-complete:disabled:hover {\n",
              "    background-color: var(--disabled-bg-color);\n",
              "    fill: var(--disabled-fill-color);\n",
              "    box-shadow: none;\n",
              "  }\n",
              "\n",
              "  .colab-df-spinner {\n",
              "    border: 2px solid var(--fill-color);\n",
              "    border-color: transparent;\n",
              "    border-bottom-color: var(--fill-color);\n",
              "    animation:\n",
              "      spin 1s steps(1) infinite;\n",
              "  }\n",
              "\n",
              "  @keyframes spin {\n",
              "    0% {\n",
              "      border-color: transparent;\n",
              "      border-bottom-color: var(--fill-color);\n",
              "      border-left-color: var(--fill-color);\n",
              "    }\n",
              "    20% {\n",
              "      border-color: transparent;\n",
              "      border-left-color: var(--fill-color);\n",
              "      border-top-color: var(--fill-color);\n",
              "    }\n",
              "    30% {\n",
              "      border-color: transparent;\n",
              "      border-left-color: var(--fill-color);\n",
              "      border-top-color: var(--fill-color);\n",
              "      border-right-color: var(--fill-color);\n",
              "    }\n",
              "    40% {\n",
              "      border-color: transparent;\n",
              "      border-right-color: var(--fill-color);\n",
              "      border-top-color: var(--fill-color);\n",
              "    }\n",
              "    60% {\n",
              "      border-color: transparent;\n",
              "      border-right-color: var(--fill-color);\n",
              "    }\n",
              "    80% {\n",
              "      border-color: transparent;\n",
              "      border-right-color: var(--fill-color);\n",
              "      border-bottom-color: var(--fill-color);\n",
              "    }\n",
              "    90% {\n",
              "      border-color: transparent;\n",
              "      border-bottom-color: var(--fill-color);\n",
              "    }\n",
              "  }\n",
              "</style>\n",
              "\n",
              "  <script>\n",
              "    async function quickchart(key) {\n",
              "      const quickchartButtonEl =\n",
              "        document.querySelector('#' + key + ' button');\n",
              "      quickchartButtonEl.disabled = true;  // To prevent multiple clicks.\n",
              "      quickchartButtonEl.classList.add('colab-df-spinner');\n",
              "      try {\n",
              "        const charts = await google.colab.kernel.invokeFunction(\n",
              "            'suggestCharts', [key], {});\n",
              "      } catch (error) {\n",
              "        console.error('Error during call to suggestCharts:', error);\n",
              "      }\n",
              "      quickchartButtonEl.classList.remove('colab-df-spinner');\n",
              "      quickchartButtonEl.classList.add('colab-df-quickchart-complete');\n",
              "    }\n",
              "    (() => {\n",
              "      let quickchartButtonEl =\n",
              "        document.querySelector('#df-ed7e7bc1-4ef8-4e35-8a87-8996b252defd button');\n",
              "      quickchartButtonEl.style.display =\n",
              "        google.colab.kernel.accessAllowed ? 'block' : 'none';\n",
              "    })();\n",
              "  </script>\n",
              "</div>\n",
              "\n",
              "    </div>\n",
              "  </div>\n"
            ],
            "application/vnd.google.colaboratory.intrinsic+json": {
              "type": "dataframe",
              "variable_name": "df",
              "summary": "{\n  \"name\": \"df\",\n  \"rows\": 10000,\n  \"fields\": [\n    {\n      \"column\": \"CustomerId\",\n      \"properties\": {\n        \"dtype\": \"number\",\n        \"std\": 71936,\n        \"min\": 15565701,\n        \"max\": 15815690,\n        \"num_unique_values\": 10000,\n        \"samples\": [\n          15687492,\n          15736963,\n          15721730\n        ],\n        \"semantic_type\": \"\",\n        \"description\": \"\"\n      }\n    },\n    {\n      \"column\": \"Surname\",\n      \"properties\": {\n        \"dtype\": \"category\",\n        \"num_unique_values\": 2932,\n        \"samples\": [\n          \"McGuirk\",\n          \"Torkelson\",\n          \"Rapuluchukwu\"\n        ],\n        \"semantic_type\": \"\",\n        \"description\": \"\"\n      }\n    },\n    {\n      \"column\": \"CreditScore\",\n      \"properties\": {\n        \"dtype\": \"number\",\n        \"std\": 96,\n        \"min\": 350,\n        \"max\": 850,\n        \"num_unique_values\": 460,\n        \"samples\": [\n          754,\n          533,\n          744\n        ],\n        \"semantic_type\": \"\",\n        \"description\": \"\"\n      }\n    },\n    {\n      \"column\": \"Geography\",\n      \"properties\": {\n        \"dtype\": \"category\",\n        \"num_unique_values\": 3,\n        \"samples\": [\n          \"France\",\n          \"Spain\",\n          \"Germany\"\n        ],\n        \"semantic_type\": \"\",\n        \"description\": \"\"\n      }\n    },\n    {\n      \"column\": \"Gender\",\n      \"properties\": {\n        \"dtype\": \"category\",\n        \"num_unique_values\": 2,\n        \"samples\": [\n          \"Male\",\n          \"Female\"\n        ],\n        \"semantic_type\": \"\",\n        \"description\": \"\"\n      }\n    },\n    {\n      \"column\": \"Age\",\n      \"properties\": {\n        \"dtype\": \"number\",\n        \"std\": 10,\n        \"min\": 18,\n        \"max\": 92,\n        \"num_unique_values\": 70,\n        \"samples\": [\n          61,\n          42\n        ],\n        \"semantic_type\": \"\",\n        \"description\": \"\"\n      }\n    },\n    {\n      \"column\": \"Tenure\",\n      \"properties\": {\n        \"dtype\": \"number\",\n        \"std\": 2,\n        \"min\": 0,\n        \"max\": 10,\n        \"num_unique_values\": 11,\n        \"samples\": [\n          6,\n          2\n        ],\n        \"semantic_type\": \"\",\n        \"description\": \"\"\n      }\n    },\n    {\n      \"column\": \"Balance\",\n      \"properties\": {\n        \"dtype\": \"number\",\n        \"std\": 62397.405202385955,\n        \"min\": 0.0,\n        \"max\": 250898.09,\n        \"num_unique_values\": 6382,\n        \"samples\": [\n          117707.18,\n          133050.97\n        ],\n        \"semantic_type\": \"\",\n        \"description\": \"\"\n      }\n    },\n    {\n      \"column\": \"Num Of Products\",\n      \"properties\": {\n        \"dtype\": \"number\",\n        \"std\": 0,\n        \"min\": 1,\n        \"max\": 4,\n        \"num_unique_values\": 4,\n        \"samples\": [\n          3,\n          4\n        ],\n        \"semantic_type\": \"\",\n        \"description\": \"\"\n      }\n    },\n    {\n      \"column\": \"Has Credit Card\",\n      \"properties\": {\n        \"dtype\": \"number\",\n        \"std\": 0,\n        \"min\": 0,\n        \"max\": 1,\n        \"num_unique_values\": 2,\n        \"samples\": [\n          0,\n          1\n        ],\n        \"semantic_type\": \"\",\n        \"description\": \"\"\n      }\n    },\n    {\n      \"column\": \"Is Active Member\",\n      \"properties\": {\n        \"dtype\": \"number\",\n        \"std\": 0,\n        \"min\": 0,\n        \"max\": 1,\n        \"num_unique_values\": 2,\n        \"samples\": [\n          0,\n          1\n        ],\n        \"semantic_type\": \"\",\n        \"description\": \"\"\n      }\n    },\n    {\n      \"column\": \"Estimated Salary\",\n      \"properties\": {\n        \"dtype\": \"number\",\n        \"std\": 57510.49281769816,\n        \"min\": 11.58,\n        \"max\": 199992.48,\n        \"num_unique_values\": 9999,\n        \"samples\": [\n          100809.99,\n          95273.73\n        ],\n        \"semantic_type\": \"\",\n        \"description\": \"\"\n      }\n    },\n    {\n      \"column\": \"Churn\",\n      \"properties\": {\n        \"dtype\": \"number\",\n        \"std\": 0,\n        \"min\": 0,\n        \"max\": 1,\n        \"num_unique_values\": 2,\n        \"samples\": [\n          0,\n          1\n        ],\n        \"semantic_type\": \"\",\n        \"description\": \"\"\n      }\n    }\n  ]\n}"
            }
          },
          "metadata": {},
          "execution_count": 9
        }
      ]
    },
    {
      "cell_type": "code",
      "source": [
        "df.info()"
      ],
      "metadata": {
        "colab": {
          "base_uri": "https://localhost:8080/"
        },
        "id": "_9COj3F1KyCn",
        "outputId": "bfda1f0d-1d51-4645-8c78-85b285c0200a"
      },
      "execution_count": 10,
      "outputs": [
        {
          "output_type": "stream",
          "name": "stdout",
          "text": [
            "<class 'pandas.core.frame.DataFrame'>\n",
            "RangeIndex: 10000 entries, 0 to 9999\n",
            "Data columns (total 13 columns):\n",
            " #   Column            Non-Null Count  Dtype  \n",
            "---  ------            --------------  -----  \n",
            " 0   CustomerId        10000 non-null  int64  \n",
            " 1   Surname           10000 non-null  object \n",
            " 2   CreditScore       10000 non-null  int64  \n",
            " 3   Geography         10000 non-null  object \n",
            " 4   Gender            10000 non-null  object \n",
            " 5   Age               10000 non-null  int64  \n",
            " 6   Tenure            10000 non-null  int64  \n",
            " 7   Balance           10000 non-null  float64\n",
            " 8   Num Of Products   10000 non-null  int64  \n",
            " 9   Has Credit Card   10000 non-null  int64  \n",
            " 10  Is Active Member  10000 non-null  int64  \n",
            " 11  Estimated Salary  10000 non-null  float64\n",
            " 12  Churn             10000 non-null  int64  \n",
            "dtypes: float64(2), int64(8), object(3)\n",
            "memory usage: 1015.8+ KB\n"
          ]
        }
      ]
    },
    {
      "cell_type": "markdown",
      "source": [
        "check if customer id is dupliicate or not"
      ],
      "metadata": {
        "id": "qHXnFSmALkD9"
      }
    },
    {
      "cell_type": "code",
      "source": [
        "df.duplicated('CustomerId').sum()"
      ],
      "metadata": {
        "colab": {
          "base_uri": "https://localhost:8080/"
        },
        "id": "f-0DzbEQK-Ti",
        "outputId": "19d50f71-28ce-4acf-cc85-81ef173d8f00"
      },
      "execution_count": 12,
      "outputs": [
        {
          "output_type": "execute_result",
          "data": {
            "text/plain": [
              "0"
            ]
          },
          "metadata": {},
          "execution_count": 12
        }
      ]
    },
    {
      "cell_type": "code",
      "source": [
        "df = df.set_index('CustomerId')"
      ],
      "metadata": {
        "id": "RsHEwYTOLPm4"
      },
      "execution_count": 14,
      "outputs": []
    },
    {
      "cell_type": "code",
      "source": [
        "df.info()"
      ],
      "metadata": {
        "colab": {
          "base_uri": "https://localhost:8080/"
        },
        "id": "YGL_0L00Lb7T",
        "outputId": "0c3435a8-b796-4235-d34d-3930d84a5892"
      },
      "execution_count": 15,
      "outputs": [
        {
          "output_type": "stream",
          "name": "stdout",
          "text": [
            "<class 'pandas.core.frame.DataFrame'>\n",
            "Index: 10000 entries, 15634602 to 15628319\n",
            "Data columns (total 12 columns):\n",
            " #   Column            Non-Null Count  Dtype  \n",
            "---  ------            --------------  -----  \n",
            " 0   Surname           10000 non-null  object \n",
            " 1   CreditScore       10000 non-null  int64  \n",
            " 2   Geography         10000 non-null  object \n",
            " 3   Gender            10000 non-null  object \n",
            " 4   Age               10000 non-null  int64  \n",
            " 5   Tenure            10000 non-null  int64  \n",
            " 6   Balance           10000 non-null  float64\n",
            " 7   Num Of Products   10000 non-null  int64  \n",
            " 8   Has Credit Card   10000 non-null  int64  \n",
            " 9   Is Active Member  10000 non-null  int64  \n",
            " 10  Estimated Salary  10000 non-null  float64\n",
            " 11  Churn             10000 non-null  int64  \n",
            "dtypes: float64(2), int64(7), object(3)\n",
            "memory usage: 1015.6+ KB\n"
          ]
        }
      ]
    },
    {
      "cell_type": "markdown",
      "source": [
        "## **encoding **"
      ],
      "metadata": {
        "id": "EQQfXsL7Mabf"
      }
    },
    {
      "cell_type": "code",
      "source": [
        "df['Geography'].value_counts()"
      ],
      "metadata": {
        "colab": {
          "base_uri": "https://localhost:8080/"
        },
        "id": "HkBJZfx0McqQ",
        "outputId": "22d37c85-ac4a-488e-9a90-4bb2c89d0fbd"
      },
      "execution_count": 16,
      "outputs": [
        {
          "output_type": "execute_result",
          "data": {
            "text/plain": [
              "Geography\n",
              "France     5014\n",
              "Germany    2509\n",
              "Spain      2477\n",
              "Name: count, dtype: int64"
            ]
          },
          "metadata": {},
          "execution_count": 16
        }
      ]
    },
    {
      "cell_type": "code",
      "source": [
        "df.replace({'Geography':{'France':2,'Germany':1,'Spain':0}},inplace=True)"
      ],
      "metadata": {
        "id": "Ki_zGBH1Mmw3"
      },
      "execution_count": 18,
      "outputs": []
    },
    {
      "cell_type": "code",
      "source": [
        "df['Gender'].value_counts()"
      ],
      "metadata": {
        "colab": {
          "base_uri": "https://localhost:8080/"
        },
        "id": "hO_XMrewMxeq",
        "outputId": "cadb5b7e-024a-40ba-a239-ecd2647d9a5c"
      },
      "execution_count": 19,
      "outputs": [
        {
          "output_type": "execute_result",
          "data": {
            "text/plain": [
              "Gender\n",
              "Male      5457\n",
              "Female    4543\n",
              "Name: count, dtype: int64"
            ]
          },
          "metadata": {},
          "execution_count": 19
        }
      ]
    },
    {
      "cell_type": "code",
      "source": [
        "df.replace({'Gender':{'Male':0,'Female':1}},inplace=True)"
      ],
      "metadata": {
        "id": "Y8Fb_HvJM4P2"
      },
      "execution_count": 20,
      "outputs": []
    },
    {
      "cell_type": "code",
      "source": [
        "df['Num Of Products'].value_counts()"
      ],
      "metadata": {
        "colab": {
          "base_uri": "https://localhost:8080/"
        },
        "id": "Nk2oTG-aM9t2",
        "outputId": "8f226e39-cbd5-4b2a-df00-3ce1455f44aa"
      },
      "execution_count": 21,
      "outputs": [
        {
          "output_type": "execute_result",
          "data": {
            "text/plain": [
              "Num Of Products\n",
              "1    5084\n",
              "2    4590\n",
              "3     266\n",
              "4      60\n",
              "Name: count, dtype: int64"
            ]
          },
          "metadata": {},
          "execution_count": 21
        }
      ]
    },
    {
      "cell_type": "code",
      "source": [
        "df.replace ({'Num Of Products':{1:0,2:1,3:1,4:1}},inplace=True)"
      ],
      "metadata": {
        "id": "6iqwZfKFNVy7"
      },
      "execution_count": 22,
      "outputs": []
    },
    {
      "cell_type": "code",
      "source": [
        "df['Has Credit Card'].value_counts()"
      ],
      "metadata": {
        "colab": {
          "base_uri": "https://localhost:8080/"
        },
        "id": "TjbichfeNeP6",
        "outputId": "9ee4ddb4-9179-4bee-bff4-a60112ffb344"
      },
      "execution_count": 23,
      "outputs": [
        {
          "output_type": "execute_result",
          "data": {
            "text/plain": [
              "Has Credit Card\n",
              "1    7055\n",
              "0    2945\n",
              "Name: count, dtype: int64"
            ]
          },
          "metadata": {},
          "execution_count": 23
        }
      ]
    },
    {
      "cell_type": "code",
      "source": [
        "df['Is Active Member'].value_counts()"
      ],
      "metadata": {
        "colab": {
          "base_uri": "https://localhost:8080/"
        },
        "id": "yl2UM9zINje_",
        "outputId": "627f3648-ac79-438d-c7bd-75034695e61d"
      },
      "execution_count": 24,
      "outputs": [
        {
          "output_type": "execute_result",
          "data": {
            "text/plain": [
              "Is Active Member\n",
              "1    5151\n",
              "0    4849\n",
              "Name: count, dtype: int64"
            ]
          },
          "metadata": {},
          "execution_count": 24
        }
      ]
    },
    {
      "cell_type": "code",
      "source": [
        "df.loc[(df['Balance']==0), 'Churn'].value_counts()"
      ],
      "metadata": {
        "colab": {
          "base_uri": "https://localhost:8080/"
        },
        "id": "1gxpsxAuOAD2",
        "outputId": "cf177caf-5c55-4a58-a2ac-81cd61a83016"
      },
      "execution_count": 25,
      "outputs": [
        {
          "output_type": "execute_result",
          "data": {
            "text/plain": [
              "Churn\n",
              "0    3117\n",
              "1     500\n",
              "Name: count, dtype: int64"
            ]
          },
          "metadata": {},
          "execution_count": 25
        }
      ]
    },
    {
      "cell_type": "code",
      "source": [
        "df['Zero Balance'] = np.where(df['Balance']>0,1,0)"
      ],
      "metadata": {
        "id": "EEI9nnwhOd1z"
      },
      "execution_count": 26,
      "outputs": []
    },
    {
      "cell_type": "code",
      "source": [
        "df['Zero Balance'].hist()"
      ],
      "metadata": {
        "colab": {
          "base_uri": "https://localhost:8080/",
          "height": 448
        },
        "id": "_aeTsyx4OhJt",
        "outputId": "110c94d2-17b9-4f92-a1aa-979cef5e5b9a"
      },
      "execution_count": 30,
      "outputs": [
        {
          "output_type": "execute_result",
          "data": {
            "text/plain": [
              "<Axes: >"
            ]
          },
          "metadata": {},
          "execution_count": 30
        },
        {
          "output_type": "display_data",
          "data": {
            "text/plain": [
              "<Figure size 640x480 with 1 Axes>"
            ],
            "image/png": "[encoded data removed]"
          },
          "metadata": {}
        }
      ]
    },
    {
      "cell_type": "code",
      "source": [
        "df.groupby(['Churn','Geography']).count()"
      ],
      "metadata": {
        "colab": {
          "base_uri": "https://localhost:8080/",
          "height": 738
        },
        "id": "qBUiiCQYOqf0",
        "outputId": "1e563e6d-d600-4ffb-8b75-5f93215f6ba6"
      },
      "execution_count": 29,
      "outputs": [
        {
          "output_type": "execute_result",
          "data": {
            "text/plain": [
              "                 Surname  CreditScore  Gender   Age  Tenure  Balance  \\\n",
              "Churn Geography                                                        \n",
              "0     0             2064         2064    2064  2064    2064     2064   \n",
              "      1             1695         1695    1695  1695    1695     1695   \n",
              "      2             4204         4204    4204  4204    4204     4204   \n",
              "1     0              413          413     413   413     413      413   \n",
              "      1              814          814     814   814     814      814   \n",
              "      2              810          810     810   810     810      810   \n",
              "\n",
              "                 Num Of Products  Has Credit Card  Is Active Member  \\\n",
              "Churn Geography                                                       \n",
              "0     0                     2064             2064              2064   \n",
              "      1                     1695             1695              1695   \n",
              "      2                     4204             4204              4204   \n",
              "1     0                      413              413               413   \n",
              "      1                      814              814               814   \n",
              "      2                      810              810               810   \n",
              "\n",
              "                 Estimated Salary  Zero Balance  \n",
              "Churn Geography                                  \n",
              "0     0                      2064          2064  \n",
              "      1                      1695          1695  \n",
              "      2                      4204          4204  \n",
              "1     0                       413           413  \n",
              "      1                       814           814  \n",
              "      2                       810           810  "
            ],
            "text/html": [
              "\n",
              "  <div id=\"df-695d8957-df14-4d53-bc75-e3d77b394062\" class=\"colab-df-container\">\n",
              "    <div>\n",
              "<style scoped>\n",
              "    .dataframe tbody tr th:only-of-type {\n",
              "        vertical-align: middle;\n",
              "    }\n",
              "\n",
              "    .dataframe tbody tr th {\n",
              "        vertical-align: top;\n",
              "    }\n",
              "\n",
              "    .dataframe thead th {\n",
              "        text-align: right;\n",
              "    }\n",
              "</style>\n",
              "<table border=\"1\" class=\"dataframe\">\n",
              "  <thead>\n",
              "    <tr style=\"text-align: right;\">\n",
              "      <th></th>\n",
              "      <th></th>\n",
              "      <th>Surname</th>\n",
              "      <th>CreditScore</th>\n",
              "      <th>Gender</th>\n",
              "      <th>Age</th>\n",
              "      <th>Tenure</th>\n",
              "      <th>Balance</th>\n",
              "      <th>Num Of Products</th>\n",
              "      <th>Has Credit Card</th>\n",
              "      <th>Is Active Member</th>\n",
              "      <th>Estimated Salary</th>\n",
              "      <th>Zero Balance</th>\n",
              "    </tr>\n",
              "    <tr>\n",
              "      <th>Churn</th>\n",
              "      <th>Geography</th>\n",
              "      <th></th>\n",
              "      <th></th>\n",
              "      <th></th>\n",
              "      <th></th>\n",
              "      <th></th>\n",
              "      <th></th>\n",
              "      <th></th>\n",
              "      <th></th>\n",
              "      <th></th>\n",
              "      <th></th>\n",
              "      <th></th>\n",
              "    </tr>\n",
              "  </thead>\n",
              "  <tbody>\n",
              "    <tr>\n",
              "      <th rowspan=\"3\" valign=\"top\">0</th>\n",
              "      <th>0</th>\n",
              "      <td>2064</td>\n",
              "      <td>2064</td>\n",
              "      <td>2064</td>\n",
              "      <td>2064</td>\n",
              "      <td>2064</td>\n",
              "      <td>2064</td>\n",
              "      <td>2064</td>\n",
              "      <td>2064</td>\n",
              "      <td>2064</td>\n",
              "      <td>2064</td>\n",
              "      <td>2064</td>\n",
              "    </tr>\n",
              "    <tr>\n",
              "      <th>1</th>\n",
              "      <td>1695</td>\n",
              "      <td>1695</td>\n",
              "      <td>1695</td>\n",
              "      <td>1695</td>\n",
              "      <td>1695</td>\n",
              "      <td>1695</td>\n",
              "      <td>1695</td>\n",
              "      <td>1695</td>\n",
              "      <td>1695</td>\n",
              "      <td>1695</td>\n",
              "      <td>1695</td>\n",
              "    </tr>\n",
              "    <tr>\n",
              "      <th>2</th>\n",
              "      <td>4204</td>\n",
              "      <td>4204</td>\n",
              "      <td>4204</td>\n",
              "      <td>4204</td>\n",
              "      <td>4204</td>\n",
              "      <td>4204</td>\n",
              "      <td>4204</td>\n",
              "      <td>4204</td>\n",
              "      <td>4204</td>\n",
              "      <td>4204</td>\n",
              "      <td>4204</td>\n",
              "    </tr>\n",
              "    <tr>\n",
              "      <th rowspan=\"3\" valign=\"top\">1</th>\n",
              "      <th>0</th>\n",
              "      <td>413</td>\n",
              "      <td>413</td>\n",
              "      <td>413</td>\n",
              "      <td>413</td>\n",
              "      <td>413</td>\n",
              "      <td>413</td>\n",
              "      <td>413</td>\n",
              "      <td>413</td>\n",
              "      <td>413</td>\n",
              "      <td>413</td>\n",
              "      <td>413</td>\n",
              "    </tr>\n",
              "    <tr>\n",
              "      <th>1</th>\n",
              "      <td>814</td>\n",
              "      <td>814</td>\n",
              "      <td>814</td>\n",
              "      <td>814</td>\n",
              "      <td>814</td>\n",
              "      <td>814</td>\n",
              "      <td>814</td>\n",
              "      <td>814</td>\n",
              "      <td>814</td>\n",
              "      <td>814</td>\n",
              "      <td>814</td>\n",
              "    </tr>\n",
              "    <tr>\n",
              "      <th>2</th>\n",
              "      <td>810</td>\n",
              "      <td>810</td>\n",
              "      <td>810</td>\n",
              "      <td>810</td>\n",
              "      <td>810</td>\n",
              "      <td>810</td>\n",
              "      <td>810</td>\n",
              "      <td>810</td>\n",
              "      <td>810</td>\n",
              "      <td>810</td>\n",
              "      <td>810</td>\n",
              "    </tr>\n",
              "  </tbody>\n",
              "</table>\n",
              "</div>\n",
              "    <div class=\"colab-df-buttons\">\n",
              "\n",
              "  <div class=\"colab-df-container\">\n",
              "    <button class=\"colab-df-convert\" onclick=\"convertToInteractive('df-695d8957-df14-4d53-bc75-e3d77b394062')\"\n",
              "            title=\"Convert this dataframe to an interactive table.\"\n",
              "            style=\"display:none;\">\n",
              "\n",
              "  <svg xmlns=\"http://www.w3.org/2000/svg\" height=\"24px\" viewBox=\"0 -960 960 960\">\n",
              "    <path d=\"M120-120v-720h720v720H120Zm60-500h600v-160H180v160Zm220 220h160v-160H400v160Zm0 220h160v-160H400v160ZM180-400h160v-160H180v160Zm440 0h160v-160H620v160ZM180-180h160v-160H180v160Zm440 0h160v-160H620v160Z\"/>\n",
              "  </svg>\n",
              "    </button>\n",
              "\n",
              "  <style>\n",
              "    .colab-df-container {\n",
              "      display:flex;\n",
              "      gap: 12px;\n",
              "    }\n",
              "\n",
              "    .colab-df-convert {\n",
              "      background-color: #E8F0FE;\n",
              "      border: none;\n",
              "      border-radius: 50%;\n",
              "      cursor: pointer;\n",
              "      display: none;\n",
              "      fill: #1967D2;\n",
              "      height: 32px;\n",
              "      padding: 0 0 0 0;\n",
              "      width: 32px;\n",
              "    }\n",
              "\n",
              "    .colab-df-convert:hover {\n",
              "      background-color: #E2EBFA;\n",
              "      box-shadow: 0px 1px 2px rgba(60, 64, 67, 0.3), 0px 1px 3px 1px rgba(60, 64, 67, 0.15);\n",
              "      fill: #174EA6;\n",
              "    }\n",
              "\n",
              "    .colab-df-buttons div {\n",
              "      margin-bottom: 4px;\n",
              "    }\n",
              "\n",
              "    [theme=dark] .colab-df-convert {\n",
              "      background-color: #3B4455;\n",
              "      fill: #D2E3FC;\n",
              "    }\n",
              "\n",
              "    [theme=dark] .colab-df-convert:hover {\n",
              "      background-color: #434B5C;\n",
              "      box-shadow: 0px 1px 3px 1px rgba(0, 0, 0, 0.15);\n",
              "      filter: drop-shadow(0px 1px 2px rgba(0, 0, 0, 0.3));\n",
              "      fill: #FFFFFF;\n",
              "    }\n",
              "  </style>\n",
              "\n",
              "    <script>\n",
              "      const buttonEl =\n",
              "        document.querySelector('#df-695d8957-df14-4d53-bc75-e3d77b394062 button.colab-df-convert');\n",
              "      buttonEl.style.display =\n",
              "        google.colab.kernel.accessAllowed ? 'block' : 'none';\n",
              "\n",
              "      async function convertToInteractive(key) {\n",
              "        const element = document.querySelector('#df-695d8957-df14-4d53-bc75-e3d77b394062');\n",
              "        const dataTable =\n",
              "          await google.colab.kernel.invokeFunction('convertToInteractive',\n",
              "                                                    [key], {});\n",
              "        if (!dataTable) return;\n",
              "\n",
              "        const docLinkHtml = 'Like what you see? Visit the ' +\n",
              "          '<a target=\"_blank\" href=https://colab.research.google.com/notebooks/data_table.ipynb>data table notebook</a>'\n",
              "          + ' to learn more about interactive tables.';\n",
              "        element.innerHTML = '';\n",
              "        dataTable['output_type'] = 'display_data';\n",
              "        await google.colab.output.renderOutput(dataTable, element);\n",
              "        const docLink = document.createElement('div');\n",
              "        docLink.innerHTML = docLinkHtml;\n",
              "        element.appendChild(docLink);\n",
              "      }\n",
              "    </script>\n",
              "  </div>\n",
              "\n",
              "\n",
              "<div id=\"df-25c42fd0-4d42-4eaf-a1c7-8b18e09fde6b\">\n",
              "  <button class=\"colab-df-quickchart\" onclick=\"quickchart('df-25c42fd0-4d42-4eaf-a1c7-8b18e09fde6b')\"\n",
              "            title=\"Suggest charts\"\n",
              "            style=\"display:none;\">\n",
              "\n",
              "<svg xmlns=\"http://www.w3.org/2000/svg\" height=\"24px\"viewBox=\"0 0 24 24\"\n",
              "     width=\"24px\">\n",
              "    <g>\n",
              "        <path d=\"M19 3H5c-1.1 0-2 .9-2 2v14c0 1.1.9 2 2 2h14c1.1 0 2-.9 2-2V5c0-1.1-.9-2-2-2zM9 17H7v-7h2v7zm4 0h-2V7h2v10zm4 0h-2v-4h2v4z\"/>\n",
              "    </g>\n",
              "</svg>\n",
              "  </button>\n",
              "\n",
              "<style>\n",
              "  .colab-df-quickchart {\n",
              "      --bg-color: #E8F0FE;\n",
              "      --fill-color: #1967D2;\n",
              "      --hover-bg-color: #E2EBFA;\n",
              "      --hover-fill-color: #174EA6;\n",
              "      --disabled-fill-color: #AAA;\n",
              "      --disabled-bg-color: #DDD;\n",
              "  }\n",
              "\n",
              "  [theme=dark] .colab-df-quickchart {\n",
              "      --bg-color: #3B4455;\n",
              "      --fill-color: #D2E3FC;\n",
              "      --hover-bg-color: #434B5C;\n",
              "      --hover-fill-color: #FFFFFF;\n",
              "      --disabled-bg-color: #3B4455;\n",
              "      --disabled-fill-color: #666;\n",
              "  }\n",
              "\n",
              "  .colab-df-quickchart {\n",
              "    background-color: var(--bg-color);\n",
              "    border: none;\n",
              "    border-radius: 50%;\n",
              "    cursor: pointer;\n",
              "    display: none;\n",
              "    fill: var(--fill-color);\n",
              "    height: 32px;\n",
              "    padding: 0;\n",
              "    width: 32px;\n",
              "  }\n",
              "\n",
              "  .colab-df-quickchart:hover {\n",
              "    background-color: var(--hover-bg-color);\n",
              "    box-shadow: 0 1px 2px rgba(60, 64, 67, 0.3), 0 1px 3px 1px rgba(60, 64, 67, 0.15);\n",
              "    fill: var(--button-hover-fill-color);\n",
              "  }\n",
              "\n",
              "  .colab-df-quickchart-complete:disabled,\n",
              "  .colab-df-quickchart-complete:disabled:hover {\n",
              "    background-color: var(--disabled-bg-color);\n",
              "    fill: var(--disabled-fill-color);\n",
              "    box-shadow: none;\n",
              "  }\n",
              "\n",
              "  .colab-df-spinner {\n",
              "    border: 2px solid var(--fill-color);\n",
              "    border-color: transparent;\n",
              "    border-bottom-color: var(--fill-color);\n",
              "    animation:\n",
              "      spin 1s steps(1) infinite;\n",
              "  }\n",
              "\n",
              "  @keyframes spin {\n",
              "    0% {\n",
              "      border-color: transparent;\n",
              "      border-bottom-color: var(--fill-color);\n",
              "      border-left-color: var(--fill-color);\n",
              "    }\n",
              "    20% {\n",
              "      border-color: transparent;\n",
              "      border-left-color: var(--fill-color);\n",
              "      border-top-color: var(--fill-color);\n",
              "    }\n",
              "    30% {\n",
              "      border-color: transparent;\n",
              "      border-left-color: var(--fill-color);\n",
              "      border-top-color: var(--fill-color);\n",
              "      border-right-color: var(--fill-color);\n",
              "    }\n",
              "    40% {\n",
              "      border-color: transparent;\n",
              "      border-right-color: var(--fill-color);\n",
              "      border-top-color: var(--fill-color);\n",
              "    }\n",
              "    60% {\n",
              "      border-color: transparent;\n",
              "      border-right-color: var(--fill-color);\n",
              "    }\n",
              "    80% {\n",
              "      border-color: transparent;\n",
              "      border-right-color: var(--fill-color);\n",
              "      border-bottom-color: var(--fill-color);\n",
              "    }\n",
              "    90% {\n",
              "      border-color: transparent;\n",
              "      border-bottom-color: var(--fill-color);\n",
              "    }\n",
              "  }\n",
              "</style>\n",
              "\n",
              "  <script>\n",
              "    async function quickchart(key) {\n",
              "      const quickchartButtonEl =\n",
              "        document.querySelector('#' + key + ' button');\n",
              "      quickchartButtonEl.disabled = true;  // To prevent multiple clicks.\n",
              "      quickchartButtonEl.classList.add('colab-df-spinner');\n",
              "      try {\n",
              "        const charts = await google.colab.kernel.invokeFunction(\n",
              "            'suggestCharts', [key], {});\n",
              "      } catch (error) {\n",
              "        console.error('Error during call to suggestCharts:', error);\n",
              "      }\n",
              "      quickchartButtonEl.classList.remove('colab-df-spinner');\n",
              "      quickchartButtonEl.classList.add('colab-df-quickchart-complete');\n",
              "    }\n",
              "    (() => {\n",
              "      let quickchartButtonEl =\n",
              "        document.querySelector('#df-25c42fd0-4d42-4eaf-a1c7-8b18e09fde6b button');\n",
              "      quickchartButtonEl.style.display =\n",
              "        google.colab.kernel.accessAllowed ? 'block' : 'none';\n",
              "    })();\n",
              "  </script>\n",
              "</div>\n",
              "\n",
              "    </div>\n",
              "  </div>\n"
            ],
            "application/vnd.google.colaboratory.intrinsic+json": {
              "type": "dataframe",
              "summary": "{\n  \"name\": \"df\",\n  \"rows\": 6,\n  \"fields\": [\n    {\n      \"column\": \"Surname\",\n      \"properties\": {\n        \"dtype\": \"number\",\n        \"std\": 1387,\n        \"min\": 413,\n        \"max\": 4204,\n        \"num_unique_values\": 6,\n        \"samples\": [\n          2064,\n          1695,\n          810\n        ],\n        \"semantic_type\": \"\",\n        \"description\": \"\"\n      }\n    },\n    {\n      \"column\": \"CreditScore\",\n      \"properties\": {\n        \"dtype\": \"number\",\n        \"std\": 1387,\n        \"min\": 413,\n        \"max\": 4204,\n        \"num_unique_values\": 6,\n        \"samples\": [\n          2064,\n          1695,\n          810\n        ],\n        \"semantic_type\": \"\",\n        \"description\": \"\"\n      }\n    },\n    {\n      \"column\": \"Gender\",\n      \"properties\": {\n        \"dtype\": \"number\",\n        \"std\": 1387,\n        \"min\": 413,\n        \"max\": 4204,\n        \"num_unique_values\": 6,\n        \"samples\": [\n          2064,\n          1695,\n          810\n        ],\n        \"semantic_type\": \"\",\n        \"description\": \"\"\n      }\n    },\n    {\n      \"column\": \"Age\",\n      \"properties\": {\n        \"dtype\": \"number\",\n        \"std\": 1387,\n        \"min\": 413,\n        \"max\": 4204,\n        \"num_unique_values\": 6,\n        \"samples\": [\n          2064,\n          1695,\n          810\n        ],\n        \"semantic_type\": \"\",\n        \"description\": \"\"\n      }\n    },\n    {\n      \"column\": \"Tenure\",\n      \"properties\": {\n        \"dtype\": \"number\",\n        \"std\": 1387,\n        \"min\": 413,\n        \"max\": 4204,\n        \"num_unique_values\": 6,\n        \"samples\": [\n          2064,\n          1695,\n          810\n        ],\n        \"semantic_type\": \"\",\n        \"description\": \"\"\n      }\n    },\n    {\n      \"column\": \"Balance\",\n      \"properties\": {\n        \"dtype\": \"number\",\n        \"std\": 1387,\n        \"min\": 413,\n        \"max\": 4204,\n        \"num_unique_values\": 6,\n        \"samples\": [\n          2064,\n          1695,\n          810\n        ],\n        \"semantic_type\": \"\",\n        \"description\": \"\"\n      }\n    },\n    {\n      \"column\": \"Num Of Products\",\n      \"properties\": {\n        \"dtype\": \"number\",\n        \"std\": 1387,\n        \"min\": 413,\n        \"max\": 4204,\n        \"num_unique_values\": 6,\n        \"samples\": [\n          2064,\n          1695,\n          810\n        ],\n        \"semantic_type\": \"\",\n        \"description\": \"\"\n      }\n    },\n    {\n      \"column\": \"Has Credit Card\",\n      \"properties\": {\n        \"dtype\": \"number\",\n        \"std\": 1387,\n        \"min\": 413,\n        \"max\": 4204,\n        \"num_unique_values\": 6,\n        \"samples\": [\n          2064,\n          1695,\n          810\n        ],\n        \"semantic_type\": \"\",\n        \"description\": \"\"\n      }\n    },\n    {\n      \"column\": \"Is Active Member\",\n      \"properties\": {\n        \"dtype\": \"number\",\n        \"std\": 1387,\n        \"min\": 413,\n        \"max\": 4204,\n        \"num_unique_values\": 6,\n        \"samples\": [\n          2064,\n          1695,\n          810\n        ],\n        \"semantic_type\": \"\",\n        \"description\": \"\"\n      }\n    },\n    {\n      \"column\": \"Estimated Salary\",\n      \"properties\": {\n        \"dtype\": \"number\",\n        \"std\": 1387,\n        \"min\": 413,\n        \"max\": 4204,\n        \"num_unique_values\": 6,\n        \"samples\": [\n          2064,\n          1695,\n          810\n        ],\n        \"semantic_type\": \"\",\n        \"description\": \"\"\n      }\n    },\n    {\n      \"column\": \"Zero Balance\",\n      \"properties\": {\n        \"dtype\": \"number\",\n        \"std\": 1387,\n        \"min\": 413,\n        \"max\": 4204,\n        \"num_unique_values\": 6,\n        \"samples\": [\n          2064,\n          1695,\n          810\n        ],\n        \"semantic_type\": \"\",\n        \"description\": \"\"\n      }\n    }\n  ]\n}"
            }
          },
          "metadata": {},
          "execution_count": 29
        },
        {
          "output_type": "display_data",
          "data": {
            "text/plain": [
              "<google.colab._quickchart_helpers.SectionTitle at 0x793d39ca11b0>"
            ],
            "text/html": [
              "<h4 class=\"colab-quickchart-section-title\">Distributions</h4>\n",
              "<style>\n",
              "  .colab-quickchart-section-title {\n",
              "      clear: both;\n",
              "  }\n",
              "</style>"
            ]
          },
          "metadata": {}
        },
        {
          "output_type": "display_data",
          "data": {
            "text/plain": [
              "from matplotlib import pyplot as plt\n",
              "_df_0['Surname'].plot(kind='hist', bins=20, title='Surname')\n",
              "plt.gca().spines[['top', 'right',]].set_visible(False)"
            ],
            "text/html": [
              "      <div class=\"colab-quickchart-chart-with-code\" id=\"chart-181f3b1f-a2bf-4986-bd53-954fd6ff85f6\">\n",
              "        <img style=\"width: 180px;\" src=\"data:image/png;base64,iVBORw0KGgoAAAANSUhEUgAAAjEAAAGrCAYAAAAxesZMAAAAOXRFWHRTb2Z0d2FyZQBNYXRwbG90\n",
              "bGliIHZlcnNpb24zLjcuMSwgaHR0cHM6Ly9tYXRwbG90bGliLm9yZy/bCgiHAAAACXBIWXMAAA9h\n",
              "AAAPYQGoP6dpAAAn4UlEQVR4nO3df1BV953/8df1Yq/GACpKIEWgyo+sv/hhYKhak27WSEyKLprR\n",
              "bBN/hR+mzdoO6WgYYxtNU9zdysbdjitWhmzijCZRkmXMmm7Mjy1u3IAxxEbXHxARNCBtGgGtIfw4\n",
              "3z/8escbAbnI8fKB52PmzHjO53M+9/0GjvOaew8ch2VZlgAAAAwzxNcFAAAA9AYhBgAAGIkQAwAA\n",
              "jESIAQAARiLEAAAAIxFiAACAkQgxAADASIQYAABgJEIMAAAwEiEGAAAYiRADoE+cPn1ajzzyiO68\n",
              "807dfvvtuvPOOzV37lzV1dX5ujQAAxQhBkCfmDt3rvz9/fXpp5/q4sWL+vjjj7Vo0SI5HI5erff1\n",
              "11/3cYUABhpCDICb9sUXX+j48eNauXKlRo8eLUm64447tHTpUoWEhOjFF19UWFiYxznPPvusZs6c\n",
              "6d6/99579eSTT2rx4sUaNWqUVq1a5T6voKBAkZGRCgwM1MMPP6ympib3eT//+c8VExMjf39/jRs3\n",
              "Tn//93+vv/zlL+7xZcuWadGiRXriiScUFBSkMWPG6IUXXlBtba3mzJkjf39/TZw4UQcPHvSo76WX\n",
              "XlJcXJwCAwM1adIk7dq1y44vHYCbQIgBcNOCgoI0ZcoUZWdnq6ioSEeOHFFHR4fX6xQVFWnJkiX6\n",
              "4osvlJ+fL0mqr6/X8ePH9X//9386fvy4KioqtGnTJvc50dHR2r9/v5qamvTWW29p3759eu655zzW\n",
              "feONN3TfffepoaFB27dvV05OjpYsWaJf//rXunDhgmbPnq1ly5a557/44ot65plnVFhYqC+//FIF\n",
              "BQXKysrSgQMHevcFAmALQgyAPvHee+/pgQce0L/9278pOTlZY8aM0c9+9jO1tLT0eI20tDTNnTtX\n",
              "Q4YM0W233SZJ8vPz0z/+4z9q+PDhCg0N1fz581VWVuY+57HHHlN4eLgcDocmTZqkH//4x/qv//ov\n",
              "j3VnzpyphQsXyul0av78+QoMDNT999+vKVOmyOl0asmSJTp58qQaGxslSfn5+Vq7dq3uvvtuDRky\n",
              "RDNnztSiRYv04osv3vwXCkCf8fN1AQAGhqCgIG3YsEEbNmxQS0uL9u3bp6VLl+r2229XZGRkj9b4\n",
              "zne+c92xMWPGaOjQoe79ESNGqLm52b1fUFCggoICnTlzRm1tbWptbVVQUJDHGqGhoR77I0aM8Dg2\n",
              "YsQISVJzc7MCAwN16tQpPfXUU1qzZo17Tltbm2bNmtWjPgDcGrwTA6DPuVwuzZ8/X3/zN3+jw4cP\n",
              "y9/fX5cuXfKY8/nnn1933pAh3v2XdPDgQT355JPatGmT6uvr1djYqOeff16WZd1U/SEhIdqyZYsu\n",
              "XLjg3i5evKj//M//vKl1AfQtQgyAm/bll1/q6aef1pEjR9TS0qL29na98847eu+99zRr1iwlJCSo\n",
              "ublZr7zyijo6OvT+++/rtddeu+nXbWxslNPp1NixYzV06FAdPnxYv/nNb2563Z/+9Kd67rnnVF5e\n",
              "ro6ODrW0tKi8vFwfffTRTa8NoO/wcRKAm/atb31Lf/rTn/Twww/r888/l9PpVFhYmNasWaOnnnpK\n",
              "DodDv/nNb/Szn/1MmZmZevDBB7V8+XKPe1t64/7779fKlSt17733qrW1Vd/97ne1dOlSbdu27abW\n",
              "/clPfqIxY8Zo5cqVqqqqkp+fnyZPnqwNGzbc1LoA+pbDutn3XQEAAHyAj5MAAICRCDEAAMBIhBgA\n",
              "AGAkQgwAADASIQYAABiJEAMAAIxEiAEAAEYa8CFm8+bNvi4BAADYYMCHmDNnzvi6BAAAYIMBH2IA\n",
              "AMDARIgBAABGIsQAAAAjEWIAAICRCDEAAMBIhBgAAGAkQgwAADASIQYAABiJEAMAAIxEiAEAAEYi\n",
              "xAAAACMRYgAAgJFsCzFfffWV5s+fr5iYGMXFxWn27NmqrKzsdO7evXt11113KTo6Wunp6WpqaurR\n",
              "GAAAGLxsfScmKytLJ06c0CeffKJ58+YpIyPjujkXL17U448/rjfeeEOnTp3SnXfeqeeee+6GYwAA\n",
              "YHCzLcQMGzZMc+fOlcPhkCSlpKSourr6unn79u1TQkKC7rrrLknSj370I+3cufOGY51paWlRU1OT\n",
              "x9be3t7HnQEAgP7A71a90ObNmzVv3rzrjtfU1CgiIsK9HxkZqbq6OrW1tXU75ud3fel5eXlav369\n",
              "x7GUlJQ+7MJskU+/adva1RsftG1tAAA6c0tu7P3Vr36lyspK5eXl2fo6ubm5amxs9NiSk5NtfU0A\n",
              "AOAbtoeYX//61youLta+fft02223XTceHh6uM2fOuPerq6sVGhoqPz+/bsc643K5FBAQ4LE5nc6+\n",
              "bwoAAPicrSEmPz9fO3fu1Ntvv62RI0d2Oic1NVWHDx/W8ePHJUlbtmzR4sWLbzgGAAAGN9vuiTl7\n",
              "9qyeeuopjR8/Xt///vclXXmn5MMPP9TPf/5z3XnnnVq5cqX8/f21fft2zZ8/X21tbZo8ebL+/d//\n",
              "XZK6HQMAAIObw7Isy9dF2CknJ0f5+fm+LqNf4MZeAMBAwl/sBQAARiLEAAAAIxFiAACAkQgxAADA\n",
              "SIQYAABgJEIMAAAwEiEGAAAYiRADAACMRIgBAABGIsQAAAAjEWIAAICRCDEAAMBIhBgAAGAkQgwA\n",
              "ADASIQYAABiJEAMAAIxEiAEAAEYixAAAACMRYgAAgJEIMQAAwEiEGAAAYCRCDAAAMBIhBgAAGIkQ\n",
              "AwAAjESIAQAARiLEAAAAIxFiAACAkQgxAADASIQYAABgJEIMAAAwEiEGAAAYiRADAACMRIgBAABG\n",
              "IsQAAAAjEWIAAICRbA0xq1atUmRkpBwOhyoqKjqdU1RUpPj4ePc2ZswYpaenS5Kqq6vldDo9xquq\n",
              "quwsGQAAGMLPzsUXLlyo1atXa+bMmV3OWb58uZYvX+7enzx5sn74wx+69/39/bsMQAAAYPCyNcTM\n",
              "mjXLq/kffvihGhoalJaW1qvXa2lpUUtLi8ex9vb2Xq0FAAD6t351T0xhYaEee+wxDR061H3s0qVL\n",
              "SkpKUmJiojZs2NBtKMnLy1NgYKDHVlZWditKBwAAt1i/CTGXLl3Srl279Pjjj7uPhYaG6ty5cyov\n",
              "L9f+/ftVWlqqTZs2dblGbm6uGhsbPbbk5ORbUT4AALjF+k2Iee211zRp0iRNnDjRfczlcik4OFiS\n",
              "NHr0aK1YsUKlpaVdruFyuRQQEOCxOZ1O22sHAAC3Xr8JMYWFhR7vwkhSQ0ODWltbJV2536W4uFgJ\n",
              "CQm+KA8AAPQztoaY7OxshYWF6ezZs5ozZ46ioqIkSRkZGSopKXHPO3HihCoqKrRo0SKP8w8cOKCE\n",
              "hATFxcUpMTFRISEhWrt2rZ0lAwAAQzgsy7J8XYSdcnJylJ+f7+sy+oXIp9+0be3qjQ/atjYAAJ3p\n",
              "Nx8nAQAAeIMQAwAAjESIAQAARiLEAAAAIxFiAACAkQgxAADASIQYAABgJEIMAAAwEiEGAAAYiRAD\n",
              "AACMRIgBAABGIsQAAAAjEWIAAICRCDEAAMBIhBgAAGAkQgwAADASIQYAABiJEAMAAIxEiAEAAEYi\n",
              "xAAAACMRYgAAgJEIMQAAwEiEGAAAYCRCDAAAMBIhBgAAGIkQAwAAjESIAQAARiLEAAAAIxFiAACA\n",
              "kQgxAADASIQYAABgJEIMAAAwEiEGAAAYiRADAACMRIgBAABGsjXErFq1SpGRkXI4HKqoqOh0zvvv\n",
              "v6/hw4crPj7evV2+fNk9XlhYqOjoaE2YMEGZmZlqbW21s2QAAGAIW0PMwoULdeDAAUVERHQ7LzY2\n",
              "VhUVFe5t+PDhkqTTp09r3bp1Ki0tVWVlpc6fP69t27bZWTIAADCErSFm1qxZCgsL6/X5u3fvVlpa\n",
              "mkJCQuRwOLRy5Urt3Lmzy/ktLS1qamry2Nrb23v9+gAAoP/qF/fEVFVVKTExUUlJSdqyZYv7eE1N\n",
              "jce7OJGRkaqpqelynby8PAUGBnpsZWVlttYOAAB8w+chJjExUWfPntXhw4f1+uuva+vWrXr11Vd7\n",
              "tVZubq4aGxs9tuTk5D6uGAAA9Ac+DzEBAQEKDAyUJIWFhemRRx5RaWmpJCk8PFxnzpxxz62urlZ4\n",
              "eHiXa7lcLgUEBHhsTqfT3gYAAIBP+DzE1NXVqaOjQ5LU3NysvXv3KiEhQZK0YMEClZSUqL6+XpZl\n",
              "aevWrVq8eLEvywUAAP2ErSEmOztbYWFhOnv2rObMmaOoqChJUkZGhkpKSiRJe/bs0ZQpUxQXF6eU\n",
              "lBTNnj1by5cvlySNHz9e69ev14wZMxQVFaWxY8cqOzvbzpIBAIAhHJZlWb4uwk45OTnKz8/3dRn9\n",
              "QuTTb9q2dvXGB21bGwCAzvj84yQAAIDeIMQAAAAjEWIAAICRCDEAAMBIhBgAAGAkQgwAADASIQYA\n",
              "ABiJEAMAAIxEiAEAAEYixAAAACMRYgAAgJEIMQAAwEiEGAAAYCRCDAAAMBIhBgAAGIkQAwAAjESI\n",
              "AQAARiLEAAAAIxFiAACAkQgxAADASIQYAABgJEIMAAAwEiEGAAAYiRADAACMRIgBAABGIsQAAAAj\n",
              "EWIAAICRCDEAAMBIhBgAAGAkQgwAADASIQYAABiJEAMAAIxEiAEAAEYixAAAACMRYgAAgJFsDTGr\n",
              "Vq1SZGSkHA6HKioqOp3z7rvvKjk5WRMnTtSkSZO0evVqdXR0SJKqq6vldDoVHx/v3qqqquwsGQAA\n",
              "GMLWELNw4UIdOHBAERERXc4ZNWqUdu3apWPHjumjjz7SBx98oJdeesk97u/vr4qKCvc2YcIEO0sG\n",
              "AACG8LNz8VmzZt1wTkJCgvvfw4YNU3x8vKqrq3v1ei0tLWppafE41t7e3qu1AABA/9av7ompr6/X\n",
              "7t279dBDD7mPXbp0SUlJSUpMTNSGDRu6DSV5eXkKDAz02MrKym5F6QAA4BbrNyGmqalJP/jBD7R6\n",
              "9WrdfffdkqTQ0FCdO3dO5eXl2r9/v0pLS7Vp06Yu18jNzVVjY6PHlpycfKtaAAAAt1C/CDHNzc1K\n",
              "TU3VvHnzlJOT4z7ucrkUHBwsSRo9erRWrFih0tLSLtdxuVwKCAjw2JxOp+31AwCAW8/nIebixYtK\n",
              "TU1VamqqnnnmGY+xhoYGtba2Srpyv0txcbHHPTQAAGDwsjXEZGdnKywsTGfPntWcOXMUFRUlScrI\n",
              "yFBJSYkkafPmzSorK1NxcbH716iff/55SdKBAweUkJCguLg4JSYmKiQkRGvXrrWzZAAAYAiHZVmW\n",
              "r4uwU05OjvLz831dRr8Q+fSbtq1dvfFB29YGAKAzPv84CQAAoDcIMQAAwEiEGAAAYCRCDAAAMJLX\n",
              "IeZ3v/udHXUAAAB4xesQs2HDBsXGxmrz5s1qamqyoyYAAIAb8jrE/M///I927dqlTz/9VDExMfrR\n",
              "j36kY8eO2VEbAABAl3p1T0xCQoJ++9vf6q233tLevXs1depUzZ49W3/4wx/6uj4AAIBO9SrE7N+/\n",
              "X/PmzVN6erp+/OMfq76+XtnZ2frbv/3bvq4PAACgU37envBXf/VXGjNmjFatWqX09HT3AxYXLlyo\n",
              "wsLCPi8QAACgM16HmB07dmjatGmdju3bt++mCwIAAOgJrz9O+uijj/TnP//Zvf/FF1/ot7/9bZ8W\n",
              "BQAAcCNeh5gtW7Zo9OjR7v2goCBt2bKlT4sCAAC4Ea9DTGcPvW5vb++TYgAAAHrK6xATGhqqV199\n",
              "1b3/yiuvKDQ0tE+LAgAAuBGvb+x94YUXNG/ePK1evVqSdNttt+k//uM/+rwwAACA7ngdYu666y4d\n",
              "O3ZMJ06ckCTFxsa6f80aAADgVvE6xEiSw+HQyJEj1dbWpnPnzkmSwsPD+7QwAACA7ngdYl588UWt\n",
              "WrVKQ4cO1ZAhV26pcTgcamho6PPiAAAAuuJ1iHnuuedUXl6u2NhYO+oBAADoEa9/O2nMmDEEGAAA\n",
              "4HNeh5j58+frhRdeUENDg5qamtwbAADAreT1x0lr166VJOXk5MjhcMiyLDkcDv7gHQAAuKW8DjEd\n",
              "HR121AEAAOAVrz9Okq48BPLll1+WJF24cEF1dXV9WhQAAMCN9OoBkCtWrNCzzz4r6cpTrP/u7/6u\n",
              "r+sCAADoltchZtu2bfrf//1fBQQESJImTJigP/7xj31eGAAAQHe8DjEul0vDhw/3OObn16s//AsA\n",
              "ANBrXoeYsWPH6uTJk3I4HJKu/AVfHjkAAAButV49xfqRRx7R8ePHNW7cOAUEBGjv3r121AYAANAl\n",
              "r0NMVFSUPvzwQ504cUKWZfEUawAA4BNeh5iamhpJ0ogRIySJp1gDAACf8DrETJs2zf2Xer/66iv9\n",
              "5S9/UVBQEE+xBgAAt5TXIeabv05dXFysTz75pM8KAgAA6Ile/cXea6Wnp+vNN9/si1oAAAB6zOsQ\n",
              "c+2Tq7/88ku99dZbXT7FetWqVYqMjJTD4VBFRUWXaxYWFio6OloTJkxQZmamWltbezQGAAAGL69D\n",
              "zMiRIzVq1CiNHDlSwcHBysnJ0b/8y790OnfhwoU6cOCAIiIiulzv9OnTWrdunUpLS1VZWanz589r\n",
              "27ZtNxwDAACDm9chpqOjQ+3t7ero6FBra6uOHTum1NTUTufOmjVLYWFh3a63e/dupaWlKSQkRA6H\n",
              "QytXrtTOnTtvONaZlpYWj3eKmpqa1N7e7m2LAADAAD5/XkBNTY3HOzWRkZHuX+PubqwzeXl5Wr9+\n",
              "vcexlJSUPq74/9fytH33AVVvfNC2tXFr2PXzYefPhok1A+iZgXp9e/1OzJAhQ+R0Oq/brh73pdzc\n",
              "XDU2NnpsycnJPq0JAADYw+t3YjZs2KDLly/riSeekCRt3bpVw4cP109/+tNeFRAeHq6qqir3fnV1\n",
              "tfsP53U31hmXyyWXy+VxzNfBCgAA2MPrd2Jef/11Pf/88woLC1NYWJh++ctfqri4WCNGjHD/FV9v\n",
              "LFiwQCUlJaqvr5dlWdq6dasWL158wzEAADC4eR1impubPf46b0NDg5qbmzudm52drbCwMJ09e1Zz\n",
              "5sxRVFSUJCkjI0MlJSWSpPHjx2v9+vWaMWOGoqKiNHbsWGVnZ99wDAAADG5ef5z01FNPKS4uTnPn\n",
              "zpUkvfXWW3r22Wc7nVtQUNDp8e3bt3vsZ2ZmKjMzs9O53Y0BAIDBy+sQk52drRkzZui9996TJOXk\n",
              "5GjSpEl9XhgAAEB3evUr1kFBQZoyZYruvfdetbW16euvv9a3vvWtvq4NAACgS17fE7N7926lpKRo\n",
              "+fLlkqSjR49q/vz5fV0XAABAt7wOMXl5eTp8+LBGjhwpSYqLi9OZM2f6ui4AAIBueR1inE6ngoKC\n",
              "PI7xURIAALjVvA4x/v7+On/+vBwOhyTpnXfe0ejRo/u8MAAAgO54fWPvP/zDP+iBBx7QZ599ppkz\n",
              "Z+r06dN68037niMEAADQGa9CzNUnWL/33nv64IMPZFmWpk+f7r4/BgAA4FbxKsQMGTJEWVlZ+uST\n",
              "T/TAAw/YVRMAAMANeX1PTHR0tCorK+2oBQAAoMe8vifmz3/+s+Lj4zV9+nTdfvvt7uPFxcV9WhgA\n",
              "AEB3ehxisrKytG3bNi1dulRpaWkaNWqUnXUBAAB0q8ch5tChQ5KkpUuXKjExUYcPH7atKAAAgBvx\n",
              "+p4YSbIsq6/rAAAA8EqP34m5fPmy/vCHP8iyLH311Vfuf181depUWwoEAADojFchJi0tzb1/7b8d\n",
              "Doc+++yzvq0MAACgGz0OMdXV1TaWAQAA4J1e3RMDAADga4QYAABgJEIMAAAwEiEGAAAYiRADAACM\n",
              "RIgBAABGIsQAAAAjEWIAAICRCDEAAMBIhBgAAGAkQgwAADASIQYAABiJEAMAAIxEiAEAAEYixAAA\n",
              "ACMRYgAAgJEIMQAAwEiEGAAAYCRbQ8ypU6c0ffp0xcTEKCkpSUePHr1uTlFRkeLj493bmDFjlJ6e\n",
              "Lkmqrq6W0+n0GK+qqrKzZAAAYAg/OxfPzs5WVlaWli1bpt27d2vZsmUqLy/3mLN8+XItX77cvT95\n",
              "8mT98Ic/dO/7+/uroqLCzjIBAICBbHsnpqGhQYcOHdKjjz4qSVqwYIFqa2tVWVnZ5TkffvihGhoa\n",
              "lJaW1qvXbGlpUVNTk8fW3t7eq7UAAED/ZluIqa2tVWhoqPz8rrzZ43A4FB4erpqami7PKSws1GOP\n",
              "PaahQ4e6j126dElJSUlKTEzUhg0bug0leXl5CgwM9NjKysr6rikAANBv9Jsbey9duqRdu3bp8ccf\n",
              "dx8LDQ3VuXPnVF5erv3796u0tFSbNm3qco3c3Fw1NjZ6bMnJybeifAAAcIvZFmLGjRunuro6tbW1\n",
              "SZIsy1JNTY3Cw8M7nf/aa69p0qRJmjhxovuYy+VScHCwJGn06NFasWKFSktLu3xNl8ulgIAAj83p\n",
              "dPZhVwAAoL+wLcQEBwcrMTFRO3bskCTt2bNHYWFhioqK6nR+YWGhx7sw0pX7alpbWyVdud+luLhY\n",
              "CQkJdpUMAAAMYuvHSQUFBSooKFBMTIw2btyooqIiSVJGRoZKSkrc806cOKGKigotWrTI4/wDBw4o\n",
              "ISFBcXFxSkxMVEhIiNauXWtnyQAAwBC2/op1bGysDh48eN3x7du3Xzevubn5unnp6enuvxkDAABw\n",
              "rX5zYy8AAIA3CDEAAMBIhBgAAGAkQgwAADASIQYAABiJEAMAAIxEiAEAAEYixAAAACMRYgAAgJEI\n",
              "MQAAwEiEGAAAYCRCDAAAMBIhBgAAGIkQAwAAjESIAQAARiLEAAAAIxFiAACAkQgxAADASIQYAABg\n",
              "JEIMAAAwEiEGAAAYiRADAACMRIgBAABGIsQAAAAjEWIAAICRCDEAAMBIhBgAAGAkQgwAADASIQYA\n",
              "ABiJEAMAAIxEiAEAAEYixAAAACMRYgAAgJEIMQAAwEiEGAAAYCRbQ8ypU6c0ffp0xcTEKCkpSUeP\n",
              "Hr1uzvvvv6/hw4crPj7evV2+fNk9XlhYqOjoaE2YMEGZmZlqbW21s2QAAGAIW0NMdna2srKydPLk\n",
              "Sa1Zs0bLli3rdF5sbKwqKirc2/DhwyVJp0+f1rp161RaWqrKykqdP39e27Zts7NkAABgCNtCTEND\n",
              "gw4dOqRHH31UkrRgwQLV1taqsrKyx2vs3r1baWlpCgkJkcPh0MqVK7Vz584u57e0tKipqclja29v\n",
              "v+leAABA/2NbiKmtrVVoaKj8/PwkSQ6HQ+Hh4aqpqblublVVlRITE5WUlKQtW7a4j9fU1CgiIsK9\n",
              "HxkZ2en5V+Xl5SkwMNBjKysr68OuAABAf+HzG3sTExN19uxZHT58WK+//rq2bt2qV199tVdr5ebm\n",
              "qrGx0WNLTk7u44oBAEB/YFuIGTdunOrq6tTW1iZJsixLNTU1Cg8P95gXEBCgwMBASVJYWJgeeeQR\n",
              "lZaWSpLCw8N15swZ99zq6urrzr+Wy+VSQECAx+Z0Ovu6NQAA0A/YFmKCg4OVmJioHTt2SJL27Nmj\n",
              "sLAwRUVFecyrq6tTR0eHJKm5uVl79+5VQkKCpCv30ZSUlKi+vl6WZWnr1q1avHixXSUDAACD2Ppx\n",
              "UkFBgQoKChQTE6ONGzeqqKhIkpSRkaGSkhJJV8LNlClTFBcXp5SUFM2ePVvLly+XJI0fP17r16/X\n",
              "jBkzFBUVpbFjxyo7O9vOkgEAgCH87Fw8NjZWBw8evO749u3b3f9+8skn9eSTT3a5RmZmpjIzM22p\n",
              "DwAAmMvnN/YCAAD0BiEGAAAYiRADAACMRIgBAABGIsQAAAAjEWIAAICRCDEAAMBIhBgAAGAkQgwA\n",
              "ADASIQYAABiJEAMAAIxEiAEAAEYixAAAACMRYgAAgJEIMQAAwEiEGAAAYCRCDAAAMBIhBgAAGIkQ\n",
              "AwAAjESIAQAARiLEAAAAIxFiAACAkQgxAADASIQYAABgJEIMAAAwEiEGAAAYiRADAACMRIgBAABG\n",
              "IsQAAAAjEWIAAICRCDEAAMBIhBgAAGAkQgwAADASIQYAABiJEAMAAIxka4g5deqUpk+frpiYGCUl\n",
              "Jeno0aPXzXn33XeVnJysiRMnatKkSVq9erU6OjokSdXV1XI6nYqPj3dvVVVVdpYMAAAMYWuIyc7O\n",
              "VlZWlk6ePKk1a9Zo2bJl180ZNWqUdu3apWPHjumjjz7SBx98oJdeesk97u/vr4qKCvc2YcIEO0sG\n",
              "AACGsC3ENDQ06NChQ3r00UclSQsWLFBtba0qKys95iUkJGj8+PGSpGHDhik+Pl7V1dW9es2WlhY1\n",
              "NTV5bO3t7TfVBwAA6J9sCzG1tbUKDQ2Vn5+fJMnhcCg8PFw1NTVdnlNfX6/du3froYcech+7dOmS\n",
              "kpKSlJiYqA0bNnQbSvLy8hQYGOixlZWV9V1TAACg3+g3N/Y2NTXpBz/4gVavXq27775bkhQaGqpz\n",
              "586pvLxc+/fvV2lpqTZt2tTlGrm5uWpsbPTYkpOTb1ULAADgFrItxIwbN051dXVqa2uTJFmWpZqa\n",
              "GoWHh183t7m5WampqZo3b55ycnLcx10ul4KDgyVJo0eP1ooVK1RaWtrla7pcLgUEBHhsTqezjzsD\n",
              "AAD9gW0hJjg4WImJidqxY4ckac+ePQoLC1NUVJTHvIsXLyo1NVWpqal65plnPMYaGhrU2toq6cr9\n",
              "LsXFxUpISLCrZAAAYBBbP04qKChQQUGBYmJitHHjRhUVFUmSMjIyVFJSIknavHmzysrKVFxc7P41\n",
              "6ueff16SdODAASUkJCguLk6JiYkKCQnR2rVr7SwZAAAYws/OxWNjY3Xw4MHrjm/fvt3977Vr13YZ\n",
              "TNLT05Wenm5bfQAAwFz95sZeAAAAbxBiAACAkQgxAADASIQYAABgJEIMAAAwEiEGAAAYiRADAACM\n",
              "RIgBAABGIsQAAAAjEWIAAICRCDEAAMBIhBgAAGAkQgwAADASIQYAABiJEAMAAIxEiAEAAEYixAAA\n",
              "ACMRYgAAgJEIMQAAwEiEGAAAYCRCDAAAMBIhBgAAGIkQAwAAjESIAQAARiLEAAAAIxFiAACAkQgx\n",
              "AADASIQYAABgJEIMAAAwEiEGAAAYiRADAACMRIgBAABGIsQAAAAjEWIAAICRCDEAAMBItoaYU6dO\n",
              "afr06YqJiVFSUpKOHj3a6bzCwkJFR0drwoQJyszMVGtra4/GAADA4GVriMnOzlZWVpZOnjypNWvW\n",
              "aNmyZdfNOX36tNatW6fS0lJVVlbq/Pnz2rZt2w3HAADA4GZbiGloaNChQ4f06KOPSpIWLFig2tpa\n",
              "VVZWeszbvXu30tLSFBISIofDoZUrV2rnzp03HOtMS0uLmpqaPLb29na7WgQAAD7kZ9fCtbW1Cg0N\n",
              "lZ/flZdwOBwKDw9XTU2NoqKi3PNqamoUERHh3o+MjFRNTc0NxzqTl5en9evXexy76667lJOT0yc9\n",
              "XSu9h/Pa29tVVlam5ORkOZ3OHp2Tk/NO7wvrRk9r7o2cnHd61avJuuvXrq+1XT8bUvc138z31s6a\n",
              "7TKYfpYHU6/S4Or32l7TberVzus7IiJCP/nJT7qdY1uI8YXc3NzrAovL5ZLL5fJRRVJTU5MCAwP1\n",
              "u9/9TgEBAT6r41YYTL1Kg6vfwdSrNLj6HUy9SoOr38HQq20hZty4caqrq1NbW5v8/PxkWZZqamoU\n",
              "Hh7uMS88PFxVVVXu/erqavec7sY64+vAAgAAbh3b7okJDg5WYmKiduzYIUnas2ePwsLCPD5Kkq7c\n",
              "K1NSUqL6+npZlqWtW7dq8eLFNxwDAACDm62/nVRQUKCCggLFxMRo48aNKioqkiRlZGSopKREkjR+\n",
              "/HitX79eM2bMUFRUlMaOHavs7OwbjgEAgMHN1ntiYmNjdfDgweuOb9++3WM/MzNTmZmZna7R3ZgJ\n",
              "XC6XfvGLXwyKj7kGU6/S4Op3MPUqDa5+B1Ov0uDqdzD06rAsy/J1EQAAAN7isQMAAMBIhBgAAGAk\n",
              "QgwAADASIQYAABiJEHOTIiMjFRsbq/j4eMXHx+uVV16R1P0TvHv6dG9fW7VqlSIjI+VwOFRRUeE+\n",
              "3tve+nvfXfXb1fdYMrffr776SvPnz1dMTIzi4uI0e/Zs93PNGhoalJqaqujoaE2ePFm///3v3ef1\n",
              "dsyXuuv13nvv1Xe+8x339/af//mf3eeZ2OtV999/v6ZOnar4+Hh973vf08cffyxpYF67XfU6EK/b\n",
              "axUVFcnhcOiNN96QNPCu2x6zcFMiIiKsjz/++Lrj3//+962ioiLLsizrtddes+6+++4ejfUn//3f\n",
              "/23V1tZe12Nve+vvfXfVb1ffY8syt9/Lly9bb775ptXR0WFZlmX967/+q3XPPfdYlmVZy5cvt37x\n",
              "i19YlmVZZWVl1re//W3r66+/vqkxX+qu13vuucd6/fXXOz3PxF6v+vLLL93/Li4utqZOnWpZ1sC8\n",
              "drvqdSBet1edPn3a+u53v2ulpKS4f34H2nXbU4SYm9TZhXL+/HnL39/fam1ttSzLsjo6Oqw77rjD\n",
              "OnXqVLdj/dW1Pfa2N5P67mmIGSj9WpZllZeXWxEREZZlWdaIESOsuro691hSUpL19ttv39RYf3Jt\n",
              "r92FmIHQq2VZVlFRkRUXFzcort2rvVrWwL1u29vbrfvuu886dOiQx8/vQL9uu8LHSX1gyZIlmjJl\n",
              "ih5//HH98Y9/7PYJ3t2NmaC3vZne9ze/x1Lvvxb90ebNmzVv3jx98cUXam1tVUhIiHvs6tPjezvW\n",
              "31zt9aqnn35aU6ZM0aJFi/TZZ59J0oDodcmSJRo3bpzWrVunl19+eUBfu9/s9drjA+26zc/P14wZ\n",
              "MzRt2jT3scFw3XaFEHOTfv/73+vIkSM6fPiwxowZo6VLl/q6JPSxgf49/tWvfqXKykrl5eX5uhTb\n",
              "fbPXl19+WcePH9eRI0f0ve99Tw899JCPK+w7L730kmpra/XLX/5Sa9as8XU5tuqs14F43X766afa\n",
              "s2ePnnnmGV+X0n/4+q2ggeTzzz+3br/9duPfrvymwf5x0rWufo8ty/y3pS3Lsv7pn/7JmjZtmsd9\n",
              "BbfddluXby/3dqw/6KzXb3K5XNaf/vQny7LM7vWbhg0bZtXX1w/4a9eyrvR69Xt41UC5brds2WKF\n",
              "hIRYERERVkREhOVyuayxY8daW7ZsGbDX7Y3wTsxNuHTpki5cuODe37lzpxISErp9gndPn+7dX/W2\n",
              "N1P77up7LPX+a9Ff5Ofna+fOnXr77bc1cuRI9/GHH35YW7dulSSVl5fr3Llzuueee25qzNc667Wt\n",
              "rU3nz593z9mzZ4/uuOMOBQUFSTK31wsXLujzzz9377/xxhsKCgoakNduV70OGzZsQF63TzzxhOrq\n",
              "6lRdXa3q6mqlpKRo27ZteuKJJwbkddsjvk5RJquqqrLi4+OtKVOmWJMnT7bS0tKs06dPW5ZlWceP\n",
              "H7dSUlKs6Ohoa9q0adaRI0fc53U31p9kZWVZ3/72ty2n02kFBwdbEyZMsCyr9731974767e777Fl\n",
              "mdtvbW2tJckaP368FRcXZ8XFxVnJycmWZVlWfX29NXv2bCsqKsqaOHGi9e6777rP6+2YL3XV68WL\n",
              "F61p06ZZkydPtqZOnWr99V//tVVRUeE+z8ReLcuyqqurraSkJHdf9913n/udxYF27XbV60C9br/p\n",
              "2ht7B9p121M8ABIAABiJj5MAAICRCDEAAMBIhBgAAGAkQgwAADASIQYAABiJEAMAAIxEiAEAAEYi\n",
              "xAAAACMRYgAAgJEIMQAAwEj/D448bl8Ay1qXAAAAAElFTkSuQmCC\n",
              "\">\n",
              "      </div>\n",
              "      <script type=\"text/javascript\">\n",
              "        (() => {\n",
              "          const chartElement = document.getElementById(\"chart-181f3b1f-a2bf-4986-bd53-954fd6ff85f6\");\n",
              "          async function getCodeForChartHandler(event) {\n",
              "            const chartCodeResponse =  await google.colab.kernel.invokeFunction(\n",
              "                'getCodeForChart', [\"chart-181f3b1f-a2bf-4986-bd53-954fd6ff85f6\"], {});\n",
              "            const responseJson = chartCodeResponse.data['application/json'];\n",
              "            await google.colab.notebook.addCell(responseJson.code, 'code');\n",
              "          }\n",
              "          chartElement.onclick = getCodeForChartHandler;\n",
              "        })();\n",
              "      </script>\n",
              "      <style>\n",
              "        .colab-quickchart-chart-with-code  {\n",
              "            display: block;\n",
              "            float: left;\n",
              "            border: 1px solid transparent;\n",
              "        }\n",
              "\n",
              "        .colab-quickchart-chart-with-code:hover {\n",
              "            cursor: pointer;\n",
              "            border: 1px solid #aaa;\n",
              "        }\n",
              "      </style>"
            ]
          },
          "metadata": {}
        },
        {
          "output_type": "display_data",
          "data": {
            "text/plain": [
              "from matplotlib import pyplot as plt\n",
              "_df_1['CreditScore'].plot(kind='hist', bins=20, title='CreditScore')\n",
              "plt.gca().spines[['top', 'right',]].set_visible(False)"
            ],
            "text/html": [
              "      <div class=\"colab-quickchart-chart-with-code\" id=\"chart-04ac245d-2736-4469-ac83-b19834e93a2c\">\n",
              "        <img style=\"width: 180px;\" src=\"data:image/png;base64,iVBORw0KGgoAAAANSUhEUgAAAjEAAAGrCAYAAAAxesZMAAAAOXRFWHRTb2Z0d2FyZQBNYXRwbG90\n",
              "bGliIHZlcnNpb24zLjcuMSwgaHR0cHM6Ly9tYXRwbG90bGliLm9yZy/bCgiHAAAACXBIWXMAAA9h\n",
              "AAAPYQGoP6dpAAApgElEQVR4nO3deVBVd57//9cN2tcVcCOgCERZjBuLgaY1W0/a0e6k1UZT6sRO\n",
              "1LCYnh57ilSZMMZJNAtOJdrtzJQjthQziVWaqCRDacWe2ElGnDiiMcS0jgtEBAxCxySCthKWz/cP\n",
              "f96fNwJ6CUf4wPNRdaq4n8/nnPt+g6d81bkHjssYYwQAAGCZOzq7AAAAgPYgxAAAACsRYgAAgJUI\n",
              "MQAAwEqEGAAAYCVCDAAAsBIhBgAAWIkQAwAArESIAQAAViLEAOgyGhsb5XK59OGHH0qSCgsLNWDA\n",
              "ADU1NXVuYQC6JEIMgFvy2Wefad68eQoJCdGAAQMUERGh+fPn6/Dhw46953333aeLFy/Kz89PkvTC\n",
              "Cy/o3nvvvWFdfn6+fvjDHyowMFABAQG6++679dxzzzlWF4CugRAD4KY+/PBDJSUl6c4779T+/ftV\n",
              "V1en4uJiTZ06Vdu2bbth/bfffnvbatu/f78WLFigrKwsffnll/ryyy+1bds2RUdHO/aeDQ0Njh0b\n",
              "gA8MANxEdHS0WbBgQavzeXl5ZsSIEeZf//VfTXh4uBkwYIAxxpjKykozf/58M3z4cDNs2DAzb948\n",
              "U1NT49mvurra/OIXvzABAQHmrrvuMps3bzaSzAcffGCMMeaDDz4wkkxDQ4PZvHmz6d27t7njjjtM\n",
              "//79Tf/+/c3evXvNa6+9ZiZMmNBm/Q0NDWbNmjXm7rvvNgMGDDAjRowwq1ev9szv3LnTJCQkGH9/\n",
              "fxMVFWVeffVV09TU5JmXZNauXWt+9KMfmX79+pktW7aYxsZG89prr5kxY8YYf39/k5CQYPbs2dOe\n",
              "by+AdiLEAGjTyZMnjSTzX//1X62uycvLM35+fiYtLc3U1dWZS5cumStXrpiYmBjz9NNPm4sXL5q6\n",
              "ujqzYMEC85Of/MSz39SpU820adPM+fPnzfnz583DDz/caogxxpjnn3/eTJkyxeu9Dxw4YPz8/ExG\n",
              "RoYpKCgwZ8+evaG+5cuXm9GjR5sDBw6YpqYmc/78efPRRx8ZY4wpKioyvXv3Nm+++aZpaGgwhw4d\n",
              "MiEhIea3v/2tZ39JJiYmxhw9etQ0Nzebv/zlL+b55583sbGx5vjx46apqcnk5+ebfv36mZKSkvZ+\n",
              "qwH4iBADoE379u0zksyxY8daXXMtxFy6dMkztmPHDjN8+HDT3NzsGausrDSSTEVFhefrI0eOeOaP\n",
              "HDnic4gxxpj9+/ebxx9/3ERERBiXy2XGjh1rCgoKjDHGNDc3mwEDBpht27a1WHt6erqZNWuW19ja\n",
              "tWtNTEyM57Uks2HDBq81/v7+Zvfu3V5jP/nJT8yLL77Y6vcJQMfq1SmfYQGwRlBQkCSpsrJSd999\n",
              "d5vr+vXr53l96tQpVVdXa9CgQV7r3G63ysvLPTfr3nXXXZ6567/2RXJyspKTkyVJ1dXVeuWVVzR7\n",
              "9mwdPXpUgYGBunjxomJiYlrct6KiQmPHjvUai4yMVHl5udfY9bVVV1ertrZWjz76qO644/+/tbCh\n",
              "oUGRkZHt6gGA77ixF0CboqKiFB0drTfeeKPNddf/Zy5JwcHBCg8P1zfffOO1XblyRZMnT1ZoaKgk\n",
              "qayszLPP9V/fynu05M4779RLL72khoYGffbZZxo6dKgGDBigkydPtrh+5MiRKi0t9RorLS1VWFhY\n",
              "q+8dGBioPn36aOfOnV69Xbp0Sf/2b/920xoBdAxCDICbysnJ0bZt25SZmakzZ87IGKPa2lq9/vrr\n",
              "Wr58eYv7pKSkqKGhQStWrNCFCxckSTU1NXrzzTclSSNGjNBDDz2kZcuW6euvv9bXX3+tf/iHf2iz\n",
              "juDgYJWXl+vKlSuesXfeeUe5ubn64osvPHVlZ2erb9++uueee+RyufR3f/d3ysrK0qFDh2SM0Vdf\n",
              "faX9+/dLkhYvXqxdu3Zpx44dampq0ieffKJXX31V6enprdbhdru1ZMkSLVu2TP/3f/8nY4wuX76s\n",
              "vXv3thqWAHQ8QgyAm3rwwQd14MABnT17VklJSRo4cKAmTpyo3bt3a86cOS3uM3DgQO3fv1/l5eWa\n",
              "MGGC/P39NXnyZO3du9ezZvPmzfrBD36giIgIJSQkaO7cuW3WMXfuXMXExGj48OEKDAzUvn37NGTI\n",
              "EOXn52vSpEkaMGCAIiMjdejQIe3evdtzNWXVqlVKTU3VY4895qm9sLBQkvTDH/5Q27dv18svv6xB\n",
              "gwbp0Ucf1dKlS/Wb3/ymzVpee+01zZ8/X48++qgCAwMVERGh7Oxsfv0auI1cxhjT2UUAAAD4iisx\n",
              "AADASoQYAABgJUIMAACwEiEGAABYiRADAACsRIgBAABWIsQAAAArdfsQs27dus4uAQAAOKDbh5gz\n",
              "Z850dgkAAMAB3T7EAACA7okQAwAArESIAQAAViLEAAAAKxFiAACAlQgxAADASoQYAABgJUIMAACw\n",
              "EiEGAABYiRADAACsRIgBAABWIsQAAAArORZirly5olmzZik6OlqxsbGaOnWqSkpKWly7c+dOjRkz\n",
              "RlFRUUpJSVFtbe0tzQEAgJ7L0Ssx6enpOnHihD799FPNnDlTqampN6y5ePGinnzySb3zzjs6deqU\n",
              "hg8frhdffPGmcwAAoGdzLMT06dNHP/vZz+RyuSRJycnJKisru2Hdu+++q/j4eI0ZM0aS9Ktf/Upb\n",
              "tmy56VxL6uvrVVtb67U1NTV1cGcAAKAr6HW73mjdunWaOXPmDePl5eUKDw/3vI6IiFBVVZUaGxvb\n",
              "nOvV68bSs7OztXLlSq+x5OTkDuzCbhHP7nLs2GWrH3bs2AAAtOS23Nj7yiuvqKSkRNnZ2Y6+T1ZW\n",
              "li5cuOC1JSUlOfqeAACgczgeYl577TXl5+fr3XffVb9+/W6YDwsL05kzZzyvy8rKFBISol69erU5\n",
              "1xK32y1/f3+vzc/Pr+ObAgAAnc7RELN27Vpt2bJF7733ngIDA1tcM336dB0+fFjHjx+XJK1fv17z\n",
              "5s276RwAAOjZHLsnprKyUk8//bRGjRqlH//4x5KuXik5cOCA/vEf/1HDhw/XkiVLNHDgQG3atEmz\n",
              "Zs1SY2Ojxo8fr//4j/+QpDbnAABAz+YyxpjOLsJJmZmZWrt2bWeX0SVwYy8AoDvhL/YCAAArEWIA\n",
              "AICVCDEAAMBKhBgAAGAlQgwAALASIQYAAFiJEAMAAKxEiAEAAFYixAAAACsRYgAAgJUIMQAAwEqE\n",
              "GAAAYCVCDAAAsBIhBgAAWIkQAwAArESIAQAAViLEAAAAKxFiAACAlQgxAADASoQYAABgJUIMAACw\n",
              "EiEGAABYiRADAACsRIgBAABWIsQAAAArEWIAAICVCDEAAMBKhBgAAGAlQgwAALASIQYAAFiJEAMA\n",
              "AKxEiAEAAFYixAAAACsRYgAAgJUIMQAAwEqOhpilS5cqIiJCLpdLxcXFLa7Jy8tTXFycZxs6dKhS\n",
              "UlIkSWVlZfLz8/OaLy0tdbJkAABgiV5OHnzOnDlatmyZ7r333lbXLFq0SIsWLfK8Hj9+vB577DHP\n",
              "64EDB7YagAAAQM/laIi5//77fVp/4MAB1dTUaMaMGe16v/r6etXX13uNNTU1tetYAACga+tS98Tk\n",
              "5ubql7/8pXr37u0Zu3TpkhITE5WQkKBVq1a1GUqys7MVEBDgtRUVFd2O0gEAwG3WZULMpUuXtHXr\n",
              "Vj355JOesZCQEJ09e1YHDx7Unj17VFhYqDVr1rR6jKysLF24cMFrS0pKuh3lAwCA26zLhJht27Zp\n",
              "3LhxGjt2rGfM7XYrKChIkjR48GAtXrxYhYWFrR7D7XbL39/fa/Pz83O8dgAAcPt1mRCTm5vrdRVG\n",
              "kmpqatTQ0CDp6v0u+fn5io+P74zyAABAF+NoiMnIyFBoaKgqKys1bdo0RUZGSpJSU1NVUFDgWXfi\n",
              "xAkVFxdr7ty5Xvvv27dP8fHxio2NVUJCgoKDg7V8+XInSwYAAJZwGWNMZxfhpMzMTK1du7azy+gS\n",
              "Ip7d5dixy1Y/7NixAQBoSZf5OAkAAMAXhBgAAGAlQgwAALASIQYAAFiJEAMAAKxEiAEAAFYixAAA\n",
              "ACsRYgAAgJUIMQAAwEqEGAAAYCVCDAAAsBIhBgAAWIkQAwAArESIAQAAViLEAAAAKxFiAACAlQgx\n",
              "AADASoQYAABgJUIMAACwEiEGAABYiRADAACsRIgBAABWIsQAAAArEWIAAICVCDEAAMBKhBgAAGAl\n",
              "QgwAALASIQYAAFiJEAMAAKxEiAEAAFYixAAAACsRYgAAgJUIMQAAwEqEGAAAYCVCDAAAsJKjIWbp\n",
              "0qWKiIiQy+VScXFxi2s+/PBD9e3bV3FxcZ7t8uXLnvnc3FxFRUVp9OjRSktLU0NDg5MlAwAASzga\n",
              "YubMmaN9+/YpPDy8zXUxMTEqLi72bH379pUknT59WitWrFBhYaFKSkpUXV2tjRs3OlkyAACwhKMh\n",
              "5v7771doaGi799++fbtmzJih4OBguVwuLVmyRFu2bGl1fX19vWpra722pqamdr8/AADourrEPTGl\n",
              "paVKSEhQYmKi1q9f7xkvLy/3uooTERGh8vLyVo+TnZ2tgIAAr62oqMjR2gEAQOfo9BCTkJCgyspK\n",
              "HT58WG+//bY2bNigt956q13HysrK0oULF7y2pKSkDq4YAAB0BZ0eYvz9/RUQECBJCg0N1fz581VY\n",
              "WChJCgsL05kzZzxry8rKFBYW1uqx3G63/P39vTY/Pz9nGwAAAJ2i00NMVVWVmpubJUl1dXXauXOn\n",
              "4uPjJUmzZ89WQUGBzp07J2OMNmzYoHnz5nVmuQAAoItwNMRkZGQoNDRUlZWVmjZtmiIjIyVJqamp\n",
              "KigokCTt2LFDEyZMUGxsrJKTkzV16lQtWrRIkjRq1CitXLlSU6ZMUWRkpIYNG6aMjAwnSwYAAJZw\n",
              "GWNMZxfhpMzMTK1du7azy+gSIp7d5dixy1Y/7NixAQBoSad/nAQAANAehBgAAGAlQgwAALASIQYA\n",
              "AFiJEAMAAKxEiAEAAFYixAAAACsRYgAAgJUIMQAAwEqEGAAAYCVCDAAAsBIhBgAAWIkQAwAArESI\n",
              "AQAAViLEAAAAKxFiAACAlQgxAADASoQYAABgJUIMAACwEiEGAABYiRADAACsRIgBAABWIsQAAAAr\n",
              "EWIAAICVCDEAAMBKhBgAAGAlQgwAALASIQYAAFiJEAMAAKxEiAEAAFYixAAAACsRYgAAgJUIMQAA\n",
              "wEqEGAAAYCVCDAAAsJKjIWbp0qWKiIiQy+VScXFxi2vef/99JSUlaezYsRo3bpyWLVum5uZmSVJZ\n",
              "WZn8/PwUFxfn2UpLS50sGQAAWMLREDNnzhzt27dP4eHhra4ZNGiQtm7dqmPHjunjjz/WRx99pNdf\n",
              "f90zP3DgQBUXF3u20aNHO1kyAACwRC8nD37//fffdE18fLzn6z59+iguLk5lZWXter/6+nrV19d7\n",
              "jTU1NbXrWAAAoGvrUvfEnDt3Ttu3b9cjjzziGbt06ZISExOVkJCgVatWtRlKsrOzFRAQ4LUVFRXd\n",
              "jtIBAMBt1mVCTG1trX7+859r2bJluueeeyRJISEhOnv2rA4ePKg9e/aosLBQa9asafUYWVlZunDh\n",
              "gteWlJR0u1oAAAC3UZcIMXV1dZo+fbpmzpypzMxMz7jb7VZQUJAkafDgwVq8eLEKCwtbPY7b7Za/\n",
              "v7/X5ufn53j9AADg9uv0EHPx4kVNnz5d06dP13PPPec1V1NTo4aGBklX73fJz8/3uocGAAD0XI6G\n",
              "mIyMDIWGhqqyslLTpk1TZGSkJCk1NVUFBQWSpHXr1qmoqEj5+fmeX6N++eWXJUn79u1TfHy8YmNj\n",
              "lZCQoODgYC1fvtzJkgEAgCVcxhjT2UU4KTMzU2vXru3sMrqEiGd3OXbsstUPO3ZsAABa0ukfJwEA\n",
              "ALQHIQYAAFiJEAMAAKxEiAEAAFbyOcT84Q9/cKIOAAAAn/gcYlatWqWYmBitW7dOtbW1TtQEAABw\n",
              "Uz6HmP/5n//R1q1b9ac//UnR0dH61a9+pWPHjjlRGwAAQKvadU9MfHy8fv/732v37t3auXOnJk6c\n",
              "qKlTp+qzzz7r6PoAAABa1K4Qs2fPHs2cOVMpKSn627/9W507d04ZGRn6xS9+0dH1AQAAtKiXrzvc\n",
              "fffdGjp0qJYuXaqUlBTPAxbnzJmj3NzcDi8QAACgJT6HmM2bN2vSpEktzr377rvfuyAAAIBb4fPH\n",
              "SR9//LG++uorz+vz58/r97//fYcWBQAAcDM+h5j169dr8ODBntdDhgzR+vXrO7QoAACAm/E5xLT0\n",
              "0OumpqYOKQYAAOBW+RxiQkJC9NZbb3lev/nmmwoJCenQogAAAG7G5xt7f/e732nmzJlatmyZJKlf\n",
              "v376z//8zw4vDAAAoC0+h5gxY8bo2LFjOnHihCQpJibG82vWAAAAt4vPIUaSXC6XAgMD1djYqLNn\n",
              "z0qSwsLCOrQwAACAtvgcYv793/9dS5cuVe/evXXHHVdvqXG5XKqpqenw4gAAAFrjc4h58cUXdfDg\n",
              "QcXExDhRDwAAwC3x+beThg4dSoABAACdzucQM2vWLP3ud79TTU2NamtrPRsAAMDt5PPHScuXL5ck\n",
              "ZWZmyuVyyRgjl8vFH7wDAAC3lc8hprm52Yk6AAAAfOLzx0nS1YdAvvHGG5Kkb775RlVVVR1aFAAA\n",
              "wM206wGQixcv1gsvvCDp6lOs/+Zv/qaj6wIAAGiTzyFm48aN+t///V/5+/tLkkaPHq0///nPHV4Y\n",
              "AABAW3wOMW63W3379vUa69WrXX/4FwAAoN18DjHDhg3TyZMn5XK5JF39C748cgAAANxu7XqK9fz5\n",
              "83X8+HGNHDlS/v7+2rlzpxO1AQAAtMrnEBMZGakDBw7oxIkTMsbwFGsAANApfA4x5eXlkqT+/ftL\n",
              "Ek+xBgAAncLnEDNp0iTPX+q9cuWK/vKXv2jIkCE8xRoAANxWPoeY7/46dX5+vj799NMOKwgAAOBW\n",
              "tOsv9l4vJSVFu3bt6ohaAAAAbpnPIeb6J1d//fXX2r17d6tPsV66dKkiIiLkcrlUXFzc6jFzc3MV\n",
              "FRWl0aNHKy0tTQ0NDbc0BwAAei6fQ0xgYKAGDRqkwMBABQUFKTMzU//8z//c4to5c+Zo3759Cg8P\n",
              "b/V4p0+f1ooVK1RYWKiSkhJVV1dr48aNN50DAAA9m88hprm5WU1NTWpublZDQ4OOHTum6dOnt7j2\n",
              "/vvvV2hoaJvH2759u2bMmKHg4GC5XC4tWbJEW7ZsuelcS+rr672uFNXW1qqpqcnXFgEAgAU6/XkB\n",
              "5eXlXldqIiIiPL/G3dZcS7Kzs7Vy5UqvseTk5A6u+P+r5Vnn7gMqW/2wY8fG7eHUvw8n/23YWDOA\n",
              "W9Ndz2+fr8Tccccd8vPzu2G7Nt6ZsrKydOHCBa8tKSmpU2sCAADO8PlKzKpVq3T58mU99dRTkqQN\n",
              "Gzaob9+++vu///t2FRAWFqbS0lLP67KyMs8fzmtrriVut1tut9trrLODFQAAcIbPV2Lefvttvfzy\n",
              "ywoNDVVoaKheeukl5efnq3///p6/4uuL2bNnq6CgQOfOnZMxRhs2bNC8efNuOgcAAHo2n0NMXV2d\n",
              "11/nrampUV1dXYtrMzIyFBoaqsrKSk2bNk2RkZGSpNTUVBUUFEiSRo0apZUrV2rKlCmKjIzUsGHD\n",
              "lJGRcdM5AADQs/n8cdLTTz+t2NhY/exnP5Mk7d69Wy+88EKLa3Nycloc37Rpk9frtLQ0paWltbi2\n",
              "rTkAANBz+RxiMjIyNGXKFH3wwQeSpMzMTI0bN67DCwMAAGhLu37FesiQIZowYYIefPBBNTY26ttv\n",
              "v9UPfvCDjq4NAACgVT7fE7N9+3YlJydr0aJFkqSjR49q1qxZHV0XAABAm3wOMdnZ2Tp8+LACAwMl\n",
              "SbGxsTpz5kxH1wUAANAmn0OMn5+fhgwZ4jXGR0kAAOB28znEDBw4UNXV1XK5XJKkP/7xjxo8eHCH\n",
              "FwYAANAWn2/s/ad/+if99Kc/1eeff657771Xp0+f1q5dzj1HCAAAoCU+hZhrT7D+4IMP9NFHH8kY\n",
              "o8mTJ3vujwEAALhdfAoxd9xxh9LT0/Xpp5/qpz/9qVM1AQAA3JTP98RERUWppKTEiVoAAABumc/3\n",
              "xHz11VeKi4vT5MmTNWDAAM94fn5+hxYGAADQllsOMenp6dq4caOeeOIJzZgxQ4MGDXKyLgAAgDbd\n",
              "cog5dOiQJOmJJ55QQkKCDh8+7FhRAAAAN+PzPTGSZIzp6DoAAAB8cstXYi5fvqzPPvtMxhhduXLF\n",
              "8/U1EydOdKRAAACAlvgUYmbMmOF5ff3XLpdLn3/+ecdWBgAA0IZbDjFlZWUOlgEAAOCbdt0TAwAA\n",
              "0NkIMQAAwEqEGAAAYCVCDAAAsBIhBgAAWIkQAwAArESIAQAAViLEAAAAKxFiAACAlQgxAADASoQY\n",
              "AABgJUIMAACwEiEGAABYiRADAACsRIgBAABWIsQAAAArEWIAAICVCDEAAMBKjoaYU6dOafLkyYqO\n",
              "jlZiYqKOHj16w5q8vDzFxcV5tqFDhyolJUWSVFZWJj8/P6/50tJSJ0sGAACW6OXkwTMyMpSenq6F\n",
              "Cxdq+/btWrhwoQ4ePOi1ZtGiRVq0aJHn9fjx4/XYY495Xg8cOFDFxcVOlgkAACzk2JWYmpoaHTp0\n",
              "SAsWLJAkzZ49WxUVFSopKWl1nwMHDqimpkYzZsxo13vW19ertrbWa2tqamrXsQAAQNfmWIipqKhQ\n",
              "SEiIevW6erHH5XIpLCxM5eXlre6Tm5urX/7yl+rdu7dn7NKlS0pMTFRCQoJWrVrVZijJzs5WQECA\n",
              "11ZUVNRxTQEAgC6jy9zYe+nSJW3dulVPPvmkZywkJERnz57VwYMHtWfPHhUWFmrNmjWtHiMrK0sX\n",
              "Llzw2pKSkm5H+QAA4DZzLMSMHDlSVVVVamxslCQZY1ReXq6wsLAW12/btk3jxo3T2LFjPWNut1tB\n",
              "QUGSpMGDB2vx4sUqLCxs9T3dbrf8/f29Nj8/vw7sCgAAdBWOhZigoCAlJCRo8+bNkqQdO3YoNDRU\n",
              "kZGRLa7Pzc31ugojXb2vpqGhQdLV+13y8/MVHx/vVMkAAMAijn6clJOTo5ycHEVHR2v16tXKy8uT\n",
              "JKWmpqqgoMCz7sSJEyouLtbcuXO99t+3b5/i4+MVGxurhIQEBQcHa/ny5U6WDAAALOHor1jHxMRo\n",
              "//79N4xv2rTphnV1dXU3rEtJSfH8zRgAAIDrdZkbewEAAHxBiAEAAFYixAAAACsRYgAAgJUIMQAA\n",
              "wEqEGAAAYCVCDAAAsBIhBgAAWIkQAwAArESIAQAAViLEAAAAKxFiAACAlQgxAADASoQYAABgJUIM\n",
              "AACwEiEGAABYiRADAACsRIgBAABWIsQAAAArEWIAAICVCDEAAMBKhBgAAGAlQgwAALASIQYAAFiJ\n",
              "EAMAAKxEiAEAAFYixAAAACsRYgAAgJUIMQAAwEqEGAAAYCVCDAAAsBIhBgAAWIkQAwAArESIAQAA\n",
              "ViLEAAAAKzkaYk6dOqXJkycrOjpaiYmJOnr06A1rPvzwQ/Xt21dxcXGe7fLly5753NxcRUVFafTo\n",
              "0UpLS1NDQ4OTJQMAAEs4GmIyMjKUnp6ukydP6plnntHChQtbXBcTE6Pi4mLP1rdvX0nS6dOntWLF\n",
              "ChUWFqqkpETV1dXauHGjkyUDAABLOBZiampqdOjQIS1YsECSNHv2bFVUVKikpOSWj7F9+3bNmDFD\n",
              "wcHBcrlcWrJkibZs2dLq+vr6etXW1nptTU1N37sXAADQ9TgWYioqKhQSEqJevXpJklwul8LCwlRe\n",
              "Xn7D2tLSUiUkJCgxMVHr16/3jJeXlys8PNzzOiIiosX9r8nOzlZAQIDXVlRU1IFdAQCArqLTb+xN\n",
              "SEhQZWWlDh8+rLffflsbNmzQW2+91a5jZWVl6cKFC15bUlJSB1cMAAC6AsdCzMiRI1VVVaXGxkZJ\n",
              "kjFG5eXlCgsL81rn7++vgIAASVJoaKjmz5+vwsJCSVJYWJjOnDnjWVtWVnbD/tdzu93y9/f32vz8\n",
              "/Dq6NQAA0AU4FmKCgoKUkJCgzZs3S5J27Nih0NBQRUZGeq2rqqpSc3OzJKmurk47d+5UfHy8pKv3\n",
              "0RQUFOjcuXMyxmjDhg2aN2+eUyUDAACLOPpxUk5OjnJychQdHa3Vq1crLy9PkpSamqqCggJJV8PN\n",
              "hAkTFBsbq+TkZE2dOlWLFi2SJI0aNUorV67UlClTFBkZqWHDhikjI8PJkgEAgCV6OXnwmJgY7d+/\n",
              "/4bxTZs2eb7+9a9/rV//+tetHiMtLU1paWmO1AcAAOzV6Tf2AgAAtAchBgAAWIkQAwAArESIAQAA\n",
              "ViLEAAAAKxFiAACAlQgxAADASoQYAABgJUIMAACwEiEGAABYiRADAACsRIgBAABWIsQAAAArEWIA\n",
              "AICVCDEAAMBKhBgAAGAlQgwAALASIQYAAFiJEAMAAKxEiAEAAFYixAAAACsRYgAAgJUIMQAAwEqE\n",
              "GAAAYCVCDAAAsBIhBgAAWIkQAwAArESIAQAAViLEAAAAKxFiAACAlQgxAADASoQYAABgJUIMAACw\n",
              "EiEGAABYiRADAACs5GiIOXXqlCZPnqzo6GglJibq6NGjN6x5//33lZSUpLFjx2rcuHFatmyZmpub\n",
              "JUllZWXy8/NTXFycZystLXWyZAAAYAlHQ0xGRobS09N18uRJPfPMM1q4cOENawYNGqStW7fq2LFj\n",
              "+vjjj/XRRx/p9ddf98wPHDhQxcXFnm306NFOlgwAACzhWIipqanRoUOHtGDBAknS7NmzVVFRoZKS\n",
              "Eq918fHxGjVqlCSpT58+iouLU1lZWbves76+XrW1tV5bU1PT9+oDAAB0TY6FmIqKCoWEhKhXr16S\n",
              "JJfLpbCwMJWXl7e6z7lz57R9+3Y98sgjnrFLly4pMTFRCQkJWrVqVZuhJDs7WwEBAV5bUVFRxzUF\n",
              "AAC6jC5zY29tba1+/vOfa9myZbrnnnskSSEhITp79qwOHjyoPXv2qLCwUGvWrGn1GFlZWbpw4YLX\n",
              "lpSUdLtaAAAAt5FjIWbkyJGqqqpSY2OjJMkYo/LycoWFhd2wtq6uTtOnT9fMmTOVmZnpGXe73QoK\n",
              "CpIkDR48WIsXL1ZhYWGr7+l2u+Xv7++1+fn5dXBnAACgK3AsxAQFBSkhIUGbN2+WJO3YsUOhoaGK\n",
              "jIz0Wnfx4kVNnz5d06dP13PPPec1V1NTo4aGBklX73fJz89XfHy8UyUDAACLOPpxUk5OjnJychQd\n",
              "Ha3Vq1crLy9PkpSamqqCggJJ0rp161RUVKT8/HzPr1G//PLLkqR9+/YpPj5esbGxSkhIUHBwsJYv\n",
              "X+5kyQAAwBK9nDx4TEyM9u/ff8P4pk2bPF8vX7681WCSkpKilJQUx+oDAAD26jI39gIAAPiCEAMA\n",
              "AKxEiAEAAFYixAAAACsRYgAAgJUIMQAAwEqEGAAAYCVCDAAAsBIhBgAAWIkQAwAArESIAQAAViLE\n",
              "AAAAKxFiAACAlQgxAADASoQYAABgJUIMAACwEiEGAABYiRADAACsRIgBAABWIsQAAAArEWIAAICV\n",
              "CDEAAMBKhBgAAGAlQgwAALASIQYAAFiJEAMAAKxEiAEAAFYixAAAACsRYgAAgJUIMQAAwEqEGAAA\n",
              "YCVCDAAAsBIhBgAAWIkQAwAArESIAQAAVnI0xJw6dUqTJ09WdHS0EhMTdfTo0RbX5ebmKioqSqNH\n",
              "j1ZaWpoaGhpuaQ4AAPRcjoaYjIwMpaen6+TJk3rmmWe0cOHCG9acPn1aK1asUGFhoUpKSlRdXa2N\n",
              "GzfedA4AAPRsjoWYmpoaHTp0SAsWLJAkzZ49WxUVFSopKfFat337ds2YMUPBwcFyuVxasmSJtmzZ\n",
              "ctO5ltTX16u2ttZra2pqcqpFAADQiXo5deCKigqFhISoV6+rb+FyuRQWFqby8nJFRkZ61pWXlys8\n",
              "PNzzOiIiQuXl5Teda0l2drZWrlzpNTZmzBhlZmZ2SE/XS7nFdU1NTSoqKlJSUpL8/PxuaZ/MzD+2\n",
              "v7A23GrN7ZGZ+cd29Wqztvp16nvt1L8Nqe2av8/P1smandKT/i33pF6lntXv9b2mONSrk+d3eHi4\n",
              "fvOb37S5xrEQ0xmysrJuCCxut1tut7uTKpJqa2sVEBCgP/zhD/L39++0Om6HntSr1LP67Um9Sj2r\n",
              "357Uq9Sz+u0JvToWYkaOHKmqqio1NjaqV69eMsaovLxcYWFhXuvCwsJUWlrqeV1WVuZZ09ZcSzo7\n",
              "sAAAgNvHsXtigoKClJCQoM2bN0uSduzYodDQUK+PkqSr98oUFBTo3LlzMsZow4YNmjdv3k3nAABA\n",
              "z+bobyfl5OQoJydH0dHRWr16tfLy8iRJqampKigokCSNGjVKK1eu1JQpUxQZGalhw4YpIyPjpnMA\n",
              "AKBnc/SemJiYGO3fv/+G8U2bNnm9TktLU1paWovHaGvOBm63W88//3yP+JirJ/Uq9ax+e1KvUs/q\n",
              "tyf1KvWsfntCry5jjOnsIgAAAHzFYwcAAICVCDEAAMBKhBgAAGAlQgwAALASIeZ7ioiIUExMjOLi\n",
              "4hQXF6c333xTUttP8L7Vp3t3tqVLlyoiIkIul0vFxcWe8fb21tX7bq3f1n7Gkr39XrlyRbNmzVJ0\n",
              "dLRiY2M1depUz3PNampqNH36dEVFRWn8+PHau3evZ7/2znWmtnp98MEHddddd3l+tr/97W89+9nY\n",
              "6zV//dd/rYkTJyouLk733XefPvnkE0nd89xtrdfueN5eLy8vTy6XS++8846k7nfe3jKD7yU8PNx8\n",
              "8sknN4z/+Mc/Nnl5ecYYY7Zt22buueeeW5rrSv77v//bVFRU3NBje3vr6n231m9rP2Nj7O338uXL\n",
              "ZteuXaa5udkYY8y//Mu/mAceeMAYY8yiRYvM888/b4wxpqioyIwYMcJ8++2332uuM7XV6wMPPGDe\n",
              "fvvtFvezsddrvv76a8/X+fn5ZuLEicaY7nnuttZrdzxvrzl9+rT50Y9+ZJKTkz3/frvbeXurCDHf\n",
              "U0snSnV1tRk4cKBpaGgwxhjT3Nxs7rzzTnPq1Kk257qq63tsb2829X2rIaa79GuMMQcPHjTh4eHG\n",
              "GGP69+9vqqqqPHOJiYnmvffe+15zXcn1vbYVYrpDr8YYk5eXZ2JjY3vEuXutV2O673nb1NRkHnro\n",
              "IXPo0CGvf7/d/bxtDR8ndYDHH39cEyZM0JNPPqk///nPbT7Bu605G7S3N9v7/u7PWGr/96IrWrdu\n",
              "nWbOnKnz58+roaFBwcHBnrlrT49v71xXc63Xa5599llNmDBBc+fO1eeffy5J3aLXxx9/XCNHjtSK\n",
              "FSv0xhtvdOtz97u9Xj/e3c7btWvXasqUKZo0aZJnrCect60hxHxPe/fu1ZEjR3T48GENHTpUTzzx\n",
              "RGeXhA7W3X/Gr7zyikpKSpSdnd3ZpTjuu72+8cYbOn78uI4cOaL77rtPjzzySCdX2HFef/11VVRU\n",
              "6KWXXtIzzzzT2eU4qqVeu+N5+6c//Uk7duzQc88919mldB2dfSmoO/niiy/MgAEDrL9c+V09/eOk\n",
              "6137GRtj/2VpY4x59dVXzaRJk7zuK+jXr1+rl5fbO9cVtNTrd7ndbvPll18aY+zu9bv69Oljzp07\n",
              "1+3PXWOu9nrtZ3hNdzlv169fb4KDg014eLgJDw83brfbDBs2zKxfv77bnrc3w5WY7+HSpUv65ptv\n",
              "PK+3bNmi+Pj4Np/gfatP9+6q2tubrX239jOW2v+96CrWrl2rLVu26L333lNgYKBn/NFHH9WGDRsk\n",
              "SQcPHtTZs2f1wAMPfK+5ztZSr42Njaqurvas2bFjh+68804NGTJEkr29fvPNN/riiy88r9955x0N\n",
              "GTKkW567rfXap0+fbnnePvXUU6qqqlJZWZnKysqUnJysjRs36qmnnuqW5+0t6ewUZbPS0lITFxdn\n",
              "JkyYYMaPH29mzJhhTp8+bYwx5vjx4yY5OdlERUWZSZMmmSNHjnj2a2uuK0lPTzcjRowwfn5+Jigo\n",
              "yIwePdoY0/7eunrfLfXb1s/YGHv7raioMJLMqFGjTGxsrImNjTVJSUnGGGPOnTtnpk6daiIjI83Y\n",
              "sWPN+++/79mvvXOdqbVeL168aCZNmmTGjx9vJk6caP7qr/7KFBcXe/azsVdjjCkrKzOJiYmevh56\n",
              "6CHPlcXudu621mt3PW+/6/obe7vbeXureAAkAACwEh8nAQAAKxFiAACAlQgxAADASoQYAABgJUIM\n",
              "AACwEiEGAABYiRADAACsRIgBAABWIsQAAAArEWIAAICV/h/MKpQVVYoykwAAAABJRU5ErkJggg==\n",
              "\">\n",
              "      </div>\n",
              "      <script type=\"text/javascript\">\n",
              "        (() => {\n",
              "          const chartElement = document.getElementById(\"chart-04ac245d-2736-4469-ac83-b19834e93a2c\");\n",
              "          async function getCodeForChartHandler(event) {\n",
              "            const chartCodeResponse =  await google.colab.kernel.invokeFunction(\n",
              "                'getCodeForChart', [\"chart-04ac245d-2736-4469-ac83-b19834e93a2c\"], {});\n",
              "            const responseJson = chartCodeResponse.data['application/json'];\n",
              "            await google.colab.notebook.addCell(responseJson.code, 'code');\n",
              "          }\n",
              "          chartElement.onclick = getCodeForChartHandler;\n",
              "        })();\n",
              "      </script>\n",
              "      <style>\n",
              "        .colab-quickchart-chart-with-code  {\n",
              "            display: block;\n",
              "            float: left;\n",
              "            border: 1px solid transparent;\n",
              "        }\n",
              "\n",
              "        .colab-quickchart-chart-with-code:hover {\n",
              "            cursor: pointer;\n",
              "            border: 1px solid #aaa;\n",
              "        }\n",
              "      </style>"
            ]
          },
          "metadata": {}
        },
        {
          "output_type": "display_data",
          "data": {
            "text/plain": [
              "from matplotlib import pyplot as plt\n",
              "_df_2['Gender'].plot(kind='hist', bins=20, title='Gender')\n",
              "plt.gca().spines[['top', 'right',]].set_visible(False)"
            ],
            "text/html": [
              "      <div class=\"colab-quickchart-chart-with-code\" id=\"chart-c3cd210c-cfdf-4ad6-a2a4-a9a735ba4651\">\n",
              "        <img style=\"width: 180px;\" src=\"data:image/png;base64,iVBORw0KGgoAAAANSUhEUgAAAjEAAAGrCAYAAAAxesZMAAAAOXRFWHRTb2Z0d2FyZQBNYXRwbG90\n",
              "bGliIHZlcnNpb24zLjcuMSwgaHR0cHM6Ly9tYXRwbG90bGliLm9yZy/bCgiHAAAACXBIWXMAAA9h\n",
              "AAAPYQGoP6dpAAAnkUlEQVR4nO3df1BU973/8dcKuasx/PAHBOIKRBFSFflh4FLNj7aOV9qmatE7\n",
              "MaltREE0t2NzyYyJY0yibYKdXk1sZ7xidWjVO9pEMWVMk05M0gZvvKIxJEbHHxBX0IIkaQSkSvlx\n",
              "vn/4dScbAVnksHzg+Zj5zLDn89mz7zd4nNecPbvHYVmWJQAAAMMM8ncBAAAA3UGIAQAARiLEAAAA\n",
              "IxFiAACAkQgxAADASIQYAABgJEIMAAAwEiEGAAAYiRADAACMRIgB0G+5XC797ne/83cZAGxCiAFg\n",
              "u2PHjunRRx/VXXfdpaFDh8rlcmnatGkqLCz0d2kADEaIAWCrd999V2lpaQoLC9OBAwfU0NCgiooK\n",
              "rVy5Uq+99pq/y+tUc3Ozv0sA0AlCDABb5ebm6uGHH9aGDRs0ZswYDRo0SE6nU9/5znf0xz/+0bPu\n",
              "T3/6k/71X/9Vw4YN07hx4/TrX//aM+d2u+VwOPT73/9eiYmJCgoKUnp6uk6cOOFZc/nyZS1atEgj\n",
              "RozQqFGjtGHDhhtqOXnypB566CHdeeedGjVqlB5//HE1NjZ65mNiYvTcc88pIyNDQUFBWrdunU2/\n",
              "FQA9gRADwDanT5/WmTNnNH/+/E7Xvfvuu3r00Uf14osv6osvvtDevXv1q1/9Sv/zP//jtW779u16\n",
              "88039dlnn8nlcmnp0qWeuby8PH344Yf66KOPdPr0aZWVlammpsYz//nnn+v+++/XtGnTVFlZ6Vn3\n",
              "xBNPeL1GQUGBnnvuOdXX12vZsmW3/ksAYBtCDADbfPbZZ5KkUaNGebYdO3ZMoaGhCg0N1eDBg/Xe\n",
              "e+/ppZde0tKlSzVt2jQNGjRIEydO1JIlS264ZubZZ59VZGSkBg8erKysLB0+fFiS1NbWpm3btmn1\n",
              "6tVyuVwaOnSoXn75ZbW1tXmeu23bNsXGxuo///M/5XQ6NXLkSK1evVrbtm1Ta2urZ11WVpa++c1v\n",
              "yuFw6Pbbb7fz1wPgFgX6uwAA/VdYWJgk6fz58/rGN74hSUpISNClS5fU0tKi2267TW1tbTpz5oz2\n",
              "79+v//7v//Y8t7W1VVFRUV77u+uuuzw/Dx06VFeuXFFLS4u++OILNTU16e677/bMh4SEaPjw4Z7H\n",
              "Z86c0QcffKDQ0FDPNsuy5HA4VFNT4wlaX90HgL6NMzEAbBMXF6fY2Ngb3hb6uoiICD399NO6dOmS\n",
              "ZzQ0NOj48eNdep2wsDA5nU653W7Ptrq6On355Zder3Hfffd5vUZdXZ2uXr3qdaZo0CD+WwRMwdEK\n",
              "wFabNm3Srl279MQTT+js2bNqa2tTc3Oz/vrXv3rW/OxnP9NvfvMbvf3222ppaVFLS4s++eQTvffe\n",
              "e116jUGDBmn+/Pl6/vnndeHCBTU2NurJJ5+Uw+HwrMnKytKHH36ojRs36h//+Icsy1JVVVWf/4QU\n",
              "gI4RYgDYatq0aTp06JBqamo0ZcoU3XHHHbr77rv1wgsvaPv27Zo6dapmz56t7du369lnn1V4eLjC\n",
              "w8OVnZ2tzz//vMuv89JLLykhIUEJCQmKi4tTQkKCIiIiPPNRUVE6ePCg3nrrLY0dO1ahoaGaMWOG\n",
              "jh07ZkfbAHqBw7Isy99FAAAA+IozMQAAwEiEGAAAYCRCDAAAMBIhBgAAGIkQAwAAjESIAQAARiLE\n",
              "AAAAI/X7ELNhwwZ/lwAAAGzQ70PMuXPn/F0CAACwQb8PMQAAoH8ixAAAACMRYgAAgJEIMQAAwEiE\n",
              "GAAAYCRCDAAAMBIhBgAAGIkQAwAAjESIAQAARiLEAAAAIxFiAACAkQgxAADASLaFmKtXr2r27NmK\n",
              "i4tTYmKipk+frvLy8nbX7tu3T/fcc4/GjRunzMxM1dfXd2kOAAAMXLaeiVm8eLFOnTqljz76SLNm\n",
              "zVJ2dvYNay5fvqxFixbptdde05kzZ3TXXXfp5z//+U3nAADAwGZbiBk8eLC+973vyeFwSJLS09Pl\n",
              "drtvWPfGG28oOTlZ99xzjyTp8ccf186dO286156mpibV19d7jdbW1h7uDAAA9AWBvfVCGzZs0KxZ\n",
              "s27YXllZqejoaM/jmJgYVVdXq6WlpdO5wMAbS8/Pz9fq1au9tqWnp/dgF2aLefp12/btXvt92/YN\n",
              "AEB7euXC3hdffFHl5eXKz8+39XVWrFihuro6r5GWlmbrawIAAP+wPcT813/9l4qKivTGG2/o9ttv\n",
              "v2E+KipK586d8zx2u92KjIxUYGBgp3PtcTqdCg4O9hoBAQE93xQAAPA7W0PM+vXrtXPnTr311lsK\n",
              "DQ1td01GRoaOHj2qkydPSpI2btyoefPm3XQOAAAMbLZdE3P+/Hk9+eSTGjNmjL797W9Lunam5NCh\n",
              "Q3r22Wd11113acmSJQoKCtKWLVs0e/ZstbS0aOLEifr9738vSZ3OAQCAgc1hWZbl7yLslJeXp/Xr\n",
              "1/u7jD6BC3sBAP0J39gLAACMRIgBAABGIsQAAAAjEWIAAICRCDEAAMBIhBgAAGAkQgwAADASIQYA\n",
              "ABiJEAMAAIxEiAEAAEYixAAAACMRYgAAgJEIMQAAwEiEGAAAYCRCDAAAMBIhBgAAGIkQAwAAjESI\n",
              "AQAARiLEAAAAIxFiAACAkQgxAADASIQYAABgJEIMAAAwEiEGAAAYiRADAACMRIgBAABGIsQAAAAj\n",
              "EWIAAICRCDEAAMBIhBgAAGAkQgwAADASIQYAABiJEAMAAIxEiAEAAEYixAAAACPZGmKWLVummJgY\n",
              "ORwOlZWVtbumsLBQSUlJnjFy5EhlZmZKktxutwICArzmKyoq7CwZAAAYItDOnc+dO1fLly/Xfffd\n",
              "1+GarKwsZWVleR5PnDhRP/rRjzyPg4KCOgxAAABg4LI1xDzwwAM+rT906JBqa2s1c+bMbr1eU1OT\n",
              "mpqavLa1trZ2a18AAKBv61PXxGzdulU//vGPddttt3m2NTY2KjU1VSkpKVqzZk2noSQ/P18hISFe\n",
              "o7S0tDdKBwAAvazPhJjGxkbt2rVLixYt8myLjIzUhQsXdPjwYe3fv18lJSVat25dh/tYsWKF6urq\n",
              "vEZaWlpvlA8AAHpZnwkxr776qiZMmKDx48d7tjmdToWHh0uShg8froULF6qkpKTDfTidTgUHB3uN\n",
              "gIAA22sHAAC9r8+EmK1bt3qdhZGk2tpaNTc3S7p2vUtRUZGSk5P9UR4AAOhjbA0xubm5crlcOn/+\n",
              "vGbMmKHY2FhJUnZ2toqLiz3rTp06pbKyMj388MNezz9w4ICSk5OVmJiolJQURUREaOXKlXaWDAAA\n",
              "DOGwLMvydxF2ysvL0/r16/1dRp8Q8/Trtu3bvfb7tu0bAID29Jm3kwAAAHxBiAEAAEYixAAAACMR\n",
              "YgAAgJEIMQAAwEiEGAAAYCRCDAAAMBIhBgAAGIkQAwAAjESIAQAARiLEAAAAIxFiAACAkQgxAADA\n",
              "SIQYAABgJEIMAAAwEiEGAAAYiRADAACMRIgBAABGIsQAAAAjEWIAAICRCDEAAMBIhBgAAGAkQgwA\n",
              "ADASIQYAABiJEAMAAIxEiAEAAEYixAAAACMRYgAAgJEIMQAAwEiEGAAAYCRCDAAAMBIhBgAAGIkQ\n",
              "AwAAjESIAQAARiLEAAAAI9kaYpYtW6aYmBg5HA6VlZW1u+Yvf/mLhgwZoqSkJM+4cuWKZ37r1q0a\n",
              "N26cxo4dq5ycHDU3N9tZMgAAMIStIWbu3Lk6cOCAoqOjO10XHx+vsrIyzxgyZIgk6ezZs1q1apVK\n",
              "SkpUXl6uixcvavPmzXaWDAAADGFriHnggQfkcrm6/fzdu3dr5syZioiIkMPh0JIlS7Rz584O1zc1\n",
              "Nam+vt5rtLa2dvv1AQBA39UnrompqKhQSkqKUlNTtXHjRs/2yspKr7M4MTExqqys7HA/+fn5CgkJ\n",
              "8RqlpaW21g4AAPzD7yEmJSVF58+f19GjR7V3715t2rRJr7zySrf2tWLFCtXV1XmNtLS0Hq4YAAD0\n",
              "BX4PMcHBwQoJCZEkuVwuPfLIIyopKZEkRUVF6dy5c561brdbUVFRHe7L6XQqODjYawQEBNjbAAAA\n",
              "8Au/h5jq6mq1tbVJkhoaGrRv3z4lJydLkubMmaPi4mLV1NTIsixt2rRJ8+bN82e5AACgj7A1xOTm\n",
              "5srlcun8+fOaMWOGYmNjJUnZ2dkqLi6WJO3Zs0cJCQlKTExUenq6pk+frqysLEnSmDFjtHr1ak2d\n",
              "OlWxsbEKCwtTbm6unSUDAABDOCzLsvxdhJ3y8vK0fv16f5fRJ8Q8/bpt+3av/b5t+wYAoD1+fzsJ\n",
              "AACgOwgxAADASIQYAABgJEIMAAAwEiEGAAAYiRADAACMRIgBAABGIsQAAAAjEWIAAICRCDEAAMBI\n",
              "hBgAAGAkQgwAADASIQYAABiJEAMAAIxEiAEAAEYixAAAACMRYgAAgJEIMQAAwEiEGAAAYCRCDAAA\n",
              "MBIhBgAAGIkQAwAAjESIAQAARiLEAAAAIxFiAACAkQgxAADASIQYAABgJEIMAAAwEiEGAAAYiRAD\n",
              "AACMRIgBAABGIsQAAAAjEWIAAICRCDEAAMBIhBgAAGAkW0PMsmXLFBMTI4fDobKysnbXvPPOO0pL\n",
              "S9P48eM1YcIELV++XG1tbZIkt9utgIAAJSUleUZFRYWdJQMAAEPYGmLmzp2rAwcOKDo6usM1w4YN\n",
              "065du3TixAl98MEHev/997Vt2zbPfFBQkMrKyjxj7NixdpYMAAAMEWjnzh944IGbrklOTvb8PHjw\n",
              "YCUlJcntdnfr9ZqamtTU1OS1rbW1tVv7AgAAfVufuiampqZGu3fv1kMPPeTZ1tjYqNTUVKWkpGjN\n",
              "mjWdhpL8/HyFhIR4jdLS0t4oHQAA9LI+E2Lq6+v1gx/8QMuXL9e9994rSYqMjNSFCxd0+PBh7d+/\n",
              "XyUlJVq3bl2H+1ixYoXq6uq8RlpaWm+1AAAAelGfCDENDQ3KyMjQrFmzlJeX59nudDoVHh4uSRo+\n",
              "fLgWLlyokpKSDvfjdDoVHBzsNQICAmyvHwAA9D6/h5jLly8rIyNDGRkZeuaZZ7zmamtr1dzcLOna\n",
              "9S5FRUVe19AAAICBy9YQk5ubK5fLpfPnz2vGjBmKjY2VJGVnZ6u4uFiStGHDBpWWlqqoqMjzMeoX\n",
              "XnhBknTgwAElJycrMTFRKSkpioiI0MqVK+0sGQAAGMJhWZbl7yLslJeXp/Xr1/u7jD4h5unXbdu3\n",
              "e+33bds3AADt8fvbSQAAAN1BiAEAAEYixAAAACMRYgAAgJF8DjF//vOf7agDAADAJz6HmDVr1ig+\n",
              "Pl4bNmxQfX29HTUBAADclM8h5n//93+1a9cuffLJJ4qLi9Pjjz+uEydO2FEbAABAh7p1TUxycrJ+\n",
              "+9vf6s0339S+ffs0adIkTZ8+XceOHevp+gAAANrVrRCzf/9+zZo1S5mZmfqP//gP1dTUKDc3Vz/8\n",
              "4Q97uj4AAIB2Bfr6hG984xsaOXKkli1bpszMTM8NFufOnautW7f2eIEAAADt8TnE7NixQ5MnT253\n",
              "7o033rjlggAAALrC57eTPvjgA/3973/3PP7iiy/029/+tkeLAgAAuBmfQ8zGjRs1fPhwz+MRI0Zo\n",
              "48aNPVoUAADAzfgcYtq76XVra2uPFAMAANBVPoeYyMhIvfLKK57Hf/jDHxQZGdmjRQEAANyMzxf2\n",
              "vvzyy5o1a5aWL18uSbr99tv1xz/+sccLAwAA6IzPIeaee+7RiRMndOrUKUlSfHy852PWAAAAvcXn\n",
              "ECNJDodDoaGhamlp0YULFyRJUVFRPVoYAABAZ3wOMb/73e+0bNky3XbbbRo06NolNQ6HQ7W1tT1e\n",
              "HAAAQEd8DjE///nPdfjwYcXHx9tRDwAAQJf4/OmkkSNHEmAAAIDf+RxiZs+erZdfflm1tbWqr6/3\n",
              "DAAAgN7k89tJK1eulCTl5eXJ4XDIsiw5HA6+8A4AAPQqn0NMW1ubHXUAAAD4xOe3k6RrN4Hcvn27\n",
              "JOnSpUuqrq7u0aIAAABupls3gFy4cKGef/55SdfuYv3oo4/2dF0AAACd8jnEbN68Wf/3f/+n4OBg\n",
              "SdLYsWP12Wef9XhhAAAAnfE5xDidTg0ZMsRrW2Bgt774FwAAoNt8DjFhYWE6ffq0HA6HpGvf4Mst\n",
              "BwAAQG/r1l2sH3nkEZ08eVKjR49WcHCw9u3bZ0dtAAAAHfI5xMTGxurQoUM6deqULMviLtYAAMAv\n",
              "fA4xlZWVkqShQ4dKEnexBgAAfuFziJk8ebLnm3qvXr2qf/zjHxoxYgR3sQYAAL3K5xDz9Y9TFxUV\n",
              "6aOPPuqxggAAALqiW9/Y+1WZmZl6/fXXe6IWAACALvM5xHz1ztVffvml3nzzzQ7vYr1s2TLFxMTI\n",
              "4XCorKysw31u3bpV48aN09ixY5WTk6Pm5uYuzQEAgIHL5xATGhqqYcOGKTQ0VOHh4crLy9Ovf/3r\n",
              "dtfOnTtXBw4cUHR0dIf7O3v2rFatWqWSkhKVl5fr4sWL2rx5803nAADAwOZziGlra1Nra6va2trU\n",
              "3NysEydOKCMjo921DzzwgFwuV6f72717t2bOnKmIiAg5HA4tWbJEO3fuvOlce5qamrzOFNXX16u1\n",
              "tdXXFgEAgAH8fr+AyspKrzM1MTExno9xdzbXnvz8fK1evdprW3p6eg9X/P9redq+64Dca79v277R\n",
              "O+z692Hnvw0TawbQNf31+Pb5TMygQYMUEBBww7i+3Z9WrFihuro6r5GWlubXmgAAgD18PhOzZs0a\n",
              "XblyRUuXLpUkbdq0SUOGDNETTzzRrQKioqJUUVHheex2uz1fnNfZXHucTqecTqfXNn8HKwAAYA+f\n",
              "z8Ts3btXL7zwglwul1wul37xi1+oqKhIQ4cO9XyLry/mzJmj4uJi1dTUyLIsbdq0SfPmzbvpHAAA\n",
              "GNh8DjENDQ1e385bW1urhoaGdtfm5ubK5XLp/PnzmjFjhmJjYyVJ2dnZKi4uliSNGTNGq1ev1tSp\n",
              "UxUbG6uwsDDl5ubedA4AAAxsPr+d9OSTTyoxMVHf+973JElvvvmmnn/++XbXFhQUtLt9y5YtXo9z\n",
              "cnKUk5PT7trO5gAAwMDlc4jJzc3V1KlT9e6770qS8vLyNGHChB4vDAAAoDPd+oj1iBEjlJCQoG99\n",
              "61tqaWnRP//5T/3Lv/xLT9cGAADQIZ+vidm9e7fS09OVlZUlSTp+/Lhmz57d03UBAAB0yucQk5+f\n",
              "r6NHjyo0NFSSlJiYqHPnzvV0XQAAAJ3yOcQEBARoxIgRXtt4KwkAAPQ2n0NMUFCQLl68KIfDIUl6\n",
              "++23NXz48B4vDAAAoDM+X9j7y1/+Ut/97nf16aef6r777tPZs2f1+uv23UcIAACgPT6FmOt3sH73\n",
              "3Xf1/vvvy7IsTZkyxXN9DAAAQG/xKcQMGjRIixcv1kcffaTvfve7dtUEAABwUz5fEzNu3DiVl5fb\n",
              "UQsAAECX+XxNzN///nclJSVpypQpuuOOOzzbi4qKerQwAACAznQ5xCxevFibN2/WY489ppkzZ2rY\n",
              "sGF21gUAANCpLoeYI0eOSJIee+wxpaSk6OjRo7YVBQAAcDM+XxMjSZZl9XQdAAAAPunymZgrV67o\n",
              "2LFjsixLV69e9fx83aRJk2wpEAAAoD0+hZiZM2d6Hn/1Z4fDoU8//bRnKwMAAOhEl0OM2+22sQwA\n",
              "AADfdOuaGAAAAH8jxAAAACMRYgAAgJEIMQAAwEiEGAAAYCRCDAAAMBIhBgAAGIkQAwAAjESIAQAA\n",
              "RiLEAAAAIxFiAACAkQgxAADASIQYAABgJEIMAAAwEiEGAAAYiRADAACMRIgBAABGIsQAAAAj2Rpi\n",
              "zpw5oylTpiguLk6pqak6fvz4DWsKCwuVlJTkGSNHjlRmZqYkye12KyAgwGu+oqLCzpIBAIAhAu3c\n",
              "eW5urhYvXqwFCxZo9+7dWrBggQ4fPuy1JisrS1lZWZ7HEydO1I9+9CPP46CgIJWVldlZJgAAMJBt\n",
              "Z2Jqa2t15MgRzZ8/X5I0Z84cVVVVqby8vMPnHDp0SLW1tZo5c2a3XrOpqUn19fVeo7W1tVv7AgAA\n",
              "fZttIaaqqkqRkZEKDLx2ssfhcCgqKkqVlZUdPmfr1q368Y9/rNtuu82zrbGxUampqUpJSdGaNWs6\n",
              "DSX5+fkKCQnxGqWlpT3XFAAA6DP6zIW9jY2N2rVrlxYtWuTZFhkZqQsXLujw4cPav3+/SkpKtG7d\n",
              "ug73sWLFCtXV1XmNtLS03igfAAD0MttCzOjRo1VdXa2WlhZJkmVZqqysVFRUVLvrX331VU2YMEHj\n",
              "x4/3bHM6nQoPD5ckDR8+XAsXLlRJSUmHr+l0OhUcHOw1AgICerArAADQV9gWYsLDw5WSkqIdO3ZI\n",
              "kvbs2SOXy6XY2Nh212/dutXrLIx07bqa5uZmSdeudykqKlJycrJdJQMAAIPY+nZSQUGBCgoKFBcX\n",
              "p7Vr16qwsFCSlJ2dreLiYs+6U6dOqaysTA8//LDX8w8cOKDk5GQlJiYqJSVFERERWrlypZ0lAwAA\n",
              "Q9j6Eev4+HgdPHjwhu1btmy5YV1DQ8MN6zIzMz3fGQMAAPBVfebCXgAAAF8QYgAAgJEIMQAAwEiE\n",
              "GAAAYCRCDAAAMBIhBgAAGIkQAwAAjESIAQAARiLEAAAAIxFiAACAkQgxAADASIQYAABgJEIMAAAw\n",
              "EiEGAAAYiRADAACMRIgBAABGIsQAAAAjEWIAAICRCDEAAMBIhBgAAGAkQgwAADASIQYAABiJEAMA\n",
              "AIxEiAEAAEYixAAAACMRYgAAgJEIMQAAwEiEGAAAYCRCDAAAMBIhBgAAGIkQAwAAjESIAQAARiLE\n",
              "AAAAIxFiAACAkQgxAADASLaGmDNnzmjKlCmKi4tTamqqjh8/fsOav/zlLxoyZIiSkpI848qVK575\n",
              "rVu3aty4cRo7dqxycnLU3NxsZ8kAAMAQtoaY3NxcLV68WKdPn9ZTTz2lBQsWtLsuPj5eZWVlnjFk\n",
              "yBBJ0tmzZ7Vq1SqVlJSovLxcFy9e1ObNm+0sGQAAGMK2EFNbW6sjR45o/vz5kqQ5c+aoqqpK5eXl\n",
              "Xd7H7t27NXPmTEVERMjhcGjJkiXauXNnh+ubmppUX1/vNVpbW2+5FwAA0PfYFmKqqqoUGRmpwMBA\n",
              "SZLD4VBUVJQqKytvWFtRUaGUlBSlpqZq48aNnu2VlZWKjo72PI6JiWn3+dfl5+crJCTEa5SWlvZg\n",
              "VwAAoK/w+4W9KSkpOn/+vI4ePaq9e/dq06ZNeuWVV7q1rxUrVqiurs5rpKWl9XDFAACgL7AtxIwe\n",
              "PVrV1dVqaWmRJFmWpcrKSkVFRXmtCw4OVkhIiCTJ5XLpkUceUUlJiSQpKipK586d86x1u903PP+r\n",
              "nE6ngoODvUZAQEBPtwYAAPoA20JMeHi4UlJStGPHDknSnj175HK5FBsb67WuurpabW1tkqSGhgbt\n",
              "27dPycnJkq5dR1NcXKyamhpZlqVNmzZp3rx5dpUMAAAMYuvbSQUFBSooKFBcXJzWrl2rwsJCSVJ2\n",
              "draKi4slXQs3CQkJSkxMVHp6uqZPn66srCxJ0pgxY7R69WpNnTpVsbGxCgsLU25urp0lAwAAQwTa\n",
              "ufP4+HgdPHjwhu1btmzx/PzTn/5UP/3pTzvcR05OjnJycmypDwAAmMvvF/YCAAB0ByEGAAAYiRAD\n",
              "AACMRIgBAABGIsQAAAAjEWIAAICRCDEAAMBIhBgAAGAkQgwAADASIQYAABiJEAMAAIxEiAEAAEYi\n",
              "xAAAACMRYgAAgJEIMQAAwEiEGAAAYCRCDAAAMBIhBgAAGIkQAwAAjESIAQAARiLEAAAAIxFiAACA\n",
              "kQgxAADASIQYAABgJEIMAAAwEiEGAAAYiRADAACMRIgBAABGIsQAAAAjEWIAAICRCDEAAMBIhBgA\n",
              "AGAkQgwAADASIQYAABiJEAMAAIxka4g5c+aMpkyZori4OKWmpur48eM3rHnnnXeUlpam8ePHa8KE\n",
              "CVq+fLna2tokSW63WwEBAUpKSvKMiooKO0sGAACGsDXE5ObmavHixTp9+rSeeuopLViw4IY1w4YN\n",
              "065du3TixAl98MEHev/997Vt2zbPfFBQkMrKyjxj7NixdpYMAAAMYVuIqa2t1ZEjRzR//nxJ0pw5\n",
              "c1RVVaXy8nKvdcnJyRozZowkafDgwUpKSpLb7e7WazY1Nam+vt5rtLa23lIfAACgb7ItxFRVVSky\n",
              "MlKBgYGSJIfDoaioKFVWVnb4nJqaGu3evVsPPfSQZ1tjY6NSU1OVkpKiNWvWdBpK8vPzFRIS4jVK\n",
              "S0t7rikAANBn9JkLe+vr6/WDH/xAy5cv17333itJioyM1IULF3T48GHt379fJSUlWrduXYf7WLFi\n",
              "herq6rxGWlpab7UAAAB6kW0hZvTo0aqurlZLS4skybIsVVZWKioq6oa1DQ0NysjI0KxZs5SXl+fZ\n",
              "7nQ6FR4eLkkaPny4Fi5cqJKSkg5f0+l0Kjg42GsEBAT0cGcAAKAvsC3EhIeHKyUlRTt27JAk7dmz\n",
              "Ry6XS7GxsV7rLl++rIyMDGVkZOiZZ57xmqutrVVzc7Oka9e7FBUVKTk52a6SAQCAQWx9O6mgoEAF\n",
              "BQWKi4vT2rVrVVhYKEnKzs5WcXGxJGnDhg0qLS1VUVGR52PUL7zwgiTpwIEDSk5OVmJiolJSUhQR\n",
              "EaGVK1faWTIAADBEoJ07j4+P18GDB2/YvmXLFs/PK1eu7DCYZGZmKjMz07b6AACAufrMhb0AAAC+\n",
              "IMQAAAAjEWIAAICRCDEAAMBIhBgAAGAkQgwAADASIQYAABiJEAMAAIxEiAEAAEYixAAAACMRYgAA\n",
              "gJEIMQAAwEiEGAAAYCRCDAAAMBIhBgAAGIkQAwAAjESIAQAARiLEAAAAIxFiAACAkQgxAADASIQY\n",
              "AABgJEIMAAAwEiEGAAAYiRADAACMRIgBAABGIsQAAAAjEWIAAICRCDEAAMBIhBgAAGAkQgwAADAS\n",
              "IQYAABiJEAMAAIxEiAEAAEYixAAAACMRYgAAgJFsDTFnzpzRlClTFBcXp9TUVB0/frzddVu3btW4\n",
              "ceM0duxY5eTkqLm5uUtzAABg4LI1xOTm5mrx4sU6ffq0nnrqKS1YsOCGNWfPntWqVatUUlKi8vJy\n",
              "Xbx4UZs3b77pHAAAGNhsCzG1tbU6cuSI5s+fL0maM2eOqqqqVF5e7rVu9+7dmjlzpiIiIuRwOLRk\n",
              "yRLt3LnzpnPtaWpqUn19vddobW21q0UAAOBHgXbtuKqqSpGRkQoMvPYSDodDUVFRqqysVGxsrGdd\n",
              "ZWWloqOjPY9jYmJUWVl507n25Ofna/Xq1V7b7rnnHuXl5fVIT1+V2cV1ra2tKi0tVVpamgICArr0\n",
              "nLy8t7tfWCe6WnN35OW93a1eTdZZv3b9ru36tyF1XvOt/G3trNkuA+nf8kDqVRpY/X6110yberXz\n",
              "+I6OjtbPfvazTtfYFmL8YcWKFTcEFqfTKafT6aeKpPr6eoWEhOjPf/6zgoOD/VZHbxhIvUoDq9+B\n",
              "1Ks0sPodSL1KA6vfgdCrbSFm9OjRqq6uVktLiwIDA2VZliorKxUVFeW1LioqShUVFZ7Hbrfbs6az\n",
              "ufb4O7AAAIDeY9s1MeHh4UpJSdGOHTskSXv27JHL5fJ6K0m6dq1McXGxampqZFmWNm3apHnz5t10\n",
              "DgAADGy2fjqpoKBABQUFiouL09q1a1VYWChJys7OVnFxsSRpzJgxWr16taZOnarY2FiFhYUpNzf3\n",
              "pnMAAGBgs/WamPj4eB08ePCG7Vu2bPF6nJOTo5ycnHb30dmcCZxOp5577rkB8TbXQOpVGlj9DqRe\n",
              "pYHV70DqVRpY/Q6EXh2WZVn+LgIAAMBX3HYAAAAYiRADAACMRIgBAABGIsQAAAAjEWJuUUxMjOLj\n",
              "45WUlKSkpCT94Q9/kNT5Hby7endvf1u2bJliYmLkcDhUVlbm2d7d3vp63x3129HfWDK336tXr2r2\n",
              "7NmKi4tTYmKipk+f7rmvWW1trTIyMjRu3DhNnDhR7733nud53Z3zp856/da3vqW7777b87d96aWX\n",
              "PM8zsdfr/u3f/k2TJk1SUlKS7r//fn344YeS+uex21Gv/fG4/arCwkI5HA699tprkvrfcdtlFm5J\n",
              "dHS09eGHH96w/dvf/rZVWFhoWZZlvfrqq9a9997bpbm+5K9//atVVVV1Q4/d7a2v991Rvx39jS3L\n",
              "3H6vXLlivf7661ZbW5tlWZb1m9/8xnrwwQcty7KsrKws67nnnrMsy7JKS0utUaNGWf/85z9vac6f\n",
              "Ouv1wQcftPbu3dvu80zs9bovv/zS83NRUZE1adIky7L657HbUa/98bi97uzZs9Y3v/lNKz093fPv\n",
              "t78dt11FiLlF7R0oFy9etIKCgqzm5mbLsiyrra3NuvPOO60zZ850OtdXfbXH7vZmUt9dDTH9pV/L\n",
              "sqzDhw9b0dHRlmVZ1tChQ63q6mrPXGpqqvXWW2/d0lxf8tVeOwsx/aFXy7KswsJCKzExcUAcu9d7\n",
              "taz+e9y2trZa06ZNs44cOeL177e/H7cd4e2kHvCTn/xECQkJWrRokT777LNO7+Dd2ZwJutub6X1/\n",
              "/W8sdf930Rdt2LBBs2bN0hdffKHm5mZFRER45q7fPb67c33N9V6ve/rpp5WQkKCHH35Yn376qST1\n",
              "i15/8pOfaPTo0Vq1apW2b9/er4/dr/f61e397bhdv369pk6dqsmTJ3u2DYTjtiOEmFv03nvv6eOP\n",
              "P9bRo0c1cuRIPfbYY/4uCT2sv/+NX3zxRZWXlys/P9/fpdju671u375dJ0+e1Mcff6z7779fDz30\n",
              "kJ8r7Dnbtm1TVVWVfvGLX+ipp57ydzm2aq/X/njcfvLJJ9qzZ4+eeeYZf5fSd/j7VFB/8re//c26\n",
              "4447jD9d+XUD/e2kr7r+N7Ys809LW5Zl/epXv7ImT57sdV3B7bff3uHp5e7O9QXt9fp1TqfT+vzz\n",
              "zy3LMrvXrxs8eLBVU1PT749dy7rW6/W/4XX95bjduHGjFRERYUVHR1vR0dGW0+m0wsLCrI0bN/bb\n",
              "4/ZmOBNzCxobG3Xp0iXP4507dyo5ObnTO3h39e7efVV3ezO1747+xlL3fxd9xfr167Vz50699dZb\n",
              "Cg0N9Wz/93//d23atEmSdPjwYV24cEEPPvjgLc35W3u9trS06OLFi541e/bs0Z133qkRI0ZIMrfX\n",
              "S5cu6W9/+5vn8WuvvaYRI0b0y2O3o14HDx7cL4/bpUuXqrq6Wm63W263W+np6dq8ebOWLl3aL4/b\n",
              "LvF3ijJZRUWFlZSUZCUkJFgTJ060Zs6caZ09e9ayLMs6efKklZ6ebo0bN86aPHmy9fHHH3ue19lc\n",
              "X7J48WJr1KhRVkBAgBUeHm6NHTvWsqzu99bX+26v387+xpZlbr9VVVWWJGvMmDFWYmKilZiYaKWl\n",
              "pVmWZVk1NTXW9OnTrdjYWGv8+PHWO++843led+f8qaNeL1++bE2ePNmaOHGiNWnSJOs73/mOVVZW\n",
              "5nmeib1almW53W4rNTXV09e0adM8Zxb727HbUa/99bj9uq9e2Nvfjtuu4gaQAADASLydBAAAjESI\n",
              "AQAARiLEAAAAIxFiAACAkQgxAADASIQYAABgJEIMAAAwEiEGAAAYiRADAACMRIgBAABG+n9Lim/p\n",
              "Zlvv0AAAAABJRU5ErkJggg==\n",
              "\">\n",
              "      </div>\n",
              "      <script type=\"text/javascript\">\n",
              "        (() => {\n",
              "          const chartElement = document.getElementById(\"chart-c3cd210c-cfdf-4ad6-a2a4-a9a735ba4651\");\n",
              "          async function getCodeForChartHandler(event) {\n",
              "            const chartCodeResponse =  await google.colab.kernel.invokeFunction(\n",
              "                'getCodeForChart', [\"chart-c3cd210c-cfdf-4ad6-a2a4-a9a735ba4651\"], {});\n",
              "            const responseJson = chartCodeResponse.data['application/json'];\n",
              "            await google.colab.notebook.addCell(responseJson.code, 'code');\n",
              "          }\n",
              "          chartElement.onclick = getCodeForChartHandler;\n",
              "        })();\n",
              "      </script>\n",
              "      <style>\n",
              "        .colab-quickchart-chart-with-code  {\n",
              "            display: block;\n",
              "            float: left;\n",
              "            border: 1px solid transparent;\n",
              "        }\n",
              "\n",
              "        .colab-quickchart-chart-with-code:hover {\n",
              "            cursor: pointer;\n",
              "            border: 1px solid #aaa;\n",
              "        }\n",
              "      </style>"
            ]
          },
          "metadata": {}
        },
        {
          "output_type": "display_data",
          "data": {
            "text/plain": [
              "from matplotlib import pyplot as plt\n",
              "_df_3['Age'].plot(kind='hist', bins=20, title='Age')\n",
              "plt.gca().spines[['top', 'right',]].set_visible(False)"
            ],
            "text/html": [
              "      <div class=\"colab-quickchart-chart-with-code\" id=\"chart-c3e1935c-5c77-4ed9-8706-4a476bd9316d\">\n",
              "        <img style=\"width: 180px;\" src=\"data:image/png;base64,iVBORw0KGgoAAAANSUhEUgAAAjEAAAGrCAYAAAAxesZMAAAAOXRFWHRTb2Z0d2FyZQBNYXRwbG90\n",
              "bGliIHZlcnNpb24zLjcuMSwgaHR0cHM6Ly9tYXRwbG90bGliLm9yZy/bCgiHAAAACXBIWXMAAA9h\n",
              "AAAPYQGoP6dpAAAmfElEQVR4nO3df1BV953/8dcV0qtJBfxFoCKw8ivrL+AaGKr50TTrStMULboT\n",
              "06SNGBCT7doOnTVhjNtqm+LOrm7dnaFgZegm7mijYpYxk3S16Q9M3IAxJFbHHxCvFy1IkyoYo8iP\n",
              "s3/49X69EdBLONz7gedj5jPDPZ/PPff99nKc15x7uMdhWZYlAAAAw4wKdAEAAAADQYgBAABGIsQA\n",
              "AAAjEWIAAICRCDEAAMBIhBgAAGAkQgwAADASIQYAABiJEAMAAIxEiAEAAEYixAAIOpWVlXI4HHr+\n",
              "+ecDXQqAIObg3kkAgk1GRoZOnTqlUaNGqampSU6nM9AlAQhCnIkBEFTq6up08OBBbd26VW1tbdqx\n",
              "Y4d37uLFi1q6dKkmTJigmJgYbdq0STExMfrlL3/pXXPs2DE9+uijuvvuuzV58mQ9++yzunTpUgA6\n",
              "AWA3QgyAoFJaWqq0tDRlZ2frm9/8pkpLS71z3/ve93T06FEdPnxYJ06c0OHDh3Xu3Dnv/EcffaT7\n",
              "779fDz/8sDwej95//32dOHFC3//+9wPQCQC78XESgKBx/vx5TZ48WRs2bNAzzzyjN998Uw8//LDq\n",
              "6+s1Y8YM3Xnnndq9e7ceeeQRSVJ7e7vGjRuniooKLV26VBs3btSOHTt04MAB7z7feustffWrX9Wn\n",
              "n36qkJCQQLUGwAaciQEQNK5f0PvEE09Ikh566CElJiaqtLRUH330ka5evaq4uDjv+rCwMI0bN877\n",
              "+OTJk3r33XcVERHhHY888ogcDodaWlqGvB8A9iLEAAgKlmWprKxMV69eVXJysqKiohQdHa0zZ87o\n",
              "v/7rvzR69Gh94Qtf0OnTp73PaW9v1/nz572Po6KidN999+nChQve0dbWpitXrmjy5MmBaAuAjQgx\n",
              "AILC3r17dfLkSf3P//yP6uvrveODDz6QJL300kv61re+pXXr1qm5uVmffvqp/vEf/1GjRv3//8by\n",
              "8vL03nvvqbS0VJ9++qksy1JTU5NeffXVAHUFwE6EGABB4ec//7n+5m/+Rg899JCioqK8IykpSfn5\n",
              "+fr5z3+uTZs2KTk5WdOnT1dSUpKmTZum8ePHa/To0ZKk2NhYHThwQHv37lVCQoIiIiI0f/58HT58\n",
              "OMDdAbADF/YCMNb58+c1YcIEvfXWW/ryl78c6HIADDHOxAAwhsfj0e9//3t1d3fr448/1rPPPquk\n",
              "pCRlZGQEujQAAUCIAWCMq1ev6h/+4R8UERGhpKQkXbhwQdXV1QoNDQ10aQACgI+TAACAkTgTAwAA\n",
              "jESIAQAARiLEAAAAIxFiAACAkYZ9iNm0aVOgSwAAADYY9iHmxvusAACA4WPYhxgAADA8EWIAAICR\n",
              "CDEAAMBIhBgAAGAkQgwAADASIQYAABiJEAMAAIxEiAEAAEYixAAAACMRYgAAgJEIMQAAwEiEGAAA\n",
              "YCTbQsyVK1e0cOFCJScnKzU1VfPmzVNDQ0Ova/fs2aN77rlHSUlJys3NVXt7+23NAQCAkcvWMzHL\n",
              "ly/X8ePH9f7772vBggXKz8+/ac0nn3yip59+Wq+++qpOnjypL33pS/rxj398yzkAADCy2RZiRo8e\n",
              "rUceeUQOh0OSlJWVJbfbfdO6119/Xenp6brnnnskSc8++6y2bdt2y7nedHR0qL293Wd0d3cPcmcA\n",
              "ACAYhA7VC23atEkLFiy4abvH41FcXJz3cXx8vJqbm9XV1dXvXGjozaWXlJRo7dq1PtuysrIGsQuz\n",
              "xT//mm37dq//um37BgCgN0NyYe9Pf/pTNTQ0qKSkxNbXKS4uVltbm8/IzMy09TUBAEBg2B5i/vVf\n",
              "/1VVVVV6/fXXdeedd940Hxsbq9OnT3sfu91uRUdHKzQ0tN+53jidToWFhfmMkJCQwW8KAAAEnK0h\n",
              "ZuPGjdq2bZv27t2riIiIXtdkZ2fr0KFDOnbsmCSptLRUS5YsueUcAAAY2Wy7JubMmTP6wQ9+oKlT\n",
              "p+qhhx6SdO1MyTvvvKN/+qd/0pe+9CWtWLFCY8eO1ZYtW7Rw4UJ1dXVpxowZ+s///E9J6ncOAACM\n",
              "bA7LsqxAF2GnoqIibdy4MdBlBAUu7AUADCd8Yy8AADASIQYAABiJEAMAAIxEiAEAAEYixAAAACMR\n",
              "YgAAgJEIMQAAwEiEGAAAYCRCDAAAMBIhBgAAGIkQAwAAjESIAQAARiLEAAAAIxFiAACAkQgxAADA\n",
              "SIQYAABgJEIMAAAwEiEGAAAYiRADAACMRIgBAABGIsQAAAAjEWIAAICRCDEAAMBIhBgAAGAkQgwA\n",
              "ADASIQYAABiJEAMAAIxEiAEAAEYixAAAACMRYgAAgJEIMQAAwEiEGAAAYCRCDAAAMBIhBgAAGIkQ\n",
              "AwAAjGRriFm5cqXi4+PlcDhUX1/f65rKykqlpaV5x8SJE5WbmytJcrvdCgkJ8ZlvbGy0s2QAAGCI\n",
              "UDt3vnjxYq1atUr33Xdfn2vy8vKUl5fnfTxjxgw98cQT3sdjx47tMwABAICRy9YQ88ADD/i1/p13\n",
              "3lFra6tycnIG9HodHR3q6Ojw2dbd3T2gfQEAgOAWVNfEVFRU6Nvf/rbuuOMO77ZLly4pIyNDLpdL\n",
              "69at6zeUlJSUKDw83GfU1tYORekAAGCIBU2IuXTpkrZv366nn37auy06Olpnz55VXV2d9u3bp5qa\n",
              "Gm3YsKHPfRQXF6utrc1nZGZmDkX5AABgiAVNiNmxY4emT5+uadOmebc5nU5FRkZKksaPH69ly5ap\n",
              "pqamz304nU6FhYX5jJCQENtrBwAAQy9oQkxFRYXPWRhJam1tVWdnp6Rr17tUVVUpPT09EOUBAIAg\n",
              "Y2uIKSwsVExMjM6cOaP58+crMTFRkpSfn6/q6mrvuuPHj6u+vl6PPfaYz/P379+v9PR0paamyuVy\n",
              "KSoqSqtXr7azZAAAYAiHZVlWoIuwU1FRkTZu3BjoMoJC/POv2bZv9/qv27ZvAAB6EzQfJwEAAPiD\n",
              "EAMAAIxEiAEAAEYixAAAACMRYgAAgJEIMQAAwEiEGAAAYCRCDAAAMBIhBgAAGIkQAwAAjESIAQAA\n",
              "RiLEAAAAIxFiAACAkQgxAADASIQYAABgJEIMAAAwEiEGAAAYiRADAACMRIgBAABGIsQAAAAjEWIA\n",
              "AICRCDEAAMBIhBgAAGAkQgwAADASIQYAABiJEAMAAIxEiAEAAEYixAAAACMRYgAAgJEIMQAAwEiE\n",
              "GAAAYCRCDAAAMBIhBgAAGIkQAwAAjESIAQAARrI1xKxcuVLx8fFyOByqr6/vdc3vfvc7jRkzRmlp\n",
              "ad5x+fJl73xFRYWSkpKUkJCggoICdXZ22lkyAAAwhK0hZvHixdq/f7/i4uL6XZeSkqL6+nrvGDNm\n",
              "jCTp1KlTWrNmjWpqatTQ0KBz585p8+bNdpYMAAAMYWuIeeCBBxQTEzPg5+/cuVM5OTmKioqSw+HQ\n",
              "ihUrtG3btj7Xd3R0qL293Wd0d3cP+PUBAEDwCoprYhobG+VyuZSRkaHS0lLvdo/H43MWJz4+Xh6P\n",
              "p8/9lJSUKDw83GfU1tbaWjsAAAiMgIcYl8ulM2fO6NChQ9q9e7fKysr0yiuvDGhfxcXFamtr8xmZ\n",
              "mZmDXDEAAAgGAQ8xYWFhCg8PlyTFxMTo8ccfV01NjSQpNjZWp0+f9q51u92KjY3tc19Op1NhYWE+\n",
              "IyQkxN4GAABAQAQ8xDQ3N6unp0eSdPHiRe3Zs0fp6emSpEWLFqm6ulotLS2yLEtlZWVasmRJIMsF\n",
              "AABBwtYQU1hYqJiYGJ05c0bz589XYmKiJCk/P1/V1dWSpF27dmnmzJlKTU1VVlaW5s2bp7y8PEnS\n",
              "1KlTtXbtWs2dO1eJiYmaNGmSCgsL7SwZAAAYwmFZlhXoIuxUVFSkjRs3BrqMoBD//Gu27du9/uu2\n",
              "7RsAgN4E/OMkAACAgSDEAAAAIxFiAACAkQgxAADASIQYAABgJEIMAAAwEiEGAAAYiRADAACMRIgB\n",
              "AABGIsQAAAAjEWIAAICRCDEAAMBIhBgAAGAkQgwAADASIQYAABiJEAMAAIxEiAEAAEYixAAAACMR\n",
              "YgAAgJEIMQAAwEiEGAAAYCRCDAAAMBIhBgAAGIkQAwAAjESIAQAARiLEAAAAIxFiAACAkQgxAADA\n",
              "SIQYAABgJEIMAAAwEiEGAAAYiRADAACMRIgBAABGIsQAAAAjEWIAAICRbA0xK1euVHx8vBwOh+rr\n",
              "63td8+abbyozM1PTpk3T9OnTtWrVKvX09EiS3G63QkJClJaW5h2NjY12lgwAAAxha4hZvHix9u/f\n",
              "r7i4uD7XjBs3Ttu3b9fRo0f17rvv6u2339ZLL73knR87dqzq6+u9IyEhwc6SAQCAIULt3PkDDzxw\n",
              "yzXp6enen0ePHq20tDS53e4BvV5HR4c6Ojp8tnV3dw9oXwAAILgF1TUxLS0t2rlzpx599FHvtkuX\n",
              "LikjI0Mul0vr1q3rN5SUlJQoPDzcZ9TW1g5F6QAAYIgFTYhpb2/XN77xDa1atUr33nuvJCk6Olpn\n",
              "z55VXV2d9u3bp5qaGm3YsKHPfRQXF6utrc1nZGZmDlULAABgCAVFiLl48aKys7O1YMECFRUVebc7\n",
              "nU5FRkZKksaPH69ly5appqamz/04nU6FhYX5jJCQENvrBwAAQy/gIeaTTz5Rdna2srOz9cILL/jM\n",
              "tba2qrOzU9K1612qqqp8rqEBAAAjl60hprCwUDExMTpz5ozmz5+vxMRESVJ+fr6qq6slSZs2bVJt\n",
              "ba2qqqq8f0b94osvSpL279+v9PR0paamyuVyKSoqSqtXr7azZAAAYAiHZVlWoIuwU1FRkTZu3Bjo\n",
              "MoJC/POv2bZv9/qv27ZvAAB6E/CPkwAAAAaCEAMAAIxEiAEAAEYixAAAACP5HWJ+/etf21EHAACA\n",
              "X/wOMevWrVNKSoo2bdqk9vZ2O2oCAAC4Jb9DzFtvvaXt27frj3/8o5KTk/Xss8/q6NGjdtQGAADQ\n",
              "pwFdE5Oenq5f/OIXeuONN7Rnzx7NmjVL8+bN0+HDhwe7PgAAgF4NKMTs27dPCxYsUG5urv7+7/9e\n",
              "LS0tKiws1De/+c3Brg8AAKBXof4+4a//+q81ceJErVy5Urm5ud4bLC5evFgVFRWDXiAAAEBv/A4x\n",
              "W7du1ezZs3ude/311z93QQAAALfD74+T3n33Xf3lL3/xPv7444/1i1/8YlCLAgAAuBW/Q0xpaanG\n",
              "jx/vfTxhwgSVlpYOalEAAAC34neI6e2m193d3YNSDAAAwO3yO8RER0frlVde8T7+1a9+pejo6EEt\n",
              "CgAA4Fb8vrD3Zz/7mRYsWKBVq1ZJku68807993//96AXBgAA0B+/Q8w999yjo0eP6vjx45KklJQU\n",
              "759ZAwAADBW/Q4wkORwORUREqKurS2fPnpUkxcbGDmphAAAA/fE7xPzyl7/UypUrdccdd2jUqGuX\n",
              "1DgcDrW2tg56cQAAAH3xO8T8+Mc/Vl1dnVJSUuyoBwAA4Lb4/ddJEydOJMAAAICA8zvELFy4UD/7\n",
              "2c/U2tqq9vZ27wAAABhKfn+ctHr1aklSUVGRHA6HLMuSw+HgC+8AAMCQ8jvE9PT02FEHAACAX/z+\n",
              "OEm6dhPIl19+WZJ04cIFNTc3D2pRAAAAtzKgG0AuW7ZMP/rRjyRdu4v1t771rcGuCwAAoF9+h5jN\n",
              "mzfrf//3fxUWFiZJSkhI0J///OdBLwwAAKA/focYp9OpMWPG+GwLDR3QF/8CAAAMmN8hZtKkSTpx\n",
              "4oQcDoeka9/gyy0HAADAUBvQXawff/xxHTt2TFOmTFFYWJj27NljR20AAAB98jvEJCYm6p133tHx\n",
              "48dlWRZ3sQYAAAHhd4jxeDySpLvuukuSuIs1AAAICL9DzOzZs73f1HvlyhV9+umnmjBhAnexBgAA\n",
              "Q8rvEPPZP6euqqrS+++/P2gFAQAA3I4BfWPvjXJzc/Xaa68NRi0AAAC3ze8Qc+Odq8+fP6833nij\n",
              "z7tYr1y5UvHx8XI4HKqvr+9znxUVFUpKSlJCQoIKCgrU2dl5W3MAAGDk8jvEREREaNy4cYqIiFBk\n",
              "ZKSKior07//+772uXbx4sfbv36+4uLg+93fq1CmtWbNGNTU1amho0Llz57R58+ZbzgEAgJHN7xDT\n",
              "09Oj7u5u9fT0qLOzU0ePHlV2dnavax944AHFxMT0u7+dO3cqJydHUVFRcjgcWrFihbZt23bLud50\n",
              "dHT4nClqb29Xd3e3vy0CAAADBPx+AR6Px+dMTXx8vPfPuPub601JSYnWrl3rsy0rK2uQK/5/tTxv\n",
              "33VA7vVft23fGBp2/X7Y+bthYs0Abs9wPb79PhMzatQohYSE3DSubw+k4uJitbW1+YzMzMyA1gQA\n",
              "AOzh95mYdevW6fLly3rmmWckSWVlZRozZoy+//3vD6iA2NhYNTY2eh+73W7vF+f1N9cbp9Mpp9Pp\n",
              "sy3QwQoAANjD7zMxu3fv1osvvqiYmBjFxMToJz/5iaqqqnTXXXd5v8XXH4sWLVJ1dbVaWlpkWZbK\n",
              "ysq0ZMmSW84BAICRze8Qc/HiRZ9v521tbdXFixd7XVtYWKiYmBidOXNG8+fPV2JioiQpPz9f1dXV\n",
              "kqSpU6dq7dq1mjt3rhITEzVp0iQVFhbecg4AAIxsfn+c9IMf/ECpqal65JFHJElvvPGGfvSjH/W6\n",
              "try8vNftW7Zs8XlcUFCggoKCXtf2NwcAAEYuv0NMYWGh5s6dq9/+9reSpKKiIk2fPn3QCwMAAOjP\n",
              "gP7EesKECZo5c6a+8pWvqKurS1evXtUXvvCFwa4NAACgT35fE7Nz505lZWUpLy9PknTkyBEtXLhw\n",
              "sOsCAADol98hpqSkRIcOHVJERIQkKTU1VadPnx7sugAAAPrld4gJCQnRhAkTfLbxURIAABhqfoeY\n",
              "sWPH6ty5c3I4HJKk3/zmNxo/fvygFwYAANAfvy/s/ed//md97Wtf04cffqj77rtPp06d0muv2Xcf\n",
              "IQAAgN74FWKu38H6t7/9rd5++21ZlqU5c+Z4r48BAAAYKn6FmFGjRmn58uV6//339bWvfc2umgAA\n",
              "AG7J72tikpKS1NDQYEctAAAAt83va2L+8pe/KC0tTXPmzNEXv/hF7/aqqqpBLQwAAKA/tx1ili9f\n",
              "rs2bN+upp55STk6Oxo0bZ2ddAAAA/brtEHPw4EFJ0lNPPSWXy6VDhw7ZVhQAAMCt+H1NjCRZljXY\n",
              "dQAAAPjlts/EXL58WYcPH5ZlWbpy5Yr35+tmzZplS4EAAAC98SvE5OTkeB/f+LPD4dCHH344uJUB\n",
              "AAD047ZDjNvttrEMAAAA/wzomhgAAIBAI8QAAAAjEWIAAICRCDEAAMBIhBgAAGAkQgwAADASIQYA\n",
              "ABiJEAMAAIxEiAEAAEYixAAAACMRYgAAgJEIMQAAwEiEGAAAYCRCDAAAMBIhBgAAGIkQAwAAjESI\n",
              "AQAARiLEAAAAI9kaYk6ePKk5c+YoOTlZGRkZOnLkyE1rKisrlZaW5h0TJ05Ubm6uJMntdiskJMRn\n",
              "vrGx0c6SAQCAIULt3HlhYaGWL1+upUuXaufOnVq6dKnq6up81uTl5SkvL8/7eMaMGXriiSe8j8eO\n",
              "Hav6+no7ywQAAAay7UxMa2urDh48qCeffFKStGjRIjU1NamhoaHP57zzzjtqbW1VTk7OgF6zo6ND\n",
              "7e3tPqO7u3tA+wIAAMHNthDT1NSk6OhohYZeO9njcDgUGxsrj8fT53MqKir07W9/W3fccYd326VL\n",
              "l5SRkSGXy6V169b1G0pKSkoUHh7uM2prawevKQAAEDSC5sLeS5cuafv27Xr66ae926Kjo3X27FnV\n",
              "1dVp3759qqmp0YYNG/rcR3Fxsdra2nxGZmbmUJQPAACGmG0hZsqUKWpublZXV5ckybIseTwexcbG\n",
              "9rp+x44dmj59uqZNm+bd5nQ6FRkZKUkaP368li1bppqamj5f0+l0KiwszGeEhIQMYlcAACBY2BZi\n",
              "IiMj5XK5tHXrVknSrl27FBMTo8TExF7XV1RU+JyFka5dV9PZ2Snp2vUuVVVVSk9Pt6tkAABgEFs/\n",
              "TiovL1d5ebmSk5O1fv16VVZWSpLy8/NVXV3tXXf8+HHV19frscce83n+/v37lZ6ertTUVLlcLkVF\n",
              "RWn16tV2lgwAAAxh659Yp6Sk6MCBAzdt37Jly03rLl68eNO63Nxc73fGAAAA3ChoLuwFAADwByEG\n",
              "AAAYiRADAACMRIgBAABGIsQAAAAjEWIAAICRCDEAAMBIhBgAAGAkQgwAADASIQYAABiJEAMAAIxE\n",
              "iAEAAEYixAAAACMRYgAAgJEIMQAAwEiEGAAAYCRCDAAAMBIhBgAAGIkQAwAAjESIAQAARiLEAAAA\n",
              "IxFiAACAkQgxAADASIQYAABgJEIMAAAwEiEGAAAYiRADAACMRIgBAABGIsQAAAAjEWIAAICRCDEA\n",
              "AMBIhBgAAGAkQgwAADASIQYAABiJEAMAAIxka4g5efKk5syZo+TkZGVkZOjIkSM3rfnd736nMWPG\n",
              "KC0tzTsuX77sna+oqFBSUpISEhJUUFCgzs5OO0sGAACGsDXEFBYWavny5Tpx4oSee+45LV26tNd1\n",
              "KSkpqq+v944xY8ZIkk6dOqU1a9aopqZGDQ0NOnfunDZv3mxnyQAAwBC2hZjW1lYdPHhQTz75pCRp\n",
              "0aJFampqUkNDw23vY+fOncrJyVFUVJQcDodWrFihbdu29bm+o6ND7e3tPqO7u/tz9wIAAIKPbSGm\n",
              "qalJ0dHRCg0NlSQ5HA7FxsbK4/HctLaxsVEul0sZGRkqLS31bvd4PIqLi/M+jo+P7/X515WUlCg8\n",
              "PNxn1NbWDmJXAAAgWAT8wl6Xy6UzZ87o0KFD2r17t8rKyvTKK68MaF/FxcVqa2vzGZmZmYNcMQAA\n",
              "CAa2hZgpU6aoublZXV1dkiTLsuTxeBQbG+uzLiwsTOHh4ZKkmJgYPf7446qpqZEkxcbG6vTp0961\n",
              "brf7puffyOl0KiwszGeEhIQMdmsAACAI2BZiIiMj5XK5tHXrVknSrl27FBMTo8TERJ91zc3N6unp\n",
              "kSRdvHhRe/bsUXp6uqRr19FUV1erpaVFlmWprKxMS5YssatkAABgEFs/TiovL1d5ebmSk5O1fv16\n",
              "VVZWSpLy8/NVXV0t6Vq4mTlzplJTU5WVlaV58+YpLy9PkjR16lStXbtWc+fOVWJioiZNmqTCwkI7\n",
              "SwYAAIYItXPnKSkpOnDgwE3bt2zZ4v35u9/9rr773e/2uY+CggIVFBTYUh8AADBXwC/sBQAAGAhC\n",
              "DAAAMBIhBgAAGIkQAwAAjESIAQAARiLEAAAAIxFiAACAkQgxAADASIQYAABgJEIMAAAwEiEGAAAY\n",
              "iRADAACMRIgBAABGIsQAAAAjEWIAAICRCDEAAMBIhBgAAGAkQgwAADASIQYAABiJEAMAAIxEiAEA\n",
              "AEYixAAAACMRYgAAgJEIMQAAwEiEGAAAYCRCDAAAMBIhBgAAGIkQAwAAjESIAQAARiLEAAAAIxFi\n",
              "AACAkQgxAADASIQYAABgJEIMAAAwEiEGAAAYydYQc/LkSc2ZM0fJycnKyMjQkSNHblrz5ptvKjMz\n",
              "U9OmTdP06dO1atUq9fT0SJLcbrdCQkKUlpbmHY2NjXaWDAAADGFriCksLNTy5ct14sQJPffcc1q6\n",
              "dOlNa8aNG6ft27fr6NGjevfdd/X222/rpZde8s6PHTtW9fX13pGQkGBnyQAAwBC2hZjW1lYdPHhQ\n",
              "Tz75pCRp0aJFampqUkNDg8+69PR0TZ06VZI0evRopaWlye12D+g1Ozo61N7e7jO6u7s/Vx8AACA4\n",
              "2RZimpqaFB0drdDQUEmSw+FQbGysPB5Pn89paWnRzp079eijj3q3Xbp0SRkZGXK5XFq3bl2/oaSk\n",
              "pETh4eE+o7a2dvCaAgAAQSNoLuxtb2/XN77xDa1atUr33nuvJCk6Olpnz55VXV2d9u3bp5qaGm3Y\n",
              "sKHPfRQXF6utrc1nZGZmDlULAABgCNkWYqZMmaLm5mZ1dXVJkizLksfjUWxs7E1rL168qOzsbC1Y\n",
              "sEBFRUXe7U6nU5GRkZKk8ePHa9myZaqpqenzNZ1Op8LCwnxGSEjIIHcGAACCgW0hJjIyUi6XS1u3\n",
              "bpUk7dq1SzExMUpMTPRZ98knnyg7O1vZ2dl64YUXfOZaW1vV2dkp6dr1LlVVVUpPT7erZAAAYBBb\n",
              "P04qLy9XeXm5kpOTtX79elVWVkqS8vPzVV1dLUnatGmTamtrVVVV5f0z6hdffFGStH//fqWnpys1\n",
              "NVUul0tRUVFavXq1nSUDAABDhNq585SUFB04cOCm7Vu2bPH+vHr16j6DSW5urnJzc22rDwAAmCto\n",
              "LuwFAADwByEGAAAYiRADAACMRIgBAABGIsQAAAAjEWIAAICRCDEAAMBIhBgAAGAkQgwAADASIQYA\n",
              "ABiJEAMAAIxEiAEAAEYixAAAACMRYgAAgJEIMQAAwEiEGAAAYCRCDAAAMBIhBgAAGIkQAwAAjESI\n",
              "AQAARiLEAAAAIxFiAACAkQgxAADASIQYAABgJEIMAAAwEiEGAAAYiRADAACMRIgBAABGIsQAAAAj\n",
              "EWIAAICRCDEAAMBIhBgAAGAkQgwAADASIQYAABiJEAMAAIxka4g5efKk5syZo+TkZGVkZOjIkSO9\n",
              "rquoqFBSUpISEhJUUFCgzs7O25oDAAAjl60hprCwUMuXL9eJEyf03HPPaenSpTetOXXqlNasWaOa\n",
              "mho1NDTo3Llz2rx58y3nAADAyGZbiGltbdXBgwf15JNPSpIWLVqkpqYmNTQ0+KzbuXOncnJyFBUV\n",
              "JYfDoRUrVmjbtm23nOtNR0eH2tvbfUZ3d7ddLQIAgAAKtWvHTU1Nio6OVmjotZdwOByKjY2Vx+NR\n",
              "YmKid53H41FcXJz3cXx8vDwezy3nelNSUqK1a9f6bLvnnntUVFQ0KD3dKPc213V3d6u2tlaZmZkK\n",
              "CQm5recUFf1m4IX143ZrHoiiot8MqFeT9devXf/Wdv1uSP3X/HneWztrtstI+l0eSb1KI6vfG3vN\n",
              "talXO4/vuLg4fe973+t3jW0hJhCKi4tvCixOp1NOpzNAFUnt7e0KDw/Xr3/9a4WFhQWsjqEwknqV\n",
              "Rla/I6lXaWT1O5J6lUZWvyOhV9tCzJQpU9Tc3Kyuri6FhobKsix5PB7Fxsb6rIuNjVVjY6P3sdvt\n",
              "9q7pb643gQ4sAABg6Nh2TUxkZKRcLpe2bt0qSdq1a5diYmJ8PkqSrl0rU11drZaWFlmWpbKyMi1Z\n",
              "suSWcwAAYGSz9a+TysvLVV5eruTkZK1fv16VlZWSpPz8fFVXV0uSpk6dqrVr12ru3LlKTEzUpEmT\n",
              "VFhYeMs5AAAwstl6TUxKSooOHDhw0/YtW7b4PC4oKFBBQUGv++hvzgROp1M//OEPR8THXCOpV2lk\n",
              "9TuSepVGVr8jqVdpZPU7Enp1WJZlBboIAAAAf3HbAQAAYCRCDAAAMBIhBgAAGIkQAwAAjESI+Zzi\n",
              "4+OVkpKitLQ0paWl6Ve/+pWk/u/gfbt39w60lStXKj4+Xg6HQ/X19d7tA+0t2Pvuq9++3mPJ3H6v\n",
              "XLmihQsXKjk5WampqZo3b573vmatra3Kzs5WUlKSZsyYoT/84Q/e5w10LpD66/UrX/mK/uqv/sr7\n",
              "3v7bv/2b93km9nrd3/7t32rWrFlKS0vT/fffr/fee0/S8Dx2++p1OB63N6qsrJTD4dCrr74qafgd\n",
              "t7fNwucSFxdnvffeezdtf+ihh6zKykrLsixrx44d1r333ntbc8Hk97//vdXU1HRTjwPtLdj77qvf\n",
              "vt5jyzK338uXL1uvvfaa1dPTY1mWZf3Hf/yH9eCDD1qWZVl5eXnWD3/4Q8uyLKu2ttaaPHmydfXq\n",
              "1c81F0j99frggw9au3fv7vV5JvZ63fnz570/V1VVWbNmzbIsa3geu331OhyP2+tOnTplffnLX7ay\n",
              "srK8v7/D7bi9XYSYz6m3A+XcuXPW2LFjrc7OTsuyLKunp8e6++67rZMnT/Y7F6xu7HGgvZnU9+2G\n",
              "mOHSr2VZVl1dnRUXF2dZlmXdddddVnNzs3cuIyPD2rt37+eaCyY39tpfiBkOvVqWZVVWVlqpqakj\n",
              "4ti93qtlDd/jtru723r44YetgwcP+vz+Dvfjti98nDQIvvOd72jmzJl6+umn9ec//7nfO3j3N2eC\n",
              "gfZmet+ffY+lgf9bBKNNmzZpwYIF+vjjj9XZ2amoqCjv3PW7xw90Lthc7/W6559/XjNnztRjjz2m\n",
              "Dz/8UJKGRa/f+c53NGXKFK1Zs0Yvv/zysD52P9vrjduH23G7ceNGzZ07V7Nnz/ZuGwnHbV8IMZ/T\n",
              "H/7wB33wwQc6dOiQJk6cqKeeeirQJWGQDff3+Kc//akaGhpUUlIS6FJs99leX375ZR07dkwffPCB\n",
              "7r//fj366KMBrnDwvPTSS2pqatJPfvITPffcc4Eux1a99Tocj9s//vGP2rVrl1544YVAlxI8An0q\n",
              "aDj505/+ZH3xi180/nTlZ430j5NudP09tizzT0tblmX9y7/8izV79myf6wruvPPOPk8vD3QuGPTW\n",
              "62c5nU7ro48+sizL7F4/a/To0VZLS8uwP3Yt61qv19/D64bLcVtaWmpFRUVZcXFxVlxcnOV0Oq1J\n",
              "kyZZpaWlw/a4vRXOxHwOly5d0oULF7yPt23bpvT09H7v4H27d/cOVgPtzdS++3qPpYH/WwSLjRs3\n",
              "atu2bdq7d68iIiK82//u7/5OZWVlkqS6ujqdPXtWDz744OeaC7Teeu3q6tK5c+e8a3bt2qW7775b\n",
              "EyZMkGRurxcuXNCf/vQn7+NXX31VEyZMGJbHbl+9jh49elget88884yam5vldrvldruVlZWlzZs3\n",
              "65lnnhmWx+1tCXSKMlljY6OVlpZmzZw505oxY4aVk5NjnTp1yrIsyzp27JiVlZVlJSUlWbNnz7Y+\n",
              "+OAD7/P6mwsmy5cvtyZPnmyFhIRYkZGRVkJCgmVZA+8t2Pvurd/+3mPLMrffpqYmS5I1depUKzU1\n",
              "1UpNTbUyMzMty7KslpYWa968eVZiYqI1bdo068033/Q+b6BzgdRXr5988ok1e/Zsa8aMGdasWbOs\n",
              "r371q1Z9fb33eSb2almW5Xa7rYyMDG9fDz/8sPfM4nA7dvvqdbget59144W9w+24vV3cABIAABiJ\n",
              "j5MAAICRCDEAAMBIhBgAAGAkQgwAADASIQYAABiJEAMAAIxEiAEAAEYixAAAACMRYgAAgJEIMQAA\n",
              "wEj/BzzDGouZtJdgAAAAAElFTkSuQmCC\n",
              "\">\n",
              "      </div>\n",
              "      <script type=\"text/javascript\">\n",
              "        (() => {\n",
              "          const chartElement = document.getElementById(\"chart-c3e1935c-5c77-4ed9-8706-4a476bd9316d\");\n",
              "          async function getCodeForChartHandler(event) {\n",
              "            const chartCodeResponse =  await google.colab.kernel.invokeFunction(\n",
              "                'getCodeForChart', [\"chart-c3e1935c-5c77-4ed9-8706-4a476bd9316d\"], {});\n",
              "            const responseJson = chartCodeResponse.data['application/json'];\n",
              "            await google.colab.notebook.addCell(responseJson.code, 'code');\n",
              "          }\n",
              "          chartElement.onclick = getCodeForChartHandler;\n",
              "        })();\n",
              "      </script>\n",
              "      <style>\n",
              "        .colab-quickchart-chart-with-code  {\n",
              "            display: block;\n",
              "            float: left;\n",
              "            border: 1px solid transparent;\n",
              "        }\n",
              "\n",
              "        .colab-quickchart-chart-with-code:hover {\n",
              "            cursor: pointer;\n",
              "            border: 1px solid #aaa;\n",
              "        }\n",
              "      </style>"
            ]
          },
          "metadata": {}
        },
        {
          "output_type": "display_data",
          "data": {
            "text/plain": [
              "<google.colab._quickchart_helpers.SectionTitle at 0x793d3bf00d30>"
            ],
            "text/html": [
              "<h4 class=\"colab-quickchart-section-title\">2-d distributions</h4>\n",
              "<style>\n",
              "  .colab-quickchart-section-title {\n",
              "      clear: both;\n",
              "  }\n",
              "</style>"
            ]
          },
          "metadata": {}
        },
        {
          "output_type": "display_data",
          "data": {
            "text/plain": [
              "from matplotlib import pyplot as plt\n",
              "_df_4.plot(kind='scatter', x='Surname', y='CreditScore', s=32, alpha=.8)\n",
              "plt.gca().spines[['top', 'right',]].set_visible(False)"
            ],
            "text/html": [
              "      <div class=\"colab-quickchart-chart-with-code\" id=\"chart-327f3e41-301c-4581-a175-da3c4b704cc0\">\n",
              "        <img style=\"width: 180px;\" src=\"data:image/png;base64,iVBORw0KGgoAAAANSUhEUgAAAjUAAAGkCAYAAADJx9TjAAAAOXRFWHRTb2Z0d2FyZQBNYXRwbG90\n",
              "bGliIHZlcnNpb24zLjcuMSwgaHR0cHM6Ly9tYXRwbG90bGliLm9yZy/bCgiHAAAACXBIWXMAAA9h\n",
              "AAAPYQGoP6dpAAArHklEQVR4nO3df3RU9Z3/8ddkJpkAIUETAigkEZJghUAIJiZRClRhwdWiRarl\n",
              "AEnFDXiOa226p4GeWrf7tWQ92ihH16K7ayhmlwMayna1svVUK6UVgoWYJQokQkjE/MAIISCZZCb3\n",
              "+wdf52s0hEzIzCSfeT7Ouec49zN37vud8Xpefu6de22WZVkCAAAY5sKCXQAAAMBgINQAAAAjEGoA\n",
              "AIARCDUAAMAIhBoAAGAEQg0AADACoQYAABiBUAMAAIwQUqFm48aNwS4BAAD4SUiFmhMnTgS7BAAA\n",
              "4CchFWoAAIC5CDUAAMAIhBoAAGAEQg0AADACoQYAABiBUAMAAIxAqAEAAEYg1AAAACMQagAAgBEI\n",
              "NQAAwAiEGgAAcMU6ujz69JxLHV2eoNXgCNqeAQDAsHeq3aWyvXXadahZF7o8GhFu1+Lp47UiJ1Fx\n",
              "Uc6A1sJMDQAAGJBT7S79/daD+o999TrvcssRZtN5l1tl+07oof88qE/PuQJaD6EGAAAMSNneOtW2\n",
              "tGtslFNXjYrQKKdDV42K0Ngop2pb2lX27omA1kOoAQAAPuvo8mjXoWZFOuxy2HvGCYc9TE6HXW9U\n",
              "NwX0GhtCDQAA8Nk5l1sXujyKcPQeJZyOMF3o9Oicyx2wmgg1AADAZ1FOh0aE29Xp7u513OXu1ogI\n",
              "u6KcgftNEqEGAAD4LDLcrkXTx6nD7ZHb0zPYuD3dcrk9WjxtvCLD7QGriZ90AwCAAVmZk6R9x0+r\n",
              "tqVdToddTkeYXO6LgSYlfrRW5CQGtB5magAAwIDERTn13PJZWnFToqIiHXJ3W4qKdGjFTYl6dvms\n",
              "gN+nhpkaAAAwYHFRTj2yIFVr503ROZdbUU5HQE85fRmhBgAAXLHIcHvQwswXOP0EAACMQKgBAABG\n",
              "INQAAAAjEGoAAIARCDUAAMAIhBoAAGAEQg0AADACoQYAABghIKGmtLRUNptNO3fulCS1tLRo0aJF\n",
              "SklJ0fTp07V7927vewc6BgAAQpvfQ01dXZ3+9V//VdnZ2d5169atU3Z2tmpqalRaWqrly5erq6vr\n",
              "isYAAEBo82uo6e7u1gMPPKBnn31WTuf/f6jV9u3btXbtWklSZmamrrnmGr3zzjtXNPZVLpdLZ8+e\n",
              "7bF4PB6/9QoAAILLr6GmpKREN998s2bPnu1d19raqq6uLo0fP967LikpSfX19QMe601xcbFiYmJ6\n",
              "LBUVFX7oEgAADAV+CzWHDh1SeXm5fvrTn/prF31av3692traeixZWVlBqQUAAPif30LNn/70J9XV\n",
              "1SklJUVJSUnau3evCgoKtH37djkcDjU1NXnfW1dXp4SEBMXGxg5orDdOp1PR0dE9Frs9uE8PBQAA\n",
              "/uO3UPPggw+qsbFRdXV1qqurU3Z2tl588UU9+OCDWrZsmTZt2iRJ2r9/v06ePKm5c+dK0oDHAABA\n",
              "aHMEY6dPPPGEVq5cqZSUFEVERKisrEzh4eFXNAYAAEKbzbIsK9hFBEphYaFKSkqCXQYAAPAD7igM\n",
              "AACMQKgBAABGINQAAAAjEGoAAIARCDUAAMAIhBoAAGAEQg0AADACoQYAABiBUAMAAIxAqAEAAEYg\n",
              "1AAAACMQagAAgBEINQAAwAiEGgAAYARCDQAAMAKhBgAAGIFQAwAAjECoAQAARiDUAAAAIxBqAACA\n",
              "EQg1AADACIQaAABgBEINAAAwAqEGAAAYgVADAACMQKgBAABGINQAAAAjEGoAAIARCDUAAMAIhBoA\n",
              "AGAEQg0AADACoQYAABiBUAMAAIxAqAEAAEYg1AAAACP4NdQsXLhQM2bMUHp6uubMmaODBw9KkpKS\n",
              "kjR16lSlp6crPT1d27Zt825TU1Oj3NxcpaamKjMzU9XV1f0aAwAAoc3hzw/fvn27xowZI0n6zW9+\n",
              "o/z8fL3//vuSpG3btik9Pf1r26xZs0YFBQXKz8/Xq6++qvz8fO3fv/+yYwAAILT5dabmi0AjSW1t\n",
              "bbLZbH2+v6WlRe+9955WrFghSVq6dKkaGhpUW1vb51hvXC6Xzp4922PxeDyD0xgAABhy/H5NzapV\n",
              "qzRp0iQ9+uijevnll3usT0tL0+rVq3Xq1ClJUkNDgyZMmCCH4+IEks1mU0JCgurr6/sc601xcbFi\n",
              "YmJ6LBUVFX7uFgAABIvfQ82WLVvU0NCgxx9/XEVFRZKk3bt3q6qqSgcOHFBcXJzy8vIGfb/r169X\n",
              "W1tbjyUrK2vQ9wMAAIYGv15T82V5eXlau3atWltblZCQIEkKDw/XI488otTUVEnSpEmT1NjYKLfb\n",
              "LYfDIcuyVF9fr4SEBEVHR19yrDdOp1NOp7PHOrvd7t8mAQBA0PhtpubMmTP65JNPvK937typ2NhY\n",
              "RUZG6syZM971W7du1axZsyRJ8fHxysjIUFlZmSSpvLxcEydOVHJycp9jAAAAfpupaWtr07Jly3Th\n",
              "wgWFhYVp7Nixeu2119Tc3KylS5fK4/HIsixNnjxZW7Zs8W73wgsvKD8/Xxs2bFB0dLRKS0v7NQYA\n",
              "AEKbzbIsK9hFBEphYaFKSkqCXQYAAPAD7igMAACMQKgBAABGINQAAAAjEGoAAIARCDUAAMAIhBoA\n",
              "AGAEQg0AADACoQYAABiBUAMAAIxAqAEAAEYg1AAAACMQagAAgBEINQAAwAiEGgAAYARCDQAAMAKh\n",
              "BgAAGIFQAwAAjECoAQAARiDUAAAAIxBqAACAEQg1AADACIQaAABgBEINAAAwAqEGAAAYgVADAACM\n",
              "QKgBAABGINQAAAAjEGoAAIARCDUAAMAIhBoAAGAEQg0AADACoQYAABiBUAMAAIxAqAEAAEYg1AAA\n",
              "ACMQagAAgBH8GmoWLlyoGTNmKD09XXPmzNHBgwclSTU1NcrNzVVqaqoyMzNVXV3t3WagYwAAILT5\n",
              "NdRs375dVVVVqqysVGFhofLz8yVJa9asUUFBgY4ePaqioiLv+isZAwAAoc1mWZYViB1t3rxZzzzz\n",
              "jH7/+98rOTlZn332mRwOhyzL0oQJE7Rnzx5FR0cPaCw5Oflr+3O5XHK5XD3WPfroo9q4cWMg2gUA\n",
              "AAHm8PcOVq1apbfffluS9Lvf/U4NDQ2aMGGCHI6Lu7bZbEpISFB9fb1iYmIGNNZbqCkuLtbPf/7z\n",
              "Huuys7P92SoAAAgiv18ovGXLFjU0NOjxxx9XUVGRv3fntX79erW1tfVYsrKyArZ/AAAQWH6fqflC\n",
              "Xl6e1q5dq4kTJ6qxsVFut9t7Gqm+vl4JCQmKjo4e0FhvnE6nnE5nj3V2uz0QrQIAgCDw20zNmTNn\n",
              "9Mknn3hf79y5U7GxsYqPj1dGRobKysokSeXl5Zo4caKSk5MHPAYAAOC3C4VPnDihZcuW6cKFCwoL\n",
              "C9PYsWP11FNPKT09XUeOHFF+fr5aW1sVHR2t0tJSpaWlSdKAx/qjsLBQJSUl/mgXAAAEWcB+/TQU\n",
              "EGoAADAXdxQGAABGINQAAAAjEGoAAIARCDUAAMAIhBoAAGAEQg0AADACoQYAABiBUAMAAIxAqAEA\n",
              "AEYg1AAAACMQagAAgBEINQAAwAiEGgAAYARCDQAAMAKhBgAAGIFQAwAAjECoAQAARiDUAAAAIxBq\n",
              "AACAEQg1AADACIQaAABgBEINAAAwAqEGAAAYgVADAACMQKgBAABGGFCoaWxs1B//+EdJktvtVmdn\n",
              "52DWBAAA4DOfQ82rr76q7Oxs5efnS5Kqq6t11113DXJZAAAAvvE51BQXF+vAgQO66qqrJEkzZ87U\n",
              "iRMnBr0wAAAAX/gcaux2u2JjY3usi4iIGLSCAAAABsLnUDN69Gg1NzfLZrNJkv7whz/o6quvHvTC\n",
              "AAAAfOHwdYMnnnhCixcv1rFjx3TLLbfo+PHjev311/1RGwAAQL/5FGq6u7vl8Xj09ttv6y9/+Yss\n",
              "y1Jubq7GjBnjp/IAAAD6x6dQExYWpoKCAr3//vtavHixv2oCAADwmc/X1KSkpKi2ttYftQAAAAyY\n",
              "z9fUfPbZZ0pPT1dubq6ioqK863fs2DGohQEAAPjC51CTl5envLy8y76vo6ND9913nz744AONGDFC\n",
              "8fHx+tWvfqXk5GTNmzdPJ06cUExMjPczf/jDH0qSWlpatGrVKn300UdyOp16/vnn9c1vfvOyYwAA\n",
              "ILQNKNRIkmVZkuT9aXdvCgoKtHjxYtlsNj333HN64IEHvI9XePrpp3u9E/G6deuUnZ2tXbt2af/+\n",
              "/br77rt1/PhxhYeH9zkGAABCm8/X1DQ2Nur222/XyJEjNXLkSN1xxx1qbGz82vsiIyN1++23e0NP\n",
              "dna26urqLvv527dv19q1ayVJmZmZuuaaa/TOO+9cduyrXC6Xzp4922PxeDy+tgsAAIYJn0NNQUGB\n",
              "brnlFjU2NqqxsVG33HKLCgoKLrvdxo0btWTJEu/rdevWKS0tTffee6+OHTsmSWptbVVXV5fGjx/v\n",
              "fV9SUpLq6+v7HOtNcXGxYmJieiwVFRW+tgsAAIYJn0NNQ0ODfvKTn2jMmDEaM2aM1q1bp4aGhj63\n",
              "2bBhg2pra1VcXCxJevnll3X48GFVVVVpzpw5uuOOOwZWfR/Wr1+vtra2HktWVtag7wcAAAwNPoca\n",
              "y7LU1NTkfd3U1OS9vqY3Tz31lHbs2KE33nhDI0eOlCRNmjRJ0sXrcR566CEdO3ZMra2tio2NlcPh\n",
              "6PH5dXV1SkhI6HOsN06nU9HR0T0Wu93ua7sAAGCY8DnU/MM//INmzZql+++/X/fff78yMjL04x//\n",
              "uNf3lpSUaOvWrXrzzTe9dx12u91qbm72vqe8vFzjxo3zPiRz2bJl2rRpkyRp//79OnnypObOnXvZ\n",
              "MQAAENpsVl/TLJdQXV2tt99+W5I0f/58TZs27Wvv+fjjjzVp0iRNnjxZo0ePlnRx9uStt97S3Llz\n",
              "5XK5FBYWpri4OJWUlGjmzJmSpObmZq1cuVLHjx9XRESEnnvuOc2fP/+yY/1RWFiokpISX9sFAADD\n",
              "gM+hpr6+XvHx8YqMjJQkXbhwQZ9++qn3lNJQRqgBAMBcPp9+uueee/q1DgAAIJB8DjWdnZ3eWRpJ\n",
              "GjFihFwu16AWBQAA4CufQ43NZlNLS4v39eV+/QQAABAIPj8m4eGHH1ZOTo5WrlwpSSorK9Njjz02\n",
              "6IUBAAD4wudQ8/3vf1/XXXedfve730mSSktLNWfOnEEvDAAAwBc+hxpJmjdvnubNm6czZ8547z8D\n",
              "AAAQTP2+puaZZ57Rhx9+KEnq7u7WnXfeqauvvlpjx47Vu+++67cCAQAA+qPfoebf/u3fNGXKFEnS\n",
              "K6+8opqaGjU2Nmrz5s0qKiryW4EAAAD90e9Q43A4FBERIUn6wx/+oFWrVmncuHH627/9W7W3t/ut\n",
              "QAAAgP7od6hxu93en27/+c9/Vm5urnesq6tr8CsDAADwQb8vFL711lt17733Kj4+Xu3t7brlllsk\n",
              "XbxPjdPp9FuBAAAA/dHvmZpf/vKXuummmxQeHq5du3bJ4biYh2pqalRYWOi3AgEAAPrDp2tqfvSj\n",
              "H+lv/uZvdMMNN3jXz5kzR7GxsX4pDgAAoL98fkzCT37yk36tAwAACKR+X1Nz9OhRHT58WG1tbfrt\n",
              "b3/rXd/W1qbPP//cL8UBAAD0V79DzbvvvqvNmzerpaVFTz/9tHd9dHS0fvnLX/qlOAAAgP7qd6jJ\n",
              "y8tTXl6e/v3f/12rV6/2Z00AAAA+63eoqampUUpKijIzM1VVVfW18RkzZgxqYQAAAL7od6j54Q9/\n",
              "qNdee01Lliz52pjNZtOxY8cGtTAAAABf9DvUvPbaa5Kk48eP+60YAACAgep3qKmvr+9zPCEh4YqL\n",
              "AQAAGKh+h5rZs2fLZrNJklpbWxUeHi7p4nOfYmNj1dLS4p8KAQAA+qHfoebUqVOSpKKiIiUnJ3t/\n",
              "AfXSSy/po48+8k91AAAA/eTzHYX/53/+R3/3d3+nsLAwhYWF6YEHHtCuXbv8URsAAEC/+RxqOjs7\n",
              "deTIEe/ro0ePyuVyDWpRAAAAvur36acv/PM//7NuvvlmzZw5U5JUVVWll156adALAwAA8IXPoebb\n",
              "3/62PvzwQ+3du1eSlJOTo7i4uEEvDAAAwBc+n36SLv68+8yZM7rzzjvlcDjU2Ng42HUBAAD4xOdQ\n",
              "8/zzz+v+++/XP/7jP0q6+PPu5cuXD3ZdAIapji6PPj3nUkeXJ9ilAAgxPp9+evHFF7V3717l5uZK\n",
              "kqZMmeL9uTeA0HWq3aWyvXXadahZF7o8GhFu1+Lp47UiJ1FxUc5glwcgBPg8U+N0OjVixIge6xwO\n",
              "n7MRAIOcanfp77ce1H/sq9d5l1uOMJvOu9wq23dCD/3nQX16jl9IAvA/n0PN2LFjdfToUe/dhTdv\n",
              "3swjEoAQV7a3TrUt7Rob5dRVoyI0yunQVaMiNDbKqdqWdpW9eyLYJQIIAT5PsTzzzDP63ve+p8OH\n",
              "D2vSpEmKjo72PuwSQOjp6PJo16FmRTrscth7/n+Swx4mp8OuN6qbtHbeFEWG24NUJYBQ4FOo8Xg8\n",
              "ev/997Vv3z4dOXJElmVp6tSpstv5DxUQqs653LrQ5VGEo/eJX6cjTBc6PTrnchNqAPiVT6ef7Ha7\n",
              "fvGLXygsLEzf+MY3dMMNNxBogBAX5XRoRLhdne7uXsdd7m6NiLArysm1dwD8y+drajIyMrRnz57L\n",
              "vq+jo0N33XWXUlNTNXPmTC1YsEC1tbWSpJaWFi1atEgpKSmaPn26du/e7d1uoGMAgiMy3K5F08ep\n",
              "w+2R29Mz2Lg93XK5PVo8bTyzNAD8zudQs3fvXs2bN0+pqanKyMjwLr0pKCjQkSNH9P7772vJkiV6\n",
              "4IEHJEnr1q1Tdna2ampqVFpaquXLl6urq+uKxgAEz8qcJCXHj9apcy59dr5T511ufXa+U6fOuZQS\n",
              "P1orchKDXSKAENDv+eCzZ8/qs88+07/8y7/0WH/s2DFdffXVX3t/ZGSkbr/9du/r7OxsPfXUU5Kk\n",
              "7du3e2dtMjMzdc011+idd97RbbfdNuCxr3K5XF970KbHw83AAH+Ii3LqueWzVPbuCb1R3aQLnR5F\n",
              "RTq0bNpE7lMDIGD6HWp+/OMfa8GCBVq6dGmP9a2trdq1a5eWLFnS5/YbN27UkiVL1Nraqq6uLo0f\n",
              "P947lpSUpPr6+gGP9aa4uFg///nPe6zLzs7ub7sAfBQX5dQjC1K1dt4UnXO5FeV0cMoJQED1+/RT\n",
              "RUXF1wKNJH3nO9+57LUtGzZsUG1trYqLi32vcIDWr1+vtra2HktWVlbA9g+Eqshwu+KinAQaAAHX\n",
              "71Djdrsv/SFhl/6Yp556Sjt27NAbb7yhkSNHKjY2Vg6HQ01NTd731NXVKSEhYcBjvXE6nYqOju6x\n",
              "8EstAADM1e9Q09XVpbNnz35tfVtb2yUv1i0pKdHWrVv15ptvasyYMd71y5Yt06ZNmyRJ+/fv18mT\n",
              "JzV37twrGgMAAKGt39fU3HfffVq5cqU2b96sq666SpJ0+vRprV69Wvfdd9/X3v/xxx/rRz/6kSZP\n",
              "nqz58+dLujh7sm/fPj3xxBNauXKlUlJSFBERobKyMoWHh0vSgMcAAEBos1mWZfXnjR6PR/fff7/K\n",
              "y8uVkpIiSaqpqdHSpUv10ksvDYtTO4WFhSopKQl2GQAAwA/6PVNjt9v161//Wj/72c904MABSRdv\n",
              "xDdlyhS/FQcAANBfPt+3fMqUKQQZAAAw5Ph8R2EAAIChiFADAACMQKgBAABGINQAAAAjEGoAAIAR\n",
              "CDUAAMAIhBoAAGAEQg0AADACoQYAABiBUAMAAIxAqAEAAEYg1AAAACMQagAAgBEINQAAwAiEGmCI\n",
              "6+jy6NNzLnV0eYJdCgAMaY5gFwCgd6faXSrbW6ddh5p1ocujEeF2LZ4+XityEhUX5Qx2eQAw5DBT\n",
              "AwxBp9pd+vutB/Uf++p13uWWI8ym8y63yvad0EP/eVCfnnMFu0QAGHIINcAQVLa3TrUt7Rob5dRV\n",
              "oyI0yunQVaMiNDbKqdqWdpW9eyLYJQLAkEOoAYaYji6Pdh1qVqTDLoe95yHqsIfJ6bDrjeomrrEB\n",
              "gK8g1ABDzDmXWxe6PIpw9H54Oh1hutDp0TmXO8CVAcDQRqgBhpgop0Mjwu3qdHf3Ou5yd2tEhF1R\n",
              "Tq7zB4AvI9QAQ0xkuF2Lpo9Th9sjt6dnsHF7uuVye7R42nhFhtuDVCEADE38rx4wBK3MSdK+46dV\n",
              "29Iup8MupyNMLvfFQJMSP1orchKDXSIADDnM1ABDUFyUU88tn6UVNyUqKtIhd7elqEiHVtyUqGeX\n",
              "z+I+NQDQC2ZqgCEqLsqpRxakau28KTrncivK6eCUEwD0gVADDHGR4XbCDAD0A6efAACAEQg1AADA\n",
              "CIQaAABgBEINAAAwAqEGAAAYgVADAACMQKgBAABG8Guoefjhh5WUlCSbzabKykrv+qSkJE2dOlXp\n",
              "6elKT0/Xtm3bvGM1NTXKzc1VamqqMjMzVV1d3a8xAAAQ2vwaau655x7t2bNHiYlff07Ntm3bVFlZ\n",
              "qcrKSt17773e9WvWrFFBQYGOHj2qoqIi5efn92sMAACENr+Gmm9+85uaOHFiv9/f0tKi9957TytW\n",
              "rJAkLV26VA0NDaqtre1zDAAAIGjX1KxatUppaWlavXq1Tp06JUlqaGjQhAkT5HBcfHqDzWZTQkKC\n",
              "6uvr+xzrjcvl0tmzZ3ssHo8nMM0BAICAC0qo2b17t6qqqnTgwAHFxcUpLy9v0PdRXFysmJiYHktF\n",
              "RcWg7wcAAAwNQQk1CQkJkqTw8HA98sgj+tOf/iRJmjRpkhobG+V2uyVJlmWpvr5eCQkJfY71Zv36\n",
              "9Wpra+uxZGVlBaA7AAAQDAEPNefPn9eZM2e8r7du3apZs2ZJkuLj45WRkaGysjJJUnl5uSZOnKjk\n",
              "5OQ+x3rjdDoVHR3dY7HbedIxAACmslmWZfnrw9esWaPXX39dTU1Nio2N1ejRo/X73/9eS5culcfj\n",
              "kWVZmjx5sjZu3KikpCRJ0pEjR5Sfn6/W1lZFR0ertLRUaWlplx3rj8LCQpWUlPijVQAAEGR+DTVD\n",
              "DaEGAABzcUdhAABgBEINAAAwAqEGAAAYgVADAACMQKgBAABGINQAAAAjEGoAAIARCDUAAMAIhBoA\n",
              "AGAEQg0AADACoQYAABiBUAMAAIxAqAEAAEYg1AAAACMQagAAgBEINQAAwAiEGgAAYARCDQAAMAKh\n",
              "BgAAGIFQAwAAjECoAQAARiDUAAAAIxBqAACAEQg1AADACIQaAABgBEINAAAwAqEGAAAYgVADAACM\n",
              "QKgBAABGINQAAAAjEGoAAIARCDUAAMAIhBoAAGAEQg0AADACoQYAABiBUAMAAIzg11Dz8MMPKykp\n",
              "STabTZWVld71NTU1ys3NVWpqqjIzM1VdXX3FYwAAILT5NdTcc8892rNnjxITE3usX7NmjQoKCnT0\n",
              "6FEVFRUpPz//iscAAEBos1mWZfl7J0lJSdq5c6fS09PV0tKi5ORkffbZZ3I4HLIsSxMmTNCePXsU\n",
              "HR09oLHk5OSv7dPlcsnlcvVY9+ijj2rjxo3+bhcAAARBwK+paWho0IQJE+RwOCRJNptNCQkJqq+v\n",
              "H/BYb4qLixUTE9NjqaioCEyTAAAg4Iy9UHj9+vVqa2vrsWRlZQW7LAAA4CeOQO9w0qRJamxslNvt\n",
              "9p5Gqq+vV0JCgqKjowc01hun0ymn09ljnd1uD0SLAAAgCAI+UxMfH6+MjAyVlZVJksrLyzVx4kQl\n",
              "JycPeAwAAMCvFwqvWbNGr7/+upqamhQbG6vRo0ertrZWR44cUX5+vlpbWxUdHa3S0lKlpaVJ0oDH\n",
              "+qOwsFAlJSV+6RUAAARXQH79NFQQagAAMJexFwoDAIDQQqgBAABGINQAAAAjEGoAAIARCDUAAMAI\n",
              "hBoAAGAEQk2Ia/u8U0eb29X2eWewSwEA4IoE/DEJGBoON57Vz/7rkCo/blN3t6WwMJtmTRqj/3PX\n",
              "dKWOGx3s8gAA8BkzNSHocONZffeFd7W/7rQ8nm7JJnk83ao4/pnu+dVfdLS5PdglAgDgM0JNCPrZ\n",
              "fx1Se4dbEXabIhx2hYeFKcJhV4TdpvYOtx7deSjYJQIA4DNCTYhp+7xTlR+3KcwmhYX1/PrDwsIU\n",
              "ZpMONpzhGhsAwLBDqAkxze0udXdbsoXZeh23hdnU3W2pud0V4MoAALgyhJoQM260U2FhNlndvT/H\n",
              "1Pp/Fw2PG+0McGUAAFwZQk2IiRkZofSJMeq2pO7u7h5j3d3d6rakWZPGKGZkRJAqBABgYAg1Iejx\n",
              "u9M0OtKhTo+lTrdHXd3d6nR71OmxNDrSof9z1/RglwgAgM8INSEoddxovfpgrrKuu1p2e5hkSXZ7\n",
              "mLKuu1qvPpjLfWoAAMMSN98LUanjRmvbmhy1fd6p5naXxo12csoJADCsEWpCXMzICMIMAMAInH4C\n",
              "AABGINQAAAAjEGoAAIARCDUAAMAIhBoAAGAEQg0AADACoQYAABiBUAMAAIxAqAEAAEYg1AAAACMQ\n",
              "agAAgBEINQAAwAiEGgAAYARCDQAAMAKhBgAAGIFQAwAAjECoAQAARghaqElKStLUqVOVnp6u9PR0\n",
              "bdu2TZJUU1Oj3NxcpaamKjMzU9XV1d5t+hoDAAChLagzNdu2bVNlZaUqKyt17733SpLWrFmjgoIC\n",
              "HT16VEVFRcrPz/e+v68xAAAQ2obU6aeWlha99957WrFihSRp6dKlamhoUG1tbZ9jvXG5XDp79myP\n",
              "xePxBKwXAAAQWEENNatWrVJaWppWr16tU6dOqaGhQRMmTJDD4ZAk2Ww2JSQkqL6+vs+x3hQXFysm\n",
              "JqbHUlFREbDeAABAYAUt1OzevVtVVVU6cOCA4uLilJeXN6ifv379erW1tfVYsrKyBnUfAABg6HAE\n",
              "a8cJCQmSpPDwcD3yyCNKTU3VpEmT1NjYKLfbLYfDIcuyVF9fr4SEBEVHR19yrDdOp1NOp7PHOrvd\n",
              "7ve+AABAcARlpub8+fM6c+aM9/XWrVs1a9YsxcfHKyMjQ2VlZZKk8vJyTZw4UcnJyX2OBVtHl0ef\n",
              "nnOpo4trdgAACJagzNQ0Nzdr6dKl8ng8sixLkydP1pYtWyRJL7zwgvLz87VhwwZFR0ertLTUu11f\n",
              "Y8Fwqt2lsr112nWoWRe6PBoRbtfi6eO1IidRcVHOy38AAAAYNDbLsqxgFxEohYWFKikpGZTPOtXu\n",
              "0t9vPajalnZFOuyKcISp092tDrdHyfGj9dzyWQQbAAACaEj9pHs4Kdtbp9qWdo2NcuqqUREa5XTo\n",
              "qlERGhvlVG1Lu8rePRHsEgEACCmEmgHo6PJo16FmRTrscth7/gkd9jA5HXa9Ud3ENTYAAAQQoWYA\n",
              "zrncutDlUYSj9z+f0xGmC50enXO5A1wZAAChi1AzAFFOh0aE29Xp7u513OXu1ogIu6KcQfvFPAAA\n",
              "IYdQMwCR4XYtmj5OHW6P3J6ewcbt6ZbL7dHiaeMVGc59cQAACBSmEgZoZU6S9h0/rdqWdjkddjkd\n",
              "YXK5LwaalPjRWpGTGOwSAQAIKczUDFBclFPPLZ+lFTclKirSIXe3pahIh1bclKhn+Tk3AAABx0zN\n",
              "FYiLcuqRBalaO2+KzrncinI6OOUEAECQEGoGQWS4nTADAECQcfoJAAAYgVADAACMQKgBAABGINQA\n",
              "AAAjEGoAAIARCDUAAMAIhBoAAGAEQg0AADACoQYAABiBUAMAAIxgsyzLCnYRgfKd73xHSUlJQdu/\n",
              "x+NRRUWFsrKyZLeb/1iFUOo3lHqVQqtfejVXKPU73HtNTEzUD37wg8u+L6RCTbCdPXtWMTExamtr\n",
              "U3R0dLDL8btQ6jeUepVCq196NVco9RsqvXL6CQAAGIFQAwAAjECoAQAARiDUBJDT6dRjjz0mp9MZ\n",
              "7FICIpT6DaVepdDql17NFUr9hkqvXCgMAACMwEwNAAAwAqEGAAAYgVADAACMQKgZRElJSZo6darS\n",
              "09OVnp6ubdu2SZJqamqUm5ur1NRUZWZmqrq62rtNX2NDzcMPP6ykpCTZbDZVVlZ61w+0v6Hc+6V6\n",
              "vdR3LA3fXjs6OnTXXXcpNTVVM2fO1IIFC1RbWytJamlp0aJFi5SSkqLp06dr9+7d3u0GOhZsffU7\n",
              "b948XXfddd7v9+mnn/ZuN1z7XbhwoWbMmKH09HTNmTNHBw8elGTmcStdul8Tj90vlJaWymazaefO\n",
              "nZLMPG77zcKgSUxMtA4ePPi19fPnz7dKS0sty7KsV155xbrxxhv7NTbUvPPOO1ZDQ8PX+hxof0O5\n",
              "90v1eqnv2LKGb68XLlywXn/9dau7u9uyLMt69tlnrblz51qWZVnf//73rccee8yyLMuqqKiwrr32\n",
              "Wquzs/OKxoKtr37nzp1r/eY3v+l1u+Ha7+nTp73/vGPHDmvGjBmWZZl53FrWpfs18di1LMs6fvy4\n",
              "lZOTY2VnZ3v/3TXxuO0vQs0g6u2gaW5utkaPHm11dXVZlmVZ3d3d1rhx46yampo+x4ayL/c50P6G\n",
              "S+/9DTUm9PqF/fv3W4mJiZZlWdaoUaOsxsZG71hmZqb15ptvXtHYUPPlfvsKNSb0W1paas2cOdP4\n",
              "4/YLX/RrWWYeux6Px7r11lut9957r8e/u6Fw3F4Kp58G2apVq5SWlqbVq1fr1KlTamho0IQJE+Rw\n",
              "OCRJNptNCQkJqq+v73NsuBhof8O5969+x9LA/w5D0caNG7VkyRK1traqq6tL48eP944lJSWpvr5+\n",
              "wGND0Rf9fmHdunVKS0vTvffeq2PHjknSsO931apVmjRpkh599FG9/PLLxh+3X+33y+tNOnZLSkp0\n",
              "8803a/bs2d51oXLcXgqhZhDt3r1bVVVVOnDggOLi4pSXlxfskjDITP+ON2zYoNraWhUXFwe7lID4\n",
              "ar8vv/yyDh8+rKqqKs2ZM0d33HFHkCscHFu2bFFDQ4Mef/xxFRUVBbscv+utX9OO3UOHDqm8vFw/\n",
              "/elPg13K0BLsqSJTffLJJ1ZUVNSwntq8lFA+/fRlX3zHljW8p7C/8OSTT1qzZ8/ucU3CyJEjLzkd\n",
              "PdCxoaK3fr/K6XRan376qWVZw7/fL0RGRlpNTU1GH7dfFhkZ6f0Ov2DCsfv8889b48ePtxITE63E\n",
              "xETL6XRaY8eOtZ5//nmjj9vLYaZmkJw/f15nzpzxvt66datmzZql+Ph4ZWRkqKysTJJUXl6uiRMn\n",
              "Kjk5uc+x4WKg/Q3H3i/1HUsD/zsMFSUlJdq6davefPNNjRkzxrt+2bJl2rRpkyRp//79OnnypObO\n",
              "nXtFY0NBb/263W41Nzd731NeXq5x48YpNjZW0vDs98yZM/rkk0+8r3fu3KnY2Fhjj9tL9RsZGWnc\n",
              "sfvggw+qsbFRdXV1qqurU3Z2tl588UU9+OCDxh63/RLsVGWKjz76yEpPT7fS0tKs6dOnW9/+9ret\n",
              "48ePW5ZlWYcPH7ays7OtlJQUa/bs2VZVVZV3u77GhpqCggLr2muvtex2uxUfH29NmTLFsqyB9zeU\n",
              "e++t176+Y8savr02NDRYkqzJkydbM2fOtGbOnGllZWVZlmVZTU1N1oIFC6zk5GTrhhtusN566y3v\n",
              "dgMdC7ZL9Xvu3Dlr9uzZ1vTp060ZM2ZY3/rWt6zKykrvdsOx37q6OiszM9Pb06233uqdeTTxuL1U\n",
              "v6Yeu1/25QuFTTxu+4tnPwEAACNw+gkAABiBUAMAAIxAqAEAAEYg1AAImB07dmj27NlKT0/X9ddf\n",
              "r29961vq7u4OdlkADMGFwgACorGxUWlpafrrX/+qxMRESdKBAwc0a9Ys2Wy2fn2G2+323t0VAL6K\n",
              "mRoAAdHc3Cy73a6rr77auy4jI0M2m01JSUk9noZ+44036o9//KOki0/Ofvjhh5WTk6OFCxdq8+bN\n",
              "uu222/S9731PaWlpuvHGG72PM2hqatL8+fM1e/ZsTZs2TQ899JB3JujL291www3Kzc3VBx98oLvv\n",
              "vlvf+MY3tHDhQp07d06S1NXVpXXr1ikrK0vp6en67ne/q9OnTwfmDwVgwAg1AAJixowZuuWWW5SY\n",
              "mKi7775bTz75pE6ePNmvbY8ePardu3frrbfeknTxxmAbNmzQ//7v/+q2227TE088IUkaM2aM/vu/\n",
              "/1t//etfVVVVpbq6Om3fvt37Ofv379cTTzyhDz74QFOmTNGdd96pTZs26cMPP1RERIR+/etfS5Ke\n",
              "fPJJjRo1ShUVFaqsrFRaWhq3oweGAeZxAQREWFiYysvLdfjwYb3zzjt644039Itf/ELvvffeZbdd\n",
              "sWKFwsPDva9zcnJ03XXXef/52WeflSR1d3erqKhIe/bskWVZamlp0fTp03Xfffd535uQkCDp4mxQ\n",
              "V1eXxo0bJ0nKzMxUTU2NpIt3om1ra1N5ebkkqbOzU0lJSYPzhwDgN4QaAAF1/fXX6/rrr9eaNWu0\n",
              "aNEi/fa3v5XD4ZDH4/G+p6Ojo8c2UVFRPV5HRkZ6/9lut8vtdku6+PiDlpYW7du3T5GRkSosLOzx\n",
              "WV/d7lKfY1mWnn32WS1cuHAQOgYQKJx+AhAQJ0+e1J///Gfv69OnT+v48eOaMmWKkpOTtW/fPklS\n",
              "RUWFjhw5MqB9nD59WuPHj1dkZKSampr0yiuvDOhz7rrrLj399NP6/PPPJUmff/65qqurB/RZAAKH\n",
              "mRoAAeF2u/VP//RPOn78uEaOHCm32628vDwtWbJE1157rfLy8vTCCy8oJydH06ZNG9A+fvCDH+ie\n",
              "e+7RtGnTdM011+i2224b0OcUFRXJ5XLppptu8v4yq6ioaMB1AQgMftINAACMwOknAABgBEINAAAw\n",
              "AqEGAAAYgVADAACMQKgBAABGINQAAAAjEGoAAIARCDUAAMAIhBoAAGAEQg0AADDC/wUzL/KudX3I\n",
              "mgAAAABJRU5ErkJggg==\n",
              "\">\n",
              "      </div>\n",
              "      <script type=\"text/javascript\">\n",
              "        (() => {\n",
              "          const chartElement = document.getElementById(\"chart-327f3e41-301c-4581-a175-da3c4b704cc0\");\n",
              "          async function getCodeForChartHandler(event) {\n",
              "            const chartCodeResponse =  await google.colab.kernel.invokeFunction(\n",
              "                'getCodeForChart', [\"chart-327f3e41-301c-4581-a175-da3c4b704cc0\"], {});\n",
              "            const responseJson = chartCodeResponse.data['application/json'];\n",
              "            await google.colab.notebook.addCell(responseJson.code, 'code');\n",
              "          }\n",
              "          chartElement.onclick = getCodeForChartHandler;\n",
              "        })();\n",
              "      </script>\n",
              "      <style>\n",
              "        .colab-quickchart-chart-with-code  {\n",
              "            display: block;\n",
              "            float: left;\n",
              "            border: 1px solid transparent;\n",
              "        }\n",
              "\n",
              "        .colab-quickchart-chart-with-code:hover {\n",
              "            cursor: pointer;\n",
              "            border: 1px solid #aaa;\n",
              "        }\n",
              "      </style>"
            ]
          },
          "metadata": {}
        },
        {
          "output_type": "display_data",
          "data": {
            "text/plain": [
              "from matplotlib import pyplot as plt\n",
              "_df_5.plot(kind='scatter', x='CreditScore', y='Gender', s=32, alpha=.8)\n",
              "plt.gca().spines[['top', 'right',]].set_visible(False)"
            ],
            "text/html": [
              "      <div class=\"colab-quickchart-chart-with-code\" id=\"chart-1c590151-90f0-4b8f-8517-df687438906e\">\n",
              "        <img style=\"width: 180px;\" src=\"data:image/png;base64,iVBORw0KGgoAAAANSUhEUgAAAjUAAAGkCAYAAADJx9TjAAAAOXRFWHRTb2Z0d2FyZQBNYXRwbG90\n",
              "bGliIHZlcnNpb24zLjcuMSwgaHR0cHM6Ly9tYXRwbG90bGliLm9yZy/bCgiHAAAACXBIWXMAAA9h\n",
              "AAAPYQGoP6dpAAAqgklEQVR4nO3dfXBUZZ728avTJ+kAIYAJb5o3MQkqCXTAYMisIji48WVXZpFH\n",
              "pQJkFzfgjroMWIPUyjruUFDOWGFZ3VmZmTKWZCcLGkVrcKzR1ZWhVIIjkSGzYqKGBAkEExNeJJ10\n",
              "537+4LEfowGTkE6Hu7+fqlOVPnefnN8v7bEu7nP6HJcxxggAAOAiFxXuAgAAAAYCoQYAAFiBUAMA\n",
              "AKxAqAEAAFYg1AAAACsQagAAgBUINQAAwAqEGgAAYIWICjWbN28OdwkAACBEIirUHDp0KNwlAACA\n",
              "EImoUAMAAOxFqAEAAFYg1AAAACsQagAAgBUINQAAwAqEGgAAYAVCDQAAsAKhBgAAWIFQAwAArECo\n",
              "AQAAViDUAACAC9beGdDnp3xq7wyErQYnbHsGAAAXveMnfSp7t06vHjimM50BDYt26+asCSqclarE\n",
              "OM+g1sJMDQAA6JfjJ326v3yf/nNPvU77/HKiXDrt86tszyHd95t9+vyUb1DrIdQAAIB+KXu3TrVN\n",
              "JzU2zqMxI2I0wuNozIgYjY3zqLbppMreOTSo9RBqAABAn7V3BvTqgWOKddxy3N3jhOOOksdx63fV\n",
              "Rwf1GhtCDQAA6LNTPr/OdAYU4/QcJTxOlM50BHTK5x+0mgg1AACgz+I8joZFu9Xh7+px3Ofv0rAY\n",
              "t+I8g/edJEINAADos9hotwqyxqvdH5A/0D3Y+ANd8vkDunnKBMVGuwetJr7SDQAA+mXxrDTt+fQL\n",
              "1TadlMdxy+NEyec/G2gyxo1U4azUQa2HmRoAANAviXEePbkoR4XXpiou1pG/yygu1lHhtal6YlHO\n",
              "oN+nhpkaAADQb4lxHq2cl6kVN1yhUz6/4jzOoJ5y+jpCDQAAuGCx0e6whZmvcPoJAABYgVADAACs\n",
              "QKgBAABWINQAAAArEGoAAIAVCDUAAMAKhBoAAGAFQg0AALDCoISa0tJSuVwu7dixQ5LU1NSkgoIC\n",
              "ZWRkKCsrS7t27Qq+t79jAAAgsoU81NTV1elXv/qV8vLyguseeugh5eXlqaamRqWlpVq0aJE6Ozsv\n",
              "aAwAAES2kIaarq4u3XPPPXriiSfk8fz/h1pt375dK1askCTl5ubq0ksv1VtvvXVBY9/k8/l04sSJ\n",
              "bksgEAhZrwAAILxCGmpKSkr0ve99TzNmzAiua25uVmdnpyZMmBBcl5aWpvr6+n6P9WTjxo0aNWpU\n",
              "t6WysjIEXQIAgKEgZKHmwIEDqqio0MMPPxyqXZzX2rVr1dbW1m2ZOXNmWGoBAAChF7JQ84c//EF1\n",
              "dXXKyMhQWlqa3n33XRUXF2v79u1yHEdHjx4Nvreurk4pKSlKSEjo11hPPB6P4uPjuy1ud3ifHgoA\n",
              "AEInZKHm3nvvVWNjo+rq6lRXV6e8vDz98pe/1L333quFCxfqqaeekiTt3btXn332mWbPni1J/R4D\n",
              "AACRzQnHTh977DEtXrxYGRkZiomJUVlZmaKjoy9oDAAARDaXMcaEu4jBsmrVKpWUlIS7DAAAEALc\n",
              "URgAAFiBUAMAAKxAqAEAAFYg1AAAACsQagAAgBUINQAAwAqEGgAAYAVCDQAAsAKhBgAAWIFQAwAA\n",
              "rECoAQAAViDUAAAAKxBqAACAFQg1AADACoQaAABgBUINAACwAqEGAABYgVADAACsQKgBAABWINQA\n",
              "AAArEGoAAIAVCDUAAMAKhBoAAGAFQg0AALACoQYAAFiBUAMAAKxAqAEAAFYg1AAAACsQagAAgBUI\n",
              "NQAAwAqEGgAAYAVCDQAAsAKhBgAAWIFQAwAArECoAQAAVghpqLnppps0depUeb1eXXfdddq3b58k\n",
              "KS0tTZMnT5bX65XX69W2bduC29TU1Cg/P1+ZmZnKzc1VdXV1r8YAAEBkc0L5y7dv367Ro0dLkl58\n",
              "8UUVFRXpgw8+kCRt27ZNXq/3W9ssX75cxcXFKioq0vPPP6+ioiLt3bv3O8cAAEBkC+lMzVeBRpLa\n",
              "2trkcrnO+/6mpia99957KiwslCQtWLBADQ0Nqq2tPe9YT3w+n06cONFtCQQCA9MYAAAYckJ+Tc2S\n",
              "JUuUnJysdevWaevWrd3WZ2dna9myZTp+/LgkqaGhQRMnTpTjnJ1AcrlcSklJUX19/XnHerJx40aN\n",
              "GjWq21JZWRnibgEAQLiEPNQ8++yzamho0Pr167VmzRpJ0q5du7R//369//77SkxM1NKlSwd8v2vX\n",
              "rlVbW1u3ZebMmQO+HwAAMDSE9Jqar1u6dKlWrFih5uZmpaSkSJKio6O1cuVKZWZmSpKSk5PV2Ngo\n",
              "v98vx3FkjFF9fb1SUlIUHx9/zrGeeDweeTyebuvcbndomwQAAGETspma1tZWHTlyJPh6x44dSkhI\n",
              "UGxsrFpbW4Pry8vLlZOTI0kaN26cpk+frrKyMklSRUWFkpKSlJ6eft4xAACAkM3UtLW1aeHChTpz\n",
              "5oyioqI0duxY/fa3v9WxY8e0YMECBQIBGWM0adIkPfvss8HttmzZoqKiIm3YsEHx8fEqLS3t1RgA\n",
              "AIhsLmOMCXcRg2XVqlUqKSkJdxkAACAEuKMwAACwAqEGAABYgVADAACsQKgBAABWINQAAAArEGoA\n",
              "AIAVCDUAAMAKhBoAAGAFQg0AALACoQYAAFiBUAMAAKxAqAEAAFYg1AAAACsQagAAgBUINQAAwAqE\n",
              "GgAAYAVCDQAAsAKhBgAAWIFQAwAArECoAQAAViDUAAAAKxBqAACAFQg1AADACoQaAABgBUINAACw\n",
              "AqEGAABYgVADAACsQKgBAABWINQAAAArEGoAAIAVCDUAAMAKhBoAAGAFQg0AALACoQYAAFiBUAMA\n",
              "AKxAqAEAAFYIaai56aabNHXqVHm9Xl133XXat2+fJKmmpkb5+fnKzMxUbm6uqqurg9v0dwwAAES2\n",
              "kIaa7du3a//+/aqqqtKqVatUVFQkSVq+fLmKi4v10Ucfac2aNcH1FzIGAAAim8sYYwZjR88884z+\n",
              "9V//Vb///e+Vnp6ulpYWOY4jY4wmTpyo3bt3Kz4+vl9j6enp39qfz+eTz+frtm7dunXavHnzYLQL\n",
              "AAAGmRPqHSxZskRvvvmmJOmVV15RQ0ODJk6cKMc5u2uXy6WUlBTV19dr1KhR/RrrKdRs3LhRjz76\n",
              "aLd1eXl5oWwVAACEUcgvFH722WfV0NCg9evXa82aNaHeXdDatWvV1tbWbZk5c+ag7R8AAAyukM/U\n",
              "fGXp0qVasWKFkpKS1NjYKL/fHzyNVF9fr5SUFMXHx/drrCcej0cej6fbOrfbPRitAgCAMAjZTE1r\n",
              "a6uOHDkSfL1jxw4lJCRo3Lhxmj59usrKyiRJFRUVSkpKUnp6er/HAAAAQnah8KFDh7Rw4UKdOXNG\n",
              "UVFRGjt2rB5//HF5vV4dPHhQRUVFam5uVnx8vEpLS5WdnS1J/R7rjVWrVqmkpCQU7QIAgDAbtG8/\n",
              "DQWEGgAA7MUdhQEAgBUINQAAwAqEGgAAYAVCDQAAsAKhBgAAWIFQAwAArECoAQAAViDUAAAAKxBq\n",
              "AACAFQg1AADACoQaAABgBUINAACwAqEGAABYgVADAACsQKgBAABWINQAAAArEGoAAIAVCDUAAMAK\n",
              "hBoAAGAFQg0AALACoQYAAFiBUAMAAKxAqAEAAFYg1AAAACsQagAAgBUINQAAwAqEGgAAYAVCDQAA\n",
              "sAKhBgAAWIFQAwAArECoAQAAViDUAAAAKxBqAACAFQg1AADACoQaAABghZCFmvb2ds2fP1+ZmZma\n",
              "Nm2a5s2bp9raWknSDTfcoMsvv1xer1der1ebNm0KbtfU1KSCggJlZGQoKytLu3bt6tUYAACIbH0K\n",
              "NV1dXdqzZ0+v319cXKyDBw/qgw8+0O2336577rknOLZp0yZVVVWpqqpKP/rRj4LrH3roIeXl5amm\n",
              "pkalpaVatGiROjs7v3MMAABEtj6FmqioKBUXF/fqvbGxsbrlllvkcrkkSXl5eaqrq/vO7bZv364V\n",
              "K1ZIknJzc3XppZfqrbfe+s6xb/L5fDpx4kS3JRAI9Kp2AABw8enz6aeMjIzgaaS+2Lx5s26//fbg\n",
              "64ceekjZ2dm688479cknn0iSmpub1dnZqQkTJgTfl5aWpvr6+vOO9WTjxo0aNWpUt6WysrLPdQMA\n",
              "gIuD09cNWlpa5PV6lZ+fr7i4uOD6F1544ZzbbNiwQbW1tfrv//5vSdLWrVuVnJwsY4z+/d//Xbfd\n",
              "dpv+/Oc/96P8c1u7dq1WrVrVbd26desGdB8AAGDo6HOoWbp0qZYuXdrr9z/++ON64YUX9Prrr2v4\n",
              "8OGSpOTkZEmSy+XSfffdpwcffFDNzc1KSEiQ4zg6evRocEamrq5OKSkp5x3ricfjkcfj6bbO7Xb3\n",
              "tV0AAHCR6Feokc5es/LN0PBNJSUlKi8v1+uvv67Ro0dLkvx+v5qbmzV+/HhJUkVFhcaPH6+EhARJ\n",
              "0sKFC/XUU0/pJz/5ifbu3avPPvtMs2fP/s4xAAAQ2focav70pz/p7rvvVmtrqw4fPqw//vGP2rZt\n",
              "m372s591e9/hw4e1evVqTZo0SXPmzJF0dvbkjTfe0K233iqfz6eoqCglJibq5ZdfDm732GOPafHi\n",
              "xcrIyFBMTIzKysoUHR39nWMAACCyuYwxpi8b3HDDDVq/fr3uv/9+7du3T8YYZWVlqbq6OlQ1DphV\n",
              "q1appKQk3GUAAIAQ6PO3n06dOqW/+Iu/CL52uVyKiYkZ0KIAAAD6qs+hxnEcdXZ2Bu8/09DQwAW4\n",
              "AAAg7Pocau677z7Nnz9fx48f18MPP6zrrrtOP/7xj0NRGwAAQK/1+ULhwsJCTZo0SS+99JI6OjpU\n",
              "VlbW7XQUAABAOPQ51EhSfn6+8vPzB7oWAACAfut1qJkzZ07wOpqevPHGGwNSEAAAQH/0OtQ8+OCD\n",
              "kqQ333xT77//vv7u7/5OLpdLpaWlysnJCVmBAAAAvdHrUHPrrbdKkn76059q9+7dcpyzmy5cuFDX\n",
              "X399aKoDAADopT5/+6mlpaXbaaioqCi1tLQMaFEAAAB91ecLhb///e+roKBAS5YskSSVlZVp3rx5\n",
              "A14YAABAX/Q51Pzbv/2btmzZoh07dkiS5s+fr7//+78f6LoAAAD6pM+hxnEc/fCHP9QPf/jDUNQD\n",
              "AADQL30ONa2trdqyZYs+/vhj+f3+4Pqnn356QAsDAADoiz6HmjvuuENjx47VrFmzeOYTAAAYMvoc\n",
              "ahobG/X666+HohYAAIB+6/NXuq+44gq1traGoBQAAID+6/NMzfDhwzV9+nQVFBQoNjY2uL6kpGRA\n",
              "CwMAAOiLPoeaq666SldddVUoagEAAOi3PoeaRx55JBR1AAAAXJA+X1PT0NCg2267TV6vV5JUVVWl\n",
              "TZs2DXRdAAAAfdLnULN8+XLdddddMsZIkrKysrhHDQAACLs+h5qmpiYVFhYqKurspo7jBJ/YDQAA\n",
              "EC59DjWO4wRnaSTpiy++6PYaAAAgHPocahYuXKjly5frxIkT+vWvf6158+bpnnvuCUVtAAAAvdbn\n",
              "80arV69WeXm52tra9Nprr2n16tW6++67Q1EbAABAr/V6pmb//v167rnnJEl33323RowYoY6ODj33\n",
              "3HPas2dPyAoEAADojV6Hmp/85CdKSEgIvn777bf1gx/8QN///vf1s5/9LCTFAQAA9FavTz8dOnRI\n",
              "c+fODb4eNmyYlixZIkn6r//6r4GvDAAAoA96PVPT0dHR7XVFRUXw5y+++GLgKgJwUWvvDOjzUz61\n",
              "dwbCXQqACNPrmRq/368TJ04oPj5ekjRp0iRJUltbmzo7O0NTHYCLxvGTPpW9W6dXDxzTmc6AhkW7\n",
              "dXPWBBXOSlVinCfc5QGIAL2eqbnrrrtUVFSktra24Lq2tjYtW7ZMd911V0iKA3BxOH7Sp/vL9+k/\n",
              "99TrtM8vJ8ql0z6/yvYc0n2/2afPT/nCXSKACNDrUPNP//RPGj58uJKSkpSTk6OcnBwlJSUpNjZW\n",
              "Dz/8cChrBDDElb1bp9qmkxob59GYETEa4XE0ZkSMxsZ5VNt0UmXvHAp3iQAiQK9PPzmOo7KyMtXW\n",
              "1mrfvn2SpJycHKWnp4esOABDX3tnQK8eOKZYxy3H3f3fSY47Sh7Hrd9VH9WKG65QbLQ7TFUCiAR9\n",
              "vvleeno6QQZA0CmfX2c6A4pxep749ThROtMR0Cmfn1ADIKT6/JgEAPi6OI+jYdFudfi7ehz3+bs0\n",
              "LMatOA8PvgUQWiELNe3t7Zo/f74yMzM1bdo0zZs3T7W1tZLOPum7oKBAGRkZysrK0q5du4Lb9XcM\n",
              "QHjERrtVkDVe7f6A/IHuwcYf6JLPH9DNUyYwSwMg5EI6U1NcXKyDBw/qgw8+0O233x588OVDDz2k\n",
              "vLw81dTUqLS0VIsWLQp+Lby/YwDCZ/GsNKWPG6njp3xqOd2h0z6/Wk536PgpnzLGjVThrNRwlwgg\n",
              "AoQs1MTGxuqWW26Ry+WSJOXl5amurk6StH37dq1YsUKSlJubq0svvVRvvfXWBY19k8/n04kTJ7ot\n",
              "gQA3AwNCITHOoycX5ajw2lTFxTrydxnFxToqvDZVTyzK4T41AAbFoJ3k3rx5s26//XY1Nzers7NT\n",
              "EyZMCI6lpaWpvr6+32M92bhxox599NFu6/Ly8ga4KwBfSYzzaOW8TK244Qqd8vkV53E45QRgUA3K\n",
              "hcIbNmxQbW2tNm7cOBi7kyStXbtWbW1t3ZaZM2cO2v6BSBUb7VZinIdAA2DQhTzUPP7443rhhRf0\n",
              "u9/9TsOHD1dCQoIcx9HRo0eD76mrq1NKSkq/x3ri8XgUHx/fbXG7+Z8sAAC2CmmoKSkpUXl5uV57\n",
              "7TWNHj06uH7hwoV66qmnJEl79+7VZ599ptmzZ1/QGAAAiGwhu6bm8OHDWr16tSZNmqQ5c+ZIOjt7\n",
              "smfPHj322GNavHixMjIyFBMTo7KyMkVHR0tSv8cAAEBkcxljTLiLGCyrVq1SSUlJuMsAAAAhwB2F\n",
              "AQCAFQg1AADACoQaAABgBUINAACwAqEGAABYgVADAACsQKgBAABWINQAAAArEGoAAIAVCDUAAMAK\n",
              "hBoAAGAFQg0AALACoQYAAFiBUAMAAKxAqAEAAFYg1AAAACsQaoAhrr0zoM9P+dTeGQh3KQAwpDnh\n",
              "LgBAz46f9Kns3Tq9euCYznQGNCzarZuzJqhwVqoS4zzhLg8AhhxmaoAh6PhJn+4v36f/3FOv0z6/\n",
              "nCiXTvv8KttzSPf9Zp8+P+ULd4kAMOQQaoAhqOzdOtU2ndTYOI/GjIjRCI+jMSNiNDbOo9qmkyp7\n",
              "51C4SwSAIYdQAwwx7Z0BvXrgmGIdtxx390PUcUfJ47j1u+qjXGMDAN9AqAGGmFM+v850BhTj9Hx4\n",
              "epwonekI6JTPP8iVAcDQRqgBhpg4j6Nh0W51+Lt6HPf5uzQsxq04D9f5A8DXEWqAISY22q2CrPFq\n",
              "9wfkD3QPNv5Al3z+gG6eMkGx0e4wVQgAQxP/1AOGoMWz0rTn0y9U23RSHsctjxMln/9soMkYN1KF\n",
              "s1LDXSIADDnM1ABDUGKcR08uylHhtamKi3Xk7zKKi3VUeG2qnliUw31qAKAHzNQAQ1RinEcr52Vq\n",
              "xQ1X6JTPrziPwyknADgPQg0wxMVGuwkzANALnH4CAABWINQAAAArEGoAAIAVCDUAAMAKhBoAAGAF\n",
              "Qg0AALACoQYAAFghpKHmgQceUFpamlwul6qqqoLr09LSNHnyZHm9Xnm9Xm3bti04VlNTo/z8fGVm\n",
              "Zio3N1fV1dW9GgMAAJEtpKHmjjvu0O7du5Wa+u3n1Gzbtk1VVVWqqqrSnXfeGVy/fPlyFRcX66OP\n",
              "PtKaNWtUVFTUqzEAABDZQhpqrr/+eiUlJfX6/U1NTXrvvfdUWFgoSVqwYIEaGhpUW1t73jEAAICw\n",
              "XVOzZMkSZWdna9myZTp+/LgkqaGhQRMnTpTjnH16g8vlUkpKiurr68871hOfz6cTJ050WwKBwOA0\n",
              "BwAABl1YQs2uXbu0f/9+vf/++0pMTNTSpUsHfB8bN27UqFGjui2VlZUDvh8AADA0hCXUpKSkSJKi\n",
              "o6O1cuVK/eEPf5AkJScnq7GxUX6/X5JkjFF9fb1SUlLOO9aTtWvXqq2trdsyc+bMQegOAACEw6CH\n",
              "mtOnT6u1tTX4ury8XDk5OZKkcePGafr06SorK5MkVVRUKCkpSenp6ecd64nH41F8fHy3xe3mSccA\n",
              "ANjKZYwxofrly5cv186dO3X06FElJCRo5MiR+v3vf68FCxYoEAjIGKNJkyZp8+bNSktLkyQdPHhQ\n",
              "RUVFam5uVnx8vEpLS5Wdnf2dY72xatUqlZSUhKJVAAAQZiENNUMNoQYAAHtxR2EAAGAFQg0AALAC\n",
              "oQYAAFiBUAMAAKxAqAEAAFYg1AAAACsQagAAgBUINQAAwAqEGgAAYAVCDQAAsAKhBgAAWIFQAwAA\n",
              "rECoAQAAViDUAAAAKxBqAACAFQg1AADACoQaAABgBUINAACwAqEGAABYgVADAACsQKgBAABWINQA\n",
              "AAArEGoAAIAVCDUAAMAKhBoAAGAFQg0AALACoQYAAFiBUAMAAKxAqAEAAFYg1AAAACsQagAAgBUI\n",
              "NQAAwAqEGgAAYAVCDQAAsAKhBgAAWIFQAwAArBDSUPPAAw8oLS1NLpdLVVVVwfU1NTXKz89XZmam\n",
              "cnNzVV1dfcFjAAAgsoU01Nxxxx3avXu3UlNTu61fvny5iouL9dFHH2nNmjUqKiq64DEAABDZXMYY\n",
              "E+qdpKWlaceOHfJ6vWpqalJ6erpaWlrkOI6MMZo4caJ2796t+Pj4fo2lp6d/a58+n08+n6/bunXr\n",
              "1mnz5s2hbhcAAITBoF9T09DQoIkTJ8pxHEmSy+VSSkqK6uvr+z3Wk40bN2rUqFHdlsrKysFpEgAA\n",
              "DDprLxReu3at2traui0zZ84Md1kAACBEnMHeYXJyshobG+X3+4Onkerr65WSkqL4+Ph+jfXE4/HI\n",
              "4/F0W+d2uwejRQAAEAaDPlMzbtw4TZ8+XWVlZZKkiooKJSUlKT09vd9jAAAAIb1QePny5dq5c6eO\n",
              "Hj2qhIQEjRw5UrW1tTp48KCKiorU3Nys+Ph4lZaWKjs7W5L6PdYbq1atUklJSUh6BQAA4TUo334a\n",
              "Kgg1AADYy9oLhQEAQGQh1AAAACsQagAAgBUINQAAwAqEGgAAYAVCDQAAsAKhJsK1fdmhj46dVNuX\n",
              "HeEuBQCACzLoj0nA0PBh4wn980sHVHW4TV1dRlFRLuUkj9ZP52cpc/zIcJcHAECfMVMTgT5sPKH/\n",
              "s+Ud7a37QoFAl+SSAoEuVX7aojv+4219dOxkuEsEAKDPCDUR6J9fOqCT7X7FuF2KcdyKjopSjONW\n",
              "jNulk+1+rdtxINwlAgDQZ4SaCNP2ZYeqDrcpyiVFRXX/+KOiohTlkvY1tHKNDQDgokOoiTDHTvrU\n",
              "1WXkinL1OO6Kcqmry+jYSd8gVwYAwIUh1ESY8SM9iopyyXT1/BxT8/8uGh4/0jPIlQEAcGEINRFm\n",
              "1PAYeZNGqctIXV1d3ca6urrUZaSc5NEaNTwmTBUCANA/hJoItP4H2RoZ66gjYNThD6izq0sd/oA6\n",
              "AkYjYx39dH5WuEsEAKDPCDURKHP8SD1/b75mXn6J3O4oyUhud5RmXn6Jnr83n/vUAAAuStx8L0Jl\n",
              "jh+pbctnqe3LDh076dP4kR5OOQEALmqEmgg3angMYQYAYAVOPwEAACsQagAAgBUINQAAwAqEGgAA\n",
              "YAVCDQAAsAKhBgAAWIFQAwAArECoAQAAViDUAAAAKxBqAACAFQg1AADACoQaAABgBUINAACwAqEG\n",
              "AABYgVADAACsQKgBAABWINQAAAArhC3UpKWlafLkyfJ6vfJ6vdq2bZskqaamRvn5+crMzFRubq6q\n",
              "q6uD25xvDAAARLawztRs27ZNVVVVqqqq0p133ilJWr58uYqLi/XRRx9pzZo1KioqCr7/fGMAACCy\n",
              "DanTT01NTXrvvfdUWFgoSVqwYIEaGhpUW1t73rGe+Hw+nThxotsSCAQGrRcAADC4whpqlixZouzs\n",
              "bC1btkzHjx9XQ0ODJk6cKMdxJEkul0spKSmqr68/71hPNm7cqFGjRnVbKisrB603AAAwuMIWanbt\n",
              "2qX9+/fr/fffV2JiopYuXTqgv3/t2rVqa2vrtsycOXNA9wEAAIYOJ1w7TklJkSRFR0dr5cqVyszM\n",
              "VHJyshobG+X3++U4jowxqq+vV0pKiuLj48851hOPxyOPx9NtndvtDnlfAAAgPMIyU3P69Gm1trYG\n",
              "X5eXlysnJ0fjxo3T9OnTVVZWJkmqqKhQUlKS0tPTzzsWbu2dAX1+yqf2Tq7ZAQAgXMIyU3Ps2DEt\n",
              "WLBAgUBAxhhNmjRJzz77rCRpy5YtKioq0oYNGxQfH6/S0tLgducbC4fjJ30qe7dOrx44pjOdAQ2L\n",
              "duvmrAkqnJWqxDjPd/8CAAAwYFzGGBPuIgbLqlWrVFJSMiC/6/hJn+4v36fappOKddyKcaLU4e9S\n",
              "uz+g9HEj9eSiHIINAACDaEh9pftiUvZunWqbTmpsnEdjRsRohMfRmBExGhvnUW3TSZW9cyjcJQIA\n",
              "EFEINf3Q3hnQqweOKdZxy3F3/xM67ih5HLd+V32Ua2wAABhEhJp+OOXz60xnQDFOz38+jxOlMx0B\n",
              "nfL5B7kyAAAiF6GmH+I8joZFu9Xh7+px3Ofv0rAYt+I8YfvGPAAAEYdQ0w+x0W4VZI1Xuz8gf6B7\n",
              "sPEHuuTzB3TzlAmKjea+OAAADBamEvpp8aw07fn0C9U2nZTHccvjRMnnPxtoMsaNVOGs1HCXCABA\n",
              "RGGmpp8S4zx6clGOCq9NVVysI3+XUVyso8JrU/UEX+cGAGDQMVNzARLjPFo5L1MrbrhCp3x+xXkc\n",
              "TjkBABAmhJoBEBvtJswAABBmnH4CAABWINQAAAArEGoAAIAVCDUAAMAKhBoAAGAFQg0AALACoQYA\n",
              "AFiBUAMAAKxAqAEAAFYg1AAAACu4jDEm3EUMlr/5m79RWlpa2PYfCARUWVmpmTNnyu22/7EKkdRv\n",
              "JPUqRVa/9GqvSOr3Yu81NTVV//iP//id74uoUBNuJ06c0KhRo9TW1qb4+PhwlxNykdRvJPUqRVa/\n",
              "9GqvSOo3Unrl9BMAALACoQYAAFiBUAMAAKxAqBlEHo9HjzzyiDweT7hLGRSR1G8k9SpFVr/0aq9I\n",
              "6jdSeuVCYQAAYAVmagAAgBUINQAAwAqEGgAAYAVCzQBKS0vT5MmT5fV65fV6tW3bNklSTU2N8vPz\n",
              "lZmZqdzcXFVXVwe3Od/YUPPAAw8oLS1NLpdLVVVVwfX97W8o936uXs/1GUsXb6/t7e2aP3++MjMz\n",
              "NW3aNM2bN0+1tbWSpKamJhUUFCgjI0NZWVnatWtXcLv+joXb+fq94YYbdPnllwc/302bNgW3u1j7\n",
              "vemmmzR16lR5vV5dd9112rdvnyQ7j1vp3P3aeOx+pbS0VC6XSzt27JBk53HbawYDJjU11ezbt+9b\n",
              "6+fMmWNKS0uNMcY899xz5pprrunV2FDz1ltvmYaGhm/12d/+hnLv5+r1XJ+xMRdvr2fOnDE7d+40\n",
              "XV1dxhhjnnjiCTN79mxjjDF/+7d/ax555BFjjDGVlZXmsssuMx0dHRc0Fm7n63f27NnmxRdf7HG7\n",
              "i7XfL774IvjzCy+8YKZOnWqMsfO4Nebc/dp47BpjzKeffmpmzZpl8vLygv/t2njc9hahZgD1dNAc\n",
              "O3bMjBw50nR2dhpjjOnq6jLjx483NTU15x0byr7eZ3/7u1h6722osaHXr+zdu9ekpqYaY4wZMWKE\n",
              "aWxsDI7l5uaa11577YLGhpqv93u+UGNDv6WlpWbatGnWH7df+apfY+w8dgOBgLnxxhvNe++91+2/\n",
              "3Ug4bs+F008DbMmSJcrOztayZct0/PhxNTQ0aOLEiXIcR5LkcrmUkpKi+vr6845dLPrb38Xc+zc/\n",
              "Y6n/f4ehaPPmzbr99tvV3Nyszs5OTZgwITiWlpam+vr6fo8NRV/1+5WHHnpI2dnZuvPOO/XJJ59I\n",
              "0kXf75IlS5ScnKx169Zp69at1h+33+z36+ttOnZLSkr0ve99TzNmzAiui5Tj9lwINQNo165d2r9/\n",
              "v95//30lJiZq6dKl4S4JA8z2z3jDhg2qra3Vxo0bw13KoPhmv1u3btWHH36o/fv367rrrtNtt90W\n",
              "5goHxrPPPquGhgatX79ea9asCXc5IddTv7YduwcOHFBFRYUefvjhcJcytIR7qshWR44cMXFxcRf1\n",
              "1Oa5RPLpp6/76jM25uKewv7Kz3/+czNjxoxu1yQMHz78nNPR/R0bKnrq95s8Ho/5/PPPjTEXf79f\n",
              "iY2NNUePHrX6uP262NjY4Gf4FRuO3V/84hdmwoQJJjU11aSmphqPx2PGjh1rfvGLX1h93H4XZmoG\n",
              "yOnTp9Xa2hp8XV5erpycHI0bN07Tp09XWVmZJKmiokJJSUlKT08/79jFor/9XYy9n+szlvr/dxgq\n",
              "SkpKVF5ertdee02jR48Orl+4cKGeeuopSdLevXv12Wefafbs2Rc0NhT01K/f79exY8eC76moqND4\n",
              "8eOVkJAg6eLst7W1VUeOHAm+3rFjhxISEqw9bs/Vb2xsrHXH7r333qvGxkbV1dWprq5OeXl5+uUv\n",
              "f6l7773X2uO2V8Kdqmzx8ccfG6/Xa7Kzs01WVpb567/+a/Ppp58aY4z58MMPTV5ensnIyDAzZsww\n",
              "+/fvD253vrGhpri42Fx22WXG7XabcePGmSuuuMIY0//+hnLvPfV6vs/YmIu314aGBiPJTJo0yUyb\n",
              "Ns1MmzbNzJw50xhjzNGjR828efNMenq6ufrqq80bb7wR3K6/Y+F2rn5PnTplZsyYYbKysszUqVPN\n",
              "3LlzTVVVVXC7i7Hfuro6k5ubG+zpxhtvDM482njcnqtfW4/dr/v6hcI2Hre9xbOfAACAFTj9BAAA\n",
              "rECoAQAAViDUAAAAKxBqAAwYv9+vRx99VFdeeaWysrLk9XpVXFzc7Zsn/ZGYmKi6ujpJ0i233KKD\n",
              "Bw9Kkp555hl9+OGHwfd1dnbqgQce0JQpUzRt2jRdffXVKikpuaB9A7h4OOEuAIA9li1bppaWFr3z\n",
              "zjsaM2aMjDF6/vnn1dLS0u2r4n6/P3iX1r565ZVXgj8/88wzGj16tK688kpJZ+8OfOTIEX3wwQdy\n",
              "HEft7e36+OOPL6inrwsEAnK73QP2+wAMLGZqAAyI2tpaPffccyotLdWYMWMknb2t/MKFC1VfX68p\n",
              "U6Zo2bJl8nq9evHFF1VTU6Nbb71Vubm5mjp1qp588sng73r55Zd11VVXaerUqfrxj3/cbT9paWmq\n",
              "qqrSr3/9a7333nv60Y9+JK/Xq1deeUWHDx/WuHHjgoEpNjZWU6ZMCW5bWloqr9eradOm6ZprrgnO\n",
              "/mzdulVTp07V1KlTdeutt+qzzz6TdDY0zZkzRwsWLFB2drYqKyu1d+9ezZ07V9dcc41ycnL03HPP\n",
              "hfLPCqAvwvyVcgCW2LZtW/CJyN/05ptvGpfLZf7nf/7HGGOM3+83M2bMMP/7v/9rjDHm9OnTJjs7\n",
              "21RWVppjx46ZSy65xFRXVxtjjNmyZYuRFLyvyNfv8vzNB1AeOHDAJCUlmSuvvNLcc889pry83Pj9\n",
              "/mANaWlp5siRI8F9nj592vzpT38y48ePN4cPHzbGGLN+/XpTUFBgjDn7QMRhw4aZDz/80Bhz9gnQ\n",
              "Xq83+DuOHz9ukpOTg9sCCC9OPwEYFJMmTQrenfTgwYOqrq7WXXfdFRw/efKk/vznP6uxsVFTp07V\n",
              "1VdfLensKa3777+/V/uYMmWKPv74Y+3evVtvv/22HnnkEW3dulU7d+7Uzp07tXjxYk2cOFGSNHz4\n",
              "cEnSm2++qYKCAl122WWSpH/4h3/Qv/zLvygQCEiS8vPzNXnyZEnS22+/rU8++UQ333xzt/0ePHgw\n",
              "uD2A8CHUABgQ06dPV01NjZqbm4OPFvi6uLi44M/GGF1yySWqqqr61vtefvnlbq9dLlef6oiJidHc\n",
              "uXM1d+5c3XPPPZo4caJaWlp6vf039/fNuqdMmaK33367TzUBGBxcUwNgQKSnp2vBggVatmxZ8NtO\n",
              "xhhVVFTok08+6fbeyZMnKz4+XqWlpcF1tbW1amlp0axZs7R///7gt5qefvppdXR09LjP+Ph4tbW1\n",
              "BV/v2rVLjY2Nwdd//OMfdckll2j06NH6q7/6K5WVlQXHv/zyS3355ZeaM2eOXn311eAzg5566ind\n",
              "eOONPV4QnJ+fr08//VSvv/56cF1VVdU56wMwuJipATBgnn76aa1fv17XXnutHMdRV1eXrr/++m+d\n",
              "rnEcR7/97W+1cuVKbdq0SYFAQImJifrNb36jyy67TE8//bR+8IMfKCYmRgUFBT3O/EhScXGxVq9e\n",
              "rU2bNmnDhg1qaWnRypUr1d7erpiYGMXFxemll15SVFSUrr/+ej3yyCP6y7/8S7lcLsXExOj5559X\n",
              "VlaWfv7zn6ugoECSlJycrF/96lc97m/MmDHauXOnHnzwQa1evVqdnZ1KSUnRjh07BvTvCKB/ePYT\n",
              "AACwAqefAACAFQg1AADACoQaAABgBUINAACwAqEGAABYgVADAACsQKgBAABWINQAAAArEGoAAIAV\n",
              "CDUAAMAK/xdaKeMj3eXWRwAAAABJRU5ErkJggg==\n",
              "\">\n",
              "      </div>\n",
              "      <script type=\"text/javascript\">\n",
              "        (() => {\n",
              "          const chartElement = document.getElementById(\"chart-1c590151-90f0-4b8f-8517-df687438906e\");\n",
              "          async function getCodeForChartHandler(event) {\n",
              "            const chartCodeResponse =  await google.colab.kernel.invokeFunction(\n",
              "                'getCodeForChart', [\"chart-1c590151-90f0-4b8f-8517-df687438906e\"], {});\n",
              "            const responseJson = chartCodeResponse.data['application/json'];\n",
              "            await google.colab.notebook.addCell(responseJson.code, 'code');\n",
              "          }\n",
              "          chartElement.onclick = getCodeForChartHandler;\n",
              "        })();\n",
              "      </script>\n",
              "      <style>\n",
              "        .colab-quickchart-chart-with-code  {\n",
              "            display: block;\n",
              "            float: left;\n",
              "            border: 1px solid transparent;\n",
              "        }\n",
              "\n",
              "        .colab-quickchart-chart-with-code:hover {\n",
              "            cursor: pointer;\n",
              "            border: 1px solid #aaa;\n",
              "        }\n",
              "      </style>"
            ]
          },
          "metadata": {}
        },
        {
          "output_type": "display_data",
          "data": {
            "text/plain": [
              "from matplotlib import pyplot as plt\n",
              "_df_6.plot(kind='scatter', x='Gender', y='Age', s=32, alpha=.8)\n",
              "plt.gca().spines[['top', 'right',]].set_visible(False)"
            ],
            "text/html": [
              "      <div class=\"colab-quickchart-chart-with-code\" id=\"chart-e4c56a89-a20b-488a-99e7-91dd91e18f92\">\n",
              "        <img style=\"width: 180px;\" src=\"data:image/png;base64,iVBORw0KGgoAAAANSUhEUgAAAjUAAAGkCAYAAADJx9TjAAAAOXRFWHRTb2Z0d2FyZQBNYXRwbG90\n",
              "bGliIHZlcnNpb24zLjcuMSwgaHR0cHM6Ly9tYXRwbG90bGliLm9yZy/bCgiHAAAACXBIWXMAAA9h\n",
              "AAAPYQGoP6dpAAAnhklEQVR4nO3df1DUd2L/8deyH/iQuIIGRM0pEAN4k4CCBgSu1ng5c3q/NDV+\n",
              "03GIcmcOtU28jJmpMpP0ml5OJq1DapNJNZ0bUuWO04bE3JyNc7bXxtj4M4FYnUYhCYEYBIMRxcCy\n",
              "u3y+f+TrfkOCRJDdxfc+HzOfGfm898f7Lfk4z3z2s7sux3EcAQAA3OBiIj0BAACAkUDUAAAAIxA1\n",
              "AADACEQNAAAwAlEDAACMQNQAAAAjEDUAAMAIRA0AADBCVEXNli1bIj0FAAAQIlEVNR9++GGkpwAA\n",
              "AEIkqqIGAACYi6gBAABGIGoAAIARiBoAAGAEogYAABiBqAEAAEYgagAAgBGIGgAAYASiBgAAGIGo\n",
              "AQAARiBqAADAdevxBfRJl1c9vkDE5mBF7JkBAMAN79wlr6oPNWnviTZ1+wK6KdatRdmTVFKUpmSP\n",
              "Hda5cKYGAAAMy7lLXj1SU6dfH27WZa9fVoxLl71+VR/+UA//pk6fdHnDOh+iBgAADEv1oSY1tl/S\n",
              "BI+t8WPiNMa2NH5MnCZ4bDW2X1L1wQ/DOh+iBgAADFmPL6C9J9oUb7llufvnhOWOkW259drJs2G9\n",
              "xoaoAQAAQ9bl9avbF1CcNXBK2FaMunsD6vL6wzYnogYAAAyZx7Z0U6xbvf6+Ace9/j7dFOeWxw7f\n",
              "e5KIGgAAMGTxsW4tzJ6oHn9A/kD/sPEH+uT1B7TozkmKj3WHbU68pRsAAAzLg0XpOvzBp2psvyTb\n",
              "csu2YuT1fx40mSljVVKUFtb5cKYGAAAMS7LH1nPL81QyJ02eeEv+PkeeeEslc9L07PK8sH9ODWdq\n",
              "AADAsCV7bD26IEtr7r5dXV6/PLYV1pecvoioAQAA1y0+1h2xmLmCl58AAIARiBoAAGAEogYAABiB\n",
              "qAEAAEYgagAAgBGIGgAAYASiBgAAGIGoAQAARghL1FRVVcnlcmn37t2SpPb2di1cuFCZmZnKzs7W\n",
              "/v37g7cd7hgAAIhuIY+apqYm/fM//7MKCwuD+zZu3KjCwkI1NDSoqqpKy5cvl8/nu64xAAAQ3UIa\n",
              "NX19fXrooYf07LPPyrb//5da7dq1S2vWrJEk5efn69Zbb9Xrr79+XWNf5vV6dfHixX5bIBAI2VoB\n",
              "AEBkhTRqKisr9a1vfUuzZ88O7uvo6JDP59OkSZOC+9LT09Xc3DzssYFUVFQoMTGx33bkyJEQrBIA\n",
              "AIwGIYuaEydOqLa2Vo8//nionmJQ5eXl6uzs7LcVFBREZC4AACD0QhY1b7zxhpqampSZman09HQd\n",
              "OnRIZWVl2rVrlyzL0tmzZ4O3bWpqUmpqqpKSkoY1NhDbtpWQkNBvc7sj++2hAAAgdEIWNWvXrlVr\n",
              "a6uamprU1NSkwsJCvfDCC1q7dq2WLVumrVu3SpKOHj2qM2fOaN68eZI07DEAABDdrEg86dNPP60H\n",
              "H3xQmZmZiouLU3V1tWJjY69rDAAARDeX4zhOpCcRLuvXr1dlZWWkpwEAAEKATxQGAABGIGoAAIAR\n",
              "iBoAAGAEogYAABiBqAEAAEYgagAAgBGIGgAAYASiBgAAGIGoAQAARiBqAACAEYgaAABgBKIGAAAY\n",
              "gagBAABGIGoAAIARiBoAAGAEogYAABiBqAEAAEYgagAAgBGIGgAAYASiBgAAGIGoAQAARiBqAACA\n",
              "EYgaAABgBKIGAAAYgagBAABGIGoAAIARiBoAAGAEogYAABiBqAEAAEYgagAAgBGIGgAAYASiBgAA\n",
              "GIGoAQAARiBqAACAEYgaAABghJBGzb333qsZM2YoNzdXc+fOVV1dnSQpPT1d06dPV25urnJzc7Vz\n",
              "587gfRoaGlRcXKysrCzl5+fr5MmT1zQGAACimxXKB9+1a5fGjRsnSXrllVdUWlqqd955R5K0c+dO\n",
              "5ebmfuU+q1evVllZmUpLS/XSSy+ptLRUR48e/doxAAAQ3UJ6puZK0EhSZ2enXC7XoLdvb2/XsWPH\n",
              "VFJSIklaunSpWlpa1NjYOOjYQLxery5evNhvCwQCI7MwAAAw6oT8mpoVK1Zo6tSpeuKJJ7Rjx45+\n",
              "+3NycrRq1SqdO3dOktTS0qLJkyfLsj4/geRyuZSamqrm5uZBxwZSUVGhxMTEftuRI0dCvFoAABAp\n",
              "IY+a7du3q6WlRU899ZQ2bNggSdq/f7+OHz+ut99+W8nJyVq5cuWIP295ebk6Ozv7bQUFBSP+PAAA\n",
              "YHQI6TU1X7Ry5UqtWbNGHR0dSk1NlSTFxsbq0UcfVVZWliRp6tSpam1tld/vl2VZchxHzc3NSk1N\n",
              "VUJCwlXHBmLbtmzb7rfP7XaHdpEAACBiQnam5sKFC/r444+DP+/evVtJSUmKj4/XhQsXgvtramqU\n",
              "l5cnSUpJSdGsWbNUXV0tSaqtrdWUKVOUkZEx6BgAAEDIztR0dnZq2bJl6u7uVkxMjCZMmKDf//73\n",
              "amtr09KlSxUIBOQ4jqZNm6bt27cH77dt2zaVlpZq06ZNSkhIUFVV1TWNAQCA6OZyHMeJ9CTCZf36\n",
              "9aqsrIz0NAAAQAjwicIAAMAIRA0AADACUQMAAIxA1AAAACMQNQAAwAhEDQAAMAJRAwAAjEDUAAAA\n",
              "IxA1AADACEQNAAAwAlEDAACMQNQAAAAjEDUAAMAIRA0AADACUQMAAIxA1AAAACMQNQAAwAhEDQAA\n",
              "MAJRAwAAjEDUAAAAIxA1AADACEQNAAAwAlEDAACMQNQAAAAjEDUAAMAIRA0AADACUQMAAIxA1AAA\n",
              "ACMQNQAAwAhEDQAAMAJRAwAAjEDUAAAAIxA1AADACEQNAAAwAlEDAACMQNQAAAAjhDRq7r33Xs2Y\n",
              "MUO5ubmaO3eu6urqJEkNDQ0qLi5WVlaW8vPzdfLkyeB9hjsGAACiW0ijZteuXTp+/Ljq6+u1fv16\n",
              "lZaWSpJWr16tsrIynT59Whs2bAjuv54xAAAQ3VyO4zjheKIXX3xR//AP/6A//OEPysjI0Pnz52VZ\n",
              "lhzH0eTJk3XgwAElJCQMaywjI+Mrz+f1euX1evvte+KJJ7Rly5ZwLBcAAISZFeonWLFihf7zP/9T\n",
              "kvRv//Zvamlp0eTJk2VZnz+1y+VSamqqmpublZiYOKyxgaKmoqJCTz75ZL99hYWFoVwqAACIoJBf\n",
              "KLx9+3a1tLToqaee0oYNG0L9dEHl5eXq7OzstxUUFITt+QEAQHiF/EzNFStXrtSaNWs0ZcoUtba2\n",
              "yu/3B19Gam5uVmpqqhISEoY1NhDbtmXbdr99brc7HEsFAAARELIzNRcuXNDHH38c/Hn37t1KSkpS\n",
              "SkqKZs2aperqaklSbW2tpkyZooyMjGGPAQAAhOxC4Q8//FDLli1Td3e3YmJiNGHCBG3evFm5ubk6\n",
              "deqUSktL1dHRoYSEBFVVVSknJ0eShj12LdavX6/KyspQLBcAAERY2N79NBoQNQAAmItPFAYAAEYg\n",
              "agAAgBGIGgAAYASiBgAAGIGoAQAARiBqAACAEYgaAABgBKIGAAAYgagBAABGIGoAAIARiBoAAGAE\n",
              "ogYAABiBqAEAAEYgagAAgBGIGgAAYASiBgAAGIGoAQAARiBqAACAEYgaAABgBKIGAAAYgagBAABG\n",
              "IGoAAIARiBoAAGAEogYAABiBqAEAAEYgagAAgBGIGgAAYASiBgAAGIGoAQAARiBqAACAEYgaAABg\n",
              "BKIGAAAYgagBAABGIGoAAIARiBoAAGCEkEVNT0+PlixZoqysLM2cOVMLFixQY2OjJOnuu+/Wbbfd\n",
              "ptzcXOXm5uqZZ54J3q+9vV0LFy5UZmamsrOztX///msaAwAA0c0K5YOXlZVp0aJFcrlceu655/TQ\n",
              "Qw/pv/7rvyRJzzzzjJYsWfKV+2zcuFGFhYXau3evjh49qvvuu08ffPCBYmNjBx0DAADRLWRnauLj\n",
              "4/W9731PLpdLklRYWKimpqavvd+uXbu0Zs0aSVJ+fr5uvfVWvf7661879mVer1cXL17stwUCgRFY\n",
              "GQAAGI3Cdk3Nli1btHjx4uDPGzduVE5Ojh544AG9//77kqSOjg75fD5NmjQpeLv09HQ1NzcPOjaQ\n",
              "iooKJSYm9tuOHDkSotUBAIBIC0vUbNq0SY2NjaqoqJAk7dixQ++++66OHz+uuXPn6gc/+MGIP2d5\n",
              "ebk6Ozv7bQUFBSP+PAAAYHQIedRs3rxZL7/8sl577TXdfPPNkqSpU6dKklwulx5++GG9//776ujo\n",
              "UFJSkizL0tmzZ4P3b2pqUmpq6qBjA7FtWwkJCf02t9sdwpUCAIBICmnUVFZWqqamRvv27dO4ceMk\n",
              "SX6/X21tbcHb1NbWauLEiUpKSpIkLVu2TFu3bpUkHT16VGfOnNG8efO+dgwAAES3kL376aOPPtJj\n",
              "jz2madOmaf78+ZI+P3vyxz/+Ud///vfl9XoVExOj5ORk/e53vwve7+mnn9aDDz6ozMxMxcXFqbq6\n",
              "OvjupsHGAABAdHM5juNEehLhsn79elVWVkZ6GgAAIAT4RGEAAGAEogYAABiBqAEAAEYYVtR4vd6R\n",
              "ngcAAMB1GVLUHD9+XNnZ2br99tslSW+99Zb+6q/+KiQTAwAAGIohRc26deu0detWTZgwQZI0a9Ys\n",
              "7dmzJyQTAwAAGIohRU1XV5f+5E/+JPizy+VSXFzciE8KAABgqIYUNZZlyefzBb95u6Wlha8eAAAA\n",
              "o8KQoubhhx/WkiVLdO7cOT3++OOaO3cu19QAAIBRYUhfk1BSUqJp06bp1VdfVW9vr6qrq/u9HAUA\n",
              "ABApQ/7up+LiYhUXF4diLgAAAMM2pKiZP39+8HqaK8aNG6eioiKtW7dOtm2P6OQAAACu1ZCuqZk9\n",
              "e7Ysy9KqVav00EMPKS4uTrfeequOHTumRx55JFRzBAAA+FpDOlPz5ptv6o033gi+42nZsmWaO3eu\n",
              "Dhw4oJycnJBMEAAA4FoM6UxNR0dHv5efXC6XPv30U1mWpfj4+BGfHAAAwLUa0pmae+65R4sWLVJJ\n",
              "SYkk6de//rW+/e1vq6uri+tpAABARA0pav7xH/9R27Zt0+7du+VyufTDH/5QKSkp8ng8OnToUKjm\n",
              "CAAA8LWG/InCf/mXf6lf/vKXuu222/SLX/xCTz/9dKjmBgAAcM2u+UzNZ599pp07d+pXv/qV3n//\n",
              "fXV3d+vgwYP65je/Gcr5AQAAXJNrOlPz05/+VFOnTtXvfvc7bdiwQc3NzRo3bhxBAwAARo1rOlPz\n",
              "29/+VnfddZdWr16t7373u3K5XF/5ED4AAIBIuqYzNa2trSopKdHf/u3fKi0tTY8//rh8Pl+o5wYA\n",
              "AHDNrilqPB6PVq1apTfffFN79+5VT0+Pent7VVxcrOeffz7UcwQAAPhaQ3r3kyTdcccd2rx5s86c\n",
              "OaPHHntMe/bsCcW8AAAAhmTIUXOFZVlaunQpUQMAAEaFYUcNAADAaELUAAAAIxA1AADACEQNgBHV\n",
              "4wvoky6venyBSE8FQJQZ0hdaAsDVnLvkVfWhJu090aZuX0A3xbq1KHuSSorSlOyxIz09AFGAMzUA\n",
              "rtu5S149UlOnXx9u1mWvX1aMS5e9flUf/lAP/6ZOn3R5Iz1FAFGAqAFw3aoPNamx/ZImeGyNHxOn\n",
              "Mbal8WPiNMFjq7H9kqoPfhjpKQKIAkQNgOvS4wto74k2xVtuWe7+/6RY7hjZlluvnTzLNTYAQo6o\n",
              "AXBdurx+dfsCirMG/ufEtmLU3RtQl9cf5pkBiDZEDYDr4rEt3RTrVq+/b8Bxr79PN8W55bF5XwKA\n",
              "0ApZ1PT09GjJkiXKysrSzJkztWDBAjU2NkqS2tvbtXDhQmVmZio7O1v79+8P3m+4YwAiIz7WrYXZ\n",
              "E9XjD8gf6B82/kCfvP6AFt05SfGx7gjNEEC0COmZmrKyMp06dUrvvPOOFi9erIceekiStHHjRhUW\n",
              "FqqhoUFVVVVavny5fD7fdY0BiJwHi9KVkTJW57q8On+5V5e9fp2/3KtzXV5lpoxVSVFapKcIIAqE\n",
              "LGri4+P1ve99Ty6XS5JUWFiopqYmSdKuXbu0Zs0aSVJ+fr5uvfVWvf7669c19mVer1cXL17stwUC\n",
              "XKgIhEKyx9Zzy/NUMidNnnhL/j5HnnhLJXPS9OzyPD6nBkBYhO1F7i1btmjx4sXq6OiQz+fTpEmT\n",
              "gmPp6elqbm4e9thAKioq9OSTT/bbV1hYOMKrAnBFssfWowuytObu29Xl9ctjW7zkBCCswnKh8KZN\n",
              "m9TY2KiKiopwPJ0kqby8XJ2dnf22goKCsD0/EK3iY91K9tgEDYCwC3nUbN68WS+//LJee+013Xzz\n",
              "zUpKSpJlWTp79mzwNk1NTUpNTR322EBs21ZCQkK/ze3mH1kAAEwV0qiprKxUTU2N9u3bp3HjxgX3\n",
              "L1u2TFu3bpUkHT16VGfOnNG8efOuawwAAES3kF1T89FHH+mxxx7TtGnTNH/+fEmfnz05fPiwnn76\n",
              "aT344IPKzMxUXFycqqurFRsbK0nDHgMAANHN5TiOE+lJhMv69etVWVkZ6WkAAIAQ4BOFAQCAEYga\n",
              "AABgBKIGAAAYgagBAABGIGoAAIARiBoAAGAEogYAABiBqAEAAEYgagAAgBGIGgAAYASiBgAAGIGo\n",
              "AQAARiBqAACAEYgaAABgBKIGAAAYgagBAABGIGqAUa7HF9AnXV71+AKRngoAjGpWpCcAYGDnLnlV\n",
              "fahJe0+0qdsX0E2xbi3KnqSSojQle+xITw8ARh3O1ACj0LlLXj1SU6dfH27WZa9fVoxLl71+VR/+\n",
              "UA//pk6fdHkjPUUAGHWIGmAUqj7UpMb2S5rgsTV+TJzG2JbGj4nTBI+txvZLqj74YaSnCACjDlED\n",
              "jDI9voD2nmhTvOWW5e5/iFruGNmWW6+dPMs1NgDwJUQNMMp0ef3q9gUUZw18eNpWjLp7A+ry+sM8\n",
              "MwAY3YgaYJTx2JZuinWr19834LjX36eb4tzy2FznDwBfRNQAo0x8rFsLsyeqxx+QP9A/bPyBPnn9\n",
              "AS26c5LiY90RmiEAjE78rx4wCj1YlK7DH3yqxvZLsi23bCtGXv/nQZOZMlYlRWmRniIAjDqcqQFG\n",
              "oWSPreeW56lkTpo88Zb8fY488ZZK5qTp2eV5fE4NAAyAMzXAKJXssfXogiytuft2dXn98tgWLzkB\n",
              "wCCIGmCUi491EzMAcA14+QkAABiBqAEAAEYgagAAgBGIGgAAYASiBgAAGIGoAQAARiBqAACAEUIa\n",
              "NevWrVN6erpcLpfq6+uD+9PT0zV9+nTl5uYqNzdXO3fuDI41NDSouLhYWVlZys/P18mTJ69pDAAA\n",
              "RLeQRs3999+vAwcOKC3tq99Ts3PnTtXX16u+vl4PPPBAcP/q1atVVlam06dPa8OGDSotLb2mMQAA\n",
              "EN1CGjV/+qd/qilTplzz7dvb23Xs2DGVlJRIkpYuXaqWlhY1NjYOOgYAABCxa2pWrFihnJwcrVq1\n",
              "SufOnZMktbS0aPLkybKsz7+9weVyKTU1Vc3NzYOODcTr9erixYv9tkAgEJ7FAQCAsItI1Ozfv1/H\n",
              "jx/X22+/reTkZK1cuXLEn6OiokKJiYn9tiNHjoz48wAAgNEhIlGTmpoqSYqNjdWjjz6qN954Q5I0\n",
              "depUtba2yu/3S5Icx1Fzc7NSU1MHHRtIeXm5Ojs7+20FBQVhWB0AAIiEsEfN5cuXdeHCheDPNTU1\n",
              "ysvLkySlpKRo1qxZqq6uliTV1tZqypQpysjIGHRsILZtKyEhod/mdvNNxwAAmMrlOI4TqgdfvXq1\n",
              "9uzZo7NnzyopKUljx47VH/7wBy1dulSBQECO42jatGnasmWL0tPTJUmnTp1SaWmpOjo6lJCQoKqq\n",
              "KuXk5Hzt2LVYv369KisrQ7FUAAAQYSGNmtGGqAEAwFx8ojAAADACUQMAAIxA1AAAACMQNQAAwAhE\n",
              "DQAAMAJRAwAAjEDUAAAAIxA1AADACEQNAAAwAlEDAACMQNQAAAAjEDUAAMAIRA0AADACUQMAAIxA\n",
              "1AAAACMQNQAAwAhEDQAAMAJRAwAAjEDUAAAAIxA1AADACEQNAAAwAlEDAACMQNQAAAAjEDUAAMAI\n",
              "RA0AADACUQMAAIxA1AAAACMQNQAAwAhEDQAAMAJRAwAAjEDUAAAAIxA1AADACEQNAAAwAlEDAACM\n",
              "QNQAAAAjEDUAAMAIIY2adevWKT09XS6XS/X19cH9DQ0NKi4uVlZWlvLz83Xy5MnrHgMAANEtpFFz\n",
              "//3368CBA0pLS+u3f/Xq1SorK9Pp06e1YcMGlZaWXvcYAACIbi7HcZxQP0l6erp2796t3Nxctbe3\n",
              "KyMjQ+fPn5dlWXIcR5MnT9aBAweUkJAwrLGMjIyvPKfX65XX6+2374knntCWLVtCvVwAABABYb+m\n",
              "pqWlRZMnT5ZlWZIkl8ul1NRUNTc3D3tsIBUVFUpMTOy3HTlyJDyLBAAAYWfshcLl5eXq7OzstxUU\n",
              "FER6WgAAIESscD/h1KlT1draKr/fH3wZqbm5WampqUpISBjW2EBs25Zt2/32ud3ucCwRAABEQNjP\n",
              "1KSkpGjWrFmqrq6WJNXW1mrKlCnKyMgY9hgAAEBILxRevXq19uzZo7NnzyopKUljx45VY2OjTp06\n",
              "pdLSUnV0dCghIUFVVVXKycmRpGGPXYv169ersrIyJGsFAACRFZZ3P40WRA0AAOYy9kJhAAAQXYga\n",
              "AABgBKIGAAAYgagBAABGIGoAAIARiBoAAGAEoibKdX7Wq9Ntl9T5WW+kpwIAwHUJ+9ckYHR4t/Wi\n",
              "/vrVE6r/qFN9fY5iYlzKmzpOv1iSrayJYyM9PQAAhowzNVHo3daL+j/bDupo06cKBPoklxQI9OnI\n",
              "B+d1/z+9qdNtlyI9RQAAhoyoiUJ//eoJXerxK87tUpzlVmxMjOIst+LcLl3q8euJ3SciPUUAAIaM\n",
              "qIkynZ/1qv6jTsW4pJiY/r/+mJgYxbikupYLXGMDALjhEDVRpu2SV319jlwxrgHHXTEu9fU5arvk\n",
              "DfPMAAC4PkRNlJk41lZMjEtO38DfY+r8v4uGJ461wzwzAACuD1ETZRJvjlPulET1OVJfX1+/sb6+\n",
              "PvU5Ut7UcUq8OS5CMwQAYHiImij01H05GhtvqTfgqNcfkK+vT73+gHoDjsbGW/rFkuxITxEAgCEj\n",
              "aqJQ1sSxemltsQpuu0Vud4zkSG53jApuu0UvrS3mc2oAADckPnwvSmVNHKudq4vU+Vmv2i55NXGs\n",
              "zUtOAIAbGlET5RJvjiNmAABG4OUnAABgBKIGAAAYgagBAABGIGoAAIARiBoAAGAEogYAABiBqAEA\n",
              "AEYgagAAgBGIGgAAYASiBgAAGIGoAQAARiBqAACAEYgaAABgBKIGAAAYgagBAABGIGoAAIARiBoA\n",
              "AGCEiEVNenq6pk+frtzcXOXm5mrnzp2SpIaGBhUXFysrK0v5+fk6efJk8D6DjQEAgOgW0TM1O3fu\n",
              "VH19verr6/XAAw9IklavXq2ysjKdPn1aGzZsUGlpafD2g40BAIDoNqpefmpvb9exY8dUUlIiSVq6\n",
              "dKlaWlrU2Ng46NhAvF6vLl682G8LBAJhWwsAAAiviEbNihUrlJOTo1WrVuncuXNqaWnR5MmTZVmW\n",
              "JMnlcik1NVXNzc2Djg2koqJCiYmJ/bYjR46EbW0AACC8IhY1+/fv1/Hjx/X2228rOTlZK1euHNHH\n",
              "Ly8vV2dnZ7+toKBgRJ8DAACMHlaknjg1NVWSFBsbq0cffVRZWVmaOnWqWltb5ff7ZVmWHMdRc3Oz\n",
              "UlNTlZCQcNWxgdi2Ldu2++1zu90hXxcAAIiMiJypuXz5si5cuBD8uaamRnl5eUpJSdGsWbNUXV0t\n",
              "SaqtrdWUKVOUkZEx6Fik9fgC+qTLqx4f1+wAABApETlT09bWpqVLlyoQCMhxHE2bNk3bt2+XJG3b\n",
              "tk2lpaXatGmTEhISVFVVFbzfYGORcO6SV9WHmrT3RJu6fQHdFOvWouxJKilKU7LH/voHAAAAI8bl\n",
              "OI4T6UmEy/r161VZWTkij3XukleP1NSpsf2S4i234qwY9fr71OMPKCNlrJ5bnkfYAAAQRqPqLd03\n",
              "kupDTWpsv6QJHlvjx8RpjG1p/Jg4TfDYamy/pOqDH0Z6igAARBWiZhh6fAHtPdGmeMsty93/r9By\n",
              "x8i23Hrt5FmusQEAIIyImmHo8vrV7Qsozhr4r8+2YtTdG1CX1x/mmQEAEL2ImmHw2JZuinWr1983\n",
              "4LjX36eb4tzy2BF7xzwAAFGHqBmG+Fi3FmZPVI8/IH+gf9j4A33y+gNadOckxcfyuTgAAIQLpxKG\n",
              "6cGidB3+4FM1tl+SbbllWzHy+j8PmsyUsSopSov0FAEAiCqcqRmmZI+t55bnqWROmjzxlvx9jjzx\n",
              "lkrmpOlZ3s4NAEDYcabmOiR7bD26IEtr7r5dXV6/PLbFS04AAEQIUTMC4mPdxAwAABHGy08AAMAI\n",
              "RA0AADACUQMAAIxA1AAAACMQNQAAwAhEDQAAMAJRAwAAjEDUAAAAIxA1AADACEQNAAAwgstxHCfS\n",
              "kwiXP/uzP1N6enrEnj8QCOjIkSMqKCiQ223+1ypE03qjaa1SdK2XtZormtZ7o681LS1NP/vZz772\n",
              "dlEVNZF28eJFJSYmqrOzUwkJCZGeTshF03qjaa1SdK2XtZormtYbLWvl5ScAAGAEogYAABiBqAEA\n",
              "AEYgasLItm39/Oc/l23bkZ5KWETTeqNprVJ0rZe1miua1hsta+VCYQAAYATO1AAAACMQNQAAwAhE\n",
              "DQAAMAJRM4LS09M1ffp05ebmKjc3Vzt37pQkNTQ0qLi4WFlZWcrPz9fJkyeD9xlsbLRZt26d0tPT\n",
              "5XK5VF9fH9w/3PWN5rVfba1X+x1LN+5ae3p6tGTJEmVlZWnmzJlasGCBGhsbJUnt7e1auHChMjMz\n",
              "lZ2drf379wfvN9yxSBtsvXfffbduu+224O/3mWeeCd7vRl3vvffeqxkzZig3N1dz585VXV2dJDOP\n",
              "W+nq6zXx2L2iqqpKLpdLu3fvlmTmcXvNHIyYtLQ0p66u7iv758+f71RVVTmO4zj/+q//6tx1113X\n",
              "NDbavP76605LS8tX1jnc9Y3mtV9trVf7HTvOjbvW7u5uZ8+ePU5fX5/jOI7z7LPPOvPmzXMcx3F+\n",
              "/OMfOz//+c8dx3GcI0eOON/4xjec3t7e6xqLtMHWO2/ePOeVV14Z8H436no//fTT4J9ffvllZ8aM\n",
              "GY7jmHncOs7V12vises4jvPBBx84RUVFTmFhYfC/XROP22tF1IyggQ6atrY2Z+zYsY7P53Mcx3H6\n",
              "+vqciRMnOg0NDYOOjWZfXOdw13ejrP1ao8aEtV5x9OhRJy0tzXEcxxkzZozT2toaHMvPz3f27dt3\n",
              "XWOjzRfXO1jUmLDeqqoqZ+bMmcYft1dcWa/jmHnsBgIB55577nGOHTvW77/daDhur4aXn0bYihUr\n",
              "lJOTo1WrVuncuXNqaWnR5MmTZVmWJMnlcik1NVXNzc2Djt0ohru+G3ntX/4dS8P/exiNtmzZosWL\n",
              "F6ujo0M+n0+TJk0KjqWnp6u5uXnYY6PRlfVesXHjRuXk5OiBBx7Q+++/L0k3/HpXrFihqVOn6okn\n",
              "ntCOHTuMP26/vN4v7jfp2K2srNS3vvUtzZ49O7gvWo7bqyFqRtD+/ft1/Phxvf3220pOTtbKlSsj\n",
              "PSWMMNN/x5s2bVJjY6MqKioiPZWw+PJ6d+zYoXfffVfHjx/X3Llz9YMf/CDCMxwZ27dvV0tLi556\n",
              "6ilt2LAh0tMJuYHWa9qxe+LECdXW1urxxx+P9FRGl0ifKjLVxx9/7Hg8nhv61ObVRPPLT1905Xfs\n",
              "ODf2Kewr/v7v/96ZPXt2v2sSbr755quejh7u2Ggx0Hq/zLZt55NPPnEc58Zf7xXx8fHO2bNnjT5u\n",
              "vyg+Pj74O7zChGP3+eefdyZNmuSkpaU5aWlpjm3bzoQJE5znn3/e6OP263CmZoRcvnxZFy5cCP5c\n",
              "U1OjvLw8paSkaNasWaqurpYk1dbWasqUKcrIyBh07EYx3PXdiGu/2u9YGv7fw2hRWVmpmpoa7du3\n",
              "T+PGjQvuX7ZsmbZu3SpJOnr0qM6cOaN58+Zd19hoMNB6/X6/2tragrepra3VxIkTlZSUJOnGXO+F\n",
              "Cxf08ccfB3/evXu3kpKSjD1ur7be+Ph4447dtWvXqrW1VU1NTWpqalJhYaFeeOEFrV271tjj9ppE\n",
              "uqpM8d577zm5ublOTk6Ok52d7fzoRz9yPvjgA8dxHOfdd991CgsLnczMTGf27NnO8ePHg/cbbGy0\n",
              "KSsrc77xjW84brfbSUlJcW6//XbHcYa/vtG89oHWOtjv2HFu3LW2tLQ4kpxp06Y5M2fOdGbOnOkU\n",
              "FBQ4juM4Z8+edRYsWOBkZGQ4d9xxh/PHP/4xeL/hjkXa1dbb1dXlzJ4928nOznZmzJjhfPvb33bq\n",
              "6+uD97sR19vU1OTk5+cH13TPPfcEzzyaeNxebb2mHrtf9MULhU08bq8V3/0EAACMwMtPAADACEQN\n",
              "AAAwAlEDAACMQNQAiBifz6cnn3xS3/zmN3XnnXcqLy9PS5Ys6fd9W9fr97//ve6+++4RezwAo5cV\n",
              "6QkAiF4//vGP1dXVpYMHD2r8+PGSpH//93/XqVOnlJubG9G5BQIBud3uiM4BwNAQNQAioqGhQa+8\n",
              "8opaWlqCQSNJ3/nOd4J/3rx5s3bt2iW/36+UlBRt27ZNaWlp+pu/+Rv97//+rz777DO99957mjRp\n",
              "kl566SXdcsst8vl8+tnPfqZ9+/Zp/Pjxmjt3br/n3bFjh5577jn5fD55PB49++yzmjlzpl588UX9\n",
              "y7/8i2655RadPn1aL7zwgoqKisL29wHg+hE1ACKirq5OGRkZuuWWWwYc/81vfqNTp07p4MGDcrvd\n",
              "2rFjh/7iL/5Ce/bskSQdPnxYb731lpKSkvTnf/7n2rZtm8rLy/XCCy/o1KlTOnnypCTpu9/9bvAx\n",
              "//u//1s1NTXav3+/bNvWG2+8oeXLlwdve/jwYdXV1Wn69OkhXj2AUCBqAIwK7733npYuXaru7m4V\n",
              "Fxfr8uXLOnr0aPDL+gKBQL/bL1y4MPhpv0VFRfqf//kfSdJ//Md/aMWKFYqLi5Mk/eQnP9GvfvUr\n",
              "SdKrr76qd955R3PmzAk+zvnz59Xd3S1JKi4uJmiAGxhRAyAi8vLy1NjYqE8//VTjx4/X7bffrvr6\n",
              "er344ovavXu3YmNjVV5errKysgHvHx8fH/yz2+2W3+8f8HYulyv4Z8dxtHLlSm3atGnA23o8nutY\n",
              "EYBI491PACIiMzNTixcv1qpVq/p9L8/ly5clSUuWLNHWrVt1/vx5SZ+/U6quru5rH/c73/mOqqur\n",
              "5fP51Nvbq6qqquDYj370I1VXV6u5uVmS1NfXp2PHjo3gqgBEEmdqAETMiy++qF/+8peaM2eOLMvS\n",
              "+PHjNWHCBG3YsEFFRUXq6OjQ/PnzJX3+hZM/+clPgl9EeDU//elPdeLECd1xxx3BC4XfeustSdLc\n",
              "uXP1d3/3d7rvvvvk9/vV29ur73//+7rrrrtCvlYAocd3PwEAACPw8hMAADACUQMAAIxA1AAAACMQ\n",
              "NQAAwAhEDQAAMAJRAwAAjEDUAAAAIxA1AADACEQNAAAwAlEDAACM8H8BF+ybALHP9ZAAAAAASUVO\n",
              "RK5CYII=\n",
              "\">\n",
              "      </div>\n",
              "      <script type=\"text/javascript\">\n",
              "        (() => {\n",
              "          const chartElement = document.getElementById(\"chart-e4c56a89-a20b-488a-99e7-91dd91e18f92\");\n",
              "          async function getCodeForChartHandler(event) {\n",
              "            const chartCodeResponse =  await google.colab.kernel.invokeFunction(\n",
              "                'getCodeForChart', [\"chart-e4c56a89-a20b-488a-99e7-91dd91e18f92\"], {});\n",
              "            const responseJson = chartCodeResponse.data['application/json'];\n",
              "            await google.colab.notebook.addCell(responseJson.code, 'code');\n",
              "          }\n",
              "          chartElement.onclick = getCodeForChartHandler;\n",
              "        })();\n",
              "      </script>\n",
              "      <style>\n",
              "        .colab-quickchart-chart-with-code  {\n",
              "            display: block;\n",
              "            float: left;\n",
              "            border: 1px solid transparent;\n",
              "        }\n",
              "\n",
              "        .colab-quickchart-chart-with-code:hover {\n",
              "            cursor: pointer;\n",
              "            border: 1px solid #aaa;\n",
              "        }\n",
              "      </style>"
            ]
          },
          "metadata": {}
        },
        {
          "output_type": "display_data",
          "data": {
            "text/plain": [
              "from matplotlib import pyplot as plt\n",
              "_df_7.plot(kind='scatter', x='Age', y='Tenure', s=32, alpha=.8)\n",
              "plt.gca().spines[['top', 'right',]].set_visible(False)"
            ],
            "text/html": [
              "      <div class=\"colab-quickchart-chart-with-code\" id=\"chart-c2e4dc84-7978-4901-9578-3fbae96197bc\">\n",
              "        <img style=\"width: 180px;\" src=\"data:image/png;base64,iVBORw0KGgoAAAANSUhEUgAAAjUAAAGkCAYAAADJx9TjAAAAOXRFWHRTb2Z0d2FyZQBNYXRwbG90\n",
              "bGliIHZlcnNpb24zLjcuMSwgaHR0cHM6Ly9tYXRwbG90bGliLm9yZy/bCgiHAAAACXBIWXMAAA9h\n",
              "AAAPYQGoP6dpAAAm60lEQVR4nO3df3DUdWL/8ddmN/ksEhK4hAAKScQkTO8SWMCEgEWgN3jI3ZxY\n",
              "5OuUi5AOToCOWifONNDR3jhnSW1tLINzFR0nHUjNQI3H3dSTOafeGe33EBiIKbRIchA38iPBICHB\n",
              "ZNkfn+8fftkaDTEJ2R957/Mx85kxn/d+2Peb+HGefvazuw7btm0BAACMc0mxngAAAMBYIGoAAIAR\n",
              "iBoAAGAEogYAABiBqAEAAEYgagAAgBGIGgAAYASiBgAAGCGhombnzp2xngIAAIiQhIqaTz75JNZT\n",
              "AAAAEZJQUQMAAMxF1AAAACMQNQAAwAhEDQAAMAJRAwAAjEDUAAAAIxA1AADACEQNAAAwAlEDAACM\n",
              "QNQAAAAjEDUAAOCW9fuD+qzXp35/MGZzcMXsmQEAwLh3qcenukNtOniiQ33+oCYkO3V/4XSVLc5R\n",
              "ZqoV1blwpQYAAIzKpR6fHq8/rn/90KtrvoBcSQ5d8wVU9+Eneuz14/qs1xfV+RA1AABgVOoOtam1\n",
              "s0dTUy1NmZiiiZZLUyamaGqqpdbOHtX9/pOozoeoAQAAI9bvD+rgiQ65XU65nANzwuVMkuVy6u2T\n",
              "F6N6jw1RAwAARqzXF1CfP6gU1+ApYbmS1Hc9qF5fIGpzImoAAMCIpVouTUh26nogNOi4LxDShBSn\n",
              "Uq3ovSeJqAEAACPmTnZqVeE09QeCCgQHhk0gGJIvENT935sud7IzanPiLd0AAGBUHlmcqw/Pfq7W\n",
              "zh5ZLqcsV5J8gS+DJj9rksoW50R1PlypAQAAo5KZauml9fNVtihHqW6XAiFbqW6XyhblaNf6+VH/\n",
              "nBqu1AAAgFHLTLX05MoCbVl+l3p9AaVarqi+5PRVRA0AALhl7mRnzGLmBl5+AgAARiBqAACAEYga\n",
              "AABgBKIGAAAYgagBAABGIGoAAIARiBoAAGAEogYAABghKlFTW1srh8OhAwcOSJI6Ozu1atUq5efn\n",
              "q7CwUI2NjeHHjnYMAAAktohHTVtbm1599VWVlpaG923btk2lpaVqaWlRbW2t1q9fL7/ff0tjAAAg\n",
              "sUU0akKhkB599FHt2rVLlvW/X2q1f/9+bdmyRZJUXFys22+/Xe+9994tjX2dz+fT1atXB2zBYDBi\n",
              "awUAALEV0aipqanRPffco4ULF4b3dXV1ye/3a/r06eF9ubm58nq9ox4bTHV1tdLT0wdshw8fjsAq\n",
              "AQBAPIhY1Jw4cUINDQ16+umnI/UUQ9q+fbu6u7sHbCUlJTGZCwAAiLyIRc3777+vtrY25efnKzc3\n",
              "V4cOHVJFRYX2798vl8ulixcvhh/b1tam7OxsZWRkjGpsMJZlKS0tbcDmdMb220MBAEDkRCxqtm7d\n",
              "qgsXLqitrU1tbW0qLS3VK6+8oq1bt2rdunV6+eWXJUlHjhzRuXPntGzZMkka9RgAAEhsrlg86fPP\n",
              "P69HHnlE+fn5SklJUV1dnZKTk29pDAAAJDaHbdt2rCcRLZWVlaqpqYn1NAAAQATwicIAAMAIRA0A\n",
              "ADACUQMAAIxA1AAAACMQNQAAwAhEDQAAMAJRAwAAjEDUAAAAIxA1AADACEQNAAAwAlEDAACMQNQA\n",
              "AAAjEDUAAMAIRA0AADACUQMAAIxA1AAAACMQNQAAwAhEDQAAMAJRAwAAjEDUAAAAIxA1AADACEQN\n",
              "AAAwAlEDAACMQNQAAAAjEDUAAMAIRA0AADACUQMAAIxA1AAAACMQNQAAwAhEDQAAMAJRAwAAjEDU\n",
              "AAAAIxA1AADACEQNAAAwAlEDAACMENGoue+++zR37lx5PB4tXbpUx48flyTl5uZqzpw58ng88ng8\n",
              "2rdvX/iYlpYWLVmyRAUFBSouLtbJkyeHNQYAABKbK5J/+P79+zV58mRJ0i9+8QuVl5fro48+kiTt\n",
              "27dPHo/nG8ds3rxZFRUVKi8v1xtvvKHy8nIdOXLkW8cAAEBii+iVmhtBI0nd3d1yOBxDPr6zs1NH\n",
              "jx5VWVmZJGnt2rVqb29Xa2vrkGOD8fl8unr16oAtGAyOzcIAAEDcifg9NRs2bNCsWbP0zDPPaO/e\n",
              "vQP2FxUVadOmTbp06ZIkqb29XTNmzJDL9eUFJIfDoezsbHm93iHHBlNdXa309PQB2+HDhyO8WgAA\n",
              "ECsRj5o9e/aovb1dzz33nKqqqiRJjY2Nam5u1rFjx5SZmamNGzeO+fNu375d3d3dA7aSkpIxfx4A\n",
              "ABAfInpPzVdt3LhRW7ZsUVdXl7KzsyVJycnJevLJJ1VQUCBJmjVrli5cuKBAICCXyyXbtuX1epWd\n",
              "na20tLSbjg3GsixZljVgn9PpjOwiAQBAzETsSs2VK1d0/vz58M8HDhxQRkaG3G63rly5Et5fX1+v\n",
              "+fPnS5KysrK0YMEC1dXVSZIaGho0c+ZM5eXlDTkGAAAQsSs13d3dWrdunfr6+pSUlKSpU6fq3//9\n",
              "39XR0aG1a9cqGAzKtm3Nnj1be/bsCR+3e/dulZeXa8eOHUpLS1Ntbe2wxgAAQGJz2LZtx3oS0VJZ\n",
              "WamamppYTwMAAEQAnygMAACMQNQAAAAjEDUAAMAIRA0AADACUQMAAIxA1AAAACMQNQAAwAhEDQAA\n",
              "MAJRAwAAjEDUAAAAIxA1AADACEQNAAAwAlEDAACMQNQAAAAjEDUAAMAIRA0AADACUQMAAIxA1AAA\n",
              "ACMQNQAAwAhEDQAAMAJRAwAAjEDUAAAAIxA1AADACEQNAAAwAlEDAACMQNQAAAAjEDUAAMAIRA0A\n",
              "ADACUQMAAIxA1AAAACMQNQAAwAhEDQAAMAJRAwAAjEDUAAAAIxA1AADACEQNAAAwQkSj5r777tPc\n",
              "uXPl8Xi0dOlSHT9+XJLU0tKiJUuWqKCgQMXFxTp58mT4mNGOAQCAxBbRqNm/f7+am5vV1NSkyspK\n",
              "lZeXS5I2b96siooKnT59WlVVVeH9tzIGAAASm8O2bTsaT/Qv//Iv+qd/+if95je/UV5eni5fviyX\n",
              "yyXbtjVjxgx98MEHSktLG9VYXl7eN57P5/PJ5/MN2PfMM89o586d0VguAACIMlekn2DDhg367W9/\n",
              "K0n69a9/rfb2ds2YMUMu15dP7XA4lJ2dLa/Xq/T09FGNDRY11dXVevbZZwfsKy0tjeRSAQBADEX8\n",
              "RuE9e/aovb1dzz33nKqqqiL9dGHbt29Xd3f3gK2kpCRqzw8AAKIr4ldqbti4caO2bNmimTNn6sKF\n",
              "CwoEAuGXkbxer7Kzs5WWljaqscFYliXLsgbsczqd0VgqAACIgYhdqbly5YrOnz8f/vnAgQPKyMhQ\n",
              "VlaWFixYoLq6OklSQ0ODZs6cqby8vFGPAQAAROxG4U8++UTr1q1TX1+fkpKSNHXqVL3wwgvyeDz6\n",
              "+OOPVV5erq6uLqWlpam2tlZFRUWSNOqx4aisrFRNTU0klgsAAGIsau9+igdEDQAA5uIThQEAgBGI\n",
              "GgAAYASiBgAAGIGoAQAARiBqAACAEYgaAABgBKIGAAAYgagBAABGIGoAAIARiBoAAGAEogYAABiB\n",
              "qAEAAEYgagAAgBGIGgAAYASiBgAAGIGoAQAARiBqAACAEYgaAABgBKIGAAAYgagBAABGIGoAAIAR\n",
              "iBoAAGAEogYAABiBqAEAAEYgagAAgBGIGgAAYASiBgAAGIGoAQAARiBqAACAEYgaAABgBKIGAAAY\n",
              "gagBAABGIGoAAIARiBoAAGAEogYAABghYlHT39+vNWvWqKCgQPPmzdPKlSvV2toqSVq+fLnuvPNO\n",
              "eTweeTwevfjii+HjOjs7tWrVKuXn56uwsFCNjY3DGgMAAInNFck/vKKiQvfff78cDodeeuklPfro\n",
              "o/rd734nSXrxxRe1Zs2abxyzbds2lZaW6uDBgzpy5IgefPBBnT17VsnJyUOOAQCAxBaxKzVut1ur\n",
              "V6+Ww+GQJJWWlqqtre1bj9u/f7+2bNkiSSouLtbtt9+u995771vHvs7n8+nq1asDtmAwOAYrAwAA\n",
              "8WhEURMIBPSP//iP2rp1qyTpD3/4g959991hHbtz50498MAD4Z+3bdumoqIiPfzwwzpz5owkqaur\n",
              "S36/X9OnTw8/Ljc3V16vd8ixwVRXVys9PX3Advjw4ZEsFwAAjCMjiprHHntMp06dCr+ElJGRob/6\n",
              "q7/61uN27Nih1tZWVVdXS5L27t2rU6dOqbm5WUuXLtWPfvSjkc/8W2zfvl3d3d0DtpKSkjF/HgAA\n",
              "EB9GFDWHDh3Sq6++KrfbLUmaPHmy/H7/kMe88MILevPNN/X222/rtttukyTNmjVLkuRwOPTYY4/p\n",
              "zJkz6urqUkZGhlwuly5evBg+vq2tTdnZ2UOODcayLKWlpQ3YnE7nSJYLAADGkRFFzY2YuSEYDCoU\n",
              "Ct308TU1Naqvr9c777yjyZMnS/ryJayOjo7wYxoaGjRt2jRlZGRIktatW6eXX35ZknTkyBGdO3dO\n",
              "y5Yt+9YxAACQ2Eb07qe5c+eqrq5OoVBIra2tev7557V8+fJBH/vpp5/qqaee0uzZs7VixQpJX149\n",
              "effdd/XDH/5QPp9PSUlJyszM1K9+9avwcc8//7weeeQR5efnKyUlRXV1deF3Nw01BgAAEpvDtm17\n",
              "uA/u7e3VU089pQMHDkiS1qxZoxdffDH8slK8q6ysVE1NTaynAQAAImDYV2qCwaB+9rOfaffu3dq9\n",
              "e3ck5wQAADBiw76nxul06re//W0k5wIAADBqI7pRePXq1frbv/1bnT9/fsCH2gEAAMTaiO6pSUr6\n",
              "3wZyOByybVsOh2PcfFIv99QAAGCuEb37aai3bwMAAMRSxL77CQAAIJpGdKUmKSkp/AWVXzVeXn4C\n",
              "AADmGlHU9PT0hP+5r69Pe/bsIWgAAEBcGNHLTxMnTgxvmZmZqqys1BtvvBGpuQEAAAzbLd1Tc+rU\n",
              "KX322WdjNRcAAIBRG9HLT1OmTAnfUxMMBmXbtnbt2hWRiQEAAIzEiKKmqanpfw90uTR9+nQ5nc6x\n",
              "nhMAAMCIjShqcnJyIjUPAACAWzKiqDl27Jj++q//WmfOnFEgEAh/ovCZM2ciNT8AAIBhGVHUbNy4\n",
              "UY899pgWL17My04AACCujChqnE6nNm/eHKm5AAAAjNqI3tJ9zz336OjRo5GaCwAAwKiN6EpNY2Oj\n",
              "Xn31VeXl5cntdof3Hzt2bMwnBgAAMBIjipqXXnopUvMAAAC4JSOKmmXLlsnv98vr9equu+6K1JwA\n",
              "AABGbET31Pzud79TTk6OVqxYIUk6cuSIysrKIjIxAACAkRhR1Gzbtk3vv/++MjIyJEnFxcU6fvx4\n",
              "RCYGAAAwEiOKmmAw+I2XnVJSUsZ0QgAAAKMxoqhxu93q7e0Nf6nlf/3Xf2nChAkRmRgAAMBIDCtq\n",
              "/uzP/kyS9PTTT+u+++7TuXPnVFZWppUrV+q5556L6AQBAACGY1jvfjp16pQk6Qc/+IEKCgp08OBB\n",
              "2batZ599lndBAQCAuDCsqLnxcpMk3Xnnndq6dWvEJgQAADAaw4qa5uZmfec73/nG/hvf0n358uUx\n",
              "nxgAAMBIDCtq5syZo1//+teRngsAA/T7g+r1BZRqueROdsZ6OgASyLCixrIs5eTkRHouAMaxSz0+\n",
              "1R1q08ETHerzBzUh2an7C6erbHGOMlOtWE8PQAIY1rufbNuO9DwAjGOXenx6vP64/vVDr675AnIl\n",
              "OXTNF1Ddh5/osdeP67NeX6ynCCABDCtq+NRgAEOpO9Sm1s4eTU21NGViiiZaLk2ZmKKpqZZaO3tU\n",
              "9/tPYj1FAAlgRB++BwBf1+8P6uCJDrldTrmcA/+T4nImyXI59fbJi+r3B2M0QwCJgqgBcEt6fQH1\n",
              "+YNKcQ3+nxPLlaS+61/ePAwAkUTUALglqZZLE5Kduh4IDTruC4Q0IcWpVGtY70sAgFGLWNT09/dr\n",
              "zZo1Kigo0Lx587Ry5Uq1trZKkjo7O7Vq1Srl5+ersLBQjY2N4eNGOwYgNtzJTq0qnKb+QFCB4MCw\n",
              "CQRD8gWCuv9703l7N4CIi+iVmoqKCn388cf66KOP9MADD+jRRx+VJG3btk2lpaVqaWlRbW2t1q9f\n",
              "L7/ff0tjAGLnkcW5ysuapEu9Pl2+dl3XfAFdvnZdl3p9ys+apLLFfCQEgMiLWNS43W6tXr06/BUL\n",
              "paWlamtrkyTt379fW7ZskSQVFxfr9ttv13vvvXdLY1/n8/l09erVAVswyI2KQCRkplp6af18lS3K\n",
              "UarbpUDIVqrbpbJFOdq1fj6fUwMgKqL2IvfOnTv1wAMPqKurS36/X9OnTw+P5ebmyuv1jnpsMNXV\n",
              "1Xr22WcH7CstLR3jVQG4ITPV0pMrC7Rl+V18ojCAmIjKjcI7duxQa2urqquro/F0kqTt27eru7t7\n",
              "wFZSUhK15wcSlTvZqcxUi6ABEHURj5oXXnhBb775pt5++23ddtttysjIkMvl0sWLF8OPaWtrU3Z2\n",
              "9qjHBmNZltLS0gZsTif/kQUAwFQRjZqamhrV19frnXfe0eTJk8P7161bp5dfflmSdOTIEZ07d07L\n",
              "li27pTEAAJDYInZPzaeffqqnnnpKs2fP1ooVKyR9efXkww8/1PPPP69HHnlE+fn5SklJUV1dnZKT\n",
              "kyVp1GMAACCxOewE+rbKyspK1dTUxHoaAAAgAvhEYQAAYASiBgAAGIGoAQAARiBqAACAEYgaAABg\n",
              "BKIGAAAYgagBAABGIGoAAIARiBoAAGAEogYAABiBqAEAAEYgagAAgBGIGgAAYASiBgAAGIGoAQAA\n",
              "RiBqAACAEYgaIM71+4P6rNenfn8w1lMBgLjmivUEAAzuUo9PdYfadPBEh/r8QU1Idur+wukqW5yj\n",
              "zFQr1tMDgLjDlRogDl3q8enx+uP61w+9uuYLyJXk0DVfQHUffqLHXj+uz3p9sZ4iAMQdogaIQ3WH\n",
              "2tTa2aOpqZamTEzRRMulKRNTNDXVUmtnj+p+/0mspwgAcYeoAeJMvz+ogyc65HY55XIOPEVdziRZ\n",
              "LqfePnmRe2wA4GuIGiDO9PoC6vMHleIa/PS0XEnqux5Ury8Q5ZkBQHwjaoA4k2q5NCHZqeuB0KDj\n",
              "vkBIE1KcSrW4zx8AvoqoAeKMO9mpVYXT1B8IKhAcGDaBYEi+QFD3f2+63MnOGM0QAOIT/6sHxKFH\n",
              "Fufqw7Ofq7WzR5bLKcuVJF/gy6DJz5qkssU5sZ4iAMQdrtQAcSgz1dJL6+erbFGOUt0uBUK2Ut0u\n",
              "lS3K0a718/mcGgAYBFdqgDiVmWrpyZUF2rL8LvX6Akq1XLzkBABDIGqAOOdOdhIzADAMvPwEAACM\n",
              "QNQAAAAjEDUAAMAIRA0AADACUQMAAIxA1AAAACMQNQAAwAgRjZonnnhCubm5cjgcampqCu/Pzc3V\n",
              "nDlz5PF45PF4tG/fvvBYS0uLlixZooKCAhUXF+vkyZPDGgMAAIktolHz0EMP6YMPPlBOzje/p2bf\n",
              "vn1qampSU1OTHn744fD+zZs3q6KiQqdPn1ZVVZXKy8uHNQYAABJbRKPm3nvv1cyZM4f9+M7OTh09\n",
              "elRlZWWSpLVr16q9vV2tra1DjgEAAMTsnpoNGzaoqKhImzZt0qVLlyRJ7e3tmjFjhlyuL7+9weFw\n",
              "KDs7W16vd8ixwfh8Pl29enXAFgwGo7M4AAAQdTGJmsbGRjU3N+vYsWPKzMzUxo0bx/w5qqurlZ6e\n",
              "PmA7fPjwmD8PAACIDzGJmuzsbElScnKynnzySb3//vuSpFmzZunChQsKBAKSJNu25fV6lZ2dPeTY\n",
              "YLZv367u7u4BW0lJSRRWBwAAYiHqUXPt2jVduXIl/HN9fb3mz58vScrKytKCBQtUV1cnSWpoaNDM\n",
              "mTOVl5c35NhgLMtSWlragM3p5JuOAQAwlcO2bTtSf/jmzZv11ltv6eLFi8rIyNCkSZP0m9/8RmvX\n",
              "rlUwGJRt25o9e7Z27typ3NxcSdLHH3+s8vJydXV1KS0tTbW1tSoqKvrWseGorKxUTU1NJJYKAABi\n",
              "LKJRE2+IGgAAzMUnCgMAACMQNQAAwAhEDQAAMAJRAwAAjEDUAAAAIxA1AADACEQNAAAwAlEDAACM\n",
              "QNQAAAAjEDUAAMAIRA0AADACUQMAAIxA1AAAACMQNQAAwAhEDQAAMAJRAwAAjEDUAAAAIxA1AADA\n",
              "CEQNAAAwAlEDAACMQNQAAAAjEDUAAMAIRA0AADACUQMAAIxA1AAAACMQNQAAwAhEDQAAMAJRAwAA\n",
              "jEDUAAAAIxA1AADACEQNAAAwAlEDAACMQNQAAAAjEDUAAMAIRA0AADACUQMAAIwQ0ah54oknlJub\n",
              "K4fDoaampvD+lpYWLVmyRAUFBSouLtbJkydveQwAACS2iEbNQw89pA8++EA5OTkD9m/evFkVFRU6\n",
              "ffq0qqqqVF5efstjAAAgsTls27Yj/SS5ubk6cOCAPB6POjs7lZeXp8uXL8vlcsm2bc2YMUMffPCB\n",
              "0tLSRjWWl5f3jef0+Xzy+XwD9j3zzDPauXNnpJcLAABiIOr31LS3t2vGjBlyuVySJIfDoezsbHm9\n",
              "3lGPDaa6ulrp6ekDtsOHD0dnkQAAIOqMvVF4+/bt6u7uHrCVlJTEeloAACBCXNF+wlmzZunChQsK\n",
              "BALhl5G8Xq+ys7OVlpY2qrHBWJYly7IG7HM6ndFYIgAAiIGoX6nJysrSggULVFdXJ0lqaGjQzJkz\n",
              "lZeXN+oxAACAiN4ovHnzZr311lu6ePGiMjIyNGnSJLW2turjjz9WeXm5urq6lJaWptraWhUVFUnS\n",
              "qMeGo7KyUjU1NRFZKwAAiK2ovPspXhA1AACYy9gbhQEAQGIhagAAgBGIGgAAYASiBgAAGIGoAQAA\n",
              "RiBqAACAEYiaBNf9xXWd7uhR9xfXYz0VAABuSdS/JgHx4dSFq/qbX55Q06fdCoVsJSU5NH/WZP1s\n",
              "TaEKpk2K9fQAABgxrtQkoFMXrur/7P69jrR9rmAwJDmkYDCkw2cv66F//r863dET6ykCADBiRE0C\n",
              "+ptfnlBPf0ApTodSXE4lJyUpxeVUitOhnv6AnjlwItZTBABgxIiaBNP9xXU1fdqtJIeUlDTw15+U\n",
              "lKQkh3S8/Qr32AAAxh2iJsF09PgUCtlyJDkGHXckORQK2ero8UV5ZgAA3BqiJsFMm2QpKckhOzT4\n",
              "95ja//+m4WmTrCjPDACAW0PUJJj021LkmZmukC2FQqEBY6FQSCFbmj9rstJvS4nRDAEAGB2iJgE9\n",
              "92CRJrlduh60dT0QlD8U0vVAUNeDtia5XfrZmsJYTxEAgBEjahJQwbRJemPrEpXc+R05nUmSLTmd\n",
              "SSq58zt6Y+sSPqcGADAu8eF7Capg2iTt27xY3V9cV0ePT9MmWbzkBAAY14iaBJd+WwoxAwAwAi8/\n",
              "AQAAIxA1AADACEQNAAAwAlEDAACMQNQAAAAjEDUAAMAIRA0AADACUQMAAIxA1AAAACMQNQAAwAhE\n",
              "DQAAMAJRAwAAjEDUAAAAIxA1AADACEQNAAAwAlEDAACMQNQAAAAjxCxqcnNzNWfOHHk8Hnk8Hu3b\n",
              "t0+S1NLSoiVLlqigoEDFxcU6efJk+JihxgAAQGKL6ZWaffv2qampSU1NTXr44YclSZs3b1ZFRYVO\n",
              "nz6tqqoqlZeXhx8/1BgAAEhscfXyU2dnp44ePaqysjJJ0tq1a9Xe3q7W1tYhxwbj8/l09erVAVsw\n",
              "GIzaWgAAQHTFNGo2bNigoqIibdq0SZcuXVJ7e7tmzJghl8slSXI4HMrOzpbX6x1ybDDV1dVKT08f\n",
              "sB0+fDhqawMAANEVs6hpbGxUc3Ozjh07pszMTG3cuHFM//zt27eru7t7wFZSUjKmzwEAAOKHK1ZP\n",
              "nJ2dLUlKTk7Wk08+qYKCAs2aNUsXLlxQIBCQy+WSbdvyer3Kzs5WWlraTccGY1mWLMsasM/pdEZ8\n",
              "XQAAIDZicqXm2rVrunLlSvjn+vp6zZ8/X1lZWVqwYIHq6uokSQ0NDZo5c6by8vKGHIu1fn9Qn/X6\n",
              "1O/nnh0AAGIlJldqOjo6tHbtWgWDQdm2rdmzZ2vPnj2SpN27d6u8vFw7duxQWlqaamtrw8cNNRYL\n",
              "l3p8qjvUpoMnOtTnD2pCslP3F05X2eIcZaZa3/4HAACAMeOwbduO9SSipbKyUjU1NWPyZ13q8enx\n",
              "+uNq7eyR2+VUiitJ1wMh9QeCysuapJfWzydsAACIorh6S/d4UneoTa2dPZqaamnKxBRNtFyaMjFF\n",
              "U1MttXb2qO73n8R6igAAJBSiZhT6/UEdPNEht8spl3PgX6HLmSTL5dTbJy9yjw0AAFFE1IxCry+g\n",
              "Pn9QKa7B//osV5L6rgfV6wtEeWYAACQuomYUUi2XJiQ7dT0QGnTcFwhpQopTqVbM3jEPAEDCIWpG\n",
              "wZ3s1KrCaeoPBBUIDgybQDAkXyCo+783Xe5kPhcHAIBo4VLCKD2yOFcfnv1crZ09slxOWa4k+QJf\n",
              "Bk1+1iSVLc6J9RQBAEgoXKkZpcxUSy+tn6+yRTlKdbsUCNlKdbtUtihHu3g7NwAAUceVmluQmWrp\n",
              "yZUF2rL8LvX6Akq1XLzkBABAjBA1Y8Cd7CRmAACIMV5+AgAARiBqAACAEYgaAABgBKIGAAAYgagB\n",
              "AABGIGoAAIARiBoAAGAEogYAABiBqAEAAEYgagAAgBEctm3bsZ5EtPzpn/6pcnNzY/b8wWBQhw8f\n",
              "VklJiZxO879WIZHWm0hrlRJrvazVXIm03vG+1pycHP3lX/7ltz4uoaIm1q5evar09HR1d3crLS0t\n",
              "1tOJuERabyKtVUqs9bJWcyXSehNlrbz8BAAAjEDUAAAAIxA1AADACERNFFmWpZ/+9KeyLCvWU4mK\n",
              "RFpvIq1VSqz1slZzJdJ6E2Wt3CgMAACMwJUaAABgBKIGAAAYgagBAABGIGrGUG5urubMmSOPxyOP\n",
              "x6N9+/ZJklpaWrRkyRIVFBSouLhYJ0+eDB8z1Fi8eeKJJ5SbmyuHw6Gmpqbw/tGuL57XfrO13ux3\n",
              "LI3ftfb392vNmjUqKCjQvHnztHLlSrW2tkqSOjs7tWrVKuXn56uwsFCNjY3h40Y7FmtDrXf58uW6\n",
              "8847w7/fF198MXzceF3vfffdp7lz58rj8Wjp0qU6fvy4JDPPW+nm6zXx3L2htrZWDodDBw4ckGTm\n",
              "eTtsNsZMTk6Offz48W/sX7FihV1bW2vbtm3/27/9m3333XcPayzevPfee3Z7e/s31jna9cXz2m+2\n",
              "1pv9jm17/K61r6/Pfuutt+xQKGTbtm3v2rXLXrZsmW3btv3nf/7n9k9/+lPbtm378OHD9h133GFf\n",
              "v379lsZibaj1Llu2zP7FL34x6HHjdb2ff/55+J/ffPNNe+7cubZtm3ne2vbN12viuWvbtn327Fl7\n",
              "8eLFdmlpafjfXRPP2+EiasbQYCdNR0eHPWnSJNvv99u2bduhUMieNm2a3dLSMuRYPPvqOke7vvGy\n",
              "9uFGjQlrveHIkSN2Tk6Obdu2PXHiRPvChQvhseLiYvudd965pbF489X1DhU1Jqy3trbWnjdvnvHn\n",
              "7Q031mvbZp67wWDQ/v73v28fPXp0wL+7iXDe3gwvP42xDRs2qKioSJs2bdKlS5fU3t6uGTNmyOVy\n",
              "SZIcDoeys7Pl9XqHHBsvRru+8bz2r/+OpdH/PcSjnTt36oEHHlBXV5f8fr+mT58eHsvNzZXX6x31\n",
              "WDy6sd4btm3bpqKiIj388MM6c+aMJI379W7YsEGzZs3SM888o7179xp/3n59vV/db9K5W1NTo3vu\n",
              "uUcLFy4M70uU8/ZmiJox1NjYqObmZh07dkyZmZnauHFjrKeEMWb673jHjh1qbW1VdXV1rKcSFV9f\n",
              "7969e3Xq1Ck1Nzdr6dKl+tGPfhTjGY6NPXv2qL29Xc8995yqqqpiPZ2IG2y9pp27J06cUENDg55+\n",
              "+ulYTyW+xPpSkanOnz9vp6amjutLmzeTyC8/fdWN37Ftj+9L2Df8wz/8g71w4cIB9yTcdtttN70c\n",
              "PdqxeDHYer/Osiz7s88+s217/K/3BrfbbV+8eNHo8/ar3G53+Hd4gwnn7s9//nN7+vTpdk5Ojp2T\n",
              "k2NblmVPnTrV/vnPf270efttuFIzRq5du6YrV66Ef66vr9f8+fOVlZWlBQsWqK6uTpLU0NCgmTNn\n",
              "Ki8vb8ix8WK06xuPa7/Z71ga/d9DvKipqVF9fb3eeecdTZ48Obx/3bp1evnllyVJR44c0blz57Rs\n",
              "2bJbGosHg603EAioo6Mj/JiGhgZNmzZNGRkZksbneq9cuaLz58+Hfz5w4IAyMjKMPW9vtl63223c\n",
              "ubt161ZduHBBbW1tamtrU2lpqV555RVt3brV2PN2WGJdVab4wx/+YHs8HruoqMguLCy0f/zjH9tn\n",
              "z561bdu2T506ZZeWltr5+fn2woUL7ebm5vBxQ43Fm4qKCvuOO+6wnU6nnZWVZd911122bY9+ffG8\n",
              "9sHWOtTv2LbH71rb29ttSfbs2bPtefPm2fPmzbNLSkps27btixcv2itXrrTz8vLs7373u/a7774b\n",
              "Pm60Y7F2s/X29vbaCxcutAsLC+25c+faf/Inf2I3NTWFjxuP621ra7OLi4vDa/r+978fvvJo4nl7\n",
              "s/Waeu5+1VdvFDbxvB0uvvsJAAAYgZefAACAEYgaAABgBKIGAAAYgagBMC709PQoNTVVmzZtivVU\n",
              "AMQpogbAuLBv3z4tXLhQb775pnp7e2M9HQBxiKgBMC689tprqqqq0r333hv+hmW/36+/+Iu/UEFB\n",
              "gUpLS/XUU09p+fLl4WP27t2rRYsWacGCBbr33nv10UcfxWj2AKLBFesJAMC3+e///m+1t7frBz/4\n",
              "gQKBgP7u7/5OmzZt0iuvvKKWlhadPHlSkrR69erwMf/5n/+p+vp6NTY2yrIsvf/++1q/fn34sQDM\n",
              "w5UaAHHvtdde04YNG+R0OrV69WqdPXtW//M//6P/+I//UFlZmZKTk5WcnDzg+3x++ctf6qOPPtKi\n",
              "RYvk8Xj0+OOP6/Lly+rr64vhSgBEEldqAMQ1v9+vvXv3Kjk5Wa+//rok6YsvvtBrr732jcc6HI7w\n",
              "P9u2rY0bN2rHjh1RmyuA2OJKDYC49qtf/UqzZ8/WuXPnwt9zc+jQIe3du1crVqzQ66+/Lr/fL7/f\n",
              "rz179oSP+/GPf6y6ujp5vV5JUigU0tGjR2O1DABRwJUaAHHttdde009+8pMB+/7oj/5Id9xxh7Ky\n",
              "spSbm6vvfve7mjJliu6+++7wFxouXbpUf//3f68HH3xQgUBA169f1w9/+EPdfffdsVgGgCjgu58A\n",
              "jGs9PT2aNGmS/H6/fvKTn2jhwoWqqqqK9bQAxABRA2BcW7RokXw+n/r7+/XHf/zH2rVrlyZMmBDr\n",
              "aQGIAaIGAAAYgRuFAQCAEYgaAABgBKIGAAAYgagBAABGIGoAAIARiBoAAGAEogYAABiBqAEAAEb4\n",
              "fwpXi7Grc1ZlAAAAAElFTkSuQmCC\n",
              "\">\n",
              "      </div>\n",
              "      <script type=\"text/javascript\">\n",
              "        (() => {\n",
              "          const chartElement = document.getElementById(\"chart-c2e4dc84-7978-4901-9578-3fbae96197bc\");\n",
              "          async function getCodeForChartHandler(event) {\n",
              "            const chartCodeResponse =  await google.colab.kernel.invokeFunction(\n",
              "                'getCodeForChart', [\"chart-c2e4dc84-7978-4901-9578-3fbae96197bc\"], {});\n",
              "            const responseJson = chartCodeResponse.data['application/json'];\n",
              "            await google.colab.notebook.addCell(responseJson.code, 'code');\n",
              "          }\n",
              "          chartElement.onclick = getCodeForChartHandler;\n",
              "        })();\n",
              "      </script>\n",
              "      <style>\n",
              "        .colab-quickchart-chart-with-code  {\n",
              "            display: block;\n",
              "            float: left;\n",
              "            border: 1px solid transparent;\n",
              "        }\n",
              "\n",
              "        .colab-quickchart-chart-with-code:hover {\n",
              "            cursor: pointer;\n",
              "            border: 1px solid #aaa;\n",
              "        }\n",
              "      </style>"
            ]
          },
          "metadata": {}
        },
        {
          "output_type": "display_data",
          "data": {
            "text/plain": [
              "<google.colab._quickchart_helpers.SectionTitle at 0x793d39ca3ac0>"
            ],
            "text/html": [
              "<h4 class=\"colab-quickchart-section-title\">Values</h4>\n",
              "<style>\n",
              "  .colab-quickchart-section-title {\n",
              "      clear: both;\n",
              "  }\n",
              "</style>"
            ]
          },
          "metadata": {}
        },
        {
          "output_type": "display_data",
          "data": {
            "text/plain": [
              "from matplotlib import pyplot as plt\n",
              "_df_8['Surname'].plot(kind='line', figsize=(8, 4), title='Surname')\n",
              "plt.gca().spines[['top', 'right']].set_visible(False)"
            ],
            "text/html": [
              "      <div class=\"colab-quickchart-chart-with-code\" id=\"chart-2d65a27d-1951-448d-b98f-4912e9a241a6\">\n",
              "        <img style=\"width: 180px;\" src=\"data:image/png;base64,iVBORw0KGgoAAAANSUhEUgAAAqUAAAF5CAYAAACmzFP7AAAAOXRFWHRTb2Z0d2FyZQBNYXRwbG90\n",
              "bGliIHZlcnNpb24zLjcuMSwgaHR0cHM6Ly9tYXRwbG90bGliLm9yZy/bCgiHAAAACXBIWXMAAA9h\n",
              "AAAPYQGoP6dpAABPFUlEQVR4nO3deXhU9d3+8fcs2feFhCUbkIQtQFgSEHHBBRUt0CJFUQGfKtrW\n",
              "qqUL8qu7VrpYrK3P02JrsRZBtLRIcQdRBJGEJWCAkAQISYAkZF8g22R+fyRMjbIlmeRMkvt1XePF\n",
              "nO+cM5/DMZObc+Zzvia73W5HRERERMRAZqMLEBERERFRKBURERERwymUioiIiIjhFEpFRERExHAK\n",
              "pSIiIiJiOIVSERERETGcQqmIiIiIGE6hVEREREQMp1AqIiIiIoZTKBURERERwymUiohcwNGjR7n9\n",
              "9tvp378/vr6+9O/fn2nTpnHy5EmjSxMR6VEUSkVELmDatGn4+fmRnp5OdXU1e/bsYc6cOZhMpnZt\n",
              "r76+3skVioj0DAqlIiLnUVJSQkZGBvfffz/BwcEAhIeHM3/+fPr27curr75KREREq3WefPJJJk+e\n",
              "7Hh+9dVX88ADD3DbbbcRFBTEgw8+6Fhv+fLlxMTEEBAQwOzZs6msrHSs9/jjjxMfH4+fnx+RkZH8\n",
              "6Ec/4vTp047xBQsWMGfOHL7//e8TEhJCaGgov//978nLy+OGG27Az8+P4cOHs3379lb1vfbaa4we\n",
              "PZqAgABGjBjBG2+80Rl/dSIibaZQKiJyHiEhIYwcOZL77ruPFStWsG/fPpqamtq8nRUrVjBv3jxK\n",
              "SkpYtmwZAAUFBWRkZHDw4EEyMjJIS0vjd7/7nWOduLg4Nm7cSGVlJe+//z7vvfcezzzzTKvtrlu3\n",
              "jmuvvZaioiL++te/smjRIubNm8fzzz9PeXk5119/PQsWLHC8/tVXX+XRRx/llVdeoaysjOXLl7Nw\n",
              "4UK2bt3avr8gEREnUigVEbmAzZs3c9NNN/GnP/2J5ORkQkND+elPf0pdXd0lb2P69OlMmzYNs9mM\n",
              "t7c3AFarld/85jd4eXnRr18/Zs6cSUpKimOdu+66i6ioKEwmEyNGjOCHP/whH374YavtTp48mVtv\n",
              "vRWLxcLMmTMJCAhg6tSpjBw5EovFwrx588jMzKSiogKAZcuW8Ytf/ILx48djNpuZPHkyc+bM4dVX\n",
              "X+34X5SISAdZjS5ARMSVhYSE8PTTT/P0009TV1fHe++9x/z58/H19SUmJuaStjFw4MBvLAsNDcXN\n",
              "zc3x3MfHh6qqKsfz5cuXs3z5co4dO0ZjYyMNDQ2EhIS02ka/fv1aPffx8Wm1zMfHB4CqqioCAgLI\n",
              "ysriJz/5CYsXL3a8prGxkSuvvPKS9kNEpDPpTKmIyCXy8PBg5syZXHfddezevRs/Pz9qampavebE\n",
              "iRPfWM9sbttH7fbt23nggQf43e9+R0FBARUVFfzyl7/Ebrd3qP6+ffvyf//3f5SXlzse1dXVvPvu\n",
              "ux3aroiIMyiUioicR1lZGY888gj79u2jrq4Om83Gpk2b2Lx5M1deeSVjxoyhqqqKNWvW0NTUxCef\n",
              "fMJbb73V4fetqKjAYrHQp08f3Nzc2L17Ny+99FKHt/vwww/zzDPPkJqaSlNTE3V1daSmprJr164O\n",
              "b1tEpKN0+V5E5Dzc3d0pLi5m9uzZnDhxAovFQkREBIsXL+YnP/kJJpOJl156iZ/+9Kfce++93Hzz\n",
              "zdx9992tvhvaHlOnTuX+++/n6quvpqGhgcsuu4z58+fz8ssvd2i7Dz30EKGhodx///0cPnwYq9VK\n",
              "QkICTz/9dIe2KyLiDCZ7R68HiYiIiIh0kC7fi4iIiIjhFEpFRERExHAKpSIiIiJiOIVSERERETGc\n",
              "QqmIiIiIGE6hVEREREQMp1AqIiIiIobr9qH0xRdfNLoEEREREemgbh9Kjx07ZnQJIiIiItJB3T6U\n",
              "ioiIiEj3p1AqIiIiIoZTKBURERERwymUioiIiIjhFEpFRERExHAKpSIiIiJiOIVSERERETGcQqmI\n",
              "iIiIGE6hVEREREQMp1AqIiIiIoZTKBWRbqX8dL3RJYiISCdQKBWRbuPPnx4m8emPeDM1z+hSRETE\n",
              "yRRKRaRbOFpcw7KPMoHmcGq32w2uSEREnEmhVERcnt1u54n1+6lvbALgSHEN24+UGFyViIg4k0Kp\n",
              "iLi899IL2JJ5CneLmavi+wCwakeuwVWJiIgzKZSKiEurrmvk6f8cAOD+qwfzsxuGAPDB/gKKq+uM\n",
              "LE1ERJxIoVREXNofNmVRUFlLZLAXP7h6MAkDAhgdEUCDzc4/d+UbXZ6IiDiJQqmIuKxDBVW8svUo\n",
              "AE9PT8DTzQLA3AlRAKxOyaWpSQ1PIiI9gUKpiLgku93OY+vSsTXZuWFEOFOGhjnGvjW6P34eVo6V\n",
              "nObzw2p4EhHpCRRKRcQl/Wv3cVJySvFys/D4t0a0GvN2t/LtsQMAeH3HMSPKExERJ1MoFRGXU3G6\n",
              "gefePQjAg9fGMSDQ6xuvOXsJ/6MDhRRV1XZpfSIi4nwKpSLicn77YQYlNfXEhvnyvckDz/maoX39\n",
              "GRsVSGOTnbd2quFJRKS7UygVEZeyL7+c11vuQfrMjATcref/mJo7IRpQw5OISE/Q7lC6YsUKTCYT\n",
              "69atA6CoqIgbb7yRuLg4EhIS2LJli+O17R0Tkd7F1mTn0XXp2O3w7TEDuGxwyAVff8uofvh7Wskv\n",
              "O8OWrFNdVKWIiHSGdoXSnJwc/vKXvzBx4kTHskceeYSJEyeSlZXFihUrmDt3Lg0NDR0aE5HeZVVK\n",
              "LvvyK/DzsLJk2tCLvt7TzcJ3xkY0r6sZnkREurU2h9Kmpibuuece/vjHP+Lh4eFY/uabb3L//fcD\n",
              "kJSURP/+/fn00087NCYivUdxdR2/fT8DgJ/eMIQwP89LWu+OloanTRlFFFaq4UlEpLtqcyhdtmwZ\n",
              "l19+OePGjXMsKykpoaGhgb59+zqWxcTEkJub2+6xc6mrq6OysrLVw2aztXUXRMQFLX03g8raRkb0\n",
              "9+fOidGXvF5cuB9JMUHYmuysSc3rxApFRKQztSmUpqens3btWh599NHOqueCli5dSkBAQKtHSkqK\n",
              "IbWIiPPsOFLC2t35mEzw7MwELGZTm9Y/e3uoN1JysanhSUSkW2pTKP3ss8/IyckhLi6OmJgYvvji\n",
              "CxYuXMibb76J1WqloKDA8dqcnByioqIICQlp19i5LFmyhIqKilaP5OTktu6ziLiQBlsTj72dDsBt\n",
              "SVGMiQpq8zZuSuhHoLcbJypq+TSzyNkliohIF2hTKP3+97/PyZMnycnJIScnh4kTJ/Lyyy/z/e9/\n",
              "n9mzZ/PnP/8ZgNTUVI4fP85VV10F0O6xr/Pw8MDf37/Vw2KxtG/PRcQlvLoth8zCaoJ93Pn5DUPa\n",
              "tQ1PNwuz1PAkItKtWZ21oV//+tfcddddxMXF4e7uzsqVK3Fzc+vQmIj0bCcrzvDCxkwAHrlpKEE+\n",
              "7u3e1u3JUbyy9SgfZxRxovwM/c8xC5SIiLguk91u79ZfwFq0aBHLli0zugwRaYcfvL6Ld78sYFx0\n",
              "EG/ddxnmNn6X9OvmLN/OjqOlPHRtHD++Pt5JVYqISFfQjE4iYohPM0/x7pcFWMwmnp2Z0OFACv9t\n",
              "eFqTmkejranD2xMRka6jUCoiXa62wcYTLc1NCybFMKyfv1O2e2NCX4J93CmorGXzIc3wJCLSnSiU\n",
              "ikiXW/7pEXJKThPu78HD18U5bbseVguzxzU3PL2+45jTtisiIp1PoVREutSxkhr+95NsAB69eTh+\n",
              "ns5tbLw9ufkS/qeZp8grPe3UbYuISOdRKBWRLmO323li/X7qG5uYHBvKLaP6Of09YkJ9uDw2BLsd\n",
              "zfAkItKNKJSKSJf5YH8hnxw6hbvFzNMzRmAydby56VzmJjdPU7pmZx4NangSEekWFEpFpEvU1DXy\n",
              "9H/2A3DfVYMY1Me3097r+uHhhPq6c6qqjk0HCzvtfURExHkUSkWkS/zh4yxOVNQSEeTFD66O7dT3\n",
              "creamT0+EoDXNcOTiEi3oFAqIp0uq7CKVz47CsBT00fg5d750wPfntTc8PRZVjG5JWp4EhFxdQql\n",
              "ItKp7HY7j65Lp7HJzvXDw7l2WHiXvG9UiDdXxIUCsDpVZ0tFRFydQqmIdKp1acfZcbQUTzczT3xr\n",
              "eJe+9x0tMzy9tTOP+kY1PImIuDKFUhHpNBVnGvjlOwcB+NE1cUQEeXfp+187LJw+fh4UV9fz0QE1\n",
              "PImIuDKFUhHpNMs+PERxdT2D+/hw7xWDuvz93Sxm5rQ0PK1K0QxPIiKuTKFURDrFl/kV/OOL5iD4\n",
              "zIwE3K3GfNzclhyJyQTbskvIKa4xpAYREbk4hVIRcbqmJjuPvp1Okx2mj+7PpNhQw2qJCPLmqvg+\n",
              "AKxOUcOTiIirUigVEad7IzWPvXnl+HpYefTmYUaXw9zkloanXfnUNdoMrkZERM5FoVREnKqkuo5f\n",
              "v58BwE+mxhPm72lwRXDN0DD6+ntSWlPPB/vV8CQi4ooUSkXEqX71XgYVZxoY3s+fuyZGG10OAFaL\n",
              "mTlJLTM8faGGJxERV6RQKiJOszOnlLd25QPwzMwErBbX+Yi5LTkSswl2HC0lu6ja6HJERORrXOc3\n",
              "hoh0a422Jh5dlw7AbUmRjIsOMrii1voFeHHN0DBADU8iIq5IoVREnOLVz3PIKKgiyNuNxTcONbqc\n",
              "c5rbMsPT2t351Dao4UlExJUolIpIhxVU1PLCR5kALL5xKEE+7gZXdG5XxYcxINCL8tMNvJd+0uhy\n",
              "RETkKxRKRaTDnnnnADX1NsZEBfLdlhmUXJHFbHI0PK3aoUv4IiKuRKFURDrks6xTvLPvJGYTPDsz\n",
              "AbPZZHRJFzQnKRKL2URqThmZhVVGlyMiIi0USkWk3eoabTz+9n4A5k+KYUT/AIMrurhwf0+ubWl4\n",
              "0tlSERHXoVAqIu328qdHOFpcQx8/D358fbzR5Vyysw1P/1LDk4iIy1AoFZF2ySs9zUubswF49OZh\n",
              "+Hu6GVzRpbsyrg8RQV5U1jayYZ8ankREXIFCqYi0md1u54n1+6lrbGLS4BCmj+5vdEltYjabuD25\n",
              "+Wzpqh2a4UlExBW0OZROnTqVUaNGkZiYyBVXXMGePXsAiImJYciQISQmJpKYmMiaNWsc62RlZTFp\n",
              "0iTi4+NJSkpi//79lzQmIq7powOFfJxRhJvFxNMzEjCZXLu56Vxmj4/AajaxO7ecjIJKo8sREen1\n",
              "2hxK33zzTfbt20daWhqLFi1iwYIFjrE1a9aQlpZGWloac+bMcSy/7777WLhwIZmZmSxevLjVOhca\n",
              "ExHXc7q+kaf+cwCAe68YRGyYr8EVtU+YnyfXDw8H1PAkIuIK2hxKAwMDHX+uqKi46BmSoqIidu7c\n",
              "yZ133gnArFmzyMvLIzs7+4JjIuKaXvo4m+PlZxgQ6MWProkzupwOOdvw9O/dxzld32hwNSIivZu1\n",
              "PSvNmzePzZs3A/Duu++2Wm6320lOTuZXv/oVffr0IS8vj379+mG1Nr+VyWQiKiqK3NxcAgICzjsW\n",
              "Gxv7jfetq6ujrq6u1TKbTZ2zIl0lu6iKv3x2BIAnp4/Ay91icEUdc/ngUKJDvDlWcpoNe0/y3STX\n",
              "vfG/iEhP165Gp9dee428vDyeffZZFi9eDMCWLVvYt28fu3fvJjQ0lPnz5zu1UIClS5cSEBDQ6pGS\n",
              "kuL09xGRb7Lb7Ty2bj8NNjvXDQtzXPruzr7a8PS6Gp5ERAzVoe77+fPns3nzZkpKSoiKav5gd3Nz\n",
              "4+GHH+azzz4DIDIykpMnT9LY2HxpzG63k5ubS1RU1AXHzmXJkiVUVFS0eiQnJ3dkF0TkEq3fe4Lt\n",
              "R0rwsJp54lsjjC7HaW4dF4GbxcTe/ArSj1cYXY6ISK/VplBaXl7OiRMnHM/XrVtHSEgInp6elJeX\n",
              "O5avXr2aMWPGABAWFsbYsWNZuXIlAGvXriUiIoLY2NgLjp2Lh4cH/v7+rR4WS/e+fCjSHVTWNvDs\n",
              "OwcB+NE1sUQGextckfOE+npww4i+AKxKUcOTiIhR2vSd0oqKCmbPns2ZM2cwm8306dOHDRs2UFhY\n",
              "yKxZs7DZbNjtdgYNGsRrr73mWG/58uUsWLCA5557Dn9/f1asWHFJYyLiGpZ9mMmpqjoGhfpw75WD\n",
              "jC7H6eZOiGLDvpO8vec4/2/aMHw92vV1exER6YA2ffJGR0ef9zucZ+9Xei5Dhgxh+/btbR4TEeOl\n",
              "H6/gte05ADw9IwEPa8+7OnHZoBAGhfpwpLiG9WknHF35IiLSdTSjk4icV1OTncfeTqfJDreM6sfk\n",
              "uFCjS+oUJtNXZnhKUcOTiIgRFEpF5Lze3JnHntxyfD2sPHbLcKPL6VSzxkXgbjGTfrySffnlRpcj\n",
              "ItLrKJSKyDmV1tTzq/czAPjx9fGE+3saXFHnCvZx56aRLQ1PmuFJRKTLKZSKyDn9+r0Myk83MLSv\n",
              "H/Mviza6nC4xt+US/vq9J6iqbTC4GhGR3kWhVES+YdexMtbszAPg2ZkJWC2946MieWAwsWG+nK63\n",
              "sS7txMVXEBERp+kdv2lE5JI12pp4dF06AN8dH8H4mGCDK+o6rRqeduRit9sNrkhEpPdQKBWRVl7b\n",
              "foyDJysJ9HbjkZuGGV1Ol5s1dgDuVjMHT1aSlldudDkiIr2GQqmIOBRW1rLso0wAfn7DUIJ93A2u\n",
              "qOsFertzy8h+gBqeRES6kkKpiDj88p2DVNc1MjoykNuSIo0uxzBnb57/n30nqDijhicRka6gUCoi\n",
              "AGzLLmb93hOYTfDLmQmYzSajSzLMuOgghoT7UdvQxLo9x40uR0SkV1AoFRHqGm089nZzc9NdE6NJ\n",
              "GBBgcEXGMplMjrOlr+84poYnEZEuoFAqIvz1s6McOVVDqK8Hi6YOMboclzBzzAA83cxkFlaz61iZ\n",
              "0eWIiPR4CqUivVxe6Wn++HEWAI/ePIwALzeDK3INAV5ufGtUf0ANTyIiXUGhVKSXe+o/B6htaGLi\n",
              "oGBmJPY3uhyXcvYS/oYvT1J+ut7gakREejaFUpFebOOBQjYeLMRqNvHMjARMpt7b3HQuiZGBDOvn\n",
              "T31jE2t3q+FJRKQzKZSK9FJn6m08+Z/9ANxzxSDiwv0Mrsj1fLXhaZUankREOpVCqUgv9b+bs8kv\n",
              "O0P/AE8evDbW6HJc1szE/ni7Wzh8qoaUo6VGlyMi0mMplIr0QodPVbN8y2EAnpg+Am93q8EVuS4/\n",
              "Tzemj25peEpRw5OISGdRKBXpZex2O4+/nU6Dzc6UIX2YOjzc6JJc3tlL+O99WUBpjRqeREQ6g0Kp\n",
              "SC+zYd9JtmWX4GE189R0NTddilERgSQM8Kfe1sTaXflGlyMi0iMplIr0IlW1DTyz4QAAP5wSS1SI\n",
              "t8EVdR9zk6MBWJ2Sq4YnEZFOoFAq0ou88FEWRVV1xIR4s/DKQUaX061MT+yPj7uFI8U1bD9SYnQ5\n",
              "IiI9jkKpSC9x4EQlf9+eA8DTMxLwdLMYW1A34+thZcaYAYBmeBIR6QwKpSK9QFOTncfeTsfWZOfm\n",
              "kf24Mr6P0SV1S3OTmxuePthfQHF1ncHViIj0LAqlIr3AP3fls+tYGT7uFh67ZbjR5XRbCQMCGB0Z\n",
              "SIPNzj/V8CQi4lQKpSI9XFlNPUvfOwjAw9fF0zfA0+CKurc7ks/O8JRLU5MankREnEWhVKSH+80H\n",
              "hyg73cCQcD8WXB5jdDnd3i2j++HnYSW39DTbDhcbXY6ISI+hUCrSg+3OLeON1OamnGe/nYCbRT/y\n",
              "HeXtbuXbY9XwJCLibG3+DTV16lRGjRpFYmIiV1xxBXv27AEgKyuLSZMmER8fT1JSEvv373es094x\n",
              "EWm/RlsTj61Lx26HW8dFkBQTbHRJPcbZGZ4+OlBIUVWtwdWIiPQMbQ6lb775Jvv27SMtLY1Fixax\n",
              "YMECAO677z4WLlxIZmYmixcvdizvyJiItN/KL46x/0Ql/p5WHrlpqNHl9ChD+/ozNiqQxiY7b+1U\n",
              "w5OIiDO0OZQGBgY6/lxRUYHJZKKoqIidO3dy5513AjBr1izy8vLIzs5u95iItF9RVS2/+zATgJ/f\n",
              "OJRQXw+DK+p55k747wxPangSEek4a3tWmjdvHps3bwbg3XffJS8vj379+mG1Nm/OZDIRFRVFbm4u\n",
              "AQEB7RqLjY39xvvW1dVRV9f63oA2m609uyDSoz33zkGq6hoZHRHA7S3d4uJct4zqx9P/2U9+2Rm2\n",
              "ZJ3i6iFhRpckItKttavr4bXXXiMvL49nn32WxYsXO7um81q6dCkBAQGtHikpKV32/iLdweeHi1mX\n",
              "dgKTCZ6dORKL2WR0ST2Sp5uF74yNANTwJCLiDB1qxZ0/fz6bN28mIiKCkydP0tjYCIDdbic3N5eo\n",
              "qCgiIyPbNXYuS5YsoaKiotUjOTm5I7sg0qPUNzbx+NvNzYJ3TohmZESAwRX1bHe0NDxtyiiisFIN\n",
              "TyIiHdGmUFpeXs6JEyccz9etW0dISAhhYWGMHTuWlStXArB27VoiIiKIjY1t99i5eHh44O/v3+ph\n",
              "sWj+bpGzXtl6lOyiakJ93fnp1CFGl9PjxYX7kRQThK3JzprUPKPLERHp1tr0ndKKigpmz57NmTNn\n",
              "MJvN9OnThw0bNmAymVi+fDkLFizgueeew9/fnxUrVjjWa++YiFy6/LLT/GFTFgD/b9owArzdDK6o\n",
              "d5g7IYrUnDLeSMnlh1Ni9XUJEZF2Mtnt9m7dNrpo0SKWLVtmdBkihlv42k4+PFBI8sBg1iyciMmk\n",
              "cNQVahtsTFy6ifLTDfxtwXiuGRpudEkiIt2SpncR6QE+zijkwwOFWM0mnpmRoEDahTzdLMxSw5OI\n",
              "SIcplIp0c7UNNp5Y39zc9L3JAxnS18/ginqfszM8fZxRxInyMwZXIyLSPSmUinRz/7c5m7zSM/QL\n",
              "8OTBa+OMLqdXGtzHl4mDgmmyo4YnEZF2UigV6caOFtfw50+PAPD4LcPx8WjXfBjiBGdneHojNZdG\n",
              "W5PB1YiIdD8KpSLdlN1u5/G306m3NXFVfB9uTOhrdEm92g0jwgn2caewso6PM4qMLkdEpNtRKBXp\n",
              "pt79soDPsopxt5p5avoINTcZzMNqYfa4loanFDU8iYi0lUKpSDdUXdfI0xuam5t+cPVgYkJ9DK5I\n",
              "AG5Pbm54+jTzFHmlpw2uRkSke1EoFemGXtyYSWFlHdEh3tx/1WCjy5EWMaE+XB4bgl0NTyIibaZQ\n",
              "KtLNZBRU8rdtOQA8OX0Enm6aateVzE1ubnhaszOPBjU8iYhcMoVSkW6kqcnOo/9Ox9Zk56aEvkwZ\n",
              "EmZ0SfI11w8PJ9TXnVNVdWw6WGh0OSIi3YZCqUg3snZ3PjuPleHtbuGxW4YbXY6cg7vVzOzxkQC8\n",
              "rhmeREQumUKpSDdRfrqeX72XAcBD18bRP9DL4IrkfG5Pam54+iyrmNwSNTyJiFwKhVKRbuK3Hxyi\n",
              "pKaeuDBf/mfyQKPLkQuICvHmirhQAFan6mypiMilUCgV6Qb25pU77n357MwE3Cz60XV1d0xoPlv6\n",
              "1s486hvV8CQicjH6zSbi4mxNdh5dl47dDt8ZM4AJg0KMLkkuwbXDwunj50FxdT0fHVDDk4jIxSiU\n",
              "iri4VTuO8eXxCvw8rSyZNszocuQSuVnMzGlpeFqVcszgakREXJ9CqYgLO1VVx28+OATAz28YQh8/\n",
              "D4Mrkra4LTkSkwm2ZZeQU1xjdDkiIi5NoVTEhS199yBVtY2MHBDA3AnRRpcjbRQR5M3V8X0AWJ2i\n",
              "hicRkQtRKBVxUV8cKeFfe45jMjU3N1nMJqNLknY4+4+Jt3blU9doM7gaERHXpVAq4oIabE08ti4d\n",
              "gLnJUYyODDS2IGm3KUP60Nffk9Kaet5PLzC6HBERl6VQKuKC/rb1KFlF1YT4uPPzG4YaXY50gNVi\n",
              "Zk5SS8OTZngSETkvhVIRF3Oi/Ay/35gFwJJpwwjwdjO4Iumo25IjMZtgx9FSsouqjS5HRMQlKZSK\n",
              "uJhnNhzgTIONpJggZo0dYHQ54gT9Ary4ZmgYoIYnEZHzUSgVcSGbDxXxXnoBFrOJZ2YmYDKpuamn\n",
              "mNsyw9Pa3fnUNqjhSUTk6xRKRVxEbYONJ9fvB+B/Lo9haF9/gysSZ7oqPowBgV6Un27gvfSTRpcj\n",
              "IuJyFEpFXMSfPz3MsZLThPt78NB18UaXI05mMZvU8CQicgEKpSIuIKe4hv/75DAAj98yAl8Pq8EV\n",
              "SWeYkxSJxWwiNaeMzMIqo8sREXEpCqUiBrPb7Ty+fj/1jU1cERfKtJF9jS5JOkm4vyfXtjQ86Wyp\n",
              "iEhrbQqltbW1zJw5k/j4eEaPHs31119PdnY2AFdffTUDBw4kMTGRxMREXnjhBcd6RUVF3HjjjcTF\n",
              "xZGQkMCWLVsuaUykN3g/vYAtmadwt5h5eoaam3q6sw1P/1LDk4hIK20+U7pw4UIOHTrE3r17mTFj\n",
              "Bvfcc49j7IUXXiAtLY20tDR+/OMfO5Y/8sgjTJw4kaysLFasWMHcuXNpaGi46JhIT1dT18jTGw4A\n",
              "cP9VgxgY6mNwRdLZrozrQ0SQF5W1jWzYp4YnEZGz2hRKPT09mTZtmuNMzsSJE8nJybnoem+++Sb3\n",
              "338/AElJSfTv359PP/30omMiPd0fNmVxsqKWyGAvfjAl1uhypAuYzSZuT24+W7pqxzGDqxERcR0d\n",
              "+k7piy++yIwZMxzPH3nkEUaOHMmcOXM4cuQIACUlJTQ0NNC373+/JxcTE0Nubu4Fx86lrq6OysrK\n",
              "Vg+bTZe/pHs6VFDFK1uPAvD09AQ83SwGVyRdZfb4CKxmE7tzy8koqDS6HBERl9DuUPrcc8+RnZ3N\n",
              "0qVLAfjHP/5BRkYG+/bt44orruCWW25xWpFnLV26lICAgFaPlJQUp7+PSGez2+089nY6jU12bhgR\n",
              "zpSW5hfpHcL8PJk6IhxQw5OIyFntCqXPP/88//rXv3jvvffw9vYGIDKy+f57JpOJBx54gCNHjlBS\n",
              "UkJISAhWq5WCggLH+jk5OURFRV1w7FyWLFlCRUVFq0dycnJ7dkHEUP/ec5yUo6V4uVl4/FsjjC5H\n",
              "DDA3ORqAf+8+zun6RoOrERExXptD6bJly1i9ejUfffQRgYGBADQ2NlJYWOh4zdq1awkPDyckJASA\n",
              "2bNn8+c//xmA1NRUjh8/zlVXXXXRsa/z8PDA39+/1cNi0SVP6V4qTjfw3LsHAXjw2jgGBHoZXJEY\n",
              "YdLgEKJDvKmqa+Q/e08YXY6IiOHadIfu/Px8fvKTnzBo0CCmTJkCNAfFjz/+mJtvvpm6ujrMZjOh\n",
              "oaGsX7/esd6vf/1r7rrrLuLi4nB3d2flypW4ublddEykJ3r+w0MUV9cTG+bL9yYPNLocMcjZhqdf\n",
              "vZfBqh25zEk69xUiEZHeok2hNCIiArvdfs6xnTt3nne98PBwPvzwwzaPifQ0X+ZXsLKl4/qZGQm4\n",
              "WzV/RW9267gIfvfhIfbmV5B+vIKEAQFGlyQiYhj9RhTpIrYmO4+u+xK7HWYm9ueywSFGlyQGC/X1\n",
              "4IYRzXcfWZWihicR6d0USkW6yOqUXPbmV+DnYeX/3TzM6HLERZyd4entPceprlPDk4j0XgqlIl2g\n",
              "uLqO37yfAcBPbxhCmJ+nwRWJq7hsUAiDQn2oqbexPk0NTyLSeymUinSBX72XQWVtIyP6+3PnxGij\n",
              "yxEXYjJ9ZYanFM3wJCK9l0KpSCdLOVrKP3flYzLBszMTsJhNRpckLmbWuAjcLWbSj1eyL7/c6HJE\n",
              "RAyhUCrSiRpsTTy2Lh2A25KiGBMVZHBF4oqCfdy5aWRLw5NmeBKRXkqhVKQTvboth0OFVQT7uPPz\n",
              "G4YYXY64sLktl/DX7z1BVW2DwdWIiHQ9hVKRTnKy4gy/35gJwCM3DiXIx93gisSVJQ8MJjbMl9P1\n",
              "Ntap4UlEeiGFUpFO8uyGg9TU2xgXHcSt4yKMLkdcXKuGpx25552oRESkp1IoFekEWzJP8c6XJ7GY\n",
              "TTw7MwGzmpvkEswaOwAPq5mDJytJyys3uhwRkS6lUCriZLUNNh5/u7m5acGkGIb18ze4IukuAr3d\n",
              "uXlUP0ANTyLS+yiUijjZy1uOkFNymjA/Dx6+Ls7ocqSbuaNlhqf/7DtBxRk1PIlI76FQKuJEx0pq\n",
              "eGlzNgCP3TIcP083gyuS7mZsVBBDwv2obWji37vzjS5HRKTLKJSKOIndbufJ9fupb2xicmwot7Rc\n",
              "hhVpC5PJxNwJZ2d4UsOTiPQeCqUiTvLhgUI2HzqFm8XEUzNGYDKpuUnaZ+aYAXi6mcksrGbXsTKj\n",
              "yxER6RIKpSJOcLq+kafW7wfgvisHM7iPr8EVSXcW4OXGt0b1B9TwJCK9h0KpiBP8YVM2JypqiQjy\n",
              "4odTYo0uR3qAs5fwN3x5kvLT9QZXIyLS+RRKRTooq7CKv352BICnpo/Ay91icEXSEyRGBjKsnz/1\n",
              "jU2s3X3c6HJERDqdQqlIB9jtdh57O53GJjvXDQvn2mHhRpckPUSrhqcdx9TwJCI9nkKpSAe8nXaC\n",
              "L46U4ulm5olvDTe6HOlhZib2x9vdwuFTNaQcLTW6HBGRTqVQKtJOFWcaePadgwD86Jo4IoO9Da5I\n",
              "eho/Tzemj25peEpRw5OI9GwKpSLt9MJHmRRX1zG4jw/3XjHI6HKkhzp7Cf+9LwsorVHDk4j0XAql\n",
              "Iu2QfryC17bnAPDMjATcrfpRks4xKiKQhAH+1NuaWLtLMzyJSM+l36QibdTUZOcX69JpssP00f2Z\n",
              "FBtqdEnSw81NjgZgtWZ4EpEeTKFUpI3eSM1jb145vh5WHr15mNHlSC8wPbE/vh5WjhTXsP1IidHl\n",
              "iIh0CoXSNsgoqORMvc3oMsRAJdV1/Pr9DAAWXR9PmL+nwRVJb+DrYWVGomZ4EpGezWp0Ad1FU5Od\n",
              "Ocu/4HR9I6MiAkkeGEzywGDGRQfh7+lmdHnSRX79fgYVZxoY1s+feZdFG12O9CJzJ0Tx+o5cPthf\n",
              "QHF1HaG+HkaXJCLiVAqll6iwqhYvNwsVZxrYdayMXcfK+NMnhzGbYHh/f5JjQkgeGERSTDAh+mXR\n",
              "I+3MKeXNnc2NJs/OTMBq0YUG6Toj+gcwOjKQvXnlvLUzn+9fPdjokkREnKpNv1Vra2uZOXMm8fHx\n",
              "jB49muuvv57s7GwAioqKuPHGG4mLiyMhIYEtW7Y41mvvmCvpF+DF9iXXsOVnU/jtraP47vgIYkK8\n",
              "abJD+vFK/rbtKPev3M24Zzdy3bJP+X///pK3045zsuKM0aWLEzTamnh0XToAtyVFMi46yOCKpDe6\n",
              "I7n59lCrU3JpalLDk4j0LG0+U7pw4UJuuukmTCYTL730Evfccw+ffPIJjzzyCBMnTuT9998nNTWV\n",
              "b3/72xw9ehQ3N7d2j7kak8lEVIg3USHezB4fCUBhZS0pR0sdj0OFVWQXVZNdVO347ldksBfJMSFM\n",
              "GBhM0sBgYkK8MZlMRu6KtNHftx8jo6CKQG83fn7jUKPLkV7qltH9eGbDAXJLT7PtcDFXxPUxuiQR\n",
              "EadpUyj19PRk2rRpjucTJ07k+eefB+DNN990nDVNSkqif//+fPrpp1x33XXtHusOwv09+dbo/nyr\n",
              "ZdaVspp6UnNKSc1pDqnpJyrJKz1DXmk+a3c3X/rt4+dB8sBgJrR8LzU+zA+zWSHVVRVU1LLsw0MA\n",
              "PHLjUIJ93A2uSHorb3cr3x47gNe2H2PVjlyFUhHpUTr0ndIXX3yRGTNmUFJSQkNDA3379nWMxcTE\n",
              "kJub2+6xc6mrq6Ourq7VMpvNtbrhg3zcmTqiL1NHNO9TdV0ju4+VOc6kpuWVc6qqjnf2neSdfScB\n",
              "CPByIynmvyF1RH9/fV/RhTz7zgFq6m2MiQrkuy1nyEWMMndCFK9tP8ZHBwopqqolzE93gBCRnqHd\n",
              "ofS5554jOzubTZs2ceZM13xvcunSpTz11FOtlk2cOLFL3ru9fD2sXBnfhyvjm89o1DbY2JtX3hxS\n",
              "c0rZdayMijMNbDxYyMaDhQB4u1sYFx1EckxzSB0dGYinm8XI3ei1tmYVs2HfScym5uYmndEWow3t\n",
              "68/YqEB25zY3PP1wSqzRJYmIOEW7Qunzzz/Pv/71LzZu3Ii3tzfe3t5YrVYKCgocZz1zcnKIiooi\n",
              "JCSkXWPnsmTJEhYtWtRq2WOPPdaeXTCMp5uFCYNCmDAoBIAGWxMHTlSScrSUHUebL/tXnGngs6xi\n",
              "PssqBsDdYiYx8r+3oRobHYSvh26c0NnqGm08/nZzc9O8y2IY0T/A4IpEms2dEM3u3HJWp+Ty/asG\n",
              "6x9LItIjmOxtnLNu2bJlvP7662zcuJGgoP92IC9YsICYmBiefPJJUlNTmTlzJjk5Obi5ubV77FIs\n",
              "WrSIZcuWtW2vXVhTk53MoipHSE05WsqpqtZfWbCYTST09yep5UxqUkwwQfqeo9O99HEWz3+YSR8/\n",
              "Dzb95Crdj1ZcRm2DjeRfbqSytpFX707i6iFhRpckItJhbQql+fn5REZGMmjQIPz8/ADw8PBgx44d\n",
              "FBYWctddd3H06FHc3d156aWXmDJlCkC7xy5FTwulX2e328kpOU3q2ZCaU0Je6Te/LjEk3M9xJjV5\n",
              "YDDhmmmoQ/JKT3Pdsk+pa2zixdsSmZE4wOiSRFp5cv1+Xv08h6nDw3l53nijyxER6bA2nyl1NT09\n",
              "lJ7LifIzpOb890xqdlH1N14TE+LtOIs6YWAIkcFeug1VG9zz91Q2Hixi0uAQXr9ngv7uxOVkFVZx\n",
              "/QtbsJhNfP7INfqHqIh0e/piYjfUP9CLGYkDHGfviqvr2JlTSsrRMlJySjhwopKcktPklJx2zEDU\n",
              "19/TcRZ1wsBgYsN8FbTO46MDhWw8WISbxcTTMxL09yQuKS7cj6SYIFJzyliTmseD18YZXZKISIco\n",
              "lPYAob4e3JjQjxsT+gFQWds8FerZ21Dtyy+noLKW9XtPsH7vCQCCfdxJigkieWDzTf2H9fPHomYJ\n",
              "Ttc38uT6/QDce8UgYsN8Da5I5PzmTogiNaeMN1Jy+eGUWP0Mi0i3plDaA/l7ujFlSBhTWpofztTb\n",
              "2JP335C6O7eM0pp6PthfyAf7m29D5ethbb4NVcuZ1JERAXhYe99tqF76OJvj5WcYEOjFj67RmSdx\n",
              "bTcl9OOp/xzgREUtn2YWcc3QcKNLEhFpN4XSXsDL3cKkwaFMGhwKQH1jE+knKhwhNTWnlKraRj7N\n",
              "PMWnmacA8LCaGRMV6DiTOiYqEG/3nv2/S3ZRNX/57AgAT3xrOF7uvS+US/fi6Wbh1rER/HXrUVbt\n",
              "yFUoFZFurWenDDknd6uZsVFBjI0K4v6rBmNrspNRUOkIqSlHSympqeeLI6V8caQUAKvZRMKAAMes\n",
              "U+Ojgwnw7jm3SLLb7Tz+djoNNjvXDg3j+uH65S7dw+0Tovjr1qN8nFHEifIz9A/0MrokEZF2USgV\n",
              "LGYTI/oHMKJ/AHdfPhC73c6R4hpHQN1xpIQTFbWk5ZWTllfO8i1HMJmaZ5Y5G1KTYoLp4+dh9K60\n",
              "2/q9J/j8cAkeVjNPTh+h5ibpNgb38WXioGC+OFLKG6l5LLo+3uiSRETaRaFUvsFkMjG4jy+D+/hy\n",
              "e3Lz7Fr5ZadbnUk9UlzDwZOVHDxZyauf5wAwqI9Pq5AaEeRt4F5cusraBp595yAAP7omlsjg7lG3\n",
              "yFlzJ0TzxZFS1qTm8uA1sVgtZqNLEhFpM4VSuSQRQd5EBHnznbERABRV1ZJ6tIyUoyWk5JSRUVDJ\n",
              "kVM1HDlVw+qUPAAGBHq1uqH/oFAflzwD+cJHmZyqqmNQqA/3XjnI6HJE2uyGEeEE+7hTWFnHxxlF\n",
              "TB3R1+iSRETaTKFU2iXMz5ObR/Xj5lHNt6GqON3AzmOljulRvzxewfHyM/x7z3H+vec4AKG+7s0B\n",
              "NSaY5IEhDOnrZ/gtbPafqODvLWd6n5oxolfecUC6Pw+rhdnjIli+5QirUnIVSkWkW1IoFacI8Hbj\n",
              "2mHhXDusuUGopq6RPbnlLWdSS9mTW05xdT3vflnAu18WAODnaSUp5r9nUkcOCMCtCy87NjXZeXRd\n",
              "Ok12uGVUP66I69Nl7y3ibLcnR7F8yxE+zTxFXulpfQ1FRLodhVLpFD4eVibHhTI5rvk2VHWNNr7M\n",
              "r3BMjbrrWBlVtY18nFHExxlFAHi5WRgbHUhyTAjJLbeh8nTrvDOXb+3KY09uOb4eVh67ZXinvY9I\n",
              "V4gJ9eHy2BC2ZZewJjWPn94wxOiSRETaRKFUuoSH1cL4mGDGxwTzwynQaGvi4Mkqdhwtcdwrtex0\n",
              "A9uyS9iWXQKAm8XEqIhAx5nUcdFB+Hs65zZUpTX1LH0vA4CHr4vTvOHSI8xNjm4OpTvzeOi6uC69\n",
              "8iAi0lEKpWIIq8XMyIgARkYEcM8Vg2hqspN9qvq/t6E6WkJhZR27jpWx61gZf/rkMGYTDO/v7ziT\n",
              "mhQTRIhv+25D9Zv3Myg/3cDQvn4smBTj3J0TMcj1w8MJ9XXnVFUdmw4WOqYeFhHpDhRKxSWYzSbi\n",
              "w/2ID/fjzonR2O128krPOM6kpuSUcqzkNOnHK0k/Xsnfth0FIC7Ml6SWqVGTBwbTL+DiNw7fnVvG\n",
              "G6nNdwh4dmaCbp8jPYa71czs8ZH86ZPDvL4jV6FURLoVhVJxSSaTiagQb6JCvJk9PhKAgopaUnJK\n",
              "SW05m3qosIqsomqyiqpZtSMXgMhgL5JjQhwhNTrEu9VtqBptTTz673QAZo+LYHxMcNfvnEgnuj0p\n",
              "ij99cpjPsorJLTlNVIgankSke1AolW6jb4An00f3Z/ro/gCU1dSTmlPqOJOafryCvNIz5JXms3Z3\n",
              "PgBhfh4kt5xJTRoYzLbsEg6crCTAy41Hbhpq5O6IdIqoEG+uiAvls6xiVqfmsvhG/X8uIt2DQql0\n",
              "W0E+7kwd0ddxT8aq2gZ2n70N1dFS9uZVUFRVx4Z9J9mw72SrdRffOLTd30cVcXV3TIjms6xi3tqZ\n",
              "x4+vi8fdqq+oiIjrUyiVHsPP042r4vtwVXzz/UZrG2zszSt3nEnddayM0/U2xkcHcVtSpMHVinSe\n",
              "a4eFEebnQVFVHR8dKHRMciEi4soUSqXH8nSzMGFQCBMGhQDQYGvi8KlqooK9MRs8k5RIZ3KzmJmT\n",
              "FMkfP87m9R3HFEpFpFvQNR3pNdwsZob29cfbXf8Wk55vTlIkJhN8friEo8U1RpcjInJRCqUiIj1Q\n",
              "RJA3V7d8lWV1Sq7B1YiIXJxCqYhIDzV3QjQA/9yVT12jzeBqREQuTKFURKSHmjKkD339PSmtqef9\n",
              "9AKjyxERuSCFUhGRHsra0vAEOCaYEBFxVQqlIiI92G3JkZhNsONoKdlF1UaXIyJyXgqlIiI9WL8A\n",
              "L64ZGgao4UlEXJtCqYhIDzd3QhQAa3fnU9ughicRcU0KpSIiPdxV8WEMCPSi/HQD76WfvPgKIiIG\n",
              "aFMoffDBB4mJicFkMpGWluZYHhMTw5AhQ0hMTCQxMZE1a9Y4xrKyspg0aRLx8fEkJSWxf//+SxoT\n",
              "ERHnsJhNangSEZfXplB66623snXrVqKjo78xtmbNGtLS0khLS2POnDmO5ffddx8LFy4kMzOTxYsX\n",
              "s2DBgksaExER55mTFInFbCI1p4zMwiqjyxER+YY2hdIrr7ySiIiIS359UVERO3fu5M477wRg1qxZ\n",
              "5OXlkZ2dfcExERFxrnB/T65taXjS2VIRcUVO+07pvHnzGDlyJN/73vc4deoUAHl5efTr1w+rtXmu\n",
              "cZPJRFRUFLm5uRccO5+6ujoqKytbPWw2fWlfRORS3DGx+SrXv9TwJCIuyCmhdMuWLezbt4/du3cT\n",
              "GhrK/PnznbHZb1i6dCkBAQGtHikpKZ3yXiIiPc0VsaFEBntRWdvIhn1qeBIR1+KUUBoV1Xy7ETc3\n",
              "Nx5++GE+++wzACIjIzl58iSNjY0A2O12cnNziYqKuuDY+SxZsoSKiopWj+TkZGfsgohIj2c2m7gt\n",
              "qfkz9vUdxwyuRkSktQ6H0pqaGsrLyx3PV69ezZgxYwAICwtj7NixrFy5EoC1a9cSERFBbGzsBcfO\n",
              "x8PDA39//1YPi8XS0V0QEek1Zo+PwGo2sSe3nIMnK40uR0TEoU2h9L777iMiIoL8/HxuuOEGYmNj\n",
              "KSwsZMqUKYwaNYqRI0fy6aef8tprrznWWb58OcuXLyc+Pp5f/epXrFix4pLGRETE+cL8PJk6IhxQ\n",
              "w5OIuBaT3W63G11ERyxatIhly5YZXYaISLexNauYO1/ZgZ+HlR2/uBZvd6vRJYmIaEYnEZHeZtLg\n",
              "EKJDvKmqa+Q/e08YXY6ICKBQKiLS65jNJm5Pbm540iV8EXEVCqUiIr3QreMicLOY2JtfQfrxCqPL\n",
              "ERFRKBUR6Y1CfT24YURfAFal6GypiBhPoVREpJeaO6H5Ev7be45TXddocDUi0tsplIqI9FKXDQph\n",
              "UKgPNfU21qep4UlEjKVQKiLSS5lMX2l4StEMTyJiLIVSEZFebNa4CNwtZtKPV7Ivv9zockSkF1Mo\n",
              "FRHpxYJ93LlpZEvDk24PJSIGUigVEenl7pgQDcD6vSeoqm0wuBoR6a0USkVEermkmCBiw3w5XW9j\n",
              "nRqeRMQgCqUiIr2cyWRibkvD0+tfHMNutxtckYj0RgqlIiLCrLEReFjNZBRUsSev3OhyRKQXUigV\n",
              "ERECvN24eVQ/QA1PImIMhVIREQHgjpYZnjbsO0HFGTU8iUjXUigVEREAxkYFMSTcj9qGJv69O9/o\n",
              "ckSkl1EoFRERoKXhacLZGZ5y1fAkIl1KoVRERBxmjhmAp5uZzMJqdh0rM7ocEelFFEpFRMQhwMuN\n",
              "b43qD6jhSUS6lkKpiIi0cvYS/oYvT1J+ut7gakSkt1AoFRGRVhIjAxnWz5/6xibW7j5udDki0kso\n",
              "lIqISCutGp52aIYnEekaCqUiIvINMxP74+1u4fCpGlKOlhpdjoj0AgqlIiLyDX6ebkwf3dLwlKKG\n",
              "JxHpfAqlIiJyTndMiAbgvS8LKK1Rw5OIdC6FUhEROaeREQGMHBBAva2Jtbs0w5OIdC6FUhEROS/N\n",
              "8CQiXUWhVEREzmv66P74elg5WlzD9sMlRpcjIj1Ym0Lpgw8+SExMDCaTibS0NMfyrKwsJk2aRHx8\n",
              "PElJSezfv7/DYyIiYjwfDyszEpsbnl5Xw5OIdKI2hdJbb72VrVu3Eh0d3Wr5fffdx8KFC8nMzGTx\n",
              "4sUsWLCgw2MiIuIazl7C/3B/AcXVdQZXIyI9VZtC6ZVXXklERESrZUVFRezcuZM777wTgFmzZpGX\n",
              "l0d2dna7x0RExHWM6B/A6MhAGmx23tqphicR6Rwd/k5pXl4e/fr1w2q1As0zgURFRZGbm9vusfOp\n",
              "q6ujsrKy1cNms3V0F0RE5CLuSG4+W7o6JZemJjU8iYjzdatGp6VLlxIQENDqkZKSYnRZIiI93i2j\n",
              "++HnYSW39DTbDhcbXY6I9EAdDqWRkZGcPHmSxsZGAOx2O7m5uURFRbV77HyWLFlCRUVFq0dycnJH\n",
              "d0FERC7C293Kt8cOAGDVDjU8iYjzdTiUhoWFMXbsWFauXAnA2rVriYiIIDY2tt1j5+Ph4YG/v3+r\n",
              "h8Vi6eguiIjIJTjb8PTRgUKKqmoNrkZEehqTvQ13Q77vvvt45513KCgoICQkBD8/P7Kzszl06BAL\n",
              "FiygpKQEf39/VqxYwciRIwHaPXapFi1axLJly9q0joiItM93/m8bu3PL+dkNQ/jhlPOfRBARaas2\n",
              "hVJXpFAqItJ1/rkrn5++tZeIIC+2/GwKZrPJ6JJEpIfoVo1OIiJirFtG9cPf00p+2Rm2ZJ0yuhwR\n",
              "6UEUSkVE5JJ5uln4ztjm+1Wr4UlEnEmhVERE2uSOloanTRlFFFaq4UlEnEOhVERE2iQu3I/kmGBs\n",
              "TXbWpOYZXY6I9BAKpSIi0mZnbw/1RkouNs3wJCJOoFAqIiJtdmNCX4K83ThRUcsnh4qMLkdEegCF\n",
              "UhERaTNPNwuz1PAkIk5kNboAERHpnm6fEMVftx5l86EiTpSfoX+gl9ElSSex2+1kFVWzLbuY7YdL\n",
              "KKmpB8AEmFpuVWvC1LzgHMsdfza1vO4r481/Prv07GvOvZyvrNv69V9Zft56TOeorfVyzlXzBfbl\n",
              "kur5yr5w0dd0oJ7/FnXB15z9c3SID98a3R9XolAqIiLtMriPLxMHBfPFkVLeSM1j0fXxRpckTnS8\n",
              "/Azbsov5PLuYbYdLOFVVZ3RJ4kRThvRRKBURkZ5j7oRovjhSyprUXB68JharRd8K667KaurZfqSE\n",
              "bdnFbMsuJqfkdKtxTzczSTHBXB4bSkyIz1dG7JydG9IOX/nz15f/tyHunK+xt36d3fGfc23r3Mv5\n",
              "yrr/3a797GYc73F2Oa2W28/xmtbL+cq67a7nAvtCq+VtrOcS9oWvLB/S1w9Xo1AqIiLtdsOIcIJ9\n",
              "3CmsrOPjjCKmjuhrdElyiU7XN5KaU8bn2cVszS7mwMnKVkHHYjYxOiKAy2NDmTQ4lLHRgXhYLcYV\n",
              "LD2eQqmIiLSbh9XC7HERLN9yhFUpuQqlLqzB1sS+/HK2ZZewNbuYPbllNNha385rSLgfk2JDuHxw\n",
              "KBMGBePn6WZQtdIbKZSKiEiH3J4cxfItR/g08xR5paeJDPY2uiSh+ZLuocIqtmU3X5LfcaSEmnpb\n",
              "q9cMCPTi8tgQLo8N5bLBIYT5eRpUrYhCqYiIdFBMqA+Xx4awLbuENal5/PSGIUaX1GvllZ7m88PF\n",
              "bMsu4fPDxRRX17caD/J2Y9LgUMfZ0OgQ71Zd4SJGUigVEZEOm5sc3RxKd+bx0HVxuKnhqUuUVNe1\n",
              "NCc1nw3NLW3dnOTlZiF5YDCXx4YwaXAow/v5YzYrhIprUigVEZEOu354OKG+7pyqqmPTwUJuTOhn\n",
              "dEk9Uk1dIyk5pS3NSSUcPFnZatxqNpEYGcik2FAuHxzCmKgg3K36B4J0DwqlIiLSYe5WM7PHR/Kn\n",
              "Tw7z+o5chVInabA1kZZX7rhN057cchqbWjcnDe3rx+WxoVweG0LywBB8PfSrXbon/Z8rIiJOcXtS\n",
              "FH/+9DCfZRWTW3KaqBA1PLVVU5OdjIIqPj/cfJumlKOlnP5ac1JEkBeTY0OZFBvKpMEhhPp6GFSt\n",
              "iHMplIqIiFNEhXhzRVwftmSeYnVqLotvHGp0Sd1CbslptrWE0O2HSyitad2cFOLjzmWDmzvkLx8c\n",
              "qrAvPZZCqYiIOM3c5Ci2ZJ7irZ15/Pi6eH2f8RyKq+v4/HAJ27KK2Xa4mPyyM63Gvd0tTBgY7Lhp\n",
              "/dC+fmpOkl5BoVRERJzm2mFhhPl5UFRVx4cHCrhllGvNrW2E6rpGUo6WsDWr+TZNGQVVrcbdLCbG\n",
              "RAY136YpNpTREYEK89IrKZSKiIjTuFnMzEmK5I8fZ7NqR26vDKX1jU3syS1j2+Hm2zTtzftmc9Lw\n",
              "fv7Nt2mKDSU5JhgfNSeJKJSKiIhzzUmK5KXN2Xx+uISjxTUMDPUxuqRO1dRk58DJypbmpBJSj5Zy\n",
              "pqF1c1J0iDeTBjd3yF82KIQQNSeJfINCqYiIOFVEkDdXx/dh86FTrE7J5f9NG2Z0SU5lt9s51tKc\n",
              "tK2lOansdEOr14T6ujtC6KTBoZp6VeQSKJSKiIjTzZ0QzeZDp/jnrnx+MjUeD6vF6JI6pKiqlu2H\n",
              "S9iaVcznh0s4Xt66OcnXw8qEgcHNN62PDWFIuJ+m7xRpI4VSERFxuilD+tDX35OCylreTy9gRuIA\n",
              "o0tqk6raBnYcKWVrdjGfHy4ms7C61bibxcTYqCDHTetHRQRqalWRDlIoFRERp7O2NDy9uCmLVTty\n",
              "XT6U1jXa2H2s3HHT+n35Fdi+0pxkMsGI/v5cPrj5pvVJMUF4u+tXqIgz6SdKREQ6xW3Jkfzx4yx2\n",
              "HC0lu6ia2DBfo0tysDXZOXCi0nEmNDWnlNqGplavGRjqw6SWm9ZfNiiEIB93g6oV6R2cGkpjYmLw\n",
              "8PDAy8sLgCVLljBnzhyysrKYP38+xcXFBAQE8OqrrzJixAiAC46JiEj31S/Ai2uGhrHxYBGrU3J5\n",
              "7JbhhtVit9s5WlzTfJumrGK2Hymh4kzr5qQ+fh5cPjik5XuhoQwI9DKoWpHeyelnStesWUNiYmKr\n",
              "Zffddx8LFy5kwYIF/POf/2TBggWkpqZedExERLq3uROi2HiwiLW78/nZDUPwdOu6hqeiytrm6Ttb\n",
              "blp/sqK21bifh5UJg0K4PDaEybGhxIb5qjlJxECdfvm+qKiInTt38uGHHwIwa9YsHnjgAbKzs/H3\n",
              "9z/vWGxs7De2VVdXR11dXatlNpvtG68TERHXcFV8GAMCvThefob30k/y7TERnfZeFWca2HGk+Yb1\n",
              "2w6XkF3UujnJ3WJmXHSQ46b1owYEYFVzkojLcHoonTdvHna7neTkZH71q1+Rl5dHv379sFqb38pk\n",
              "MhEVFUVubi4BAQHnHTtXKF26dClPPfVUq2UTJ0509i6IiIiTWMwmbkuK5HcfZbJqR65TQ2ltg43d\n",
              "x8rY2hJCv8wv56sTJ5lMMHJAgON+oeOjg/Fy7963phLpyZwaSrds2UJUVBQNDQ08+uijzJ8/n2ee\n",
              "ecZp21+yZAmLFi1qteyxxx5z2vZFRMT5vpsUye83ZZGaU0ZmYRXx4X7t2o6tyU768QpHc9LOnDLq\n",
              "Gls3Jw3q48PlLSF04qAQAr3VnCTSXTg1lEZFRQHg5ubGww8/THx8PJGRkZw8eZLGxkasVit2u53c\n",
              "3FyioqLw9/c/79i5eHh44OHRemo2i0X/6hURcWXh/p5cNyyMD/YXsmpHLk9Ov7RmVrvdzuFTNc2X\n",
              "47OL+eJICZW1jV/btofjNk2Xx4bQL0DNSSLdldNCaU1NDQ0NDQQGBgKwevVqxowZQ1hYGGPHjmXl\n",
              "ypUsWLCAtWvXEhER4bg8f6ExERHpGeZOiOaD/YWs3Z3P4huHnvcyekFFrSOEbjtcTGFl6z4CP08r\n",
              "lw0Kcdy0fnAfNSeJ9BROC6WFhYXMmjULm82G3W5n0KBBvPbaawAsX76cBQsW8Nxzz+Hv78+KFSsc\n",
              "611oTEREeoYrYkOJDPYir/QMG/adYPb4SAAqTjew3dGcVMyRUzWt1nO3mkmKCWLS4FAmx4aSMCAA\n",
              "i1khVKQnMtntdvvFX+a6Fi1axLJly4wuQ0RELuJ/N2fz2w8OMbSvH1cPCePzw8WkH69o1ZxkNsHI\n",
              "iEAub7lp/bjooC69jZSIGEczOomISJeYPT6CFz7KJKOgioyCKsfy2DBfRwidMCiEAC83A6sUEaMo\n",
              "lIqISJcI8/PkB1Ni2bD3BGOimu8XenlsKOH+nkaXJiIuQKFURES6zKLr41l0fbzRZYiIC9JUFiIi\n",
              "IiJiOIVSERERETGcQqmIiIiIGE6hVEREREQMp1AqIiIiIoZTKBURERERwymUioiIiIjhFEpFRERE\n",
              "xHAKpSIiIiJiOIVSERERETGcQqmIiIiIGE6hVEREREQMZ7Lb7Xaji+iI73znO8TExHTJe9lsNlJS\n",
              "UkhOTsZisXTJe4pz6Rh2bzp+3Z+OYfenY9j9GXEMo6Ojeeihhy74mm4fSrtSZWUlAQEBVFRU4O/v\n",
              "b3Q50g46ht2bjl/3p2PY/ekYdn+uegx1+V5EREREDKdQKiIiIiKGUygVEREREcMplLaBh4cHTzzx\n",
              "BB4eHkaXIu2kY9i96fh1fzqG3Z+OYffnqsdQjU4iIiIiYjidKRURERERwymUioiIiIjhFEpFRERE\n",
              "xHAKpSIiIiJiuF4dSmfPns327dsBaGpq4kc/+hGDBw8mNjaWl1566ZK2caH1XnrpJZ577rlOqV2a\n",
              "OeMYvvPOO4wbNw4PDw8efvjhVmM6hp3PGcfwD3/4AwkJCYwcOZJRo0axcuVKx9iGDRtYuHBhp9Qu\n",
              "rY/fhX6WLkSfo8ZyxjHU56ixnHEMXeJz1N5L7dixw37NNdc4nv/973+3X3PNNfbGxkZ7SUmJPSoq\n",
              "yp6enn7R7Vxovbq6OvugQYPs5eXlnbYfvZmzjuGhQ4fsaWlp9l/84hf2hx56qNWYjmHnctYx3Lhx\n",
              "o+MY5ebm2kNCQuzZ2dmO8bFjx9ozMzOdvwO93NeP34V+li5En6PGcdYx1OeocZx1DF3hc7TXnild\n",
              "vnw5c+fOdTxfs2YN9957LxaLheDgYObMmcPq1asvup0Lrefu7s7UqVNZtWpVp+1Hb+asYxgfH8/o\n",
              "0aOxWq3fGNMx7FzOOobXXnstAQEBAERGRtK3b1/y8vIc49/97nf561//6vwd6OW+fvwu9LN0Ifoc\n",
              "NY6zjqE+R43jrGPoCp+jvTaUfvLJJ0yYMMHxPDc3l+joaMfzmJgYcnNzL7qdi6132WWXsWnTJidV\n",
              "LV/lrGN4MTqGnaczjuHGjRspKysjKSnJsUzHsHN8/fi1lz5HjeOsY3gxOoadpzOOoVGfo702lObn\n",
              "5xMeHt7p79O3b1/y8/M7/X16Ix3D7s/Zx/DLL7/k7rvvZs2aNfj4+DiW6xh2Dv0Mdn86ht1fT/oc\n",
              "7bWh1Nvbm9raWsfzqKgojh075niek5NDVFTURbdzsfVqa2vx8vJyUtXyVc46hhejY9h5nHkMDxw4\n",
              "wC233MLf/vY3Jk+e3GpMx7BzfP34tZc+R43jrGN4MTqGnceZx9Doz9FeG0pHjRrFoUOHHM9nz57N\n",
              "X/7yF2w2G6WlpaxZs4Y5c+YA8O9//5t58+adczsXWg/g4MGDjB49unN3ppdy1jG8GB3DzuOsY3jw\n",
              "4EGmTZvGyy+/zPXXX3/OcR1D5/v68bsQfY66Jmcdw4vRMew8zjqGrvA52mtD6a233soHH3zgeH7X\n",
              "XXcxdOhQ4uLiSEpKYtGiRYwcORKArKws/P39z7mdC60H8P7773Prrbd27s70Us46hps2bSIiIoJl\n",
              "y5bxyiuvEBERwfr16x3jOoadx1nH8MEHH6SiooLFixeTmJhIYmJiq+3qGHaOrx+/C/0s6XPUNTnr\n",
              "GOpz1DjOOoYu8Tnaqb39Lqyqqso+cuRIe3V19UVfO2PGDPvRo0fb/B779++3T548uR3VyaXQMez+\n",
              "uuIYnjp1yj5y5Eh7XV1dOyqUC9HPYPenY9j99aTPUZPdbrd3bux1XZs2bSI8PJyEhIRO2f4HH3xA\n",
              "ZGQkw4cP75Tti45hT9DZx3DHjh3YbDYmTZrUKdvv7fQz2P3pGHZ/PeVztFeHUhHpmRobG/nlL3/J\n",
              "6tWrsVqtWK1WkpOTmTZtGk8++SRpaWldWk9DQwPPPfccq1evxmKx4O7uTnR0NE8++SSJiYldWktb\n",
              "5eTkkJiYSHl5udGliEgP17Y7q4qIdAPf+973KC0tZfv27QQFBWG32/nnP/9JaWmpU7bf2NjYphtT\n",
              "33333VRXVzvqgeb7AB46dKhLQmlb6xURMYLOlIpIj5Kdnc2oUaPIzc0lNDS01dgnn3zCAw88wJVX\n",
              "Xsm2bdtobGzk73//O+PHj//GGcHq6mr8/Pw4+xFpMpl4/PHHeffdd7n66qs5deoUHh4eZGdnk5eX\n",
              "R0JCAm+88Qbu7u6t3jMrK4vExETy8vIIDg4+b93PP/88b775Jo2NjYSFhbF8+XKio6Oprq7mwQcf\n",
              "JCUlBWjuVH/iiScAyMjI4O6776ayspIhQ4ZQXV3N3LlzWbBgAQsWLMBsNpOdnU1RUREZGRnccccd\n",
              "HDp0iPr6eiIjI3nllVfo27evY9/vuecePvzwQ2w2Gy+++CLXXXedY+yhhx5iw4YNVFRU8Ic//IFp\n",
              "06bx/PPPk5mZycsvvwxAeXk5sbGxZGZmXnBfRUTOpdd234tIz7R7927i4uK+EUjPysjIYP78+ezd\n",
              "u5cf/ehH/OIXv7jkbVssFlJTU/ntb38LQFpaGv/5z384ePAghYWFrF279hvr7Nmzh9jY2AuGtFWr\n",
              "VnHo0CG2b9/O7t27ueOOO/jBD34AwDPPPENdXR379u1jx44drFu3jjVr1gDNXesLFy5k//79/PKX\n",
              "v2TLli2ttrtr1y7eeecdMjIyAPj973/Pzp072bdvH1dccQVPPvmk47UVFRUMGzaMffv28corrzB3\n",
              "7lyqqqocY6NGjWLXrl289NJL/PjHPwbgnnvuYd26dY4gv2LFCmbMmKFAKiLtolAqIr1KbGysY0q+\n",
              "yy67jMOHD1/yuv/zP//T6vm3v/1tvL29sVgsJCcnX9K2Dh8+TGJiIkOGDOHuu+8GYN26dWzcuJFx\n",
              "48aRmJjIb37zG8c0mxs3buTee+/FbDbj4+PDvHnz+Oijj6isrCQtLc1xz8Fhw4Z942bXs2fPxs/P\n",
              "z/F81apVjB8/noSEBP7617+2+m6t1WplwYIFAEycOJH+/fuzZ88eADw9PfnOd77zjb+zwMBAbr31\n",
              "Vv72t79ht9v505/+xAMPPHCpf50iIq3oS0Yi0qOMHTuWrKwsSkpKCAkJ+ca4p6en488Wi4XGxkag\n",
              "OZTZbDbH2LlmSPH19b2kbX3VmDFjyM7OpqysjKCgIAYPHkxaWhqvvvoq69atA8But7NkyRIWLlx4\n",
              "0f0zmUyXPPbVerdu3cof/vAHtm/fTlhYGOvXr+fxxx+/pPfy8PBw/NlisbT6e3rwwQeZPn06w4YN\n",
              "o0+fPowZM+ai+yAici46UyoiPUpsbCyzZs3ie9/7nuOyst1uZ+3atRw5cuS86/Xt2xe73c6BAwcA\n",
              "eO2119pdQ0pKCtdeey0AcXFxzJgxo1U9ADU1NY4/z5w5kz//+c+ORqyGhgbHWcrrrruOV155Bbvd\n",
              "Tk1NDf/4xz+YOnUq/v7+jB49mpUrVwJw6NAhtm7det6aysrK8PPzIyQkhPr6epYvX95qvLGxkX/8\n",
              "4x+O+k+cOHFJTVhDhw5l0KBBLFy4UGdJRaRDFEpFpMf529/+xujRo5kwYQIjRoxg+PDhfPjhhxf8\n",
              "rqPVauWPf/wjt9xyC0lJSTQ0NLT7/XNyclrNEf3qq68ycuRIRz2TJ09m48aNLF68GIA77riDBQsW\n",
              "MGXKFEaPHk1iYiIff/wxAI899hhubm6O9adPn853v/tdoDk4/+lPfyIhIYHFixeTlJREYGDgOWu6\n",
              "8cYbGTJkCEOGDOGKK674RuAMCAggPT2d0aNHc/fdd7Nq1apWl/4v5N5776WxsVEz9ohIh6j7XkTE\n",
              "yX74wx9y++23f+M7ns5WXV2Nj48PJpOJo0ePctlll5GamkpkZGSbttPRe5E+8MADhIeH89hjj7Vr\n",
              "fRER0HdKRUSc7n//93+75H0+//xzfvaznwFgs9l44YUX2hxIO+LEiRNcc801BAcHt5ojW0SkPXSm\n",
              "VEREREQMp++UioiIiIjhFEpFRERExHAKpSIiIiJiOIVSERERETGcQqmIiIiIGE6hVEREREQMp1Aq\n",
              "IiIiIoZTKBURERERwymUioiIiIjh/j9LOo8ooFg74gAAAABJRU5ErkJggg==\n",
              "\">\n",
              "      </div>\n",
              "      <script type=\"text/javascript\">\n",
              "        (() => {\n",
              "          const chartElement = document.getElementById(\"chart-2d65a27d-1951-448d-b98f-4912e9a241a6\");\n",
              "          async function getCodeForChartHandler(event) {\n",
              "            const chartCodeResponse =  await google.colab.kernel.invokeFunction(\n",
              "                'getCodeForChart', [\"chart-2d65a27d-1951-448d-b98f-4912e9a241a6\"], {});\n",
              "            const responseJson = chartCodeResponse.data['application/json'];\n",
              "            await google.colab.notebook.addCell(responseJson.code, 'code');\n",
              "          }\n",
              "          chartElement.onclick = getCodeForChartHandler;\n",
              "        })();\n",
              "      </script>\n",
              "      <style>\n",
              "        .colab-quickchart-chart-with-code  {\n",
              "            display: block;\n",
              "            float: left;\n",
              "            border: 1px solid transparent;\n",
              "        }\n",
              "\n",
              "        .colab-quickchart-chart-with-code:hover {\n",
              "            cursor: pointer;\n",
              "            border: 1px solid #aaa;\n",
              "        }\n",
              "      </style>"
            ]
          },
          "metadata": {}
        },
        {
          "output_type": "display_data",
          "data": {
            "text/plain": [
              "from matplotlib import pyplot as plt\n",
              "_df_9['CreditScore'].plot(kind='line', figsize=(8, 4), title='CreditScore')\n",
              "plt.gca().spines[['top', 'right']].set_visible(False)"
            ],
            "text/html": [
              "      <div class=\"colab-quickchart-chart-with-code\" id=\"chart-b84318fa-2e90-486b-833f-2f80d7e975c0\">\n",
              "        <img style=\"width: 180px;\" src=\"data:image/png;base64,iVBORw0KGgoAAAANSUhEUgAAAqUAAAF5CAYAAACmzFP7AAAAOXRFWHRTb2Z0d2FyZQBNYXRwbG90\n",
              "bGliIHZlcnNpb24zLjcuMSwgaHR0cHM6Ly9tYXRwbG90bGliLm9yZy/bCgiHAAAACXBIWXMAAA9h\n",
              "AAAPYQGoP6dpAABQ5UlEQVR4nO3deXxU9b3/8ddkJgshe0LCkg3IwhIgLAkIoiJuVQQUKYpWsVW0\n",
              "rVXLvS3SinuhvfXitbW/SlurtQiiYpHijhuLSMISMGxJgDAJS0L2BbJNzu+PhKlRtoRJziR5Px+P\n",
              "8ZGc75wzn5NjJm/Omc/5WgzDMBARERERMZGH2QWIiIiIiCiUioiIiIjpFEpFRERExHQKpSIiIiJi\n",
              "OoVSERERETGdQqmIiIiImE6hVERERERMp1AqIiIiIqZTKBURERER0ymUioi0s4aGBiwWC59//jkA\n",
              "GzZswM/PD4fDYW5hIiJuRKFURLq1r7/+mltvvZU+ffrg5+dHbGwst912G9u3b2+315w4cSJVVVVY\n",
              "rVYAnnjiCS699NLvPO/tt99m7NixBAUFERgYyODBg3n00UfbrS4RETMplIpIt/X555+TmppKREQE\n",
              "mzdvprKykoyMDK6++mrefPPN7zy/rq6uw2rbvHkzd9xxBwsWLKCoqIiioiLefPNNEhIS2u016+vr\n",
              "223bIiLno1AqIt3Wfffdxy233MLzzz9PbGwsFouFoKAgfvjDH7J48WJeeeUVIiMj+dOf/kRsbCyh\n",
              "oaEAHDlyhNmzZ9OvXz/Cw8O57bbbOHHihHO7hYWF3HzzzQQFBTFgwABWrlzZ4nU///xzLBYLDQ0N\n",
              "vPbaayxatIjNmzfj5+eHn58fGzZs4MsvvyQuLo7p06djs9nw9PQkKSmJO++807mdhoYGlixZwpAh\n",
              "Q/D39ycyMpLf/e53zvF3332X0aNHExgYSEJCAs8++yyNjY3OcYvFwnPPPcf48ePp2bMnq1atwuFw\n",
              "8L//+78MHjyYwMBARo8ezSeffNJeh0BExMlmdgEiImbIzs4mKyuLF1544ZzPO378ODt37iQzMxMP\n",
              "Dw9qa2uZPHkyU6ZMISsrC8Mw+PGPf8zs2bP5+OOPAbjjjjvw8PDg4MGDAC2C5LfdfvvtZGdns27d\n",
              "OjZu3Ohc7u3tzfz587n//vu54YYbGD16NH379m2x7hNPPMHrr7/O8uXLGTNmDGVlZezfvx+A9PR0\n",
              "brrpJpYtW8bNN9/Mzp07ufHGG7HZbDz88MPObSxdupS3336bwYMHU1NTw9NPP83q1atZvXo18fHx\n",
              "vPPOO0ydOpVdu3YxcODAVv2MRURaxRAR6YY2btxoAMaePXvO+pyXX37ZsFqtRnV1tXPZqlWrjL59\n",
              "+xqNjY3OZfn5+QZg5OXlOb/etWuXc3zXrl0GYHz22WeGYRjGZ599ZgBGfX29YRiG8fjjjxsTJkz4\n",
              "zutv3rzZuPPOO43Y2FjDYrEYQ4YMMdasWWMYhmE0NjYafn5+xptvvnnG2ufOnWtMnz69xbIlS5YY\n",
              "iYmJzu8B48UXX2zxnICAAOODDz5oseyqq64ynn766bP+nEREXEFnSkWkWwoPDwcgPz+fwYMHn/N5\n",
              "vr6+zu+zs7MpKCggODi4xfO8vb2x2+3O5qX+/fs7x775dWuMGzeOcePGAVBQUMCiRYuYMWMGu3fv\n",
              "JigoiKqqKhITE8+4bl5eHkOGDGmxLC4uDrvd3mLZN2srKCigoqKCmTNn4uHxn0931dfXExcX16Z9\n",
              "EBG5UPpMqYh0S/Hx8SQkJPDPf/7znM/7ZjgD6N27NzExMZSVlbV41NTUMH78eCIjIwHIzc11rvPN\n",
              "ry/kNc4kIiKCZ555hvr6er7++mvCwsLw8/MjKyvrjM+PioriwIEDLZYdOHCA6Ojos752UFAQPj4+\n",
              "rF27tsW+VVdX8+c///m8NYqIXAyFUhHptpYuXcqbb77JvHnzOHz4MIZhUFFRwauvvsqvf/3rM65z\n",
              "8803U19fz8KFCykvLweaGptONzP169ePyZMn88tf/pLS0lJKS0v51a9+dc46evfujd1up6amxrls\n",
              "9erVvPTSSxw9etRZ1+LFi+nRowdjxozBYrHws5/9jAULFrB161YMw6CkpITNmzcD8MMf/pB3333X\n",
              "2by0Y8cOfv/73zN37tyz1uHt7c3999/PL3/5S/bu3YthGJw6dYr169efNfyKiLiKQqmIdFtXXHEF\n",
              "W7Zs4ciRI6SmpuLv78/w4cP54IMPuOWWW864jr+/P5s3b8ZutzNs2DACAgIYP34869evdz5n2bJl\n",
              "eHl5ERsby6hRo5g1a9Y565g1axaJiYn07duXoKAgNm7cSGhoKG+//TajR4/Gz8+PuLg4tm7dygcf\n",
              "fOA82/nUU09xzz33cPvttztr37BhAwBjx47lrbfe4je/+Q3BwcHMnDmTBx98kIceeuictTz77LPc\n",
              "dtttzJw5k6CgIGJjY1m8eLFuFyUi7c5iGIZhdhEiIiIi0r3pTKmIiIiImE6hVERERERMp1AqIiIi\n",
              "IqZTKBURERER0ymUioiIiIjpFEpFRERExHQKpSIiIiJiuk4fSp9//nmzSxARERGRi9TpQ+nhw4fN\n",
              "LkFERERELlKnD6UiIiIi0vkplIqIiIiI6RRKRURERMR0CqUiIiIiYjqFUhERERExnUKpiIiIiJhO\n",
              "oVRERERETKdQKiIiIiKmUygVEREREdMplIqIiIiI6RRKRaRTKTtZZ3YJIiLSDhRKRaTTePGLAyQ/\n",
              "9TFvpOeZXYqIiLiYQqmIdAqHiqpZ8nEW0BRODcMwuSIREXElhVIRcXuGYfD4mt3UNTQCcLComs0H\n",
              "i02uSkREXEmhVETc3vuZx1mfdQIvqweXJ/QCYPkWu8lViYiIKymUiohbq6pt4Kl/7wHg/isG8otr\n",
              "EwH4cPdxiqpqzSxNRERcSKFURNzaHz7J5nhFDVEhPfjJFQNJ6hfIiMhA6h0Gb23LN7s8ERFxEYVS\n",
              "EXFb+49X8tLGQwA8NTUJH08rALPHRgOwIs1OY6MankREugKFUhFxS4ZhsHB1Jo5Gg2uHRjBpULhz\n",
              "7MYRffH3tnG4+CRfHlDDk4hIV6BQKiJu6e3tR0jLLaGHp5XHbhzaYszXy8ZNo/oB8NqWw2aUJyIi\n",
              "LqZQKiJup/xkPYve2wvAg5Pj6RfU4zvPOX0J/+M9BRRW1nRofSIi4noKpSLidn7/0T6Kq+uIC/fj\n",
              "R5f2P+NzBvUOYFR0EA2NBm9uVcOTiEhnp1AqIm5lV34ZrzXfg/TpaUl42c7+NjV7bAyghicRka6g\n",
              "zaH05ZdfxmKxsHr1agAKCwu57rrriI+PJykpifXr1zuf29YxEeleHI0Gj67OxDDgppH9uGRg6Dmf\n",
              "P2V4HwJ8bOSXnmJ99okOqlJERNpDm0Jpbm4uf/3rXxk3bpxz2SOPPMK4cePIzs7m5ZdfZvbs2dTX\n",
              "11/UmIh0L8vT7OzKL8ff28aC6wed9/k+nlZuHhXZtK5meBIR6dRaHUobGxu55557+OMf/4i3t7dz\n",
              "+RtvvMH9998PQEpKCn379uWLL764qDER6T6Kqmr5/Qf7APjvaxMJ9/e5oPVub254+mRfIQUVangS\n",
              "EemsWh1KlyxZwoQJExg9erRzWXFxMfX19fTu3du5LDY2Frvd3uaxM6mtraWioqLFw+FwtHYXRMQN\n",
              "LX5vHxU1DQztG8Ad42IueL34CH9SYoNxNBqsTM9rxwpFRKQ9tSqUZmZmsmrVKh599NH2quecFi9e\n",
              "TGBgYItHWlqaKbWIiOtsOVjMqu35WCzwzPQkrB6WVq1/+vZQr6fZcajhSUSkU2pVKN2wYQO5ubnE\n",
              "x8cTGxvLV199xdy5c3njjTew2WwcP37c+dzc3Fyio6MJDQ1t09iZLFiwgPLy8haP1NTU1u6ziLiR\n",
              "ekcjC9/JBODWlGhGRge3ehvfS+pDkK8nR8tr+CKr0NUliohIB2hVKP3xj3/MsWPHyM3NJTc3l3Hj\n",
              "xvGXv/yFH//4x8ycOZMXX3wRgPT0dI4cOcLll18O0Oaxb/P29iYgIKDFw2q1tm3PRcQtvLIpl6yC\n",
              "KkJ6evHLaxPbtA0fTysz1PAkItKp2Vy1od/97nf84Ac/ID4+Hi8vL5YtW4anp+dFjYlI13as/BTP\n",
              "rcsC4JHvDSK4p1ebt3VbajQvbTzEp/sKOVp2ir5nmAVKRETcl8UwjE79Aax58+axZMkSs8sQkTb4\n",
              "yWvbeO/r44yOCebN+y7Bo5WfJf22WUs3s+VQCQ9NjufnVye4qEoREekImtFJREzxRdYJ3vv6OFYP\n",
              "C89MT7roQAr/aXhamZ5Hg6PxorcnIiIdR6FURDpcTb2Dx5ubm+aMj2VwnwCXbPe6pN6E9PTieEUN\n",
              "n+3XDE8iIp2JQqmIdLilXxwkt/gkEQHePHxVvMu2622zMnN0U8PTa1sOu2y7IiLS/hRKRaRDHS6u\n",
              "5k+f5wDw6A1D8PdxbWPjbalNl/C/yDpBXslJl25bRETaj0KpiHQYwzB4fM1u6hoauTQujCnD+7j8\n",
              "NWLDejIhLhTDQDM8iYh0IgqlItJhPtxdwOf7T+Bl9eCpaUOxWC6+uelMZqc2TVO6cmse9Wp4EhHp\n",
              "FBRKRaRDVNc28NS/dwNw3+UDGNDLr91e6+ohEYT5eXGispZP9ha02+uIiIjrKJSKSIf4w6fZHC2v\n",
              "ITK4Bz+5Iq5dX8vL5sHMMVEAvKYZnkREOgWFUhFpd9kFlby04RAAT04dSg+v9p8e+LaUpoanDdlF\n",
              "2IvV8CQi4u4USkWkXRmGwaOrM2loNLh6SASTB0d0yOtGh/oyMT4MgBXpOlsqIuLuFEpFpF2tzjjC\n",
              "lkMl+Hh68PiNQzr0tW9vnuHpza151DWo4UlExJ0plIpIuyk/Vc9v3t0LwM+ujCcy2LdDX3/y4Ah6\n",
              "+XtTVFXHx3vU8CQi4s4USkWk3Sz5aD9FVXUM7NWTeycO6PDX97R6MKu54Wl5mmZ4EhFxZwqlItIu\n",
              "vs4v559fNQXBp6cl4WUz5+3m1tQoLBbYlFNMblG1KTWIiMj5KZSKiMs1Nho8+k4mjQZMHdGX8XFh\n",
              "ptUSGezL5Qm9AFiRpoYnERF3pVAqIi73enoeO/PK8PO28egNg80uh9mpzQ1P2/KpbXCYXI2IiJyJ\n",
              "QqmIuFRxVS2/+2AfAP91TQLhAT4mVwRXDgqnd4APJdV1fLhbDU8iIu5IoVREXOq37++j/FQ9Q/oE\n",
              "8INxMWaXA4DN6sGslOYZnr5Sw5OIiDtSKBURl9maW8Kb2/IBeHp6Ejar+7zF3JoahYcFthwqIaew\n",
              "yuxyRETkW9znL4aIdGoNjkYeXZ0JwK0pUYyOCTa5opb6BPbgykHhgBqeRETckUKpiLjEK1/msu94\n",
              "JcG+nsy/bpDZ5ZzR7OYZnlZtz6emXg1PIiLuRKFURC7a8fIanvs4C4D51w0iuKeXyRWd2eUJ4fQL\n",
              "6kHZyXrezzxmdjkiIvINCqUictGefncP1XUORkYH8f3mGZTckdXD4mx4Wr5Fl/BFRNyJQqmIXJQN\n",
              "2Sd4d9cxPCzwzPQkPDwsZpd0TrNSorB6WEjPLSWroNLsckREpJlCqYi0WW2Dg8fe2Q3AXeNjGdo3\n",
              "0OSKzi8iwIfJzQ1POlsqIuI+FEpFpM3+8sVBDhVV08vfm59fnWB2ORfsdMPT22p4EhFxGwqlItIm\n",
              "eSUneeGzHAAevWEwAT6eJld04S6L70VkcA8qahpYu0sNTyIi7kChVERazTAMHl+zm9qGRsYPDGXq\n",
              "iL5ml9QqHh4WbkttOlu6fItmeBIRcQetDqXXXHMNw4cPJzk5mYkTJ7Jjxw4AYmNjSUxMJDk5meTk\n",
              "ZFauXOlcJzs7m/Hjx5OQkEBKSgq7d+++oDERcU8f7yng032FeFotPDUtCYvFvZubzmTmmEhsHha2\n",
              "28vYd7zC7HJERLq9VofSN954g127dpGRkcG8efOYM2eOc2zlypVkZGSQkZHBrFmznMvvu+8+5s6d\n",
              "S1ZWFvPnz2+xzrnGRMT9nKxr4Ml/7wHg3okDiAv3M7mitgn39+HqIRGAGp5ERNxBq0NpUFCQ8+vy\n",
              "8vLzniEpLCxk69at3HHHHQDMmDGDvLw8cnJyzjkmIu7phU9zOFJ2in5BPfjZlfFml3NRTjc8/Wv7\n",
              "EU7WNZhcjYhI92Zry0p33nknn332GQDvvfdei+WGYZCamspvf/tbevXqRV5eHn369MFma3opi8VC\n",
              "dHQ0drudwMDAs47FxcV953Vra2upra1tsczhUOesSEfJKazkrxsOAvDE1KH08LKaXNHFmTAwjJhQ\n",
              "Xw4Xn2TtzmN8P8V9b/wvItLVtanR6dVXXyUvL49nnnmG+fPnA7B+/Xp27drF9u3bCQsL46677nJp\n",
              "oQCLFy8mMDCwxSMtLc3lryMi32UYBgtX76beYXDV4HDnpe/O7JsNT6+p4UlExFQX1X1/11138dln\n",
              "n1FcXEx0dNMbu6enJw8//DAbNmwAICoqimPHjtHQ0HRpzDAM7HY70dHR5xw7kwULFlBeXt7ikZqa\n",
              "ejG7ICIXaM3Oo2w+WIy3zYPHbxxqdjkuc8voSDytFnbml5N5pNzsckREuq1WhdKysjKOHj3q/H71\n",
              "6tWEhobi4+NDWVmZc/mKFSsYOXIkAOHh4YwaNYply5YBsGrVKiIjI4mLizvn2Jl4e3sTEBDQ4mG1\n",
              "du7LhyKdQUVNPc+8uxeAn10ZR1SIr8kVuU6YnzfXDu0NwPI0NTyJiJilVZ8pLS8vZ+bMmZw6dQoP\n",
              "Dw969erF2rVrKSgoYMaMGTgcDgzDYMCAAbz66qvO9ZYuXcqcOXNYtGgRAQEBvPzyyxc0JiLuYclH\n",
              "WZyorGVAWE/uvWyA2eW43Oyx0azddYx3dhzhV9cPxs+7TR+3FxGRi9Cqd96YmJizfobz9P1KzyQx\n",
              "MZHNmze3ekxEzJd5pJxXN+cC8NS0JLxtXe/qxCUDQhkQ1pODRdWsyTjq7MoXEZGOoxmdROSsGhsN\n",
              "Fr6TSaMBU4b34dL4MLNLahcWyzdmeEpTw5OIiBkUSkXkrN7YmscOexl+3jYWThlidjntasboSLys\n",
              "HmQeqWBXfpnZ5YiIdDsKpSJyRiXVdfz2g30A/PzqBCICfEyuqH2F9PTie8OaG540w5OISIdTKBWR\n",
              "M/rd+/soO1nPoN7+3HVJjNnldIjZzZfw1+w8SmVNvcnViIh0LwqlIvId2w6XsnJrHgDPTE/CZu0e\n",
              "bxWp/UOIC/fjZJ2D1RlHz7+CiIi4TPf4SyMiF6zB0cijqzMB+P6YSMbEhphcUcdp0fC0xY5hGCZX\n",
              "JCLSfSiUikgLr24+zN5jFQT5evLI9wabXU6HmzGqH142D/YeqyAjr8zsckREug2FUhFxKqioYcnH\n",
              "WQD88tpBhPT0Mrmijhfk68WUYX0ANTyJiHQkhVIRcfrNu3upqm1gRFQQt6ZEmV2OaU7fPP/fu45S\n",
              "fkoNTyIiHUGhVEQA2JRTxJqdR/GwwG+mJ+HhYTG7JNOMjgkmMcKfmvpGVu84YnY5IiLdgkKpiFDb\n",
              "4GDhO03NTT8YF0NSv0CTKzKXxWJxni19bcthNTyJiHQAhVIR4W8bDnHwRDVhft7MuybR7HLcwvSR\n",
              "/fDx9CCroIpth0vNLkdEpMtTKBXp5vJKTvLHT7MBePSGwQT28DS5IvcQ2MOTG4f3BdTwJCLSERRK\n",
              "Rbq5J/+9h5r6RsYNCGFacl+zy3Erpy/hr/36GGUn60yuRkSka1MoFenG1u0pYN3eAmweFp6eloTF\n",
              "0n2bm84kOSqIwX0CqGtoZNV2NTyJiLQnhVKRbupUnYMn/r0bgHsmDiA+wt/kitzPNxuelqvhSUSk\n",
              "XSmUinRTf/osh/zSU/QN9OHByXFml+O2pif3xdfLyoET1aQdKjG7HBGRLkuhVKQbOnCiiqXrDwDw\n",
              "+NSh+HrZTK7Iffn7eDJ1RHPDU5oankRE2otCqUg3YxgGj72TSb3DYFJiL64ZEmF2SW7v9CX8978+\n",
              "Tkm1Gp5ERNqDQqlIN7N21zE25RTjbfPgyalqbroQwyODSOoXQJ2jkVXb8s0uR0SkS1IoFelGKmvq\n",
              "eXrtHgB+OimO6FBfkyvqPGanxgCwIs2uhicRkXagUCrSjTz3cTaFlbXEhvoy97IBZpfTqUxN7ktP\n",
              "LysHi6rZfLDY7HJERLochVKRbmLP0Qr+sTkXgKemJeHjaTW3oE7Gz9vGtJH9AM3wJCLSHhRKRbqB\n",
              "xkaDhe9k4mg0uGFYHy5L6GV2SZ3S7NSmhqcPdx+nqKrW5GpERLoWhVKRbuCtbflsO1xKTy8rC6cM\n",
              "MbucTiupXyAjooKodxi8pYYnERGXUigV6eJKq+tY/P5eAB6+KoHegT4mV9S53Z56eoYnO42NangS\n",
              "EXEVhVKRLu5/PtxP6cl6EiP8mTMh1uxyOr0pI/rg723DXnKSTQeKzC5HRKTLUCgV6cK220t5Pb2p\n",
              "KeeZm5LwtOpX/mL5etm4aZQankREXK3Vf6GuueYahg8fTnJyMhMnTmTHjh0AZGdnM378eBISEkhJ\n",
              "SWH37t3Oddo6JiJt1+BoZOHqTAwDbhkdSUpsiNkldRmnZ3j6eE8BhZU1JlcjItI1tDqUvvHGG+za\n",
              "tYuMjAzmzZvHnDlzALjvvvuYO3cuWVlZzJ8/37n8YsZEpO2WfXWY3UcrCPCx8cj3BpldTpcyqHcA\n",
              "o6KDaGg0eHOrGp5ERFyh1aE0KCjI+XV5eTkWi4XCwkK2bt3KHXfcAcCMGTPIy8sjJyenzWMi0naF\n",
              "lTX870dZAPzyukGE+XmbXFHXM3vsf2Z4UsOTiMjFs7VlpTvvvJPPPvsMgPfee4+8vDz69OmDzda0\n",
              "OYvFQnR0NHa7ncDAwDaNxcXFfed1a2trqa1teW9Ah8PRll0Q6dIWvbuXytoGRkQGcltzt7i41pTh\n",
              "fXjq37vJLz3F+uwTXJEYbnZJIiKdWpu6Hl599VXy8vJ45plnmD9/vqtrOqvFixcTGBjY4pGWltZh\n",
              "ry/SGXx5oIjVGUexWOCZ6cOweljMLqlL8vG0cvOoSEANTyIirnBRrbh33XUXn332GZGRkRw7doyG\n",
              "hgYADMPAbrcTHR1NVFRUm8bOZMGCBZSXl7d4pKamXswuiHQpdQ2NPPZOU7PgHWNjGBYZaHJFXdvt\n",
              "zQ1Pn+wrpKBCDU8iIhejVaG0rKyMo0ePOr9fvXo1oaGhhIeHM2rUKJYtWwbAqlWriIyMJC4urs1j\n",
              "Z+Lt7U1AQECLh9Wq+btFTntp4yFyCqsI8/Piv69JNLucLi8+wp+U2GAcjQYr0/PMLkdEpFNr1WdK\n",
              "y8vLmTlzJqdOncLDw4NevXqxdu1aLBYLS5cuZc6cOSxatIiAgABefvll53ptHRORC5dfepI/fJIN\n",
              "wK+uH0ygr6fJFXUPs8dGk55byutpdn46KU4flxARaSOLYRidum103rx5LFmyxOwyREw399WtfLSn\n",
              "gNT+IaycOw6LReGoI9TUOxi3+BPKTtbz9zljuHJQhNkliYh0SpreRaQL+HRfAR/tKcDmYeHpaUkK\n",
              "pB3Ix9PKDDU8iYhcNIVSkU6upt7B42uampt+dGl/Env7m1xR93N6hqdP9xVytOyUydWIiHROCqUi\n",
              "ndz/+yyHvJJT9An04cHJ8WaX0y0N7OXHuAEhNBqo4UlEpI0USkU6sUNF1bz4xUEAHpsyhJ7ebZoP\n",
              "Q1zg9AxPr6fbaXA0mlyNiEjno1Aq0kkZhsFj72RS52jk8oReXJfU2+ySurVrh0YQ0tOLgopaPt1X\n",
              "aHY5IiKdjkKpSCf13tfH2ZBdhJfNgyenDlVzk8m8bVZmjm5ueEpTw5OISGsplIp0QlW1DTy1tqm5\n",
              "6SdXDCQ2rKfJFQnAbalNDU9fZJ0gr+SkydWIiHQuCqUindDz67IoqKglJtSX+y8faHY50iw2rCcT\n",
              "4kIx1PAkItJqCqUincy+4xX8fVMuAE9MHYqPp6badSezU5sanlZuzaNeDU8iIhdMoVSkE2lsNHj0\n",
              "X5k4Gg2+l9SbSYnhZpck33L1kAjC/Lw4UVnLJ3sLzC5HRKTTUCgV6URWbc9n6+FSfL2sLJwyxOxy\n",
              "5Ay8bB7MHBMFwGua4UlE5IIplIp0EmUn6/jt+/sAeGhyPH2DephckZzNbSlNDU8bsouwF6vhSUTk\n",
              "QiiUinQSv/9wP8XVdcSH+/HDS/ubXY6cQ3SoLxPjwwBYka6zpSIiF0KhVKQT2JlX5rz35TPTk/C0\n",
              "6lfX3d0+tuls6Ztb86hrUMOTiMj56C+biJtzNBo8ujoTw4CbR/Zj7IBQs0uSCzB5cAS9/L0pqqrj\n",
              "4z1qeBIROR+FUhE3t3zLYb4+Uo6/j40F1w82uxy5QJ5WD2Y1NzwtTztscjUiIu5PoVTEjZ2orOV/\n",
              "PtwPwC+vTaSXv7fJFUlr3JoahcUCm3KKyS2qNrscERG3plAq4sYWv7eXypoGhvULZPbYGLPLkVaK\n",
              "DPblioReAKxIU8OTiMi5KJSKuKmvDhbz9o4jWCxNzU1WD4vZJUkbnP7HxJvb8qltcJhcjYiI+1Io\n",
              "FXFD9Y5GFq7OBGB2ajQjooLMLUjabFJiL3oH+FBSXccHmcfNLkdExG0plIq4ob9vPER2YRWhPb34\n",
              "5bWDzC5HLoLN6sGslOaGJ83wJCJyVgqlIm7maNkp/m9dNgALrh9MoK+nyRXJxbo1NQoPC2w5VEJO\n",
              "YZXZ5YiIuCWFUhE38/TaPZyqd5ASG8yMUf3MLkdcoE9gD64cFA6o4UlE5GwUSkXcyGf7C3k/8zhW\n",
              "DwtPT0/CYlFzU1cxu3mGp1Xb86mpV8OTiMi3KZSKuImaegdPrNkNwA8nxDKod4DJFYkrXZ4QTr+g\n",
              "HpSdrOf9zGNmlyMi4nYUSkXcxItfHOBw8UkiArx56KoEs8sRF7N6WNTwJCJyDgqlIm4gt6ia//f5\n",
              "AQAemzIUP2+byRVJe5iVEoXVw0J6bilZBZVmlyMi4lYUSkVMZhgGj63ZTV1DIxPjw7h+WG+zS5J2\n",
              "EhHgw+TmhiedLRURaalVobSmpobp06eTkJDAiBEjuPrqq8nJyQHgiiuuoH///iQnJ5OcnMxzzz3n\n",
              "XK+wsJDrrruO+Ph4kpKSWL9+/QWNiXQHH2QeZ33WCbysHjw1Tc1NXd3phqe31fAkItJCq8+Uzp07\n",
              "l/3797Nz506mTZvGPffc4xx77rnnyMjIICMjg5///OfO5Y888gjjxo0jOzubl19+mdmzZ1NfX3/e\n",
              "MZGurrq2gafW7gHg/ssH0D+sp8kVSXu7LL4XkcE9qKhpYO0uNTyJiJzWqlDq4+PD9ddf7zyTM27c\n",
              "OHJzc8+73htvvMH9998PQEpKCn379uWLL74475hIV/eHT7I5Vl5DVEgPfjIpzuxypAN4eFi4LbXp\n",
              "bOnyLYdNrkZExH1c1GdKn3/+eaZNm+b8/pFHHmHYsGHMmjWLgwcPAlBcXEx9fT29e//nc3KxsbHY\n",
              "7fZzjp1JbW0tFRUVLR4Ohy5/See0/3glL208BMBTU5Pw8bSaXJF0lJljIrF5WNhuL2Pf8QqzyxER\n",
              "cQttDqWLFi0iJyeHxYsXA/DPf/6Tffv2sWvXLiZOnMiUKVNcVuRpixcvJjAwsMUjLS3N5a8j0t4M\n",
              "w2DhO5k0NBpcOzSCSc3NL9I9hPv7cM3QCEANTyIip7UplD777LO8/fbbvP/++/j6+gIQFdV0/z2L\n",
              "xcIDDzzAwYMHKS4uJjQ0FJvNxvHjx53r5+bmEh0dfc6xM1mwYAHl5eUtHqmpqW3ZBRFT/WvHEdIO\n",
              "ldDD08pjNw41uxwxwezUGAD+tf0IJ+saTK5GRMR8rQ6lS5YsYcWKFXz88ccEBQUB0NDQQEFBgfM5\n",
              "q1atIiIigtDQUABmzpzJiy++CEB6ejpHjhzh8ssvP+/Yt3l7exMQENDiYbXqkqd0LuUn61n03l4A\n",
              "HpwcT7+gHiZXJGYYPzCUmFBfKmsb+PfOo2aXIyJiulbdoTs/P5//+q//YsCAAUyaNAloCoqffvop\n",
              "N9xwA7W1tXh4eBAWFsaaNWuc6/3ud7/jBz/4AfHx8Xh5ebFs2TI8PT3POybSFT370X6KquqIC/fj\n",
              "R5f2N7scMcnphqffvr+P5VvszEo58xUiEZHuolWhNDIyEsMwzji2devWs64XERHBRx991Ooxka7m\n",
              "6/xyljV3XD89LQkvm+av6M5uGR3J/360n5355WQeKSepX6DZJYmImEZ/EUU6iKPR4NHVX2MYMD25\n",
              "L5cMDDW7JDFZmJ831w5tuvvI8jQ1PIlI96ZQKtJBVqTZ2Zlfjr+3jV/dMNjscsRNnJ7h6Z0dR6iq\n",
              "VcOTiHRfCqUiHaCoqpb/+WAfAP99bSLh/j4mVyTu4pIBoQwI60l1nYM1GWp4EpHuS6FUpAP89v19\n",
              "VNQ0MLRvAHeMizG7HHEjFss3ZnhK0wxPItJ9KZSKtLO0QyW8tS0fiwWemZ6E1cNidkniZmaMjsTL\n",
              "6kHmkQp25ZeZXY6IiCkUSkXaUb2jkYWrMwG4NSWakdHBJlck7iikpxffG9bc8KQZnkSkm1IoFWlH\n",
              "r2zKZX9BJSE9vfjltYlmlyNubHbzJfw1O49SWVNvcjUiIh1PoVSknRwrP8X/rcsC4JHrBhHc08vk\n",
              "isSdpfYPIS7cj5N1Dlar4UlEuiGFUpF28szavVTXORgdE8wtoyPNLkfcXIuGpy32s05UIiLSVSmU\n",
              "irSD9VknePfrY1g9LDwzPQkPNTfJBZgxqh/eNg/2HqsgI6/M7HJERDqUQqmIi9XUO3jsnabmpjnj\n",
              "YxncJ8DkiqSzCPL14obhfQA1PIlI96NQKuJif1l/kNzik4T7e/PwVfFmlyOdzO3NMzz9e9dRyk+p\n",
              "4UlEug+FUhEXOlxczQuf5QCwcMoQ/H08Ta5IOptR0cEkRvhTU9/Iv7bnm12OiEiHUSgVcRHDMHhi\n",
              "zW7qGhq5NC6MKc2XYUVaw2KxMHvs6Rme1PAkIt2HQqmIi3y0p4DP9p/A02rhyWlDsVjU3CRtM31k\n",
              "P3w8PcgqqGLb4VKzyxER6RAKpSIucLKugSfX7AbgvssGMrCXn8kVSWcW2MOTG4f3BdTwJCLdh0Kp\n",
              "iAv84ZMcjpbXEBncg59OijO7HOkCTl/CX/v1McpO1plcjYhI+1MoFblI2QWV/G3DQQCenDqUHl5W\n",
              "kyuSriA5KojBfQKoa2hk1fYjZpcjItLuFEpFLoJhGCx8J5OGRoOrBkcweXCE2SVJF9Gi4WnLYTU8\n",
              "iUiXp1AqchHeyTjKVwdL8PH04PEbh5hdjnQx05P74utl5cCJatIOlZhdjohIu1IoFWmj8lP1PPPu\n",
              "XgB+dmU8USG+JlckXY2/jydTRzQ3PKWp4UlEujaFUpE2eu7jLIqqahnYqyf3ThxgdjnSRZ2+hP/+\n",
              "18cpqVbDk4h0XQqlIm2QeaScVzfnAvD0tCS8bPpVkvYxPDKIpH4B1DkaWbVNMzyJSNelv6QirdTY\n",
              "aPDr1Zk0GjB1RF/Gx4WZXZJ0cbNTYwBYoRmeRKQLUygVaaXX0/PYmVeGn7eNR28YbHY50g1MTe6L\n",
              "n7eNg0XVbD5YbHY5IiLtQqG0FfYdr+BUncPsMsRExVW1/O6DfQDMuzqB8AAfkyuS7sDP28a0ZM3w\n",
              "JCJdm83sAjqLxkaDWUu/4mRdA8Mjg0jtH0Jq/xBGxwQT4ONpdnnSQX73wT7KT9UzuE8Ad14SY3Y5\n",
              "0o3MHhvNa1vsfLj7OEVVtYT5eZtdkoiISymUXqCCyhp6eFopP1XPtsOlbDtcyp8/P4CHBYb0DSA1\n",
              "NpTU/sGkxIYQqj8WXdLW3BLe2NrUaPLM9CRsVl1okI4ztG8gI6KC2JlXxptb8/nxFQPNLklExKVa\n",
              "9Ve1pqaG6dOnk5CQwIgRI7j66qvJyckBoLCwkOuuu474+HiSkpJYv369c722jrmTPoE92LzgStb/\n",
              "YhK/v2U43x8TSWyoL40GZB6p4O+bDnH/su2MfmYdVy35gl/962veyTjCsfJTZpcuLtDgaOTR1ZkA\n",
              "3JoSxeiYYJMrku7o9tSm20OtSLPT2KiGJxHpWlp9pnTu3Ll873vfw2Kx8MILL3DPPffw+eef88gj\n",
              "jzBu3Dg++OAD0tPTuemmmzh06BCenp5tHnM3FouF6FBfokN9mTkmCoCCihrSDpU4H/sLKskprCKn\n",
              "sMr52a+okB6kxoYytn8IKf1DiA31xWKxmLkr0kr/2HyYfccrCfL15JfXDTK7HOmmpozow9Nr92Av\n",
              "OcmmA0VMjO9ldkkiIi7TqlDq4+PD9ddf7/x+3LhxPPvsswC88cYbzrOmKSkp9O3bly+++IKrrrqq\n",
              "zWOdQUSADzeO6MuNzbOulFbXkZ5bQnpuU0jNPFpBXskp8kryWbW96dJvL39vUvuHMLb5c6kJ4f54\n",
              "eCikuqvj5TUs+Wg/AI9cN4iQnl4mVyTdla+XjZtG9ePVzYdZvsWuUCoiXcpFfab0+eefZ9q0aRQX\n",
              "F1NfX0/v3r2dY7Gxsdjt9jaPnUltbS21tbUtljkc7tUNH9zTi2uG9uaaoU37VFXbwPbDpc4zqRl5\n",
              "ZZyorOXdXcd4d9cxAAJ7eJIS+5+QOrRvgD6v6EaeeXcP1XUORkYH8f3mM+QiZpk9NppXNx/m4z0F\n",
              "FFbWEO6vO0CISNfQ5lC6aNEicnJy+OSTTzh1qmM+N7l48WKefPLJFsvGjRvXIa/dVn7eNi5L6MVl\n",
              "CU1nNGrqHezMK2sKqbklbDtcSvmpetbtLWDd3gIAfL2sjI4JJjW2KaSOiArCx9Nq5m50Wxuzi1i7\n",
              "6xgelqbmJp3RFrMN6h3AqOggttubGp5+OinO7JJERFyiTaH02Wef5e2332bdunX4+vri6+uLzWbj\n",
              "+PHjzrOeubm5REdHExoa2qaxM1mwYAHz5s1rsWzhwoVt2QXT+HhaGTsglLEDQgGodzSy52gFaYdK\n",
              "2HKo6bJ/+al6NmQXsSG7CAAvqwfJUf+5DdWomGD8vHXjhPZW2+DgsXeampvuvCSWoX0DTa5IpMns\n",
              "sTFst5exIs3Ojy8fqH8siUiXYDFaOWfdkiVLeO2111i3bh3Bwf/pQJ4zZw6xsbE88cQTpKenM336\n",
              "dHJzc/H09Gzz2IWYN28eS5Ysad1eu7HGRoOswkpnSE07VMKJypYfWbB6WEjqG0BK85nUlNgQgvU5\n",
              "R5d74dNsnv0oi17+3nzyX5frfrTiNmrqHaT+Zh0VNQ28cncKVySGm12SiMhFa1Uozc/PJyoqigED\n",
              "BuDv7w+At7c3W7ZsoaCggB/84AccOnQILy8vXnjhBSZNmgTQ5rEL0dVC6bcZhkFu8UnST4fU3GLy\n",
              "Sr77cYnECH/nmdTU/iFEaKahi5JXcpKrlnxBbUMjz9+azLTkfmaXJNLCE2t288qXuVwzJIK/3DnG\n",
              "7HJERC5aq8+UupuuHkrP5GjZKdJz/3MmNaew6jvPiQ31dZ5FHds/lKiQHroNVSvc84901u0tZPzA\n",
              "UF67Z6x+duJ2sgsqufq59Vg9LHz5yJX6h6iIdHr6YGIn1DeoB9OS+znP3hVV1bI1t4S0Q6Wk5Raz\n",
              "52gFucUnyS0+6ZyBqHeAj/Ms6tj+IcSF+yloncXHewpYt7cQT6uFp6Yl6eckbik+wp+U2GDSc0tZ\n",
              "mZ7Hg5PjzS5JROSiKJR2AWF+3lyX1IfrkvoAUFHTNBXq6dtQ7cov43hFDWt2HmXNzqMAhPT0IiU2\n",
              "mNT+TTf1H9wnAKuaJThZ18ATa3YDcO/EAcSF+5lckcjZzR4bTXpuKa+n2fnppDj9DotIp6ZQ2gUF\n",
              "+HgyKTGcSc3ND6fqHOzI+09I3W4vpaS6jg93F/Dh7qbbUPl525puQ9V8JnVYZCDetu53G6oXPs3h\n",
              "SNkp+gX14GdX6syTuLfvJfXhyX/v4Wh5DV9kFXLloAizSxIRaTOF0m6gh5eV8QPDGD8wDIC6hkYy\n",
              "j5Y7Q2p6bgmVNQ18kXWCL7JOAOBt82BkdJDzTOrI6CB8vbr2/y45hVX8dcNBAB6/cQg9vLpfKJfO\n",
              "xcfTyi2jIvnbxkMs32JXKBWRTq1rpww5Iy+bB6OigxkVHcz9lw/E0Wiw73iFM6SmHSqhuLqOrw6W\n",
              "8NXBEgBsHhaS+gU6Z50aExNCoG/XuUWSYRg89k4m9Q6DyYPCuXqI/rhL53Db2Gj+tvEQn+4r5GjZ\n",
              "KfoG9TC7JBGRNlEoFaweFob2DWRo30DuntAfwzA4WFTtDKhbDhZztLyGjLwyMvLKWLr+IBZL08wy\n",
              "p0NqSmwIvfy9zd6VNluz8yhfHijG2+bBE1OHqrlJOo2BvfwYNyCErw6W8Hp6HvOuTjC7JBGRNlEo\n",
              "le+wWCwM7OXHwF5+3JbaNLtWfunJFmdSDxZVs/dYBXuPVfDKl7kADOjVs0VIjQz2NXEvLlxFTT3P\n",
              "vLsXgJ9dGUdUSOeoW+S02WNj+OpgCSvT7Tx4ZRw2q4fZJYmItJpCqVyQyGBfIoN9uXlUJACFlTWk\n",
              "Hyol7VAxabml7DtewcET1Rw8Uc2KtDwA+gX1aHFD/wFhPd3yDORzH2dxorKWAWE9ufeyAWaXI9Jq\n",
              "1w6NIKSnFwUVtXy6r5BrhvY2uyQRkVZTKJU2Cff34YbhfbhheNNtqMpP1rP1cIlzetSvj5RzpOwU\n",
              "/9pxhH/tOAJAmJ9XU0CNDSG1fyiJvf1Nv4XN7qPl/KP5TO+T04Z2yzsOSOfnbbMyc3QkS9cfZHma\n",
              "XaFURDolhVJxiUBfTyYPjmDy4KYGoeraBnbYy5rPpJaww15GUVUd7319nPe+Pg6Av4+NlNj/nEkd\n",
              "1i8Qzw687NjYaPDo6kwaDZgyvA8T43t12GuLuNptqdEsXX+QL7JOkFdyUh9DEZFOR6FU2kVPbxuX\n",
              "xodxaXzTbahqGxx8nV/unBp12+FSKmsa+HRfIZ/uKwSgh6eVUTFBpMaGktp8Gyofz/Y7c/nmtjx2\n",
              "2Mvw87axcMqQdnsdkY4QG9aTCXGhbMopZmV6Hv99baLZJYmItIpCqXQIb5uVMbEhjIkN4aeToMHR\n",
              "yN5jlWw5VOy8V2rpyXo25RSzKacYAE+rheGRQc4zqaNjggnwcc1tqEqq61j8/j4AHr4qXvOGS5cw\n",
              "OzWmKZRuzeOhq+I79MqDiMjFUigVU9isHgyLDGRYZCD3TBxAY6NBzomq/9yG6lAxBRW1bDtcyrbD\n",
              "pfz58wN4WGBI3wDnmdSU2GBC/dp2G6r/+WAfZSfrGdTbnznjY127cyImuXpIBGF+XpyorOWTvQXO\n",
              "qYdFRDoDhVJxCx4eFhIi/EmI8OeOcTEYhkFeySnnmdS03BIOF58k80gFmUcq+PumQwDEh/uR0jw1\n",
              "amr/EPoEnv/G4dvtpbye3nSHgGemJ+n2OdJleNk8mDkmij9/foDXttgVSkWkU1EoFbdksViIDvUl\n",
              "OtSXmWOiADheXkNabgnpzWdT9xdUkl1YRXZhFcu32AGICulBamyoM6TGhPq2uA1Vg6ORR/+VCcDM\n",
              "0ZGMiQ3p+J0TaUe3pUTz588PsCG7CHvxSaJD1fAkIp2DQql0Gr0DfZg6oi9TR/QFoLS6jvTcEueZ\n",
              "1Mwj5eSVnCKvJJ9V2/MBCPf3JrX5TGpK/xA25RSz51gFgT08eeR7g8zcHZF2ER3qy8T4MDZkF7Ei\n",
              "3c786/T/uYh0Dgql0mkF9/TimqG9nfdkrKypZ/vp21AdKmFnXjmFlbWs3XWMtbuOtVh3/nWD2vx5\n",
              "VBF3d/vYGDZkF/Hm1jx+flUCXjZ9REVE3J9CqXQZ/j6eXJ7Qi8sTmu43WlPvYGdemfNM6rbDpZys\n",
              "czAmJphbU6JMrlak/UweHE64vzeFlbV8vKfAOcmFiIg7UyiVLsvH08rYAaGMHRAKQL2jkQMnqogO\n",
              "8cXD5JmkRNqTp9WDWSlR/PHTHF7bclihVEQ6BV3TkW7D0+rBoN4B+Hrp32LS9c1KicJigS8PFHOo\n",
              "qNrsckREzkuhVESkC4oM9uWK5o+yrEizm1yNiMj5KZSKiHRRs8fGAPDWtnxqGxwmVyMicm4KpSIi\n",
              "XdSkxF70DvChpLqODzKPm12OiMg5KZSKiHRRtuaGJ8A5wYSIiLtSKBUR6cJuTY3CwwJbDpWQU1hl\n",
              "djkiImelUCoi0oX1CezBlYPCATU8iYh7UygVEeniZo+NBmDV9nxq6tXwJCLuSaFURKSLuzwhnH5B\n",
              "PSg7Wc/7mcfOv4KIiAlaFUoffPBBYmNjsVgsZGRkOJfHxsaSmJhIcnIyycnJrFy50jmWnZ3N+PHj\n",
              "SUhIICUlhd27d1/QmIiIuIbVw6KGJxFxe60KpbfccgsbN24kJibmO2MrV64kIyODjIwMZs2a5Vx+\n",
              "3333MXfuXLKyspg/fz5z5sy5oDEREXGdWSlRWD0spOeWklVQaXY5IiLf0apQetlllxEZGXnBzy8s\n",
              "LGTr1q3ccccdAMyYMYO8vDxycnLOOSYiIq4VEeDD5OaGJ50tFRF35LLPlN55550MGzaMH/3oR5w4\n",
              "cQKAvLw8+vTpg83WNNe4xWIhOjoau91+zrGzqa2tpaKiosXD4dCH9kVELsTt45qucr2thicRcUMu\n",
              "CaXr169n165dbN++nbCwMO666y5XbPY7Fi9eTGBgYItHWlpau7yWiEhXMzEujKiQHlTUNLB2lxqe\n",
              "RMS9uCSURkc33W7E09OThx9+mA0bNgAQFRXFsWPHaGhoAMAwDOx2O9HR0eccO5sFCxZQXl7e4pGa\n",
              "muqKXRAR6fI8PCzcmtL0HvvalsMmVyMi0tJFh9Lq6mrKysqc369YsYKRI0cCEB4ezqhRo1i2bBkA\n",
              "q1atIjIykri4uHOOnY23tzcBAQEtHlar9WJ3QUSk25g5JhKbh4Ud9jL2HqswuxwREadWhdL77ruP\n",
              "yMhI8vPzufbaa4mLi6OgoIBJkyYxfPhwhg0bxhdffMGrr77qXGfp0qUsXbqUhIQEfvvb3/Lyyy9f\n",
              "0JiIiLheuL8P1wyNANTwJCLuxWIYhmF2ERdj3rx5LFmyxOwyREQ6jY3ZRdzx0hb8vW1s+fVkfL1s\n",
              "ZpckIqIZnUREupvxA0OJCfWlsraBf+88anY5IiKAQqmISLfj4WHhttSmhiddwhcRd6FQKiLSDd0y\n",
              "OhJPq4Wd+eVkHik3uxwREYVSEZHuKMzPm2uH9gZgeZrOloqI+RRKRUS6qdljmy7hv7PjCFW1DSZX\n",
              "IyLdnUKpiEg3dcmAUAaE9aS6zsGaDDU8iYi5FEpFRLopi+UbDU9pmuFJRMylUCoi0o3NGB2Jl9WD\n",
              "zCMV7MovM7scEenGFEpFRLqxkJ5efG9Yc8OTbg8lIiZSKBUR6eZuHxsDwJqdR6msqTe5GhHprhRK\n",
              "RUS6uZTYYOLC/ThZ52C1Gp5ExCQKpSIi3ZzFYmF2c8PTa18dxjAMkysSke5IoVRERJgxKhJvmwf7\n",
              "jleyI6/M7HJEpBtSKBUREQJ9PblheB9ADU8iYg6FUhERAeD25hme1u46SvkpNTyJSMdSKBUREQBG\n",
              "RQeTGOFPTX0j/9qeb3Y5ItLNKJSKiAjQ3PA09vQMT3Y1PIlIh1IoFRERp+kj++Hj6UFWQRXbDpea\n",
              "XY6IdCMKpSIi4hTYw5Mbh/cF1PAkIh1LoVRERFo4fQl/7dfHKDtZZ3I1ItJdKJSKiEgLyVFBDO4T\n",
              "QF1DI6u2HzG7HBHpJhRKRUSkhRYNT1s0w5OIdAyFUhER+Y7pyX3x9bJy4EQ1aYdKzC5HRLoBhVIR\n",
              "EfkOfx9Ppo5obnhKU8OTiLQ/hVIRETmj28fGAPD+18cpqVbDk4i0L4VSERE5o2GRgQzrF0ido5FV\n",
              "2zTDk4i0L4VSERE5K83wJCIdRaFURETOauqIvvh52zhUVM3mA8VmlyMiXVirQumDDz5IbGwsFouF\n",
              "jIwM5/Ls7GzGjx9PQkICKSkp7N69+6LHRETEfD29bUxLbmp4ek0NTyLSjloVSm+55RY2btxITExM\n",
              "i+X33Xcfc+fOJSsri/nz5zNnzpyLHhMREfdw+hL+R7uPU1RVa3I1ItJVtSqUXnbZZURGRrZYVlhY\n",
              "yNatW7njjjsAmDFjBnl5eeTk5LR5TERE3MfQvoGMiAqi3mHw5lY1PIlI+7joz5Tm5eXRp08fbDYb\n",
              "0DQTSHR0NHa7vc1jZ1NbW0tFRUWLh8PhuNhdEBGR87g9tels6Yo0O42NangSEdfrVI1OixcvJjAw\n",
              "sMUjLS3N7LJERLq8KSP64O9tw15ykk0HiswuR0S6oIsOpVFRURw7doyGhgYADMPAbrcTHR3d5rGz\n",
              "WbBgAeXl5S0eqampF7sLIiJyHr5eNm4a1Q+A5VvU8CQirnfRoTQ8PJxRo0axbNkyAFatWkVkZCRx\n",
              "cXFtHjsbb29vAgICWjysVuvF7oKIiFyA0w1PH+8poLCyxuRqRKSrsRituBvyfffdx7vvvsvx48cJ\n",
              "DQ3F39+fnJwc9u/fz5w5cyguLiYgIICXX36ZYcOGAbR57ELNmzePJUuWtGodERFpm5v/3ya228v4\n",
              "xbWJ/HTS2U8iiIi0VqtCqTtSKBUR6Thvbcvnv9/cSWRwD9b/YhIeHhazSxKRLqJTNTqJiIi5pgzv\n",
              "Q4CPjfzSU6zPPmF2OSLShSiUiojIBfPxtHLzqKb7VavhSURcSaFURERa5fbmhqdP9hVSUKGGJxFx\n",
              "DYVSERFplfgIf1JjQ3A0GqxMzzO7HBHpIhRKRUSk1U7fHur1NDsOzfAkIi6gUCoiIq12XVJvgn09\n",
              "OVpew+f7C80uR0S6AIVSERFpNR9PKzPU8CQiLmQzuwAREemcbhsbzd82HuKz/YUcLTtF36AeZpck\n",
              "7cQwDLILq9iUU8TmA8UUV9cBYAEszbeqtWBpWnCG5c6vLc3P+8Z409enl55+zpmX8411Wz7/G8vP\n",
              "Wo/lDLW1XM6Zaj7HvlxQPd/YF877nIuo5z9FnfM5p7+OCe3JjSP64k4USkVEpE0G9vJj3IAQvjpY\n",
              "wuvpecy7OsHsksSFjpSdYlNOEV/mFLHpQDEnKmvNLklcaFJiL4VSERHpOmaPjeGrgyWsTLfz4JVx\n",
              "2Kz6VFhnVVpdx+aDxWzKKWJTThG5xSdbjPt4epASG8KEuDBiQ3t+Y8Tg9NyQBnzj628v/09D3Bmf\n",
              "Y7R8nuH8z5m2deblfGPd/2zXOL0Z52ucXk6L5cYZntNyOd9Yt831nGNfaLG8lfVcwL7wjeWJvf1x\n",
              "NwqlIiLSZtcOjSCkpxcFFbV8uq+Qa4b2NrskuUAn6xpIzy3ly5wiNuYUsedYRYugY/WwMCIykAlx\n",
              "YYwfGMaomCC8bVbzCpYuT6FURETazNtmZeboSJauP8jyNLtCqRurdzSyK7+MTTnFbMwpYoe9lHpH\n",
              "y9t5JUb4Mz4ulAkDwxg7IAR/H0+TqpXuSKFUREQuym2p0Sxdf5Avsk6QV3KSqBBfs0sSmi7p7i+o\n",
              "ZFNO0yX5LQeLqa5ztHhOv6AeTIgLZUJcGJcMDCXc38ekakUUSkVE5CLFhvVkQlwom3KKWZmex39f\n",
              "m2h2Sd1WXslJvjxQxKacYr48UERRVV2L8WBfT8YPDHOeDY0J9W3RFS5iJoVSERG5aLNTY5pC6dY8\n",
              "HroqHk81PHWI4qra5uakprOh9pKWzUk9PK2k9g9hQlwo4weGMaRPAB4eCqHinhRKRUTkol09JIIw\n",
              "Py9OVNbyyd4CrkvqY3ZJXVJ1bQNpuSXNzUnF7D1W0WLc5mEhOSqI8XFhTBgYysjoYLxs+geCdA4K\n",
              "pSIictG8bB7MHBPFnz8/wGtb7AqlLlLvaCQjr8x5m6Yd9jIaGls2Jw3q7c+EuDAmxIWS2j8UP2/9\n",
              "aZfOSf/nioiIS9yWEs2LXxxgQ3YR9uKTRIeq4am1GhsN9h2v5MsDTbdpSjtUwslvNSdFBvfg0rgw\n",
              "xseFMX5gKGF+3iZVK+JaCqUiIuIS0aG+TIzvxfqsE6xItzP/ukFml9Qp2ItPsqk5hG4+UExJdcvm\n",
              "pNCeXlwysKlDfsLAMIV96bIUSkVExGVmp0azPusEb27N4+dXJejzjGdQVFXLlweK2ZRdxKYDReSX\n",
              "nmox7utlZWz/EOdN6wf19ldzknQLCqUiIuIykweHE+7vTWFlLR/tOc6U4e41t7YZqmobSDtUzMbs\n",
              "pts07Tte2WLc02phZFRw022a4sIYERmkMC/dkkKpiIi4jKfVg1kpUfzx0xyWb7F3y1Ba19DIDnsp\n",
              "mw403aZpZ953m5OG9Alouk1TXBipsSH0VHOSiEKpiIi41qyUKF74LIcvDxRzqKia/mE9zS6pXTU2\n",
              "Guw5VtHcnFRM+qESTtW3bE6KCfVl/MCmDvlLBoQSquYkke9QKBUREZeKDPblioRefLb/BCvS7Pzq\n",
              "+sFml+RShmFwuLk5aVNzc1LpyfoWzwnz83KG0PEDwzT1qsgFUCgVERGXmz02hs/2n+Ctbfn81zUJ\n",
              "eNusZpd0UQora9h8oJiN2UV8eaCYI2Utm5P8vG2M7R/SdNP6uFASI/w1fadIKymUioiIy01K7EXv\n",
              "AB+OV9TwQeZxpiX3M7ukVqmsqWfLwRI25hTx5YEisgqqWox7Wi2Mig523rR+eGSQplYVuUgKpSIi\n",
              "4nK25oan5z/JZvkWu9uH0toGB9sPlzlvWr8rvxzHN5qTLBYY2jeACQObblqfEhuMr5f+hIq4kn6j\n",
              "RESkXdyaGsUfP81my6EScgqriAv3M7skJ0ejwZ6jFc4zoem5JdTUN7Z4Tv+wnoxvvmn9JQNCCe7p\n",
              "ZVK1It2DS0NpbGws3t7e9OjRA4AFCxYwa9YssrOzueuuuygqKiIwMJBXXnmFoUOHApxzTEREOq8+\n",
              "gT24clA46/YWsiLNzsIpQ0yrxTAMDhVVN92mKbuIzQeLKT/Vsjmpl783EwaGNn8uNIx+QT1Mqlak\n",
              "e3L5mdKVK1eSnJzcYtl9993H3LlzmTNnDm+99RZz5swhPT39vGMiItK5zR4bzbq9hazans8vrk3E\n",
              "x7PjGp4KK2qapu9svmn9sfKaFuP+3jbGDghlQlwol8aFERfup+YkERO1++X7wsJCtm7dykcffQTA\n",
              "jBkzeOCBB8jJySEgIOCsY3Fxcd/ZVm1tLbW1tS2WORyO7zxPRETcw+UJ4fQL6sGRslO8n3mMm0ZG\n",
              "tttrlZ+qZ8vBphvWbzpQTE5hy+YkL6sHo2OCnTetH94vEJuak0TchstD6Z133olhGKSmpvLb3/6W\n",
              "vLw8+vTpg83W9FIWi4Xo6GjsdjuBgYFnHTtTKF28eDFPPvlki2Xjxo1z9S6IiIiLWD0s3JoSxf9+\n",
              "nMXyLXaXhtKaegfbD5eysTmEfp1fxjcnTrJYYFi/QOf9QsfEhNDDq3PfmkqkK3NpKF2/fj3R0dHU\n",
              "19fz6KOPctddd/H000+7bPsLFixg3rx5LZYtXLjQZdsXERHX+35KFP/3STbpuaVkFVSSEOHfpu04\n",
              "Gg0yj5Q7m5O25pZS29CyOWlAr55MaA6h4waEEuSr5iSRzsKloTQ6OhoAT09PHn74YRISEoiKiuLY\n",
              "sWM0NDRgs9kwDAO73U50dDQBAQFnHTsTb29vvL1bTs1mtepfvSIi7iwiwIerBofz4e4Clm+x88TU\n",
              "C2tmNQyDAyeqmy7H5xTx1cFiKmoavrVtb+dtmibEhdInUM1JIp2Vy0JpdXU19fX1BAUFAbBixQpG\n",
              "jhxJeHg4o0aNYtmyZcyZM4dVq1YRGRnpvDx/rjEREekaZo+N4cPdBazans/86wad9TL68fIaZwjd\n",
              "dKCIgoqWfQT+PjYuGRDqvGn9wF5qThLpKlwWSgsKCpgxYwYOhwPDMBgwYACvvvoqAEuXLmXOnDks\n",
              "WrSIgIAAXn75Zed65xoTEZGuYWJcGFEhPcgrOcXaXUeZOSYKgPKT9Wx2NicVcfBEdYv1vGwepMQG\n",
              "M35gGJfGhZHULxCrh0KoSFdkMQzDOP/T3Ne8efNYsmSJ2WWIiMh5/OmzHH7/4X4G9fbnisRwvjxQ\n",
              "ROaR8hbNSR4WGBYZxITmm9aPjgnu0NtIiYh5NKOTiIh0iJljInnu4yz2Ha9k3/FK5/K4cD9nCB07\n",
              "IJTAHp4mVikiZlEoFRGRDhHu78NPJsWxdudRRkY33S90QlwYEQE+ZpcmIm5AoVRERDrMvKsTmHd1\n",
              "gtlliIgb0lQWIiIiImI6hVIRERERMZ1CqYiIiIiYTqFUREREREynUCoiIiIiplMoFRERERHTKZSK\n",
              "iIiIiOkUSkVERETEdAqlIiIiImI6hVIRERERMZ1CqYiIiIiYTqFURERERExnMQzDMLuIi3HzzTcT\n",
              "GxvbIa/lcDhIS0sjNTUVq9XaIa8prqVj2Lnp+HV+Ooadn45h52fGMYyJieGhhx4653M6fSjtSBUV\n",
              "FQQGBlJeXk5AQIDZ5Ugb6Bh2bjp+nZ+OYeenY9j5uesx1OV7ERERETGdQqmIiIiImE6hVERERERM\n",
              "p1DaCt7e3jz++ON4e3ubXYq0kY5h56bj1/npGHZ+Ooadn7seQzU6iYiIiIjpdKZUREREREynUCoi\n",
              "IiIiplMoFRERERHTKZSKiIiIiOm6dSidOXMmmzdvBqCxsZGf/exnDBw4kLi4OF544YUL2sa51nvh\n",
              "hRdYtGhRu9QuTVxxDN99911Gjx6Nt7c3Dz/8cIsxHcP254pj+Ic//IGkpCSGDRvG8OHDWbZsmXNs\n",
              "7dq1zJ07t11ql5bH71y/S+ei91FzueIY6n3UXK44hm7xPmp0U1u2bDGuvPJK5/f/+Mc/jCuvvNJo\n",
              "aGgwiouLjejoaCMzM/O82znXerW1tcaAAQOMsrKydtuP7sxVx3D//v1GRkaG8etf/9p46KGHWozp\n",
              "GLYvVx3DdevWOY+R3W43QkNDjZycHOf4qFGjjKysLNfvQDf37eN3rt+lc9H7qHlcdQz1PmoeVx1D\n",
              "d3gf7bZnSpcuXcrs2bOd369cuZJ7770Xq9VKSEgIs2bNYsWKFefdzrnW8/Ly4pprrmH58uXtth/d\n",
              "mauOYUJCAiNGjMBms31nTMewfbnqGE6ePJnAwEAAoqKi6N27N3l5ec7x73//+/ztb39z/Q50c98+\n",
              "fuf6XToXvY+ax1XHUO+j5nHVMXSH99FuG0o///xzxo4d6/zebrcTExPj/D42Nha73X7e7ZxvvUsu\n",
              "uYRPPvnERVXLN7nqGJ6PjmH7aY9juG7dOkpLS0lJSXEu0zFsH98+fm2l91HzuOoYno+OYftpj2No\n",
              "1vtotw2l+fn5REREtPvr9O7dm/z8/HZ/ne5Ix7Dzc/Ux/Prrr7n77rtZuXIlPXv2dC7XMWwf+h3s\n",
              "/HQMO7+u9D7abUOpr68vNTU1zu+jo6M5fPiw8/vc3Fyio6PPu53zrVdTU0OPHj1cVLV8k6uO4fno\n",
              "GLYfVx7DPXv2MGXKFP7+979z6aWXthjTMWwf3z5+baX3UfO46hiej45h+3HlMTT7fbTbhtLhw4ez\n",
              "f/9+5/czZ87kr3/9Kw6Hg5KSElauXMmsWbMA+Ne//sWdd955xu2caz2AvXv3MmLEiPbdmW7KVcfw\n",
              "fHQM24+rjuHevXu5/vrr+ctf/sLVV199xnEdQ9f79vE7F72PuidXHcPz0TFsP646hu7wPtptQ+kt\n",
              "t9zChx9+6Pz+Bz/4AYMGDSI+Pp6UlBTmzZvHsGHDAMjOziYgIOCM2znXegAffPABt9xyS/vuTDfl\n",
              "qmP4ySefEBkZyZIlS3jppZeIjIxkzZo1znEdw/bjqmP44IMPUl5ezvz580lOTiY5ObnFdnUM28e3\n",
              "j9+5fpf0PuqeXHUM9T5qHlcdQ7d4H23X3n43VllZaQwbNsyoqqo673OnTZtmHDp0qNWvsXv3buPS\n",
              "Sy9tQ3VyIXQMO7+OOIYnTpwwhg0bZtTW1rahQjkX/Q52fjqGnV9Xeh+1GIZhtG/sdV+ffPIJERER\n",
              "JCUltcv2P/zwQ6KiohgyZEi7bF90DLuC9j6GW7ZsweFwMH78+HbZfnen38HOT8ew8+sq76PdOpSK\n",
              "SNfU0NDAb37zG1asWIHNZsNms5Gamsr111/PE088QUZGRofWU19fz6JFi1ixYgVWqxUvLy9iYmJ4\n",
              "4oknSE5O7tBaWis3N5fk5GTKysrMLkVEurjW3VlVRKQT+NGPfkRJSQmbN28mODgYwzB46623KCkp\n",
              "ccn2GxoaWnVj6rvvvpuqqipnPdB0H8D9+/d3SChtbb0iImbQmVIR6VJycnIYPnw4drudsLCwFmOf\n",
              "f/45DzzwAJdddhmbNm2ioaGBf/zjH4wZM+Y7ZwSrqqrw9/fn9FukxWLhscce47333uOKK67gxIkT\n",
              "eHt7k5OTQ15eHklJSbz++ut4eXm1eM3s7GySk5PJy8sjJCTkrHU/++yzvPHGGzQ0NBAeHs7SpUuJ\n",
              "iYmhqqqKBx98kLS0NKCpU/3xxx8HYN++fdx9991UVFSQmJhIVVUVs2fPZs6cOcyZMwcPDw9ycnIo\n",
              "LCxk37593H777ezfv5+6ujqioqJ46aWX6N27t3Pf77nnHj766CMcDgfPP/88V111lXPsoYceYu3a\n",
              "tZSXl/OHP/yB66+/nmeffZasrCz+8pe/AFBWVkZcXBxZWVnn3FcRkTPptt33ItI1bd++nfj4+O8E\n",
              "0tP27dvHXXfdxc6dO/nZz37Gr3/96wvettVqJT09nd///vcAZGRk8O9//5u9e/dSUFDAqlWrvrPO\n",
              "jh07iIuLO2dIW758Ofv372fz5s1s376d22+/nZ/85CcAPP3009TW1rJr1y62bNnC6tWrWblyJdDU\n",
              "tT537lx2797Nb37zG9avX99iu9u2bePdd99l3759APzf//0fW7duZdeuXUycOJEnnnjC+dzy8nIG\n",
              "Dx7Mrl27eOmll5g9ezaVlZXOseHDh7Nt2zZeeOEFfv7znwNwzz33sHr1ameQf/nll5k2bZoCqYi0\n",
              "iUKpiHQrcXFxzin5LrnkEg4cOHDB6/7whz9s8f1NN92Er68vVquV1NTUC9rWgQMHSE5OJjExkbvv\n",
              "vhuA1atXs27dOkaPHk1ycjL/8z//45xmc926ddx77714eHjQs2dP7rzzTj7++GMqKirIyMhw3nNw\n",
              "8ODB37nZ9cyZM/H393d+v3z5csaMGUNSUhJ/+9vfWny21mazMWfOHADGjRtH37592bFjBwA+Pj7c\n",
              "fPPN3/mZBQUFccstt/D3v/8dwzD485//zAMPPHChP04RkRb0ISMR6VJGjRpFdnY2xcXFhIaGfmfc\n",
              "x8fH+bXVaqWhoQFoCmUOh8M5dqYZUvz8/C5oW980cuRIcnJyKC0tJTg4mIEDB5KRkcErr7zC6tWr\n",
              "ATAMgwULFjB37tzz7p/FYrngsW/Wu3HjRv7whz+wefNmwsPDWbNmDY899tgFvZa3t7fza6vV2uLn\n",
              "9OCDDzJ16lQGDx5Mr169GDly5Hn3QUTkTHSmVES6lLi4OGbMmMGPfvQj52VlwzBYtWoVBw8ePOt6\n",
              "vXv3xjAM9uzZA8Crr77a5hrS0tKYPHkyAPHx8UybNq1FPQDV1dXOr6dPn86LL77obMSqr693nqW8\n",
              "6qqreOmllzAMg+rqav75z39yzTXXEBAQwIgRI1i2bBkA+/fvZ+PGjWetqbS0FH9/f0JDQ6mrq2Pp\n",
              "0qUtxhsaGvjnP//prP/o0aMX1IQ1aNAgBgwYwNy5c3WWVEQuikKpiHQ5f//73xkxYgRjx45l6NCh\n",
              "DBkyhI8++uicn3W02Wz88Y9/ZMqUKaSkpFBfX9/m18/NzW0xR/Qrr7zCsGHDnPVceumlrFu3jvnz\n",
              "5wNw++23M2fOHCZNmsSIESNITk7m008/BWDhwoV4eno61586dSrf//73gabg/Oc//5mkpCTmz59P\n",
              "SkoKQUFBZ6zpuuuuIzExkcTERCZOnPidwBkYGEhmZiYjRozg7rvvZvny5S0u/Z/LvffeS0NDg2bs\n",
              "EZGLou57EREX++lPf8ptt932nc94ulpVVRU9e/bEYrFw6NAhLrnkEtLT04mKimrVdi72XqQPPPAA\n",
              "ERERLFy4sE3ri4iAPlMqIuJyf/rTnzrkdb788kt+8YtfAOBwOHjuuedaHUgvxtGjR7nyyisJCQlp\n",
              "MUe2iEhb6EypiIiIiJhOnykVEREREdMplIqIiIiI6RRKRURERMR0CqUiIiIiYjqFUhERERExnUKp\n",
              "iIiIiJhOoVRERERETKdQKiIiIiKmUygVEREREdP9f8rTWcwPes5sAAAAAElFTkSuQmCC\n",
              "\">\n",
              "      </div>\n",
              "      <script type=\"text/javascript\">\n",
              "        (() => {\n",
              "          const chartElement = document.getElementById(\"chart-b84318fa-2e90-486b-833f-2f80d7e975c0\");\n",
              "          async function getCodeForChartHandler(event) {\n",
              "            const chartCodeResponse =  await google.colab.kernel.invokeFunction(\n",
              "                'getCodeForChart', [\"chart-b84318fa-2e90-486b-833f-2f80d7e975c0\"], {});\n",
              "            const responseJson = chartCodeResponse.data['application/json'];\n",
              "            await google.colab.notebook.addCell(responseJson.code, 'code');\n",
              "          }\n",
              "          chartElement.onclick = getCodeForChartHandler;\n",
              "        })();\n",
              "      </script>\n",
              "      <style>\n",
              "        .colab-quickchart-chart-with-code  {\n",
              "            display: block;\n",
              "            float: left;\n",
              "            border: 1px solid transparent;\n",
              "        }\n",
              "\n",
              "        .colab-quickchart-chart-with-code:hover {\n",
              "            cursor: pointer;\n",
              "            border: 1px solid #aaa;\n",
              "        }\n",
              "      </style>"
            ]
          },
          "metadata": {}
        },
        {
          "output_type": "display_data",
          "data": {
            "text/plain": [
              "from matplotlib import pyplot as plt\n",
              "_df_10['Gender'].plot(kind='line', figsize=(8, 4), title='Gender')\n",
              "plt.gca().spines[['top', 'right']].set_visible(False)"
            ],
            "text/html": [
              "      <div class=\"colab-quickchart-chart-with-code\" id=\"chart-78302192-6a7f-4ad2-b47a-39f18387fc2a\">\n",
              "        <img style=\"width: 180px;\" src=\"data:image/png;base64,iVBORw0KGgoAAAANSUhEUgAAAqUAAAF5CAYAAACmzFP7AAAAOXRFWHRTb2Z0d2FyZQBNYXRwbG90\n",
              "bGliIHZlcnNpb24zLjcuMSwgaHR0cHM6Ly9tYXRwbG90bGliLm9yZy/bCgiHAAAACXBIWXMAAA9h\n",
              "AAAPYQGoP6dpAABO00lEQVR4nO3deXxU9b3/8dcsWUjIHhKWbIQkbAECmIAgKuJCLRVapChaxati\n",
              "F6uW3l7kV9dqpb31YrXeW2lrsYggtlSkuIMIgkjCEiBsSSAhCZCEJGSFLDOZ3x8JUyNrkknOJHk/\n",
              "H4/xkZzvnDOfk2Mmb86Zz/maHA6HAxERERERA5mNLkBERERERKFURERERAynUCoiIiIihlMoFRER\n",
              "ERHDKZSKiIiIiOEUSkVERETEcAqlIiIiImI4hVIRERERMZxCqYiIiIgYTqFURKSLiYiI4I033jC6\n",
              "DBERl1IoFRFpo3379jFnzhz69++Pr68vERERTJkyhaVLlxpdmohIl6NQKiLSBhs3biQlJYU+ffqw\n",
              "ZcsWqqqqOHLkCL/85S9Zs2aN0eVdUkNDg9EliIicR6FURKQNHnroIWbPns3LL79MbGwsZrMZLy8v\n",
              "brjhBt577z3n8z744APGjRtHUFAQ8fHxvPLKK86x3NxcTCYTf/vb3xg1ahR+fn6MHz+eAwcOOJ9T\n",
              "XV3N/fffT0hICAMGDODll18+r5ZDhw4xbdo0wsPDGTBgAD/+8Y+pqalxjsfExPD0008zdepU/Pz8\n",
              "+J//+Z8O+qmIiLSdQqmISCtlZmaSlZXF3Xfffcnnbdy4kTlz5vDCCy9QWlrKu+++y+9+9zveeuut\n",
              "Fs978803+eijjzh16hQRERH86Ec/co7Nnz+f3bt3s2fPHjIzM0lPT6ewsNA5XlJSwqRJk5gyZQp5\n",
              "eXnO5z322GMtXmPJkiU8/fTTVFZW8sgjj7T/hyAi4mIKpSIirXTq1CkABgwY4Fy2b98+AgMDCQwM\n",
              "xNvbm82bN/PSSy/xox/9iClTpmA2m0lMTOSHP/zheZ85feqpp+jXrx/e3t7cd999pKWlAdDY2Miy\n",
              "Zct49tlniYiIwNfXl9///vc0NjY61122bBlxcXH87Gc/w8vLi9DQUJ599lmWLVuG3W53Pu++++7j\n",
              "6quvxmQy4ePj05E/HhGRNrEaXYCISFfTp08fAAoKChg6dCgAI0aMoLy8HJvNhoeHB42NjWRlZbF+\n",
              "/Xr++Mc/Ote12+1ERUW12F7//v2dX/v6+nL27FlsNhulpaXU1dUxcOBA53hAQADBwcHO77Oysti5\n",
              "cyeBgYHOZQ6HA5PJRGFhoTM4f30bIiLuSGdKRURaKSEhgbi4uPMuw39T3759efzxxykvL3c+qqqq\n",
              "2L9//xW9Tp8+ffDy8iI3N9e5rKKigtOnT7d4jWuuuabFa1RUVFBbW9viTK7ZrLd7EXFvepcSEWmD\n",
              "1157jbfffpvHHnuMnJwcGhsbaWhoYNOmTc7nPProo/zhD39gw4YN2Gw2bDYbGRkZbN68+Ypew2w2\n",
              "c/fdd/PMM89w/Phxampq+PnPf47JZHI+57777mP37t383//9H2fOnMHhcJCfn+/2dwAQEfkmhVIR\n",
              "kTaYMmUK27dvp7CwkAkTJtC7d28GDhzIr3/9a958800mTpzIjBkzePPNN3nqqacICwsjLCyMBx54\n",
              "gJKSkit+nZdeeokRI0YwYsQIEhISGDFiBH379nWOR0VFsW3bNj799FMGDRpEYGAgt9xyC/v27euI\n",
              "3RYR6TAmh8PhMLoIEREREenZdKZURERERAynUCoiIiIihlMoFRERERHDKZSKiIiIiOEUSkVERETE\n",
              "cAqlIiIiImI4hVIRERERMVyXD6Uvv/yy0SWIiIiISDt1+VB67Ngxo0sQERERkXbq8qFURERERLo+\n",
              "hVIRERERMZxCqYiIiIgYTqFURERERAynUCoiIiIihlMoFRERERHDKZSKiIiIiOEUSkVERETEcAql\n",
              "IiIiImI4hVIRERERMZxCqYh0KeVn6o0uQUREOoBCqYh0Ga9tOkLSrz7lnbR8o0sREREXUygVkS4h\n",
              "p6SGxZ9mAk3h1OFwGFyRiIi4kkKpiLg9h8PB02v3U29rBOBoSQ3bjpYaXJWIiLiSQqmIuL0PMwrZ\n",
              "nHkKT4uZ6xL6ALBie57BVYmIiCsplIqIW6uus/Grfx0A4IfXD+IXtwwG4OP9hZRU1xlZmoiIuJBC\n",
              "qYi4tVc2ZFFYWUtkcC9+fP0gEgcEMCoigAa7g3/sLDC6PBERcRGFUhFxW4cLq3h9Sw4Av7otEW8P\n",
              "CwBzxkUBsDI1j8ZGNTyJiHQHCqUi4pYcDgdPrsnA3ujgluHhTB4S5hz7zqj++HlZOVZ6hi+PqOFJ\n",
              "RKQ7UCgVEbf0z13HSc0to5eHhae+M7zFmI+nle+OGQDAW9uPGVGeiIi4mEKpiLidijMNvPDBQQAe\n",
              "mRLPgMBe5z3n3CX8Tw8UUVxV26n1iYiI6ymUiojb+d0nhyitqScurDf3XzPwgs8Z0tefMVGB2Bod\n",
              "/H2HGp5ERLo6hVIRcSt7C8p5q/kepM9NT8TTevG3qTnjogE1PImIdAdtDqVLly7FZDKxZs0aAIqL\n",
              "i5k6dSrx8fEkJiayefNm53PbOiYiPYu90cETazJwOOC7owdw9aCQSz5/2sh++HtbKTh9ls1Zpzqp\n",
              "ShER6QhtCqW5ubn8+c9/Zvz48c5ljz/+OOPHjycrK4ulS5cyZ84cGhoa2jUmIj3LitQ89hZU4Odl\n",
              "ZeGtQy77fG8PC98bE9G0rmZ4EhHp0lodShsbG3nggQf4wx/+gJeXl3P5O++8ww9/+EMAkpOT6d+/\n",
              "P5s2bWrXmIj0HCXVdfzuo0MA/Octgwnz876i9e5qbnjacKiYoko1PImIdFWtDqWLFy9m4sSJjB07\n",
              "1rmstLSUhoYG+vbt61wWExNDXl5em8cupK6ujsrKyhYPu93e2l0QETe06INDVNbaGN7fn7vHR1/x\n",
              "evHhfiTHBGFvdLAqLb8DKxQRkY7UqlCakZHB6tWreeKJJzqqnktatGgRAQEBLR6pqamG1CIirrP9\n",
              "aCmrdxVgMsHzMxKxmE2tWv/c7aHeTs3DroYnEZEuqVWh9IsvviA3N5f4+HhiYmL46quvmDdvHu+8\n",
              "8w5Wq5XCwkLnc3Nzc4mKiiIkJKRNYxeycOFCKioqWjxSUlJau88i4kYa7I08+V4GAHckRzE6KqjV\n",
              "2/hWYj8CfTw4UVHLpsxiV5coIiKdoFWh9Ec/+hEnT54kNzeX3Nxcxo8fz5/+9Cd+9KMfMWvWLF57\n",
              "7TUA0tLSOH78ONdddx1Am8e+ycvLC39//xYPi8XStj0XEbfwxtZcMouqCfb15L9uGdymbXh7WJip\n",
              "hicRkS7N6qoN/fa3v+UHP/gB8fHxeHp6snz5cjw8PNo1JiLd28mKs7y0PhOAx781hCBfzzZv686U\n",
              "KF7fksNnh4o5UX6W/heYBUpERNyXyeFwdOkPYM2fP5/FixcbXYaItMGP39rJB/sKGRsdxN8fuhpz\n",
              "Kz9L+k2zl2xje04Zj06J52c3JbioShER6Qya0UlEDLEp8xQf7CvEYjbx/IzEdgdS+HfD06q0fGz2\n",
              "xnZvT0REOo9CqYh0utoGO083NzfNnRDD0H7+Ltnu1MS+BPt6UlhZy8bDmuFJRKQrUSgVkU63ZNNR\n",
              "ckvPEO7vxWM3xrtsu15WC7PGNjU8vbX9mMu2KyIiHU+hVEQ61bHSGv7382wAnvj2MPy8XdvYeGdK\n",
              "0yX8TZmnyC8749Jti4hIx1EoFZFO43A4eHrtfuptjVwTF8q0kf1c/hoxob5MjAvB4UAzPImIdCEK\n",
              "pSLSaT7eX8Tnh0/haTHzq+nDMZna39x0IXNSmqYpXbUjnwY1PImIdAkKpSLSKWrqbPzqX/sBeOi6\n",
              "WGL79O6w17ppWDihvT05VVXHhoNFHfY6IiLiOgqlItIpXvksixMVtUQE9eLH18d16Gt5Ws3MuioS\n",
              "gLc0w5OISJegUCoiHS6rqIrXv8gB4NnbhtPLs+OnB74zuanh6YusEvJK1fAkIuLuFEpFpEM5HA6e\n",
              "WJOBrdHBTcPCmTI0vFNeNyrEh0nxoQCsTNPZUhERd6dQKiIdak36cbbnlOHtYebp7wzr1Ne+q3mG\n",
              "p7/vyKfepoYnERF3plAqIh2m4mwDv37/IAA/vSGeiCCfTn39KUPD6ePnRUl1PZ8eUMOTiIg7UygV\n",
              "kQ6z+JPDlFTXM6iPLw9Oiu301/ewmJnd3PC0IlUzPImIuDOFUhHpEPsKKnjzq6Yg+Nz0RDytxrzd\n",
              "3JESickEW7NLyS2pMaQGERG5PIVSEXG5xkYHT7yXQaMDbhvVnwlxoYbVEhHkw3UJfQBYmaqGJxER\n",
              "d6VQKiIu93ZaPnvyy+ntZeWJbw81uhzmpDQ3PO0soM5mN7gaERG5EIVSEXGp0uo6fvvRIQB+fnMC\n",
              "Yf7eBlcENwwJo6+/N2U19Xy8Xw1PIiLuSKFURFzqNx8eouJsA8P6+fOD8dFGlwOA1WJmdnLzDE9f\n",
              "qeFJRMQdKZSKiMvsyC3j7zsLAHhuRiJWi/u8xdyREonZBNtzysgurja6HBER+Qb3+YshIl2azd7I\n",
              "E2syALgjOZKx0UEGV9RSv4Be3DAkDFDDk4iIO1IoFRGXeOPLXA4VVhHk48GCqUOMLueC5jTP8LR6\n",
              "VwG1DWp4EhFxJwqlItJuhRW1vPRpJgALpg4hyNfT4Iou7LqEMAYE9qL8TAMfZpw0uhwREfkahVIR\n",
              "abfn3j9ATb2d0VGBfL95BiV3ZDGbnA1PK7brEr6IiDtRKBWRdvki6xTv7z2J2QTPz0jEbDYZXdIl\n",
              "zU6OxGI2kZZ7msyiKqPLERGRZgqlItJmdTY7T723H4B7J8QwvH+AwRVdXri/N1OaG550tlRExH0o\n",
              "lIpIm/1p01FySmro4+fFz25KMLqcK3au4emfangSEXEbCqUi0ib5ZWd4dWM2AE98eyj+3h4GV3Tl\n",
              "ro3vQ0RQLyprbazbq4YnERF3oFAqIq3mcDh4eu1+6myNTBgUwm2j+htdUquYzSbuTGk6W7piu2Z4\n",
              "EhFxB60OpTfffDMjR44kKSmJSZMmsXv3bgBiYmIYPHgwSUlJJCUlsWrVKuc6WVlZTJgwgYSEBJKT\n",
              "k9m/f/8VjYmIe/r0QBGfHSrGw2LiV9MTMZncu7npQmZdFYHVbGJXXjmHCiuNLkdEpMdrdSh95513\n",
              "2Lt3L+np6cyfP5+5c+c6x1atWkV6ejrp6enMnj3bufyhhx5i3rx5ZGZmsmDBghbrXGpMRNzPmXob\n",
              "z/7rAAAPToolLqy3wRW1TZifNzcNCwfU8CQi4g5aHUoDAwOdX1dUVFz2DElxcTE7duzg7rvvBmDm\n",
              "zJnk5+eTnZ19yTERcU+vfpbN8fKzDAjsxU9viDe6nHY51/D07q7jnKm3GVyNiEjPZm3LSvfccw8b\n",
              "N24E4IMPPmix3OFwkJKSwm9+8xv69OlDfn4+/fr1w2pteimTyURUVBR5eXkEBARcdCwuLu68162r\n",
              "q6Ourq7FMrtdnbMinSW7uIo/f3EUgGduG04vT4vBFbXPxEGhRIf4cKz0DOv2nOT7ye57438Rke6u\n",
              "TY1Oy5YtIz8/n+eff54FCxYAsHnzZvbu3cuuXbsIDQ3l3nvvdWmhAIsWLSIgIKDFIzU11eWvIyLn\n",
              "czgcPLlmPw12BzcODXNe+u7Kvt7w9JYankREDNWu7vt7772XjRs3UlpaSlRU0xu7h4cHjz32GF98\n",
              "8QUAkZGRnDx5Eput6dKYw+EgLy+PqKioS45dyMKFC6moqGjxSElJac8uiMgVWrvnBNuOluJlNfP0\n",
              "d4YbXY7L3D42Ag+LiT0FFWQcrzC6HBGRHqtVobS8vJwTJ044v1+zZg0hISF4e3tTXl7uXL5y5UpG\n",
              "jx4NQFhYGGPGjGH58uUArF69moiICOLi4i45diFeXl74+/u3eFgsXfvyoUhXUFnbwPPvHwTgpzfE\n",
              "ERnsY3BFrhPa24tbhvcFYEWqGp5ERIzSqs+UVlRUMGvWLM6ePYvZbKZPnz6sW7eOoqIiZs6cid1u\n",
              "x+FwEBsby7Jly5zrLVmyhLlz5/LCCy/g7+/P0qVLr2hMRNzD4k8yOVVVR2yoLw9eG2t0OS43Z1wU\n",
              "6/ae5L3dx/l/tw6lt1ebPm4vIiLt0Kp33ujo6It+hvPc/UovZPDgwWzbtq3VYyJivIzjFSzblgvA\n",
              "r6Yn4mXtflcnro4NITbUl6MlNaxNP+HsyhcRkc6jGZ1E5KIaGx08+V4GjQ6YNrIf18SHGl1ShzCZ\n",
              "vjbDU6oankREjKBQKiIX9c6OfHbnldPby8qT04YZXU6Hmjk2Ak+LmYzjlewtKDe6HBGRHkehVEQu\n",
              "qKymnt98dAiAn92UQLi/t8EVdaxgX0++NaK54UkzPImIdDqFUhG5oN9+eIjyMw0M6evHvVdHG11O\n",
              "p5jTfAl/7Z4TVNU2GFyNiEjPolAqIufZeew0q3bkA/D8jESslp7xVpEyMJi4sN6cqbezJv3E5VcQ\n",
              "ERGX6Rl/aUTkitnsjTyxJgOA718VwVUxwQZX1HlaNDxtz8PhcBhckYhIz6FQKiItLNt2jIMnKwn0\n",
              "8eDxbw01upxON3PMADytZg6erCQ9v9zockREegyFUhFxKqqsZfGnmQD81y1DCPb1NLiizhfo48m0\n",
              "Ef0ANTyJiHQmhVIRcfr1+weprrMxKjKQO5IjjS7HMOdunv+vvSeoOKuGJxGRzqBQKiIAbM0uYe2e\n",
              "E5hN8OsZiZjNJqNLMszY6CAGh/tR29DImt3HjS5HRKRHUCgVEepsdp58r6m56Qfjo0kcEGBwRcYy\n",
              "mUzOs6VvbT+mhicRkU6gUCoi/OWLHI6eqiG0txfzbx5sdDluYcboAXh7mMksqmbnsdNGlyMi0u0p\n",
              "lIr0cPllZ/jDZ1kAPPHtoQT08jC4IvcQ0MuD74zsD6jhSUSkMyiUivRwz/7rALUNjYyPDWZ6Un+j\n",
              "y3Er5y7hr9t3kvIz9QZXIyLSvSmUivRg6w8Usf5gEVazieemJ2Iy9dzmpgtJigxkaD9/6m2NrN6l\n",
              "hicRkY6kUCrSQ52tt/PMv/YD8MCkWOLD/QyuyP18veFphRqeREQ6lEKpSA/1vxuzKTh9lv4B3jwy\n",
              "Jc7octzWjKT++HhaOHKqhtScMqPLERHpthRKRXqgI6eqWbL5CABP3zYcH0+rwRW5Lz9vD24b1dzw\n",
              "lKqGJxGRjqJQKtLDOBwOnnovgwa7g8mD+3DzsHCjS3J75y7hf7ivkLIaNTyJiHQEhVKRHmbd3pNs\n",
              "zS7Fy2rm2dvU3HQlRkYEkjjAn3p7I6t3FhhdjohIt6RQKtKDVNU28Ny6AwD8ZHIcUSE+BlfUdcxJ\n",
              "iQZgZWqeGp5ERDqAQqlID/LSp1kUV9URE+LDvGtjjS6nS7ktqT++nhaOltSw7Wip0eWIiHQ7CqUi\n",
              "PcSBE5X8bVsuAL+anoi3h8XYgrqY3l5Wpo8eAGiGJxGRjqBQKtIDNDY6ePK9DOyNDr49oh/XJvQx\n",
              "uqQuaU5KU8PTx/sLKamuM7gaEZHuRaFUpAf4x84Cdh47ja+nhSenDTO6nC4rcUAAoyIDabA7+Ica\n",
              "nkREXEqhVKSbO11Tz6IPDwLw2I0J9A3wNriiru2ulHMzPOXR2KiGJxERV1EoFenm/vvjw5w+08Dg\n",
              "cD/mTowxupwub9qofvh5WckrO8PWIyVGlyMi0m0olIp0Y7vyTvN2WlNTzvPfTcTDol/59vLxtPLd\n",
              "MWp4EhFxtVb/hbr55psZOXIkSUlJTJo0id27dwOQlZXFhAkTSEhIIDk5mf379zvXaeuYiLSdzd7I\n",
              "k2sycDjg9rERJMcEG11St3FuhqdPDxRRXFVrcDUiIt1Dq0PpO++8w969e0lPT2f+/PnMnTsXgIce\n",
              "eoh58+aRmZnJggULnMvbMyYibbf8q2PsP1GJv7eVx781xOhyupUhff0ZExWIrdHB33eo4UlExBVa\n",
              "HUoDAwOdX1dUVGAymSguLmbHjh3cfffdAMycOZP8/Hyys7PbPCYibVdcVcv/fJIJwH9NHUJoby+D\n",
              "K+p+5oz79wxPangSEWk/a1tWuueee9i4cSMAH3zwAfn5+fTr1w+rtWlzJpOJqKgo8vLyCAgIaNNY\n",
              "XFzcea9bV1dHXV3LewPa7fa27IJIt/bC+wepqrMxKiKAO5u7xcW1po3sx6/+tZ+C02fZnHWK6weH\n",
              "GV2SiEiX1qauh2XLlpGfn8/zzz/PggULXF3TRS1atIiAgIAWj9TU1E57fZGu4MsjJaxJP4HJBM/P\n",
              "GIHFbDK6pG7J28PC98ZEAGp4EhFxhXa14t57771s3LiRiIgITp48ic1mA8DhcJCXl0dUVBSRkZFt\n",
              "GruQhQsXUlFR0eKRkpLSnl0Q6VbqbY089V5Ts+Dd46IZERFgcEXd213NDU8bDhVTVKmGJxGR9mhV\n",
              "KC0vL+fEiRPO79esWUNISAhhYWGMGTOG5cuXA7B69WoiIiKIi4tr89iFeHl54e/v3+JhsWj+bpFz\n",
              "Xt+SQ3ZxNaG9PfnPmwcbXU63Fx/uR3JMEPZGB6vS8o0uR0SkS2vVZ0orKiqYNWsWZ8+exWw206dP\n",
              "H9atW4fJZGLJkiXMnTuXF154AX9/f5YuXepcr61jInLlCk6f4ZUNWQD8v1uHEuDjYXBFPcOccVGk\n",
              "5Z7m7dQ8fjI5Th+XEBFpI5PD4ejSbaPz589n8eLFRpchYrh5y3bwyYEiUgYGs2reeEwmhaPOUNtg\n",
              "Z/yiDZSfaeCvc6/ihiHhRpckItIlaXoXkW7gs0NFfHKgCKvZxHPTExVIO5G3h4WZangSEWk3hVKR\n",
              "Lq62wc7Ta5uam+6/ZiCD+/oZXFHPc26Gp88OFXOi/KzB1YiIdE0KpSJd3P9tzCa/7Cz9Arx5ZEq8\n",
              "0eX0SIP69GZ8bDCNDtTwJCLSRgqlIl1YTkkNr206CsBT04bh69Wm+TDEBc7N8PR2Wh42e6PB1YiI\n",
              "dD0KpSJdlMPh4Kn3Mqi3N3JdQh+mJvY1uqQe7Zbh4QT7elJUWcdnh4qNLkdEpMtRKBXpoj7YV8gX\n",
              "WSV4Ws08e9twNTcZzMtqYdbY5oanVDU8iYi0lkKpSBdUXWfjV+uampt+fP0gYkJ9Da5IAO5MaWp4\n",
              "2pR5ivyyMwZXIyLStSiUinRBL6/PpKiyjugQH3543SCjy5FmMaG+TIwLwaGGJxGRVlMoFeliDhVW\n",
              "8tetuQA8c9twvD001a47mZPS1PC0akc+DWp4EhG5YgqlIl1IY6ODJ97NwN7o4FuJfZk8OMzokuQb\n",
              "bhoWTmhvT05V1bHhYJHR5YiIdBkKpSJdyOpdBew4dhofTwtPThtmdDlyAZ5WM7OuigTgLc3wJCJy\n",
              "xRRKRbqI8jP1/ObDQwA8OiWe/oG9DK5ILubO5KaGpy+ySsgrVcOTiMiVUCgV6SJ+9/FhSmvqiQ/r\n",
              "zX9cM9DocuQSokJ8mBQfCsDKNJ0tFRG5EgqlIl3Anvxy570vn5+RiIdFv7ru7q5xTWdL/74jn3qb\n",
              "Gp5ERC5Hf9lE3Jy90cETazJwOOB7owcwLjbE6JLkCkwZGk4fPy9Kquv59IAankRELkehVMTNrdh+\n",
              "jH3HK/DztrLw1qFGlyNXyMNiZnZzw9OK1GMGVyMi4v4USkXc2KmqOv7748MA/Nctg+nj52VwRdIa\n",
              "d6REYjLB1uxScktqjC5HRMStKZSKuLFFHxykqtbGiAEBzBkXbXQ50koRQT5cn9AHgJWpangSEbkU\n",
              "hVIRN/XV0VL+ufs4JlNTc5PFbDK6JGmDc/+Y+PvOAupsdoOrERFxXwqlIm6owd7Ik2syAJiTEsWo\n",
              "yEBjC5I2mzy4D339vSmrqeejjEKjyxERcVsKpSJu6K9bcsgqribE15P/umWI0eVIO1gtZmYnNzc8\n",
              "aYYnEZGLUigVcTMnys/y+/VZACy8dSgBPh4GVyTtdUdKJGYTbM8pI7u42uhyRETckkKpiJt5bt0B\n",
              "zjbYSY4JYuaYAUaXIy7QL6AXNwwJA9TwJCJyMQqlIm5k4+FiPswoxGI28dyMREwmNTd1F3OaZ3ha\n",
              "vauA2gY1PImIfJNCqYibqG2w88za/QD8x8QYhvT1N7gicaXrEsIYENiL8jMNfJhx0uhyRETcjkKp\n",
              "iJt4bdMRjpWeIdzfi0dvTDC6HHExi9mkhicRkUtQKBVxA7klNfzf50cAeGracHp7WQ2uSDrC7ORI\n",
              "LGYTabmnySyqMrocERG3olAqYjCHw8FTa/dTb2tkUnwot47oa3RJ0kHC/b2Z0tzwpLOlIiIttSqU\n",
              "1tbWMmPGDBISEhg1ahQ33XQT2dnZAFx//fUMHDiQpKQkkpKSeOmll5zrFRcXM3XqVOLj40lMTGTz\n",
              "5s1XNCbSE3yUUcjmzFN4Wsz8arqam7q7cw1P/1TDk4hIC60+Uzpv3jwOHz7Mnj17mD59Og888IBz\n",
              "7KWXXiI9PZ309HR+9rOfOZc//vjjjB8/nqysLJYuXcqcOXNoaGi47JhId1dTZ+NX6w4A8MPrYhkY\n",
              "6mtwRdLRro3vQ0RQLyprbazbq4YnEZFzWhVKvb29ufXWW51ncsaPH09ubu5l13vnnXf44Q9/CEBy\n",
              "cjL9+/dn06ZNlx0T6e5e2ZDFyYpaIoN78ePJcUaXI53AbDZxZ0rT2dIV248ZXI2IiPto12dKX375\n",
              "ZaZPn+78/vHHH2fEiBHMnj2bo0ePAlBaWkpDQwN9+/77c3IxMTHk5eVdcuxC6urqqKysbPGw23X5\n",
              "S7qmw4VVvL4lB4Bf3ZaIt4fF4Iqks8y6KgKr2cSuvHIOFVYaXY6IiFtocyh94YUXyM7OZtGiRQC8\n",
              "+eabHDp0iL179zJp0iSmTZvmsiLPWbRoEQEBAS0eqampLn8dkY7mcDh48r0MbI0ObhkezuTm5hfp\n",
              "GcL8vLl5eDighicRkXPaFEpffPFF/vnPf/Lhhx/i4+MDQGRk0/33TCYTDz/8MEePHqW0tJSQkBCs\n",
              "ViuFhYXO9XNzc4mKirrk2IUsXLiQioqKFo+UlJS27IKIod7dfZzUnDJ6eVh46jvDjS5HDDAnJRqA\n",
              "d3cd50y9zeBqRESM1+pQunjxYlauXMmnn35KYGAgADabjaKiIudzVq9eTXh4OCEhIQDMmjWL1157\n",
              "DYC0tDSOHz/Oddddd9mxb/Ly8sLf37/Fw2LRJU/pWirONPDCBwcBeGRKPAMCexlckRhhwqAQokN8\n",
              "qKqz8a89J4wuR0TEcK26Q3dBQQE///nPiY2NZfLkyUBTUPzss8/49re/TV1dHWazmdDQUNauXetc\n",
              "77e//S0/+MEPiI+Px9PTk+XLl+Ph4XHZMZHu6MVPDlNSXU9cWG/uv2ag0eWIQc41PP3mw0Os2J7H\n",
              "7OQLXyESEekpWhVKIyIicDgcFxzbsWPHRdcLDw/nk08+afWYSHezr6CC5c0d189NT8TTqvkrerLb\n",
              "x0bwP58cZk9BBRnHK0gcEGB0SSIihtFfRJFOYm908MSafTgcMCOpP1cPCjG6JDFYaG8vbhnedPeR\n",
              "FalqeBKRnk2hVKSTrEzNY09BBX5eVv7ft4caXY64iXMzPL23+zjVdWp4EpGeS6FUpBOUVNfx3x8d\n",
              "AuA/bxlMmJ+3wRWJu7g6NoTYUF9q6u2sTVfDk4j0XAqlIp3gNx8eorLWxvD+/tw9PtrocsSNmExf\n",
              "m+EpVTM8iUjPpVAq0sFSc8r4x84CTCZ4fkYiFrPJ6JLEzcwcG4GnxUzG8Ur2FpQbXY6IiCEUSkU6\n",
              "UIO9kSfXZABwR3IUo6OCDK5I3FGwryffGtHc8KQZnkSkh1IoFelAb2zN5XBRFcG+nvzXLYONLkfc\n",
              "2JzmS/hr95ygqrbB4GpERDqfQqlIBzlZcZbfr88E4PGpQwjy9TS4InFnKQODiQvrzZl6O2vU8CQi\n",
              "PZBCqUgHeX7dQWrq7YyNDuL2sRFGlyNurkXD0/a8i05UIiLSXSmUinSAzZmneH/fSSxmE8/PSMSs\n",
              "5ia5AjPHDMDLaubgyUrS88uNLkdEpFMplIq4WG2Dnafea2pumjshhqH9/A2uSLqKQB9Pvj2yH6CG\n",
              "JxHpeRRKRVzsT5uPklt6hjA/Lx67Md7ocqSLuat5hqd/7T1BxVk1PIlIz6FQKuJCx0preHVjNgBP\n",
              "ThuGn7eHwRVJVzMmKojB4X7UNjTy7q4Co8sREek0CqUiLuJwOHhm7X7qbY1cExfKtObLsCKtYTKZ\n",
              "mDPu3AxPangSkZ5DoVTERT45UMTGw6fwsJh4dvpwTCY1N0nbzBg9AG8PM5lF1ew8dtrockREOoVC\n",
              "qYgLnKm38eza/QA8dO0gBvXpbXBF0pUF9PLgOyP7A2p4EpGeQ6FUxAVe2ZDNiYpaIoJ68ZPJcUaX\n",
              "I93AuUv46/adpPxMvcHViIh0PIVSkXbKKqriL18cBeDZ24bTy9NicEXSHSRFBjK0nz/1tkZW7zpu\n",
              "dDkiIh1OoVSkHRwOB0++l4Gt0cGNQ8OZMjTc6JKkm2jR8LT9mBqeRKTbUygVaYf30k/w1dEyvD3M\n",
              "PP2dYUaXI93MjKT++HhaOHKqhtScMqPLERHpUAqlIm1UcbaB598/CMBPb4gnMtjH4Iqku/Hz9uC2\n",
              "Uc0NT6lqeBKR7k2hVKSNXvo0k5LqOgb18eXBSbFGlyPd1LlL+B/uK6SsRg1PItJ9KZSKtEHG8QqW\n",
              "bcsF4LnpiXha9askHWNkRCCJA/yptzeyeqdmeBKR7kt/SUVaqbHRwS/XZNDogNtG9WdCXKjRJUk3\n",
              "NyclGoCVmuFJRLoxhVKRVno7LZ89+eX09rLyxLeHGl2O9AC3JfWnt5eVoyU1bDtaanQ5IiIdQqG0\n",
              "FQ4VVnK23m50GWKg0uo6fvvRIQDm35RAmL+3wRVJT9Dby8r0JM3wJCLdm9XoArqKxkYHs5d8xZl6\n",
              "GyMjAkkZGEzKwGDGRgfh7+1hdHnSSX770SEqzjYwtJ8/91wdbXQ50oPMGRfFW9vz+Hh/ISXVdYT2\n",
              "9jK6JBERl1IovUJFVbX08rBQcbaBncdOs/PYaf74+RHMJhjW35+UmBBSBgaRHBNMiP5YdEs7cst4\n",
              "Z0dTo8nzMxKxWnShQTrP8P4BjIoMZE9+OX/fUcCPrh9kdEkiIi7Vqr+qtbW1zJgxg4SEBEaNGsVN\n",
              "N91EdnY2AMXFxUydOpX4+HgSExPZvHmzc722jrmTfgG92LbwBjb/YjK/u30k378qgpgQHxodkHG8\n",
              "kr9uzeGHy3cx9vn13Lh4E//v3X28l36ckxVnjS5dXMBmb+SJNRkA3JEcydjoIIMrkp7orpSm20Ot\n",
              "TM2jsVENTyLSvbT6TOm8efP41re+hclk4tVXX+WBBx7g888/5/HHH2f8+PF89NFHpKWl8d3vfpec\n",
              "nBw8PDzaPOZuTCYTUSE+RIX4MOuqSACKKmtJzSlzPg4XVZFdXE12cbXzs1+Rwb1IiQlh3MBgkgcG\n",
              "ExPig8lkMnJXpJX+tu0YhwqrCPTx4L+mDjG6HOmhpo3qx3PrDpBXdoatR0qYFN/H6JJERFymVaHU\n",
              "29ubW2+91fn9+PHjefHFFwF45513nGdNk5OT6d+/P5s2beLGG29s81hXEO7vzXdG9ec7zbOunK6p\n",
              "Jy23jLTcppCacaKS/LKz5JcVsHpX06XfPn5epAwMZlzz51ITwvwwmxVS3VVhRS2LPzkMwONThxDs\n",
              "62lwRdJT+Xha+e6YASzbdowV2/MUSkWkW2nXZ0pffvllpk+fTmlpKQ0NDfTt29c5FhMTQ15eXpvH\n",
              "LqSuro66uroWy+x29+qGD/L15Obhfbl5eNM+VdfZ2HXstPNManp+Oaeq6nh/70ne33sSgIBeHiTH\n",
              "/DukDu/vr88rupHn3z9ATb2d0VGBfL/5DLmIUeaMi2LZtmN8eqCI4qpawvx0BwgR6R7aHEpfeOEF\n",
              "srOz2bBhA2fPds7nJhctWsSzzz7bYtn48eM75bXbqreXlWsT+nBtQtMZjdoGO3vyy5tCam4ZO4+d\n",
              "puJsA+sPFrH+YBEAPp4WxkYHkRLTFFJHRQbi7WExcjd6rC1ZJazbexKzqam5SWe0xWhD+vozJiqQ\n",
              "XXlNDU8/mRxndEkiIi7RplD64osv8s9//pP169fj4+ODj48PVquVwsJC51nP3NxcoqKiCAkJadPY\n",
              "hSxcuJD58+e3WPbkk0+2ZRcM4+1hYVxsCONiQwBosDdy4EQlqTllbM9puuxfcbaBL7JK+CKrBABP\n",
              "i5mkyH/fhmpMdBC9vXTjhI5WZ7Pz1HtNzU33XB3D8P4BBlck0mTOuGh25ZWzMjWPH103SP9YEpFu\n",
              "weRo5Zx1ixcv5q233mL9+vUEBf27A3nu3LnExMTwzDPPkJaWxowZM8jNzcXDw6PNY1di/vz5LF68\n",
              "uHV77cYaGx1kFlc5Q2pqThmnqlp+ZMFiNpHY35/k5jOpyTHBBOlzji736mdZvPhJJn38vNjw8+t0\n",
              "P1pxG7UNdlJ+vZ7KWhtv3JfM9YPDjC5JRKTdWhVKCwoKiIyMJDY2Fj8/PwC8vLzYvn07RUVF/OAH\n",
              "PyAnJwdPT09effVVJk+eDNDmsSvR3ULpNzkcDnJLz5B2LqTmlpJfdv7HJQaH+znPpKYMDCZcMw21\n",
              "S37ZGW5cvIk6WyMv35HE9KQBRpck0sIza/fzxpe53DwsnD/dc5XR5YiItFurz5S6m+4eSi/kRPlZ\n",
              "0nL/fSY1u7j6vOfEhPg4z6KOGxhCZHAv3YaqFR74WxrrDxYzYVAIbz0wTj87cTtZRVXc9NJmLGYT\n",
              "Xz5+g/4hKiJdnj6Y2AX1D+zF9KQBzrN3JdV17MgtIzXnNKm5pRw4UUlu6RlyS884ZyDq6+/tPIs6\n",
              "bmAwcWG9FbQu4tMDRaw/WIyHxcSvpifq5yRuKT7cj+SYINJyT7MqLZ9HpsQbXZKISLsolHYDob29\n",
              "mJrYj6mJ/QCorG2aCvXcbaj2FpRTWFnL2j0nWLvnBADBvp4kxwSRMrDppv5D+/ljUbMEZ+ptPLN2\n",
              "PwAPToolLqy3wRWJXNyccVGk5Z7m7dQ8fjI5Tr/DItKlKZR2Q/7eHkweHMbk5uaHs/V2duf/O6Tu\n",
              "yjtNWU09H+8v4uP9Tbeh6u1lbboNVfOZ1BERAXhZe95tqF79LJvj5WcZENiLn96gM0/i3r6V2I9n\n",
              "/3WAExW1bMos5oYh4UaXJCLSZgqlPUAvTwsTBoUyYVAoAPW2RjJOVDhDalpuGVW1NjZlnmJT5ikA\n",
              "vKxmRkcFOs+kjo4KxMeze//vkl1czZ+/OArA098ZRi/PnhfKpWvx9rBw+5gI/rIlhxXb8xRKRaRL\n",
              "694pQy7I02pmTFQQY6KC+OF1g7A3OjhUWOkMqak5ZZTW1PPV0TK+OloGgNVsInFAgHPWqauigwnw\n",
              "6T63SHI4HDz1XgYNdgdThoRx0zD9cZeu4c5xUfxlSw6fHSrmRPlZ+gf2MrokEZE2USgVLGYTw/sH\n",
              "MLx/APdNHIjD4eBoSY0zoG4/WsqJilrS88tJzy9nyeajmExNM8ucC6nJMcH08fMyelfabO2eE3x5\n",
              "pBQvq5lnbhuu5ibpMgb16c342GC+OlrG22n5zL8pweiSRETaRKFUzmMymRjUpzeD+vTmzpSm2bUK\n",
              "Tp9pcSb1aEkNB09WcvBkJW98mQtAbB/fFiE1IsjHwL24cpW1DTz//kEAfnpDHJHBXaNukXPmjIvm\n",
              "q6NlrErL45Eb4rBazEaXJCLSagqlckUignyICPLhe2MiACiuqiUt5zSpOaWk5p7mUGElR0/VcPRU\n",
              "DStT8wEYENirxQ39Y0N93fIM5EufZnKqqo7YUF8evDbW6HJEWu2W4eEE+3pSVFnHZ4eKuXl4X6NL\n",
              "EhFpNYVSaZMwP2++PbIf3x7ZdBuqijMN7DhW5pwedd/xCo6Xn+Xd3cd5d/dxAEJ7ezYF1JhgUgaG\n",
              "MLivn+G3sNl/ooK/NZ/pfXb68B55xwHp+rysFmaNjWDJ5qOsSM1TKBWRLkmhVFwiwMeDKUPDmTK0\n",
              "qUGops7G7rzy5jOpZezOK6ekup4P9hXywb5CAPy8rSTH/PtM6ogBAXh04mXHxkYHT6zJoNEB00b2\n",
              "Y1J8n057bRFXuzMliiWbj7Ip8xT5ZWf0MRQR6XIUSqVD+HpZuSY+lGvim25DVWezs6+gwjk16s5j\n",
              "p6mqtfHZoWI+O1QMQC8PC2OiA0mJCSGl+TZU3h4dd+by7zvz2Z1XTm8vK09OG9ZhryPSGWJCfZkY\n",
              "F8LW7FJWpeXzn7cMNrokEZFWUSiVTuFltXBVTDBXxQTzk8lgszdy8GQV23NKnfdKPX2mga3ZpWzN\n",
              "LgXAw2JiZESg80zq2Ogg/L1dcxuqspp6Fn14CIDHbozXvOHSLcxJiW4KpTvyefTG+E698iAi0l4K\n",
              "pWIIq8XMiIgARkQE8MCkWBobHWSfqv73bahySimqrGPnsdPsPHaaP35+BLMJhvX3d55JTY4JIqR3\n",
              "225D9d8fHaL8TAND+voxd0KMa3dOxCA3DQsntLcnp6rq2HCwyDn1sIhIV6BQKm7BbDaREO5HQrgf\n",
              "d4+PxuFwkF921nkmNTW3jGOlZ8g4XknG8Ur+ujUHgPiw3iQ3T42aMjCYfgGXv3H4rrzTvJ3WdIeA\n",
              "52ck6vY50m14Ws3MuiqSP35+hLe25ymUikiXolAqbslkMhEV4kNUiA+zrooEoLCiltTcMtKaz6Ye\n",
              "Lqoiq7iarOJqVmzPAyAyuBcpMSHOkBod4tPiNlQ2eyNPvJsBwKyxEVwVE9z5OyfSge5MjuKPnx/h\n",
              "i6wS8krPEBWihicR6RoUSqXL6BvgzW2j+nPbqP4AnK6pJy23zHkmNeN4BfllZ8kvK2D1rgIAwvy8\n",
              "SGk+k5o8MJit2aUcOFlJQC8PHv/WECN3R6RDRIX4MCk+lC+ySliZlseCqfr/XES6BoVS6bKCfD25\n",
              "eXhf5z0Zq2ob2HXuNlQ5ZezJr6C4qo51e0+ybu/JFusumDqkzZ9HFXF3d42L5ousEv6+I5+f3ZiA\n",
              "p1UfURER96dQKt2Gn7cH1yX04bqEpvuN1jbY2ZNf7jyTuvPYac7U27kqOog7kiMNrlak40wZGkaY\n",
              "nxfFVXV8eqDIOcmFiIg7UyiVbsvbw8K42BDGxYYA0GBv5MipaqKCfTAbPJOUSEfysJiZnRzJHz7L\n",
              "5q3txxRKRaRL0DUd6TE8LGaG9PXHx1P/FpPub3ZyJCYTfHmklJySGqPLERG5LIVSEZFuKCLIh+ub\n",
              "P8qyMjXP4GpERC5PoVREpJuaMy4agH/sLKDOZje4GhGRS1MoFRHppiYP7kNff2/Kaur5KKPQ6HJE\n",
              "RC5JoVREpJuyNjc8Ac4JJkRE3JVCqYhIN3ZHSiRmE2zPKSO7uNrockRELkqhVESkG+sX0IsbhoQB\n",
              "angSEfemUCoi0s3NGRcFwOpdBdQ2qOFJRNyTQqmISDd3XUIYAwJ7UX6mgQ8zTl5+BRERA7QqlD7y\n",
              "yCPExMRgMplIT093Lo+JiWHw4MEkJSWRlJTEqlWrnGNZWVlMmDCBhIQEkpOT2b9//xWNiYiIa1jM\n",
              "JjU8iYjba1Uovf3229myZQvR0dHnja1atYr09HTS09OZPXu2c/lDDz3EvHnzyMzMZMGCBcydO/eK\n",
              "xkRExHVmJ0diMZtIyz1NZlGV0eWIiJynVaH02muvJSIi4oqfX1xczI4dO7j77rsBmDlzJvn5+WRn\n",
              "Z19yTEREXCvc35spzQ1POlsqIu7IZZ8pveeeexgxYgT3338/p06dAiA/P59+/fphtTbNNW4ymYiK\n",
              "iiIvL++SYxdTV1dHZWVli4fdrg/ti4hcibvGN13l+qcankTEDbkklG7evJm9e/eya9cuQkNDuffe\n",
              "e12x2fMsWrSIgICAFo/U1NQOeS0Rke5mUlwokcG9qKy1sW6vGp5ExL24JJRGRTXdbsTDw4PHHnuM\n",
              "L774AoDIyEhOnjyJzWYDwOFwkJeXR1RU1CXHLmbhwoVUVFS0eKSkpLhiF0REuj2z2cQdyU3vsW9t\n",
              "P2ZwNSIiLbU7lNbU1FBeXu78fuXKlYwePRqAsLAwxowZw/LlywFYvXo1ERERxMXFXXLsYry8vPD3\n",
              "92/xsFgs7d0FEZEeY9ZVEVjNJnbnlXPwZKXR5YiIOLUqlD700ENERERQUFDALbfcQlxcHEVFRUye\n",
              "PJmRI0cyYsQINm3axLJly5zrLFmyhCVLlpCQkMBvfvMbli5dekVjIiLiemF+3tw8PBxQw5OIuBeT\n",
              "w+FwGF1Ee8yfP5/FixcbXYaISJexJauEu1/fjp+Xle2/nIKPp9XokkRENKOTiEhPM2FQCNEhPlTV\n",
              "2fjXnhNGlyMiAiiUioj0OGaziTtTmhqedAlfRNyFQqmISA90+9gIPCwm9hRUkHG8wuhyREQUSkVE\n",
              "eqLQ3l7cMrwvACtSdbZURIynUCoi0kPNGdd0Cf+93ceprrMZXI2I9HQKpSIiPdTVsSHEhvpSU29n\n",
              "bboankTEWAqlIiI9lMn0tYanVM3wJCLGUigVEenBZo6NwNNiJuN4JXsLyo0uR0R6MIVSEZEeLNjX\n",
              "k2+NaG540u2hRMRACqUiIj3cXeOiAVi75wRVtQ0GVyMiPZVCqYhID5ccE0RcWG/O1NtZo4YnETGI\n",
              "QqmISA9nMpmY09zw9NZXx3A4HAZXJCI9kUKpiIgwc0wEXlYzhwqr2J1fbnQ5ItIDKZSKiAgBPh58\n",
              "e2Q/QA1PImIMhVIREQHgruYZntbtPUHFWTU8iUjnUigVEREAxkQFMTjcj9qGRt7dVWB0OSLSwyiU\n",
              "iogI0NzwNO7cDE95angSkU6lUCoiIk4zRg/A28NMZlE1O4+dNrocEelBFEpFRMQpoJcH3xnZH1DD\n",
              "k4h0LoVSERFp4dwl/HX7TlJ+pt7gakSkp1AoFRGRFpIiAxnaz596WyOrdx03uhwR6SEUSkVEpIUW\n",
              "DU/bNcOTiHQOhVIRETnPjKT++HhaOHKqhtScMqPLEZEeQKFURETO4+ftwW2jmhueUtXwJCIdT6FU\n",
              "REQu6K5x0QB8uK+Qsho1PIlIx1IoFRGRCxoREcCIAQHU2xtZvVMzPIlIx1IoFRGRi9IMTyLSWRRK\n",
              "RUTkom4b1Z/eXlZySmrYdqTU6HJEpBtrVSh95JFHiImJwWQykZ6e7lyelZXFhAkTSEhIIDk5mf37\n",
              "97d7TEREjOfrZWV6UlPD01tqeBKRDtSqUHr77bezZcsWoqOjWyx/6KGHmDdvHpmZmSxYsIC5c+e2\n",
              "e0xERNzDuUv4n+wvpKS6zuBqRKS7alUovfbaa4mIiGixrLi4mB07dnD33XcDMHPmTPLz88nOzm7z\n",
              "mIiIuI/h/QMYFRlIg93B33eo4UlEOka7P1Oan59Pv379sFqtQNNMIFFRUeTl5bV57GLq6uqorKxs\n",
              "8bDb7e3dBRERuYy7UprOlq5MzaOxUQ1PIuJ6XarRadGiRQQEBLR4pKamGl2WiEi3N21UP/y8rOSV\n",
              "nWHrkRKjyxGRbqjdoTQyMpKTJ09is9kAcDgc5OXlERUV1eaxi1m4cCEVFRUtHikpKe3dBRERuQwf\n",
              "TyvfHTMAgBXb1fAkIq7X7lAaFhbGmDFjWL58OQCrV68mIiKCuLi4No9djJeXF/7+/i0eFoulvbsg\n",
              "IiJX4FzD06cHiiiuqjW4GhHpbkyOVtwN+aGHHuL999+nsLCQkJAQ/Pz8yM7O5vDhw8ydO5fS0lL8\n",
              "/f1ZunQpI0aMAGjz2JWaP38+ixcvbtU6IiLSNt/7v63syivnF7cM5ieTL34SQUSktVoVSt2RQqmI\n",
              "SOf5x84C/vPve4gI6sXmX0zGbDYZXZKIdBNdqtFJRESMNW1kP/y9rRScPsvmrFNGlyMi3YhCqYiI\n",
              "XDFvDwvfG9N0v2o1PImIKymUiohIq9zV3PC04VAxRZVqeBIR11AoFRGRVokP9yMlJhh7o4NVaflG\n",
              "lyMi3YRCqYiItNq520O9nZqHXTM8iYgLKJSKiEirTU3sS5CPBycqavn8cLHR5YhIN6BQKiIirebt\n",
              "YWGmGp5ExIWsRhcgIiJd053jovjLlhw2Hi7mRPlZ+gf2Mrok6SAOh4Os4mq2Zpew7UgppTX1AJgA\n",
              "U/Otak2YmhZcYLnza1Pz87423vT1uaXnnnPh5Xxt3ZbP/9ryi9ZjukBtLZdzoZovsS9XVM/X9oXL\n",
              "Pqcd9fy7qEs+59zX0SG+fGdUf9yJQqmIiLTJoD69GR8bzFdHy3g7LZ/5NyUYXZK40PHys2zNLuHL\n",
              "7BK2HinlVFWd0SWJC00e3EehVEREuo8546L56mgZq9LyeOSGOKwWfSqsqzpdU8+2o6VszS5ha3YJ\n",
              "uaVnWox7e5hJjglmYlwoMSG+XxtxcG5uSAd87etvLv93Q9wFn+No+TyH8z8X2taFl/O1df+9Xce5\n",
              "zThf49xyWix3XOA5LZfztXXbXM8l9oUWy1tZzxXsC19bPrivH+5GoVRERNrsluHhBPt6UlRZx2eH\n",
              "irl5eF+jS5IrdKbeRlruab7MLmFLdgkHTla2CDoWs4lREQFMjAtlwqBQxkQH4mW1GFewdHsKpSIi\n",
              "0mZeVguzxkawZPNRVqTmKZS6sQZ7I3sLytmaXcqW7BJ2552mwd7ydl6Dw/2YEBfCxEGhjIsNxs/b\n",
              "w6BqpSdSKBURkXa5MyWKJZuPsinzFPllZ4gM9jG6JKHpku7hoiq2Zjddkt9+tJSaenuL5wwI7MXE\n",
              "uBAmxoVy9aAQwvy8DapWRKFURETaKSbUl4lxIWzNLmVVWj7/ectgo0vqsfLLzvDlkRK2Zpfy5ZES\n",
              "SqrrW4wH+XgwYVCo82xodIhPi65wESMplIqISLvNSYluCqU78nn0xng81PDUKUqr65qbk5rOhuaV\n",
              "tWxO6uVhIWVgMBPjQpgwKJRh/fwxmxVCxT0plIqISLvdNCyc0N6enKqqY8PBIqYm9jO6pG6pps5G\n",
              "am5Zc3NSKQdPVrYYt5pNJEUGMiEulImDQhgdFYSnVf9AkK5BoVRERNrN02pm1lWR/PHzI7y1PU+h\n",
              "1EUa7I2k55c7b9O0O68cW2PL5qQhff2YGBfKxLgQUgaG0NtLf9qla9L/uSIi4hJ3Jkfx2qYjfJFV\n",
              "Ql7pGaJC1PDUWo2NDg4VVvHlkabbNKXmlHHmG81JEUG9uCYulAlxoUwYFEJoby+DqhVxLYVSERFx\n",
              "iagQHybF92Fz5ilWpuWxYOoQo0vqEvJKz7C1OYRuO1JKWU3L5qQQX0+uHtTUIT9xUKjCvnRbCqUi\n",
              "IuIyc1Ki2Jx5ir/vyOdnNybo84wXUFJdx5dHStmaVcLWIyUUnD7bYtzH08K4gcHOm9YP6eun5iTp\n",
              "ERRKRUTEZaYMDSPMz4viqjo+OVDItJHuNbe2EarrbKTmlLIlq+k2TYcKq1qMe1hMjI4MarpNU1wo\n",
              "oyICFealR1IoFRERl/GwmJmdHMkfPstmxfa8HhlK622N7M47zdYjTbdp2pN/fnPSsH7+Tbdpigsl\n",
              "JSYYXzUniSiUioiIa81OjuTVjdl8eaSUnJIaBob6Gl1Sh2psdHDgZGVzc1IpaTllnG1o2ZwUHeLD\n",
              "hEFNHfJXx4YQouYkkfMolIqIiEtFBPlwfUIfNh4+xcrUPP7frUONLsmlHA4Hx5qbk7Y2NyedPtPQ\n",
              "4jmhvT2dIXTCoFBNvSpyBRRKRUTE5eaMi2bj4VP8Y2cBP785AS+rxeiS2qW4qpZtR0rZklXCl0dK\n",
              "OV7esjmpt5eVcQODm25aHxfC4HA/Td8p0koKpSIi4nKTB/ehr783hZW1fJRRyPSkAUaX1CpVtQ1s\n",
              "P1rGluwSvjxSQmZRdYtxD4uJMVFBzpvWj4wI1NSqIu2kUCoiIi5nbW54enlDFiu257l9KK2z2dl1\n",
              "rNx50/q9BRXYv9acZDLB8P7+TBzUdNP65JggfDz1J1TElfQbJSIiHeKOlEj+8FkW23PKyC6uJi6s\n",
              "t9ElOdkbHRw4Uek8E5qWW0ZtQ2OL5wwM9WVC803rr44NIcjX06BqRXoGl4bSmJgYvLy86NWrFwAL\n",
              "Fy5k9uzZZGVlce+991JSUkJAQABvvPEGw4cPB7jkmIiIdF39Anpxw5Aw1h8sZmVqHk9OG2ZYLQ6H\n",
              "g5ySmqbbNGWVsO1oKRVnWzYn9fHzYuKgkObPhYYyILCXQdWK9EwuP1O6atUqkpKSWix76KGHmDdv\n",
              "HnPnzuUf//gHc+fOJS0t7bJjIiLStc0ZF8X6g8Ws3lXAL24ZjLdH5zU8FVfWNk3f2XzT+pMVtS3G\n",
              "/bysjIsNYWJcCNfEhRIX1lvNSSIG6vDL98XFxezYsYNPPvkEgJkzZ/Lwww+TnZ2Nv7//Rcfi4uLO\n",
              "21ZdXR11dXUtltnt9vOeJyIi7uG6hDAGBPbiePlZPsw4yXdHR3TYa1WcbWD70aYb1m89Ukp2ccvm\n",
              "JE+LmbHRQc6b1o8cEIBVzUkibsPlofSee+7B4XCQkpLCb37zG/Lz8+nXrx9Wa9NLmUwmoqKiyMvL\n",
              "IyAg4KJjFwqlixYt4tlnn22xbPz48a7eBRERcRGL2cQdyZH8z6eZrNie59JQWttgZ9ex02xpDqH7\n",
              "Csr5+sRJJhOMGBDgvF/oVdHB9PLs2remEunOXBpKN2/eTFRUFA0NDTzxxBPce++9PPfccy7b/sKF\n",
              "C5k/f36LZU8++aTLti8iIq73/eRIfr8hi7Tc02QWVZEQ7tem7dgbHWQcr3A2J+3IPU2drWVzUmwf\n",
              "XyY2h9DxsSEE+qg5SaSrcGkojYqKAsDDw4PHHnuMhIQEIiMjOXnyJDabDavVisPhIC8vj6ioKPz9\n",
              "/S86diFeXl54ebWcms1i0b96RUTcWbi/NzcODePj/UWs2J7HM7ddWTOrw+HgyKmapsvx2SV8dbSU\n",
              "ylrbN7bt5bxN08S4EPoFqDlJpKtyWSitqamhoaGBwMBAAFauXMno0aMJCwtjzJgxLF++nLlz57J6\n",
              "9WoiIiKcl+cvNSYiIt3DnHHRfLy/iNW7ClgwdchFL6MXVtQ6Q+jWIyUUVbbsI/DztnJ1bIjzpvWD\n",
              "+qg5SaS7cFkoLSoqYubMmdjtdhwOB7GxsSxbtgyAJUuWMHfuXF544QX8/f1ZunSpc71LjYmISPcw\n",
              "KS6UyOBe5JedZd3eE8y6KhKAijMNbHM2J5Vw9FRNi/U8rWaSY4KYMCiUa+JCSRwQgMWsECrSHZkc\n",
              "Dofj8k9zX/Pnz2fx4sVGlyEiIpfxvxuz+d3HhxnS14/rB4fx5ZESMo5XtGhOMptgREQgE5tvWj82\n",
              "OqhTbyMlIsbRjE4iItIpZl0VwUufZnKosIpDhVXO5XFhvZ0hdFxsCAG9PAysUkSMolAqIiKdIszP\n",
              "mx9PjmPdnhOMjmq6X+jEuFDC/b2NLk1E3IBCqYiIdJr5NyUw/6YEo8sQETekqSxERERExHAKpSIi\n",
              "IiJiOIVSERERETGcQqmIiIiIGE6hVEREREQMp1AqIiIiIoZTKBURERERwymUioiIiIjhFEpFRERE\n",
              "xHAKpSIiIiJiOIVSERERETGcQqmIiIiIGM7kcDgcRhfRHt/73veIiYnplNey2+2kpqaSkpKCxWLp\n",
              "lNcU19Ix7Np0/Lo+HcOuT8ew6zPiGEZHR/Poo49e8jldPpR2psrKSgICAqioqMDf39/ocqQNdAy7\n",
              "Nh2/rk/HsOvTMez63PUY6vK9iIiIiBhOoVREREREDKdQKiIiIiKGUyhtBS8vL55++mm8vLyMLkXa\n",
              "SMewa9Px6/p0DLs+HcOuz12PoRqdRERERMRwOlMqIiIiIoZTKBURERERwymUioiIiIjhFEpFRERE\n",
              "xHA9OpTOmjWLbdu2AdDY2MhPf/pTBg0aRFxcHK+++uoVbeNS67366qu88MILHVK7NHHFMXz//fcZ\n",
              "O3YsXl5ePPbYYy3GdAw7niuO4SuvvEJiYiIjRoxg5MiRLF++3Dm2bt065s2b1yG1S8vjd6nfpUvR\n",
              "+6ixXHEM9T5qLFccQ7d4H3X0UNu3b3fccMMNzu//9re/OW644QaHzWZzlJaWOqKiohwZGRmX3c6l\n",
              "1qurq3PExsY6ysvLO2w/ejJXHcPDhw870tPTHb/85S8djz76aIsxHcOO5apjuH79eucxysvLc4SE\n",
              "hDiys7Od42PGjHFkZma6fgd6uG8ev0v9Ll2K3keN46pjqPdR47jqGLrD+2iPPVO6ZMkS5syZ4/x+\n",
              "1apVPPjgg1gsFoKDg5k9ezYrV6687HYutZ6npyc333wzK1as6LD96MlcdQwTEhIYNWoUVqv1vDEd\n",
              "w47lqmM4ZcoUAgICAIiMjKRv377k5+c7x7///e/zl7/8xfU70MN98/hd6nfpUvQ+ahxXHUO9jxrH\n",
              "VcfQHd5He2wo/fzzzxk3bpzz+7y8PKKjo53fx8TEkJeXd9ntXG69q6++mg0bNrioavk6Vx3Dy9Ex\n",
              "7DgdcQzXr1/P6dOnSU5Odi7TMewY3zx+baX3UeO46hhejo5hx+mIY2jU+2iPDaUFBQWEh4d3+Ov0\n",
              "7duXgoKCDn+dnkjHsOtz9THct28f9913H6tWrcLX19e5XMewY+h3sOvTMez6utP7aI8NpT4+PtTW\n",
              "1jq/j4qK4tixY87vc3NziYqKuux2LrdebW0tvXr1clHV8nWuOoaXo2PYcVx5DA8cOMC0adP461//\n",
              "yjXXXNNiTMewY3zz+LWV3keN46pjeDk6hh3HlcfQ6PfRHhtKR44cyeHDh53fz5o1iz//+c/Y7XbK\n",
              "yspYtWoVs2fPBuDdd9/lnnvuueB2LrUewMGDBxk1alTH7kwP5apjeDk6hh3HVcfw4MGD3Hrrrfzp\n",
              "T3/ipptuuuC4jqHrffP4XYreR92Tq47h5egYdhxXHUN3eB/tsaH09ttv5+OPP3Z+/4Mf/IAhQ4YQ\n",
              "Hx9PcnIy8+fPZ8SIEQBkZWXh7+9/we1caj2Ajz76iNtvv71jd6aHctUx3LBhAxERESxevJjXX3+d\n",
              "iIgI1q5d6xzXMew4rjqGjzzyCBUVFSxYsICkpCSSkpJabFfHsGN88/hd6ndJ76PuyVXHUO+jxnHV\n",
              "MXSL99EO7e13Y1VVVY4RI0Y4qqurL/vc6dOnO3Jyclr9Gvv373dcc801bahOroSOYdfXGcfw1KlT\n",
              "jhEjRjjq6uraUKFcin4Huz4dw66vO72PmhwOh6NjY6/72rBhA+Hh4SQmJnbI9j/++GMiIyMZNmxY\n",
              "h2xfdAy7g44+htu3b8dutzNhwoQO2X5Pp9/Brk/HsOvrLu+jPTqUikj3ZLPZ+PWvf83KlSuxWq1Y\n",
              "rVZSUlK49dZbeeaZZ0hPT+/UehoaGnjhhRdYuXIlFosFT09PoqOjeeaZZ0hKSurUWlorNzeXpKQk\n",
              "ysvLjS5FRLq51t1ZVUSkC7j//vspKytj27ZtBAUF4XA4+Mc//kFZWZlLtm+z2Vp1Y+r77ruP6upq\n",
              "Zz3QdB/Aw4cPd0oobW29IiJG0JlSEelWsrOzGTlyJHl5eYSGhrYY+/zzz3n44Ye59tpr2bp1Kzab\n",
              "jb/97W9cddVV550RrK6uxs/Pj3NvkSaTiaeeeooPPviA66+/nlOnTuHl5UV2djb5+fkkJiby9ttv\n",
              "4+np2eI1s7KySEpKIj8/n+Dg4IvW/eKLL/LOO+9gs9kICwtjyZIlREdHU11dzSOPPEJqairQ1Kn+\n",
              "9NNPA3Do0CHuu+8+KisrGTx4MNXV1cyZM4e5c+cyd+5czGYz2dnZFBcXc+jQIe666y4OHz5MfX09\n",
              "kZGRvP766/Tt29e57w888ACffPIJdrudl19+mRtvvNE59uijj7Ju3ToqKip45ZVXuPXWW3nxxRfJ\n",
              "zMzkT3/6EwDl5eXExcWRmZl5yX0VEbmQHtt9LyLd065du4iPjz8vkJ5z6NAh7r33Xvbs2cNPf/pT\n",
              "fvnLX17xti0WC2lpafzud78DID09nX/9618cPHiQoqIiVq9efd46u3fvJi4u7pIhbcWKFRw+fJht\n",
              "27axa9cu7rrrLn784x8D8Nxzz1FXV8fevXvZvn07a9asYdWqVUBT1/q8efPYv38/v/71r9m8eXOL\n",
              "7e7cuZP333+fQ4cOAfD73/+eHTt2sHfvXiZNmsQzzzzjfG5FRQVDhw5l7969vP7668yZM4eqqirn\n",
              "2MiRI9m5cyevvvoqP/vZzwB44IEHWLNmjTPIL126lOnTpyuQikibKJSKSI8SFxfnnJLv6quv5siR\n",
              "I1e87n/8x3+0+P673/0uPj4+WCwWUlJSrmhbR44cISkpicGDB3PfffcBsGbNGtavX8/YsWNJSkri\n",
              "v//7v53TbK5fv54HH3wQs9mMr68v99xzD59++imVlZWkp6c77zk4dOjQ8252PWvWLPz8/Jzfr1ix\n",
              "gquuuorExET+8pe/tPhsrdVqZe7cuQCMHz+e/v37s3v3bgC8vb353ve+d97PLDAwkNtvv52//vWv\n",
              "OBwO/vjHP/Lwww9f6Y9TRKQFfchIRLqVMWPGkJWVRWlpKSEhIeeNe3t7O7+2WCzYbDagKZTZ7Xbn\n",
              "2IVmSOndu/cVbevrRo8eTXZ2NqdPnyYoKIhBgwaRnp7OG2+8wZo1awBwOBwsXLiQefPmXXb/TCbT\n",
              "FY99vd4tW7bwyiuvsG3bNsLCwli7di1PPfXUFb2Wl5eX82uLxdLi5/TII49w2223MXToUPr06cPo\n",
              "0aMvuw8iIheiM6Ui0q3ExcUxc+ZM7r//fudlZYfDwerVqzl69OhF1+vbty8Oh4MDBw4AsGzZsjbX\n",
              "kJqaypQpUwCIj49n+vTpLeoBqKmpcX49Y8YMXnvtNWcjVkNDg/Ms5Y033sjrr7+Ow+GgpqaGN998\n",
              "k5tvvhl/f39GjRrF8uXLATh8+DBbtmy5aE2nT5/Gz8+PkJAQ6uvrWbJkSYtxm83Gm2++6az/xIkT\n",
              "V9SENWTIEGJjY5k3b57OkopIuyiUiki389e//pVRo0Yxbtw4hg8fzrBhw/jkk08u+VlHq9XKH/7w\n",
              "B6ZNm0ZycjINDQ1tfv3c3NwWc0S/8cYbjBgxwlnPNddcw/r161mwYAEAd911F3PnzmXy5MmMGjWK\n",
              "pKQkPvvsMwCefPJJPDw8nOvfdtttfP/73weagvMf//hHEhMTWbBgAcnJyQQGBl6wpqlTpzJ48GAG\n",
              "Dx7MpEmTzgucAQEBZGRkMGrUKO677z5WrFjR4tL/pTz44IPYbDbN2CMi7aLuexERF/vJT37CnXfe\n",
              "ed5nPF2turoaX19fTCYTOTk5XH311aSlpREZGdmq7bT3XqQPP/ww4eHhPPnkk21aX0QE9JlSERGX\n",
              "+9///d9OeZ0vv/ySX/ziFwDY7XZeeumlVgfS9jhx4gQ33HADwcHBLebIFhFpC50pFRERERHD6TOl\n",
              "IiIiImI4hVIRERERMZxCqYiIiIgYTqFURERERAynUCoiIiIihlMoFRERERHDKZSKiIiIiOEUSkVE\n",
              "RETEcAqlIiIiImK4/w87vZCyv4HDHwAAAABJRU5ErkJggg==\n",
              "\">\n",
              "      </div>\n",
              "      <script type=\"text/javascript\">\n",
              "        (() => {\n",
              "          const chartElement = document.getElementById(\"chart-78302192-6a7f-4ad2-b47a-39f18387fc2a\");\n",
              "          async function getCodeForChartHandler(event) {\n",
              "            const chartCodeResponse =  await google.colab.kernel.invokeFunction(\n",
              "                'getCodeForChart', [\"chart-78302192-6a7f-4ad2-b47a-39f18387fc2a\"], {});\n",
              "            const responseJson = chartCodeResponse.data['application/json'];\n",
              "            await google.colab.notebook.addCell(responseJson.code, 'code');\n",
              "          }\n",
              "          chartElement.onclick = getCodeForChartHandler;\n",
              "        })();\n",
              "      </script>\n",
              "      <style>\n",
              "        .colab-quickchart-chart-with-code  {\n",
              "            display: block;\n",
              "            float: left;\n",
              "            border: 1px solid transparent;\n",
              "        }\n",
              "\n",
              "        .colab-quickchart-chart-with-code:hover {\n",
              "            cursor: pointer;\n",
              "            border: 1px solid #aaa;\n",
              "        }\n",
              "      </style>"
            ]
          },
          "metadata": {}
        },
        {
          "output_type": "display_data",
          "data": {
            "text/plain": [
              "from matplotlib import pyplot as plt\n",
              "_df_11['Age'].plot(kind='line', figsize=(8, 4), title='Age')\n",
              "plt.gca().spines[['top', 'right']].set_visible(False)"
            ],
            "text/html": [
              "      <div class=\"colab-quickchart-chart-with-code\" id=\"chart-cdefc26a-fde7-4b4f-b16d-c899a2bdc44d\">\n",
              "        <img style=\"width: 180px;\" src=\"data:image/png;base64,iVBORw0KGgoAAAANSUhEUgAAAqUAAAF5CAYAAACmzFP7AAAAOXRFWHRTb2Z0d2FyZQBNYXRwbG90\n",
              "bGliIHZlcnNpb24zLjcuMSwgaHR0cHM6Ly9tYXRwbG90bGliLm9yZy/bCgiHAAAACXBIWXMAAA9h\n",
              "AAAPYQGoP6dpAABNvUlEQVR4nO3deXxU9b3/8ddkJguB7CEJkA1IwhYggAmIoiIu1FLBIkXRarxV\n",
              "bK1Vy729yK/uWunixWvrVWlrsRahaKlIcQUXUEQSlrCHJJAwCUtC9o1sk/P7I2FqlC1hkjNJ3s/H\n",
              "Y/og5ztn5nM8zfDmnPl8vxbDMAxEREREREzkYXYBIiIiIiIKpSIiIiJiOoVSERERETGdQqmIiIiI\n",
              "mE6hVERERERMp1AqIiIiIqZTKBURERER0ymUioiIiIjpFEpFRERExHQKpSIiIiJiOoVSEZEusmzZ\n",
              "MiwWCw8//LDZpYiIuB2LYRiG2UWIiPQGycnJ5Obm4uHhQX5+Pt7e3maXJCLiNnSlVESkC6Snp7Nt\n",
              "2zaWL19ORUUFb731lnOsqqqK1NRUQkJCiIyM5IUXXiAyMpLXXnvN+ZzMzExmzJhBeHg4gwYN4r77\n",
              "7qOmpsaEIxER6RwKpSIiXeCll14iKSmJ6dOnc9NNN/HSSy85xx588EH279/Pnj17yMrKYs+ePRQW\n",
              "FjrHi4uLmTJlCtOmTcNut7Nr1y6ysrJ46KGHTDgSEZHOodv3IiKdrKysjEGDBvE///M//OQnP+GT\n",
              "Tz5h2rRpZGRkkJiYiK+vL2+//TY33HADAJWVlQQFBfHqq6+SmprKkiVLeOutt9iyZYvzNTdv3szV\n",
              "V19NbW0tVqvVrEMTEXEZXSkVEelkpxucbrvtNgCmTp1KXFwcL730EsXFxTQ0NBATE+N8vr+/P0FB\n",
              "Qc6fs7Oz2b59O4GBgc7HDTfcgMVi4cSJE11+PCIinUGhVESkExmGwSuvvEJDQwMJCQlEREQwYMAA\n",
              "CgoKeOONN/Dx8cHLy4sjR44496msrKSsrMz5c0REBJdffjnl5eXOR0VFBXV1dQwaNMiMwxIRcTmF\n",
              "UhGRTrR+/Xqys7P56KOPyMjIcD52794NwOuvv868efN46qmnOH78OLW1tfziF7/Aw+PfH8933XUX\n",
              "O3fu5KWXXqK2thbDMMjPz2fNmjUmHZWIiOsplIqIdKKXX36Za665hqlTpxIREeF8xMfHc/fdd/Py\n",
              "yy/zwgsvkJCQwKhRo4iPj2fkyJEEBwfj4+MDQHR0NFu2bGH9+vUMHTqUwMBArr/+evbs2WPy0YmI\n",
              "uI4anURE3ExZWRkhISFs3ryZSy+91OxyRES6hK6UioiYzG63s3HjRhwOByUlJdx3333Ex8eTnJxs\n",
              "dmkiIl1GoVRExGQNDQ387Gc/IzAwkPj4eMrLy1m7di02m83s0kREuoxu34uIiIiI6XSlVERERERM\n",
              "p1AqIiIiIqZTKBURERER0ymUioiIiIjpun0ofeGFF8wuQUREREQuUrcPpV9fL1pEREREuqduH0pF\n",
              "REREpPtTKBURERER0ymUioiIiIjpFEpFRERExHQKpSIiIiJiOoVSERERETGdQqmIiIiImE6hVERE\n",
              "RERMp1AqIiIiIqZTKBURERER0ymUiki3Ul7bYHYJIiLSCRRKRaTbeGXjIZKeWs+b6flmlyIiIi6m\n",
              "UCoi3UJucQ1L1mcBLeHUMAyTKxIREVdSKBURt2cYBo+v3UdDUzMAh4tr2HK4xOSqRETElRRKRcTt\n",
              "vb/3BJuyTuJl9eDKhP4ArNhqN7kqERFxJYVSEXFr1fVNPPWv/QD8+Kqh/OL6YQB8uO8ExdX1ZpYm\n",
              "IiIupFAqIm7t9x9nc6KyjqjgPtx31VASBwUwNjKARofBP7YXmF2eiIi4iEKpiLitgyeqePWLXACe\n",
              "ujERH08rAPMmRgOwMs1Oc7MankREegKFUhFxS4Zh8OiavTiaDa4fFc7U4WHOse+NHYift40jJbV8\n",
              "eUgNTyIiPYFCqYi4pX/uOEpaXil9PK089r1RbcZ8vWzcNH4QAG9sPWJGeSIi4mIKpSLidipqG3n2\n",
              "vQMAPDAtnkGBfb71nNO38NfvL6Soqq5L6xMREddTKBURt/O7jzIpqWkgLqwfP7p88BmfMzzCn/HR\n",
              "gTQ1G7y1TQ1PIiLdnUKpiLiV3QXlvNE6B+nTMxPxsp39Y2rexBhADU8iIj1Bh0PpsmXLsFgsrFmz\n",
              "BoCioiKmT59OfHw8iYmJbNq0yfncjo6JSO/iaDZ4ZM1eDANuGjeIS4eGnPP5M8YMwN/HRkHZKTZl\n",
              "n+yiKkVEpDN0KJTm5eXxpz/9iUmTJjm3Pfzww0yaNIns7GyWLVvGvHnzaGxsvKgxEeldVqTZ2V1Q\n",
              "gZ+3jUU3DD/v8308rXx/fGTLvlrhSUSkW2t3KG1ububuu+/mD3/4A97e3s7tb775Jj/+8Y8BSE5O\n",
              "ZuDAgWzcuPGixkSk9yiurud3H2QC8F/XDyPMz+eC9rutteHp48wiCivV8CQi0l21O5QuWbKEyy67\n",
              "jAkTJji3lZSU0NjYSEREhHNbbGwsdru9w2NnUl9fT2VlZZuHw+Fo7yGIiBta/F4mlXVNjBroz+2T\n",
              "Yi54v/hwP5Jjg3A0G6xKz+/ECkVEpDO1K5Tu3buX1atX88gjj3RWPee0ePFiAgIC2jzS0tJMqUVE\n",
              "XGfr4RJW7yjAYoFnZiVi9bC0a//T00P9Pc2OQw1PIiLdUrtC6eeff05eXh7x8fHExsby1VdfMX/+\n",
              "fN58801sNhsnTpxwPjcvL4/o6GhCQkI6NHYmixYtoqKios0jJSWlvccsIm6k0dHMo+/sBeCW5GjG\n",
              "RQe1+zW+kziAQF9PjlXUsTGryNUliohIF2hXKP3JT37C8ePHycvLIy8vj0mTJvHHP/6Rn/zkJ8yZ\n",
              "M4dXXnkFgPT0dI4ePcqVV14J0OGxb/L29sbf37/Nw2q1duzIRcQtvLY5j6zCaoL7evHf1w/r0Gv4\n",
              "eFqZrYYnEZFuzeaqF/rNb37DD3/4Q+Lj4/Hy8mL58uV4enpe1JiI9GzHK07x/IYsAB7+znCC+np1\n",
              "+LVuTYnm1S9y+SSziGPlpxh4hlWgRETEfVkMw+jWX8BasGABS5YsMbsMEemA+97Yznt7TjAhJoi3\n",
              "7r0Uj3Z+l/Sb5i7dwtbcUh6cFs/Pr01wUZUiItIVtKKTiJhiY9ZJ3ttzAquHhWdmJV50IIV/Nzyt\n",
              "Ss+nydF80a8nIiJdR6FURLpcXaODx1ubm1InxzJigL9LXnd6YgTBfb04UVnHpwe1wpOISHeiUCoi\n",
              "XW7pxsPkldQS7u/NQ9fEu+x1vW1W5kxoaXh6Y+sRl72uiIh0PoVSEelSR0pq+L/PcgB45Lsj8fNx\n",
              "bWPjrSktt/A3Zp0kv7TWpa8tIiKdR6FURLqMYRg8vnYfDU3NXB4XyowxA1z+HrGhfbksLgTDQCs8\n",
              "iYh0IwqlItJlPtxXyGcHT+Jl9eCpmaOwWC6+uelM5qW0LFO6als+jWp4EhHpFhRKRaRL1NQ38dS/\n",
              "9gFw75VDGNK/X6e917Ujwwnt58XJqno+PlDYae8jIiKuo1AqIl3i959kc6yijsigPtx3VVynvpeX\n",
              "zYM5l0QB8IZWeBIR6RYUSkWk02UXVvHq57kAPHnjKPp4df7ywLcmtzQ8fZ5djL1EDU8iIu5OoVRE\n",
              "OpVhGDyyZi9NzQbXjgxn2ojwLnnf6BBfpsSHArAyXVdLRUTcnUKpiHSqNRlH2Zpbio+nB49/b2SX\n",
              "vvdtrSs8vbUtn4YmNTyJiLgzhVIR6TQVpxr51bsHAPjZ1fFEBvl26ftPGxFOfz9viqsbWL9fDU8i\n",
              "Iu5MoVREOs2Sjw5SXN3A0P59uWfKkC5/f0+rB3NbG55WpGmFJxERd6ZQKiKdYk9BBX/7qiUIPj0z\n",
              "ES+bOR83t6REYbHA5pwS8oprTKlBRETOT6FURFyuudngkXf20mzAjWMHMjku1LRaIoN8uTKhPwAr\n",
              "09TwJCLirhRKRcTl/p6ez678cvp523jkuyPMLod5Ka0NT9sLqG9ymFyNiIiciUKpiLhUSXU9v/kg\n",
              "E4D/vC6BMH8fkyuCq4eHEeHvQ2lNAx/uU8OTiIg7UigVEZf69fuZVJxqZOQAf344KcbscgCwWT2Y\n",
              "m9y6wtNXangSEXFHCqUi4jLb8kp5a3sBAE/PSsRmdZ+PmFtSovCwwNbcUnKKqs0uR0REvsF9/sYQ\n",
              "kW6tydHMI2v2AnBLchQTYoJMrqitAQF9uHp4GKCGJxERd6RQKiIu8dqXeWSeqCLI15OF04ebXc4Z\n",
              "zWtd4Wn1jgLqGtXwJCLiThRKReSinaio4/n1WQAsnD6coL5eJld0ZlcmhDEosA/ltY28v/e42eWI\n",
              "iMjXKJSKyEV7+t391DQ4GBcdyA9aV1ByR1YPi7PhacVW3cIXEXEnCqUiclE+zz7Ju7uP42GBZ2Yl\n",
              "4uFhMbukc5qbHIXVw0J6XhlZhVVmlyMiIq0USkWkw+qbHDz2zj4A7pwcy6iBASZXdH7h/j5Ma214\n",
              "0tVSERH3oVAqIh32x42HyS2uob+fNz+/NsHsci7Y6Yanf6rhSUTEbSiUikiH5JfW8uKnOQA88t0R\n",
              "+Pt4mlzRhbsivj+RQX2orGti3W41PImIuAOFUhFpN8MweHztPuqbmpk8NIQbxw40u6R28fCwcGtK\n",
              "y9XSFVu1wpOIiDtodyi97rrrGDNmDElJSUyZMoWdO3cCEBsby7Bhw0hKSiIpKYlVq1Y598nOzmby\n",
              "5MkkJCSQnJzMvn37LmhMRNzT+v2FfJJZhKfVwlMzE7FY3Lu56UzmXBKJzcPCDns5mScqzS5HRKTX\n",
              "a3coffPNN9m9ezcZGRksWLCA1NRU59iqVavIyMggIyODuXPnOrffe++9zJ8/n6ysLBYuXNhmn3ON\n",
              "iYj7qW1o4sl/7QfgnilDiAvrZ3JFHRPm58O1I8MBNTyJiLiDdofSwMBA558rKirOe4WkqKiIbdu2\n",
              "cfvttwMwe/Zs8vPzycnJOeeYiLinFz/J4Wj5KQYF9uFnV8ebXc5FOd3w9PaOo9Q2NJlcjYhI72br\n",
              "yE533HEHn376KQDvvfdem+2GYZCSksKvf/1r+vfvT35+PgMGDMBma3kri8VCdHQ0drudgICAs47F\n",
              "xcV9633r6+upr69vs83hUOesSFfJKariT58fBuCJG0fRx8tqckUX57KhocSE+HKkpJZ1u47zg2T3\n",
              "nfhfRKSn61Cj0+uvv05+fj7PPPMMCxcuBGDTpk3s3r2bHTt2EBoayp133unSQgEWL15MQEBAm0da\n",
              "WprL30dEvs0wDB5ds49Gh8E1I8Kct767s683PL2hhicREVNdVPf9nXfeyaeffkpJSQnR0S0f7J6e\n",
              "njz00EN8/vnnAERFRXH8+HGamlpujRmGgd1uJzo6+pxjZ7Jo0SIqKiraPFJSUi7mEETkAq3ddYwt\n",
              "h0vwtnnw+PdGmV2Oy9w8IRJPq4VdBRXsPVphdjkiIr1Wu0JpeXk5x44dc/68Zs0aQkJC8PHxoby8\n",
              "3Ll95cqVjBs3DoCwsDDGjx/P8uXLAVi9ejWRkZHExcWdc+xMvL298ff3b/OwWrv37UOR7qCyrpFn\n",
              "3j0AwM+ujiMq2NfkilwntJ8314+KAGBFmhqeRETM0q7vlFZUVDBnzhxOnTqFh4cH/fv3Z926dRQW\n",
              "FjJ79mwcDgeGYTBkyBBef/11535Lly4lNTWVZ599Fn9/f5YtW3ZBYyLiHpZ8lMXJqnqGhPblniuG\n",
              "mF2Oy82bGM263cd5Z+dR/t8NI+jn3aGv24uIyEVo1ydvTEzMWb/DeXq+0jMZNmwYW7ZsafeYiJhv\n",
              "79EKXt+SB8BTMxPxtvW8uxOXDglhSGhfDhfXsDbjmLMrX0REuo5WdBKRs2puNnj0nb00GzBjzAAu\n",
              "jw81u6ROYbF8bYWnNDU8iYiYQaFURM7qzW357LSX08/bxqMzRppdTqeaPSESL6sHe49Wsrug3Oxy\n",
              "RER6HYVSETmj0poGfv1BJgA/vzaBcH8fkyvqXMF9vfjO6NaGJ63wJCLS5RRKReSMfvN+JuW1jQyP\n",
              "8OPOS2PMLqdLzGu9hb921zGq6hpNrkZEpHdRKBWRb9l+pIxV2/IBeGZWIjZr7/ioSBkcTFxYP2ob\n",
              "HKzJOHb+HURExGV6x980InLBmhzNPLJmLwA/uCSSS2KDTa6o67RpeNpqxzAMkysSEek9FEpFpI3X\n",
              "txzhwPFKAn09efg7I8wup8vNHj8IL5sHB45XkpFfbnY5IiK9hkKpiDgVVtaxZH0WAP99/XCC+3qZ\n",
              "XFHXC/T1YsboAYAankREupJCqYg4/erdA1TXNzE2KpBbkqPMLsc0pyfP/9fuY1ScUsOTiEhXUCgV\n",
              "EQA25xSzdtcxPCzwq1mJeHhYzC7JNBNighgW7kddYzNrdh41uxwRkV5BoVREqG9y8Og7Lc1NP5wU\n",
              "Q+KgAJMrMpfFYnFeLX1j6xE1PImIdAGFUhHhz5/ncvhkDaH9vFlw3TCzy3ELs8YNwsfTg6zCarYf\n",
              "KTO7HBGRHk+hVKSXyy+t5Q+fZAPwyHdHENDH0+SK3ENAH0++N2YgoIYnEZGuoFAq0ss9+a/91DU2\n",
              "M2lIMDOTBppdjls5fQt/3Z7jlNc2mFyNiEjPplAq0ott2F/IhgOF2DwsPD0zEYul9zY3nUlSVCAj\n",
              "BvjT0NTM6h1qeBIR6UwKpSK91KkGB0/8ax8Ad08ZQny4n8kVuZ+vNzytUMOTiEinUigV6aX+79Mc\n",
              "CspOMTDAhwemxZldjtualTQQXy8rh07WkJZbanY5IiI9lkKpSC906GQ1SzcdAuDxG0fh62UzuSL3\n",
              "5efjyY1jWxue0tTwJCLSWRRKRXoZwzB47J29NDoMpg7rz3Ujw80uye2dvoX//p4TlNao4UlEpDMo\n",
              "lIr0Mut2H2dzTgneNg+evFHNTRdiTGQgiYP8aXA0s3p7gdnliIj0SAqlIr1IVV0jT6/bD8BPp8YR\n",
              "HeJrckXdx7yUGABWptnV8CQi0gkUSkV6kefXZ1NUVU9siC/zrxhidjndyo1JA+nrZeVwcQ1bDpeY\n",
              "XY6ISI+jUCrSS+w/Vslft+QB8NTMRHw8reYW1M3087Yxc9wgQCs8iYh0BoVSkV6gudng0Xf24mg2\n",
              "+O7oAVyR0N/skrqleSktDU8f7jtBcXW9ydWIiPQsCqUivcA/thew/UgZfb2sPDpjpNnldFuJgwIY\n",
              "GxVIo8PgH2p4EhFxKYVSkR6urKaBxe8fAOChaxKICPAxuaLu7baU0ys82WluVsOTiIirKJSK9HC/\n",
              "/fAgZbWNDAv3I/WyWLPL6fZmjB2An7cNe2ktmw8Vm12OiEiPoVAq0oPtsJfx9/SWppxnbkrE06pf\n",
              "+Yvl62XjpvFqeBIRcbV2/w113XXXMWbMGJKSkpgyZQo7d+4EIDs7m8mTJ5OQkEBycjL79u1z7tPR\n",
              "MRHpuCZHM4+u2YthwM0TIkmODTa7pB7j9ApP6/cXUlRVZ3I1IiI9Q7tD6Ztvvsnu3bvJyMhgwYIF\n",
              "pKamAnDvvfcyf/58srKyWLhwoXP7xYyJSMct/+oI+45V4u9j4+HvDDe7nB5leIQ/46MDaWo2eGub\n",
              "Gp5ERFyh3aE0MDDQ+eeKigosFgtFRUVs27aN22+/HYDZs2eTn59PTk5Oh8dEpOOKqur4n4+yAPjv\n",
              "6cMJ7edtckU9z7yJ/17hSQ1PIiIXz9aRne644w4+/fRTAN577z3y8/MZMGAANlvLy1ksFqKjo7Hb\n",
              "7QQEBHRoLC4u7lvvW19fT31927kBHQ5HRw5BpEd79t0DVNU3MTYygFtbu8XFtWaMGcBT/9pHQdkp\n",
              "NmWf5KphYWaXJCLSrXWo6+H1118nPz+fZ555hoULF7q6prNavHgxAQEBbR5paWld9v4i3cGXh4pZ\n",
              "k3EMiwWemTUaq4fF7JJ6JB9PK98fHwmo4UlExBUuqhX3zjvv5NNPPyUyMpLjx4/T1NQEgGEY2O12\n",
              "oqOjiYqK6tDYmSxatIiKioo2j5SUlIs5BJEepaGpmcfeaWkWvH1iDKMjA0yuqGe7rbXh6ePMIgor\n",
              "1fAkInIx2hVKy8vLOXbsmPPnNWvWEBISQlhYGOPHj2f58uUArF69msjISOLi4jo8dibe3t74+/u3\n",
              "eVitWr9b5LRXv8glp6ia0H5e/Nd1w8wup8eLD/cjOTYIR7PBqvR8s8sREenW2vWd0oqKCubMmcOp\n",
              "U6fw8PCgf//+rFu3DovFwtKlS0lNTeXZZ5/F39+fZcuWOffr6JiIXLiCslp+/3E2AP/vhhEE+Hqa\n",
              "XFHvMG9iNOl5Zfw9zc5Pp8bp6xIiIh1kMQyjW7eNLliwgCVLlphdhojp5r++jY/2F5IyOJhV8ydh\n",
              "sSgcdYW6RgeTFn9MeW0jf0m9hKuHh5tdkohIt6TlXUR6gE8yC/lofyE2DwtPz0xUIO1CPp5WZqvh\n",
              "SUTkoimUinRzdY0OHl/b0tz0o8sHMyzCz+SKep/TKzx9klnEsfJTJlcjItI9KZSKdHMvfZpDfukp\n",
              "BgT48MC0eLPL6ZWG9u/HpCHBNBuo4UlEpIMUSkW6sdziGl7ZeBiAx2aMpK93h9bDEBc4vcLT39Pt\n",
              "NDmaTa5GRKT7USgV6aYMw+Cxd/bS4GjmyoT+TE+MMLukXu36UeEE9/WisLKeTzKLzC5HRKTbUSgV\n",
              "6abe23OCz7OL8bJ58OSNo9TcZDJvm5U5E1obntLU8CQi0l4KpSLdUHV9E0+ta2luuu+qocSG9jW5\n",
              "IgG4NaWl4Wlj1knyS2tNrkZEpHtRKBXphl7YkEVhZT0xIb78+MqhZpcjrWJD+3JZXAiGGp5ERNpN\n",
              "oVSkm8k8UclfNucB8MSNo/Dx1FK77mReSkvD06pt+TSq4UlE5IIplIp0I83NBo+8vRdHs8F3EiOY\n",
              "OizM7JLkG64dGU5oPy9OVtXz8YFCs8sREek2FEpFupHVOwrYdqQMXy8rj84YaXY5cgZeNg/mXBIF\n",
              "wBta4UlE5IIplIp0E+W1Dfz6/UwAHpwWz8DAPiZXJGdza3JLw9Pn2cXYS9TwJCJyIRRKRbqJ3314\n",
              "kJKaBuLD+vEflw82uxw5h+gQX6bEhwKwMl1XS0VELoRCqUg3sCu/3Dn35TOzEvG06lfX3d02seVq\n",
              "6Vvb8mloUsOTiMj56G82ETfnaDZ4ZM1eDAO+P24QE4eEmF2SXIBpI8Lp7+dNcXUD6/er4UlE5HwU\n",
              "SkXc3IqtR9hztAI/HxuLbhhhdjlygTytHsxtbXhakXbE5GpERNyfQqmIGztZVc9vPzwIwH9fP4z+\n",
              "ft4mVyTtcUtKFBYLbM4pIa+4xuxyRETcmkKpiBtb/N4BquqaGD0ogHkTY8wuR9opMsiXqxL6A7Ay\n",
              "TQ1PIiLnolAq4qa+OlzCP3cexWJpaW6yeljMLkk64PQ/Jt7aXkB9k8PkakRE3JdCqYgbanQ08+ia\n",
              "vQDMS4lmbFSguQVJh00d1p8Ifx9Kaxr4YO8Js8sREXFbCqUibugvX+SSXVRNSF8v/vv64WaXIxfB\n",
              "ZvVgbnJrw5NWeBIROSuFUhE3c6z8FP+7IRuARTeMIMDX0+SK5GLdkhKFhwW25paSU1RtdjkiIm5J\n",
              "oVTEzTy9bj+nGh0kxwYxe/wgs8sRFxgQ0Ierh4cBangSETkbhVIRN/LpwSLe33sCq4eFp2clYrGo\n",
              "uamnmNe6wtPqHQXUNarhSUTkmxRKRdxEXaODJ9buA+A/LotleIS/yRWJK12ZEMagwD6U1zby/t7j\n",
              "ZpcjIuJ2FEpF3MQrGw9xpKSWcH9vHrwmwexyxMWsHhY1PImInINCqYgbyCuu4aXPDgHw2IxR9PO2\n",
              "mVyRdIa5yVFYPSyk55WRVVhldjkiIm5FoVTEZIZh8NjafTQ0NTMlPpQbRkeYXZJ0knB/H6a1Njzp\n",
              "aqmISFvtCqV1dXXMmjWLhIQExo4dy7XXXktOTg4AV111FYMHDyYpKYmkpCSef/55535FRUVMnz6d\n",
              "+Ph4EhMT2bRp0wWNifQGH+w9waask3hZPXhqppqberrTDU//VMOTiEgb7b5SOn/+fA4ePMiuXbuY\n",
              "OXMmd999t3Ps+eefJyMjg4yMDH7+8587tz/88MNMmjSJ7Oxsli1bxrx582hsbDzvmEhPV1PfxFPr\n",
              "9gPw4yuHMDi0r8kVSWe7Ir4/kUF9qKxrYt1uNTyJiJzWrlDq4+PDDTfc4LySM2nSJPLy8s6735tv\n",
              "vsmPf/xjAJKTkxk4cCAbN24875hIT/f7j7M5XlFHVHAf7psaZ3Y50gU8PCzcmtJytXTF1iMmVyMi\n",
              "4j4u6julL7zwAjNnznT+/PDDDzN69Gjmzp3L4cOHASgpKaGxsZGIiH9/Ty42Nha73X7OsTOpr6+n\n",
              "srKyzcPh0O0v6Z4Onqji1S9yAXjqxkR8PK0mVyRdZc4lkdg8LOywl5N5otLsckRE3EKHQ+mzzz5L\n",
              "Tk4OixcvBuBvf/sbmZmZ7N69mylTpjBjxgyXFXna4sWLCQgIaPNIS0tz+fuIdDbDMHj0nb00NRtc\n",
              "Pyqcqa3NL9I7hPn5cN2ocEANTyIip3UolD733HP885//5P3338fX1xeAqKiW+fcsFgv3338/hw8f\n",
              "pqSkhJCQEGw2GydOnHDun5eXR3R09DnHzmTRokVUVFS0eaSkpHTkEERM9fbOo6TlltLH08pj3xtl\n",
              "djlignkpMQC8veMotQ1NJlcjImK+dofSJUuWsHLlStavX09gYCAATU1NFBYWOp+zevVqwsPDCQkJ\n",
              "AWDOnDm88sorAKSnp3P06FGuvPLK8459k7e3N/7+/m0eVqtueUr3UlHbyLPvHQDggWnxDArsY3JF\n",
              "YobJQ0OICfGlqr6Jf+06ZnY5IiKma9cM3QUFBfznf/4nQ4YMYerUqUBLUPzkk0/47ne/S319PR4e\n",
              "HoSGhrJ27Vrnfr/5zW/44Q9/SHx8PF5eXixfvhxPT8/zjon0RM99dJDi6gbiwvrxo8sHm12OmOR0\n",
              "w9Ov389kxVY7c5PPfIdIRKS3aFcojYyMxDCMM45t27btrPuFh4fz0UcftXtMpKfZU1DB8taO66dn\n",
              "JuJl0/oVvdnNEyL5n48Osquggr1HK0gcFGB2SSIiptHfiCJdxNFs8MiaPRgGzEoayKVDQ8wuSUwW\n",
              "2s+b60e1zD6yIk0NTyLSuymUinSRlWl2dhVU4Odt4/99d4TZ5YibOL3C0zs7j1Jdr4YnEem9FEpF\n",
              "ukBxdT2//SATgP+6fhhhfj4mVyTu4tIhIQwJ7UtNg4O1GWp4EpHeS6FUpAv8+v1MKuuaGDXQn9sn\n",
              "xZhdjrgRi+VrKzylaYUnEem9FEpFOllabin/2F6AxQLPzErE6mExuyRxM7MnROJl9WDv0Up2F5Sb\n",
              "XY6IiCkUSkU6UaOjmUfX7AXgluRoxkUHmVyRuKPgvl58Z3Rrw5NWeBKRXkqhVKQTvbY5j4OFVQT3\n",
              "9eK/rx9mdjnixua13sJfu+sYVXWNJlcjItL1FEpFOsnxilP874YsAB6ePpygvl4mVyTuLGVwMHFh\n",
              "/ahtcLBGDU8i0gsplIp0kmfWHaCmwcGEmCBunhBpdjni5to0PG21n3WhEhGRnkqhVKQTbMo6ybt7\n",
              "jmP1sPDMrEQ81NwkF2D2+EF42zw4cLySjPxys8sREelSCqUiLlbX6OCxd1qam1InxzJigL/JFUl3\n",
              "EejrxXfHDADU8CQivY9CqYiL/XHTYfJKagnz8+aha+LNLke6mdtaV3j61+5jVJxSw5OI9B4KpSIu\n",
              "dKSkhhc/zQHg0Rkj8fPxNLki6W7GRwcxLNyPusZm3t5RYHY5IiJdRqFUxEUMw+CJtftoaGrm8rhQ\n",
              "ZrTehhVpD4vFwryJp1d4UsOTiPQeCqUiLvLR/kI+PXgST6uFJ2eOwmJRc5N0zKxxg/Dx9CCrsJrt\n",
              "R8rMLkdEpEsolIq4QG1DE0+u3QfAvVcMZWj/fiZXJN1ZQB9PvjdmIKCGJxHpPRRKRVzg9x/ncKyi\n",
              "jsigPvx0apzZ5UgPcPoW/ro9xymvbTC5GhGRzqdQKnKRsgur+PPnhwF48sZR9PGymlyR9ARJUYGM\n",
              "GOBPQ1Mzq3ccNbscEZFOp1AqchEMw+DRd/bS1GxwzYhwpo0IN7sk6SHaNDxtPaKGJxHp8RRKRS7C\n",
              "OxnH+OpwKT6eHjz+vZFmlyM9zKykgfh6WTl0soa03FKzyxER6VQKpSIdVHGqkWfePQDAz66OJyrY\n",
              "1+SKpKfx8/HkxrGtDU9pangSkZ5NoVSkg55fn0VxdT1D+/flnilDzC5HeqjTt/Df33OC0ho1PIlI\n",
              "z6VQKtIBe49W8PqWPACenpmIl02/StI5xkQGkjjInwZHM6u3a4UnEem59DepSDs1Nxv8cs1emg24\n",
              "cexAJseFml2S9HDzUmIAWKkVnkSkB1MoFWmnv6fnsyu/nH7eNh757gizy5Fe4MakgfTztnG4uIYt\n",
              "h0vMLkdEpFMolLZD5olKTjU4zC5DTFRSXc9vPsgEYMG1CYT5+5hckfQG/bxtzEzSCk8i0rPZzC6g\n",
              "u2huNpi79CtqG5oYExlIyuBgUgYHMyEmCH8fT7PLky7ymw8yqTjVyIgB/txxaYzZ5UgvMm9iNG9s\n",
              "tfPhvhMUV9cT2s/b7JJERFxKofQCFVbV0cfTSsWpRrYfKWP7kTJe/uwQHhYYOdCflNgQUgYHkRwb\n",
              "TIj+suiRtuWV8ua2lkaTZ2YlYrPqRoN0nVEDAxgbFciu/HLe2lbAT64aanZJIiIu1a6/Vevq6pg1\n",
              "axYJCQmMHTuWa6+9lpycHACKioqYPn068fHxJCYmsmnTJud+HR1zJwMC+rBl0dVs+sVUfnfzGH5w\n",
              "SSSxIb40G7D3aCV/2ZzLj5fvYMIzG7hmyUb+39t7eCfjKMcrTpldurhAk6OZR9bsBeCW5CgmxASZ\n",
              "XJH0RreltEwPtTLNTnOzGp5EpGdp95XS+fPn853vfAeLxcKLL77I3XffzWeffcbDDz/MpEmT+OCD\n",
              "D0hPT+emm24iNzcXT0/PDo+5G4vFQnSIL9Ehvsy5JAqAwso60nJLnY+DhVXkFFWTU1Tt/O5XVHAf\n",
              "UmJDmDg4mOTBwcSG+GKxWMw8FGmnv245QuaJKgJ9Pfnv6cPNLkd6qRljB/D0uv3YS2vZfKiYKfH9\n",
              "zS5JRMRl2hVKfXx8uOGGG5w/T5o0ieeeew6AN99803nVNDk5mYEDB7Jx40auueaaDo91B+H+Pnxv\n",
              "7EC+17rqSllNA+l5paTntYTUvccqyS89RX5pAat3tNz67e/nTcrgYCa2fi81IcwPDw+FVHd1oqKO\n",
              "JR8dBODh6cMJ7utlckXSW/l62bhp/CBe33KEFVvtCqUi0qNc1HdKX3jhBWbOnElJSQmNjY1EREQ4\n",
              "x2JjY7Hb7R0eO5P6+nrq6+vbbHM43KsbPqivF9eNiuC6US3HVF3fxI4jZc4rqRn55Zysqufd3cd5\n",
              "d/dxAAL6eJIc+++QOmqgv76v6EaeeXc/NQ0OxkUH8oPWK+QiZpk3MZrXtxxh/f5CiqrqCPPTDBAi\n",
              "0jN0OJQ+++yz5OTk8PHHH3PqVNd8b3Lx4sU8+eSTbbZNmjSpS967o/p527gioT9XJLRc0ahrdLAr\n",
              "v7wlpOaVsv1IGRWnGtlwoJANBwoB8PWyMiEmiJTYlpA6NioQH0+rmYfRa32RXcy63cfxsLQ0N+mK\n",
              "tphteIQ/46MD2WFvaXj66dQ4s0sSEXGJDoXS5557jn/+859s2LABX19ffH19sdlsnDhxwnnVMy8v\n",
              "j+joaEJCQjo0diaLFi1iwYIFbbY9+uijHTkE0/h4Wpk4JISJQ0IAaHQ0s/9YJWm5pWzNbbntX3Gq\n",
              "kc+zi/k8uxgAL6sHSVH/noZqfEwQ/bw1cUJnq29y8Ng7Lc1Nd1way6iBASZXJNJi3sQYdtjLWZlm\n",
              "5ydXDtU/lkSkR7AY7VyzbsmSJbzxxhts2LCBoKB/dyCnpqYSGxvLE088QXp6OrNmzSIvLw9PT88O\n",
              "j12IBQsWsGTJkvYdtRtrbjbIKqpyhtS03FJOVrX9yoLVw0LiQH+SW6+kJscGE6TvObrci59k89xH\n",
              "WfT38+bj/7xS89GK26hrdJDyqw1U1jXx2l3JXDUszOySREQuWrtCaUFBAVFRUQwZMgQ/Pz8AvL29\n",
              "2bp1K4WFhfzwhz8kNzcXLy8vXnzxRaZOnQrQ4bEL0dNC6TcZhkFeSS3pp0NqXgn5pd/+usSwcD/n\n",
              "ldSUwcGEa6Whi5JfWss1SzZS39TMC7ckMTNpkNklibTxxNp9vPZlHteNDOePd1xidjkiIhet3VdK\n",
              "3U1PD6Vncqz8FOl5/76SmlNU/a3nxIb4Oq+iThwcQlRwH01D1Q53/zWdDQeKmDw0hDfunqj/duJ2\n",
              "sguruPb5TVg9LHz58NX6h6iIdHv6YmI3NDCwDzOTBjmv3hVX17Mtr5S03DLS8krYf6ySvJJa8kpq\n",
              "nSsQRfj7OK+iThwcTFxYPwWts1i/v5ANB4rwtFp4amai/juJW4oP9yM5Noj0vDJWpefzwLR4s0sS\n",
              "EbkoCqU9QGg/b6YnDmB64gAAKutalkI9PQ3V7oJyTlTWsXbXMdbuOgZAcF8vkmODSBncMqn/iAH+\n",
              "WNUsQW1DE0+s3QfAPVOGEBfWz+SKRM5u3sRo0vPK+HuanZ9OjdPvsIh0awqlPZC/jydTh4UxtbX5\n",
              "4VSDg535/w6pO+xllNY08OG+Qj7c1zINVT9vW8s0VK1XUkdHBuBt633TUL34SQ5Hy08xKLAPP7ta\n",
              "V57EvX0ncQBP/ms/xyrq2JhVxNXDw80uSUSkwxRKe4E+XlYmDw1l8tBQABqamtl7rMIZUtPzSqmq\n",
              "a2Jj1kk2Zp0EwNvmwbjoQOeV1HHRgfh69ez/u+QUVfOnzw8D8Pj3RtLHq/eFculefDyt3Dw+kj9/\n",
              "kcuKrXaFUhHp1np2ypAz8rJ5MD46iPHRQfz4yqE4mg0yT1Q6Q2pabiklNQ18dbiUrw6XAmDzsJA4\n",
              "KMC56tQlMcEE+PacKZIMw+Cxd/bS6DCYNjyMa0fqL3fpHm6dGM2fv8jlk8wijpWfYmBgH7NLEhHp\n",
              "EIVSwephYdTAAEYNDOCuywZjGAaHi2ucAXXr4RKOVdSRkV9ORn45SzcdxmJpWVnmdEhNjg2mv5+3\n",
              "2YfSYWt3HePLQyV42zx44sZRam6SbmNo/35MGhLMV4dL+Xt6PguuTTC7JBGRDlEolW+xWCwM7d+P\n",
              "of37cWtKy+paBWW1ba6kHi6u4cDxSg4cr+S1L/MAGNK/b5uQGhnka+JRXLjKukaeefcAAD+7Oo6o\n",
              "4O5Rt8hp8ybG8NXhUlal23ng6jhsVg+zSxIRaTeFUrkgkUG+RAb58v3xkQAUVdWRnltGWm4JaXll\n",
              "ZJ6o5PDJGg6frGFlWj4AgwL7tJnQf0hoX7e8Avn8+ixOVtUzJLQv91wxxOxyRNrt+lHhBPf1orCy\n",
              "nk8yi7huVITZJYmItJtCqXRImJ8P3x0zgO+OaZmGqqK2kW1HSp3Lo+45WsHR8lO8vfMob+88CkBo\n",
              "P6+WgBobTMrgEIZF+Jk+hc2+YxX8tfVK75MzR/XKGQek+/O2WZkzIZKlmw6zIs2uUCoi3ZJCqbhE\n",
              "gK8n00aEM21ES4NQTX0TO+3lrVdSS9lpL6e4uoH39pzgvT0nAPDzsZEc++8rqaMHBeDZhbcdm5sN\n",
              "Hlmzl2YDZowZwJT4/l323iKudmtKNEs3HWZj1knyS2v1NRQR6XYUSqVT9PW2cXl8KJfHt0xDVd/k\n",
              "YE9BhXNp1O1Hyqiqa+KTzCI+ySwCoI+nlfExgaTEhpDSOg2Vj2fnXbl8a3s+O+3l9PO28eiMkZ32\n",
              "PiJdITa0L5fFhbA5p4RV6fn81/XDzC5JRKRdFEqlS3jbrFwSG8wlscH8dCo0OZo5cLyKrbklzrlS\n",
              "y2ob2ZxTwuacEgA8rRbGRAY6r6ROiAnC38c101CV1jSw+P1MAB66Jl7rhkuPMC8lpiWUbsvnwWvi\n",
              "u/TOg4jIxVIoFVPYrB6MjgxgdGQAd08ZQnOzQc7J6n9PQ5VbQmFlPduPlLH9SBkvf3YIDwuMHOjv\n",
              "vJKaHBtESL+OTUP12w8yKa9tZHiEH6mTY117cCImuXZkOKH9vDhZVc/HBwqdSw+LiHQHCqXiFjw8\n",
              "LCSE+5EQ7sftk2IwDIP80lPOK6lpeaUcKall79FK9h6t5C+bcwGID+tHcuvSqCmDgxkQcP6Jw3fY\n",
              "y/h7essMAc/MStT0OdJjeNk8mHNJFC9/dog3ttoVSkWkW1EoFbdksViIDvElOsSXOZdEAXCioo60\n",
              "vFLSW6+mHiysIruomuyialZstQMQFdyHlNgQZ0iNCfFtMw1Vk6OZR97eC8CcCZFcEhvc9Qcn0olu\n",
              "TY7m5c8O8Xl2MfaSWqJD1PAkIt2DQql0GxEBPtw4diA3jh0IQFlNA+l5pc4rqXuPVpBfeor80gJW\n",
              "7ygAIMzPm5TWK6nJg4PZnFPC/uOVBPTx5OHvDDfzcEQ6RXSIL1PiQ/k8u5iV6XYWTtf/z0Wke1Ao\n",
              "lW4rqK8X142KcM7JWFXXyI7T01DllrIrv4KiqnrW7T7Out3H2+y7cPrwDn8fVcTd3TYxhs+zi3lr\n",
              "Wz4/vyYBL5u+oiIi7k+hVHoMPx9Prkzoz5UJLfON1jU62JVf7rySuv1IGbUNDi6JCeKW5CiTqxXp\n",
              "PNNGhBHm501RVT3r9xc6F7kQEXFnCqXSY/l4Wpk4JISJQ0IAaHQ0c+hkNdHBvniYvJKUSGfytHow\n",
              "NzmKP3ySwxtbjyiUiki3oHs60mt4Wj0YHuGPr5f+LSY939zkKCwW+PJQCbnFNWaXIyJyXgqlIiI9\n",
              "UGSQL1e1fpVlZZrd5GpERM5PoVREpIeaNzEGgH9sL6C+yWFyNSIi56ZQKiLSQ00d1p8Ifx9Kaxr4\n",
              "YO8Js8sRETknhVIRkR7K1trwBDgXmBARcVcKpSIiPdgtKVF4WGBrbik5RdVmlyMiclYKpSIiPdiA\n",
              "gD5cPTwMUMOTiLg3hVIRkR5u3sRoAFbvKKCuUQ1PIuKeFEpFRHq4KxPCGBTYh/LaRt7fe/z8O4iI\n",
              "mKBdofSBBx4gNjYWi8VCRkaGc3tsbCzDhg0jKSmJpKQkVq1a5RzLzs5m8uTJJCQkkJyczL59+y5o\n",
              "TEREXMPqYVHDk4i4vXaF0ptvvpkvvviCmJiYb42tWrWKjIwMMjIymDt3rnP7vffey/z588nKymLh\n",
              "woWkpqZe0JiIiLjO3OQorB4W0vPKyCqsMrscEZFvaVcoveKKK4iMjLzg5xcVFbFt2zZuv/12AGbP\n",
              "nk1+fj45OTnnHBMREdcK9/dhWmvDk66Wiog7ctl3Su+44w5Gjx7Nj370I06ePAlAfn4+AwYMwGZr\n",
              "WWvcYrEQHR2N3W4/59jZ1NfXU1lZ2ebhcOhL+yIiF+K2SS13uf6phicRcUMuCaWbNm1i9+7d7Nix\n",
              "g9DQUO68805XvOy3LF68mICAgDaPtLS0TnkvEZGeZkpcKFHBfaisa2LdbjU8iYh7cUkojY5umW7E\n",
              "09OThx56iM8//xyAqKgojh8/TlNTEwCGYWC324mOjj7n2NksWrSIioqKNo+UlBRXHIKISI/n4WHh\n",
              "luSWz9g3th4xuRoRkbYuOpTW1NRQXl7u/HnlypWMGzcOgLCwMMaPH8/y5csBWL16NZGRkcTFxZ1z\n",
              "7Gy8vb3x9/dv87BarRd7CCIivcacSyKxeVjYaS/nwPFKs8sREXFqVyi99957iYyMpKCggOuvv564\n",
              "uDgKCwuZOnUqY8aMYfTo0WzcuJHXX3/duc/SpUtZunQpCQkJ/PrXv2bZsmUXNCYiIq4X5ufDdaPC\n",
              "ATU8iYh7sRiGYZhdxMVYsGABS5YsMbsMEZFu44vsYm5/dSt+3ja2/nIavl42s0sSEdGKTiIivc3k\n",
              "oSHEhPhSVd/Ev3YdM7scERFAoVREpNfx8LBwa0pLw5Nu4YuIu1AoFRHphW6eEImn1cKuggr2Hq0w\n",
              "uxwREYVSEZHeKLSfN9ePigBgRZquloqI+RRKRUR6qXkTW27hv7PzKNX1TSZXIyK9nUKpiEgvdemQ\n",
              "EIaE9qWmwcHaDDU8iYi5FEpFRHopi+VrDU9pWuFJRMylUCoi0ovNnhCJl9WDvUcr2V1QbnY5ItKL\n",
              "KZSKiPRiwX29+M7o1oYnTQ8lIiZSKBUR6eVumxgDwNpdx6iqazS5GhHprRRKRUR6ueTYIOLC+lHb\n",
              "4GCNGp5ExCQKpSIivZzFYmFea8PTG18dwTAMkysSkd5IoVRERJg9PhJvmweZJ6rYmV9udjki0gsp\n",
              "lIqICAG+nnx3zABADU8iYg6FUhERAeC21hWe1u0+RsUpNTyJSNdSKBUREQDGRwcxLNyPusZm3t5R\n",
              "YHY5ItLLKJSKiAjQ2vA08fQKT3Y1PIlIl1IoFRERp1njBuHj6UFWYTXbj5SZXY6I9CIKpSIi4hTQ\n",
              "x5PvjRkIqOFJRLqWQqmIiLRx+hb+uj3HKa9tMLkaEektFEpFRKSNpKhARgzwp6GpmdU7jppdjoj0\n",
              "EgqlIiLSRpuGp61a4UlEuoZCqYiIfMuspIH4elk5dLKGtNxSs8sRkV5AoVRERL7Fz8eTG8e2Njyl\n",
              "qeFJRDqfQqmIiJzRbRNjAHh/zwlKa9TwJCKdS6FURETOaHRkAKMHBdDgaGb1dq3wJCKdS6FURETO\n",
              "Sis8iUhXUSgVEZGzunHsQPp528gtrmHLoRKzyxGRHqxdofSBBx4gNjYWi8VCRkaGc3t2djaTJ08m\n",
              "ISGB5ORk9u3bd9FjIiJivr7eNmYmtTQ8vaGGJxHpRO0KpTfffDNffPEFMTExbbbfe++9zJ8/n6ys\n",
              "LBYuXEhqaupFj4mIiHs4fQv/o30nKK6uN7kaEemp2hVKr7jiCiIjI9tsKyoqYtu2bdx+++0AzJ49\n",
              "m/z8fHJycjo8JiIi7mPUwADGRgXS6DB4a5sankSkc1z0d0rz8/MZMGAANpsNaFkJJDo6Grvd3uGx\n",
              "s6mvr6eysrLNw+FwXOwhiIjIedyW0nK1dGWaneZmNTyJiOt1q0anxYsXExAQ0OaRlpZmdlkiIj3e\n",
              "jLED8PO2YS+tZfOhYrPLEZEe6KJDaVRUFMePH6epqQkAwzCw2+1ER0d3eOxsFi1aREVFRZtHSkrK\n",
              "xR6CiIich6+XjZvGDwJgxVY1PImI6110KA0LC2P8+PEsX74cgNWrVxMZGUlcXFyHx87G29sbf3//\n",
              "Ng+r1XqxhyAiIhfgdMPT+v2FFFXVmVyNiPQ0FqMdsyHfe++9vPvuu5w4cYKQkBD8/PzIycnh4MGD\n",
              "pKamUlJSgr+/P8uWLWP06NEAHR67UAsWLGDJkiXt2kdERDrm+y9tZoe9nF9cP4yfTj37RQQRkfZq\n",
              "Vyh1RwqlIiJd5x/bC/ivt3YRGdSHTb+YioeHxeySRKSH6FaNTiIiYq4ZYwbg72OjoOwUm7JPml2O\n",
              "iPQgCqUiInLBfDytfH98y3zVangSEVdSKBURkXa5rbXh6ePMIgor1fAkIq6hUCoiIu0SH+5HSmww\n",
              "jmaDVen5ZpcjIj2EQqmIiLTb6emh/p5mx6EVnkTEBRRKRUSk3aYnRhDk68mxijo+O1hkdjki0gMo\n",
              "lIqISLv5eFqZrYYnEXEhm9kFiIhI93TrxGj+/EUunx4s4lj5KQYG9jG7JOkkhmGQXVTN5pxithwq\n",
              "oaSmAQALYGmdqtaCpWXDGbY7/2xpfd7Xxlv+fHrr6eeceTtf27ft87+2/az1WM5QW9vtnKnmcxzL\n",
              "BdXztWPhvM+5iHr+XdQ5n3P6zzEhffne2IG4E4VSERHpkKH9+zFpSDBfHS7l7+n5LLg2weySxIWO\n",
              "lp9ic04xX+YUs/lQCSer6s0uSVxo6rD+CqUiItJzzJsYw1eHS1mVbueBq+OwWfWtsO6qrKaBLYdL\n",
              "2JxTzOacYvJKatuM+3h6kBwbzGVxocSG9P3aiMHptSEN+Nqfv7n93w1xZ3yO0fZ5hvN/zvRaZ97O\n",
              "1/b99+sap1/G+R6nt9Nmu3GG57Tdztf27XA95zgW2mxvZz0XcCx8bfuwCD/cjUKpiIh02PWjwgnu\n",
              "60VhZT2fZBZx3agIs0uSC1Tb0ER6Xhlf5hTzRU4x+49Xtgk6Vg8LYyMDuCwulMlDQxkfE4i3zWpe\n",
              "wdLjKZSKiEiHeduszJkQydJNh1mRZlcodWONjmZ2F5SzOaeEL3KK2Wkvo9HRdjqvYeF+TI4L4bKh\n",
              "oUwcEoyfj6dJ1UpvpFAqIiIX5daUaJZuOszGrJPkl9YSFexrdklCyy3dg4VVbM5puSW/9XAJNQ2O\n",
              "Ns8ZFNiHy+JCuCwulEuHhhDm52NStSIKpSIicpFiQ/tyWVwIm3NKWJWez39dP8zsknqt/NJavjxU\n",
              "zOacEr48VExxdUOb8SBfTyYPDXVeDY0J8W3TFS5iJoVSERG5aPNSYlpC6bZ8HrwmHk81PHWJkur6\n",
              "1uaklquh9tK2zUl9PK2kDA7msrgQJg8NZeQAfzw8FELFPSmUiojIRbt2ZDih/bw4WVXPxwcKmZ44\n",
              "wOySeqSa+ibS8kpbm5NKOHC8ss24zcNCUlQgk+NCuWxoCOOig/Cy6R8I0j0olIqIyEXzsnkw55Io\n",
              "Xv7sEG9stSuUukijo5mM/HLnNE077eU0NbdtThoe4cdlcaFcFhdCyuAQ+nnrr3bpnvT/XBERcYlb\n",
              "k6N5ZeMhPs8uxl5SS3SIGp7aq7nZIPNEFV8eapmmKS23lNpvNCdFBvXh8rhQJseFMnloCKH9vE2q\n",
              "VsS1FEpFRMQlokN8mRLfn01ZJ1mZbmfh9OFml9Qt2Etq2dwaQrccKqG0pm1zUkhfLy4d2tIhf9nQ\n",
              "UIV96bEUSkVExGXmpUSzKeskb23L5+fXJOj7jGdQXF3Pl4dK2JxdzOZDxRSUnWoz7utlZeLgYOek\n",
              "9cMj/NScJL2CQqmIiLjMtBFhhPl5U1RVz0f7TzBjjHutrW2G6vom0nJL+CK7ZZqmzBNVbcY9rRbG\n",
              "RQW1TNMUF8rYyECFeemVFEpFRMRlPK0ezE2O4g+f5LBiq71XhtKGpmZ22svYfKhlmqZd+d9uTho5\n",
              "wL9lmqa4UFJig+mr5iQRhVIREXGtuclRvPhpDl8eKiG3uIbBoX3NLqlTNTcb7D9e2dqcVEJ6bimn\n",
              "Gts2J8WE+DJ5aEuH/KVDQghRc5LItyiUioiIS0UG+XJVQn8+PXiSlWl2/t8NI8wuyaUMw+BIa3PS\n",
              "5tbmpLLaxjbPCe3n5Qyhk4eGaulVkQugUCoiIi43b2IMnx48yT+2F/Cf1yXgbbOaXdJFKaqqY8uh\n",
              "Er7ILubLQyUcLW/bnNTP28bEwcEtk9bHhTAs3E/Ld4q0k0KpiIi43NRh/Ynw9+FEZR0f7D3BzKRB\n",
              "ZpfULlV1jWw9XMoXOcV8eaiYrMLqNuOeVgvjo4Ock9aPiQzU0qoiF0mhVEREXM7W2vD0wsfZrNhq\n",
              "d/tQWt/kYMeRcuek9bsLKnB8rTnJYoFRA/25bGjLpPXJsUH4eumvUBFX0m+UiIh0iltSovjDJ9ls\n",
              "zS0lp6iauLB+Zpfk5Gg22H+s0nklND2vlLrG5jbPGRzal8mtk9ZfOiSEoL5eJlUr0ju4NJTGxsbi\n",
              "7e1Nnz59AFi0aBFz584lOzubO++8k+LiYgICAnjttdcYNWoUwDnHRESk+xoQ0Ierh4ex4UARK9Ps\n",
              "PDpjpGm1GIZBbnFNyzRN2cVsOVxCxam2zUn9/by5bGhI6/dCQxkU2MekakV6J5dfKV21ahVJSUlt\n",
              "tt17773Mnz+f1NRU/vGPf5Camkp6evp5x0REpHubNzGaDQeKWL2jgF9cPwwfz65reCqqrGtZvrN1\n",
              "0vrjFXVtxv28bUwcEsJlcSFcHhdKXFg/NSeJmKjTb98XFRWxbds2PvroIwBmz57N/fffT05ODv7+\n",
              "/mcdi4uL+9Zr1dfXU19f32abw+H41vNERMQ9XJkQxqDAPhwtP8X7e49z07jITnuvilONbD3cMmH9\n",
              "5kMl5BS1bU7ysnowISbIOWn9mEEB2NScJOI2XB5K77jjDgzDICUlhV//+tfk5+czYMAAbLaWt7JY\n",
              "LERHR2O32wkICDjr2JlC6eLFi3nyySfbbJs0aZKrD0FERFzE6mHhluQo/md9Fiu22l0aSusaHew4\n",
              "UsYXrSF0T0E5X184yWKB0YMCnPOFXhITTB+v7j01lUhP5tJQumnTJqKjo2lsbOSRRx7hzjvv5Omn\n",
              "n3bZ6y9atIgFCxa02fboo4+67PVFRMT1fpAcxf9+nE16XhlZhVUkhPt16HUczQZ7j1Y4m5O25ZVR\n",
              "39S2OWlI/75c1hpCJw0JIdBXzUki3YVLQ2l0dDQAnp6ePPTQQyQkJBAVFcXx48dpamrCZrNhGAZ2\n",
              "u53o6Gj8/f3POnYm3t7eeHu3XZrNatW/ekVE3Fm4vw/XjAjjw32FrNhq54kbL6yZ1TAMDp2sabkd\n",
              "n1PMV4dLqKxr+sZrezunabosLoQBAWpOEumuXBZKa2pqaGxsJDAwEICVK1cybtw4wsLCGD9+PMuX\n",
              "Lyc1NZXVq1cTGRnpvD1/rjEREekZ5k2M4cN9hazeUcDC6cPPehv9REWdM4RuPlRMYWXbPgI/HxuX\n",
              "DglxTlo/tL+ak0R6CpeF0sLCQmbPno3D4cAwDIYMGcLrr78OwNKlS0lNTeXZZ5/F39+fZcuWOfc7\n",
              "15iIiPQMU+JCiQruQ37pKdbtPsacS6IAqKhtZIuzOamYwydr2uznZfMgOTaIyUNDuTwulMRBAVg9\n",
              "FEJFeiKLYRjG+Z/mvhYsWMCSJUvMLkNERM7j/z7N4XcfHmR4hB9XDQvjy0PF7D1a0aY5ycMCoyMD\n",
              "uax10voJMUFdOo2UiJhHKzqJiEiXmHNJJM+vzyLzRBWZJ6qc2+PC+jlD6MQhIQT08TSxShExi0Kp\n",
              "iIh0iTA/H+6bGse6XccYF90yX+hlcaGE+/uYXZqIuAGFUhER6TILrk1gwbUJZpchIm5IS1mIiIiI\n",
              "iOkUSkVERETEdAqlIiIiImI6hVIRERERMZ1CqYiIiIiYTqFUREREREynUCoiIiIiplMoFRERERHT\n",
              "KZSKiIiIiOkUSkVERETEdAqlIiIiImI6hVIRERERMZ3FMAzD7CIuxve//31iY2O75L0cDgdpaWmk\n",
              "pKRgtVq75D3FtXQOuzedv+5P57D70zns/sw4hzExMTz44IPnfE63D6VdqbKykoCAACoqKvD39ze7\n",
              "HOkAncPuTeev+9M57P50Drs/dz2Hun0vIiIiIqZTKBURERER0ymUioiIiIjpFErbwdvbm8cffxxv\n",
              "b2+zS5EO0jns3nT+uj+dw+5P57D7c9dzqEYnERERETGdrpSKiIiIiOkUSkVERETEdAqlIiIiImI6\n",
              "hVIRERERMV2vDqVz5sxhy5YtADQ3N/Ozn/2MoUOHEhcXx4svvnhBr3Gu/V588UWeffbZTqldWrji\n",
              "HL777rtMmDABb29vHnrooTZjOoedzxXn8Pe//z2JiYmMHj2aMWPGsHz5cufYunXrmD9/fqfULm3P\n",
              "37l+l85Fn6PmcsU51OeouVxxDt3ic9TopbZu3WpcffXVzp//+te/GldffbXR1NRklJSUGNHR0cbe\n",
              "vXvP+zrn2q++vt4YMmSIUV5e3mnH0Zu56hwePHjQyMjIMH75y18aDz74YJsxncPO5apzuGHDBuc5\n",
              "stvtRkhIiJGTk+McHz9+vJGVleX6A+jlvnn+zvW7dC76HDWPq86hPkfN46pz6A6fo732SunSpUuZ\n",
              "N2+e8+dVq1Zxzz33YLVaCQ4OZu7cuaxcufK8r3Ou/by8vLjuuutYsWJFpx1Hb+aqc5iQkMDYsWOx\n",
              "2WzfGtM57FyuOofTpk0jICAAgKioKCIiIsjPz3eO/+AHP+DPf/6z6w+gl/vm+TvX79K56HPUPK46\n",
              "h/ocNY+rzqE7fI722lD62WefMXHiROfPdrudmJgY58+xsbHY7fbzvs759rv00kv5+OOPXVS1fJ2r\n",
              "zuH56Bx2ns44hxs2bKCsrIzk5GTnNp3DzvHN89dR+hw1j6vO4fnoHHaezjiHZn2O9tpQWlBQQHh4\n",
              "eKe/T0REBAUFBZ3+Pr2RzmH35+pzuGfPHu666y5WrVpF3759ndt1DjuHfge7P53D7q8nfY722lDq\n",
              "6+tLXV2d8+fo6GiOHDni/DkvL4/o6Ojzvs759qurq6NPnz4uqlq+zlXn8Hx0DjuPK8/h/v37mTFj\n",
              "Bn/5y1+4/PLL24zpHHaOb56/jtLnqHlcdQ7PR+ew87jyHJr9OdprQ+mYMWM4ePCg8+c5c+bwpz/9\n",
              "CYfDQWlpKatWrWLu3LkAvP3229xxxx1nfJ1z7Qdw4MABxo4d27kH00u56hyej85h53HVOTxw4AA3\n",
              "3HADf/zjH7n22mvPOK5z6HrfPH/nos9R9+Sqc3g+Ooedx1Xn0B0+R3ttKL355pv58MMPnT//8Ic/\n",
              "ZPjw4cTHx5OcnMyCBQsYPXo0ANnZ2fj7+5/xdc61H8AHH3zAzTff3LkH00u56hx+/PHHREZGsmTJ\n",
              "El599VUiIyNZu3atc1znsPO46hw+8MADVFRUsHDhQpKSkkhKSmrzujqHneOb5+9cv0v6HHVPrjqH\n",
              "+hw1j6vOoVt8jnZqb78bq6qqMkaPHm1UV1ef97kzZ840cnNz2/0e+/btMy6//PIOVCcXQuew++uK\n",
              "c3jy5Elj9OjRRn19fQcqlHPR72D3p3PY/fWkz1GLYRhG58Ze9/Xxxx8THh5OYmJip7z+hx9+SFRU\n",
              "FCNHjuyU1xedw56gs8/h1q1bcTgcTJ48uVNev7fT72D3p3PY/fWUz9FeHUpFpGdqamriV7/6FStX\n",
              "rsRms2Gz2UhJSeGGG27giSeeICMjo0vraWxs5Nlnn2XlypVYrVa8vLyIiYnhiSeeICkpqUtraa+8\n",
              "vDySkpIoLy83uxQR6eHaN7OqiEg38KMf/YjS0lK2bNlCUFAQhmHwj3/8g9LSUpe8flNTU7smpr7r\n",
              "rruorq521gMt8wAePHiwS0Jpe+sVETGDrpSKSI+Sk5PDmDFjsNvthIaGthn77LPPuP/++7niiivY\n",
              "vHkzTU1N/PWvf+WSSy751hXB6upq/Pz8OP0RabFYeOyxx3jvvfe46qqrOHnyJN7e3uTk5JCfn09i\n",
              "YiJ///vf8fLyavOe2dnZJCUlkZ+fT3Bw8Fnrfu6553jzzTdpamoiLCyMpUuXEhMTQ3V1NQ888ABp\n",
              "aWlAS6f6448/DkBmZiZ33XUXlZWVDBs2jOrqaubNm0dqaiqpqal4eHiQk5NDUVERmZmZ3HbbbRw8\n",
              "eJCGhgaioqJ49dVXiYiIcB773XffzUcffYTD4eCFF17gmmuucY49+OCDrFu3joqKCn7/+99zww03\n",
              "8Nxzz5GVlcUf//hHAMrLy4mLiyMrK+ucxyoicia9tvteRHqmHTt2EB8f/61AelpmZiZ33nknu3bt\n",
              "4mc/+xm//OUvL/i1rVYr6enp/O53vwMgIyODf/3rXxw4cIDCwkJWr179rX127txJXFzcOUPaihUr\n",
              "OHjwIFu2bGHHjh3cdttt3HfffQA8/fTT1NfXs3v3brZu3cqaNWtYtWoV0NK1Pn/+fPbt28evfvUr\n",
              "Nm3a1OZ1t2/fzrvvvktmZiYA//u//8u2bdvYvXs3U6ZM4YknnnA+t6KighEjRrB7925effVV5s2b\n",
              "R1VVlXNszJgxbN++nRdffJGf//znANx9992sWbPGGeSXLVvGzJkzFUhFpEMUSkWkV4mLi3MuyXfp\n",
              "pZdy6NChC973P/7jP9r8fNNNN+Hr64vVaiUlJeWCXuvQoUMkJSUxbNgw7rrrLgDWrFnDhg0bmDBh\n",
              "AklJSfz2t791LrO5YcMG7rnnHjw8POjbty933HEH69evp7KykoyMDOecgyNGjPjWZNdz5szBz8/P\n",
              "+fOKFSu45JJLSExM5M9//nOb79babDZSU1MBmDRpEgMHDmTnzp0A+Pj48P3vf/9b/80CAwO5+eab\n",
              "+ctf/oJhGLz88svcf//9F/qfU0SkDX3JSER6lPHjx5OdnU1JSQkhISHfGvfx8XH+2Wq10tTUBLSE\n",
              "MofD4Rw70wop/fr1u6DX+rpx48aRk5NDWVkZQUFBDB06lIyMDF577TXWrFkDgGEYLFq0iPnz55/3\n",
              "+CwWywWPfb3eL774gt///vds2bKFsLAw1q5dy2OPPXZB7+Xt7e38s9VqbfPf6YEHHuDGG29kxIgR\n",
              "9O/fn3Hjxp33GEREzkRXSkWkR4mLi2P27Nn86Ec/ct5WNgyD1atXc/jw4bPuFxERgWEY7N+/H4DX\n",
              "X3+9wzWkpaUxbdo0AOLj45k5c2abegBqamqcf541axavvPKKsxGrsbHReZXymmuu4dVXX8UwDGpq\n",
              "avjb3/7Gddddh7+/P2PHjmX58uUAHDx4kC+++OKsNZWVleHn50dISAgNDQ0sXbq0zXhTUxN/+9vf\n",
              "nPUfO3bsgpqwhg8fzpAhQ5g/f76ukorIRVEoFZEe5y9/+Qtjx45l4sSJjBo1ipEjR/LRRx+d87uO\n",
              "NpuNP/zhD8yYMYPk5GQaGxs7/P55eXlt1oh+7bXXGD16tLOeyy+/nA0bNrBw4UIAbrvtNlJTU5k6\n",
              "dSpjx44lKSmJTz75BIBHH30UT09P5/433ngjP/jBD4CW4Pzyyy+TmJjIwoULSU5OJjAw8Iw1TZ8+\n",
              "nWHDhjFs2DCmTJnyrcAZEBDA3r17GTt2LHfddRcrVqxoc+v/XO655x6ampq0Yo+IXBR134uIuNhP\n",
              "f/pTbr311m99x9PVqqur6du3LxaLhdzcXC699FLS09OJiopq1+tc7Fyk999/P+Hh4Tz66KMd2l9E\n",
              "BPSdUhERl/u///u/LnmfL7/8kl/84hcAOBwOnn/++XYH0otx7Ngxrr76aoKDg9uskS0i0hG6Uioi\n",
              "IiIiptN3SkVERETEdAqlIiIiImI6hVIRERERMZ1CqYiIiIiYTqFUREREREynUCoiIiIiplMoFRER\n",
              "ERHTKZSKiIiIiOkUSkVERETEdP8fq/w7VFLe6QEAAAAASUVORK5CYII=\n",
              "\">\n",
              "      </div>\n",
              "      <script type=\"text/javascript\">\n",
              "        (() => {\n",
              "          const chartElement = document.getElementById(\"chart-cdefc26a-fde7-4b4f-b16d-c899a2bdc44d\");\n",
              "          async function getCodeForChartHandler(event) {\n",
              "            const chartCodeResponse =  await google.colab.kernel.invokeFunction(\n",
              "                'getCodeForChart', [\"chart-cdefc26a-fde7-4b4f-b16d-c899a2bdc44d\"], {});\n",
              "            const responseJson = chartCodeResponse.data['application/json'];\n",
              "            await google.colab.notebook.addCell(responseJson.code, 'code');\n",
              "          }\n",
              "          chartElement.onclick = getCodeForChartHandler;\n",
              "        })();\n",
              "      </script>\n",
              "      <style>\n",
              "        .colab-quickchart-chart-with-code  {\n",
              "            display: block;\n",
              "            float: left;\n",
              "            border: 1px solid transparent;\n",
              "        }\n",
              "\n",
              "        .colab-quickchart-chart-with-code:hover {\n",
              "            cursor: pointer;\n",
              "            border: 1px solid #aaa;\n",
              "        }\n",
              "      </style>"
            ]
          },
          "metadata": {}
        }
      ]
    },
    {
      "cell_type": "markdown",
      "source": [
        "define label and features"
      ],
      "metadata": {
        "id": "4mY1lW9uPL9r"
      }
    },
    {
      "cell_type": "code",
      "source": [
        "df.columns"
      ],
      "metadata": {
        "colab": {
          "base_uri": "https://localhost:8080/"
        },
        "id": "F3FyVScjPQXv",
        "outputId": "dfc1a203-4eda-4e49-8312-77d9f31b4805"
      },
      "execution_count": 31,
      "outputs": [
        {
          "output_type": "execute_result",
          "data": {
            "text/plain": [
              "Index(['Surname', 'CreditScore', 'Geography', 'Gender', 'Age', 'Tenure',\n",
              "       'Balance', 'Num Of Products', 'Has Credit Card', 'Is Active Member',\n",
              "       'Estimated Salary', 'Churn', 'Zero Balance'],\n",
              "      dtype='object')"
            ]
          },
          "metadata": {},
          "execution_count": 31
        }
      ]
    },
    {
      "cell_type": "code",
      "source": [
        "x=df.drop(['Surname','Churn'],axis=1)"
      ],
      "metadata": {
        "id": "22QP9quMPSge"
      },
      "execution_count": 32,
      "outputs": []
    },
    {
      "cell_type": "code",
      "source": [
        "y=df['Churn']"
      ],
      "metadata": {
        "id": "zFHjj6bnPWa6"
      },
      "execution_count": 33,
      "outputs": []
    },
    {
      "cell_type": "code",
      "source": [
        "x.shape,y.shape"
      ],
      "metadata": {
        "colab": {
          "base_uri": "https://localhost:8080/"
        },
        "id": "AF_1UosiPY1A",
        "outputId": "d0aa5320-c38e-4493-da25-c46ca942f88e"
      },
      "execution_count": 34,
      "outputs": [
        {
          "output_type": "execute_result",
          "data": {
            "text/plain": [
              "((10000, 11), (10000,))"
            ]
          },
          "metadata": {},
          "execution_count": 34
        }
      ]
    },
    {
      "cell_type": "markdown",
      "source": [
        "handling imbalance data\n",
        "\n",
        "In the context of machine learning, imbalanced data refers to a situation where the distribution of classes in a dataset is not equal. For example, in a binary classification problem (like the churn prediction you are working on), one class might have significantly more samples than the other.\n",
        "\n",
        "This can cause problems for machine learning algorithms, as they may be biased towards the majority class and perform poorly on the minority class, which is often the class of interest.\n",
        "\n",
        "\n",
        "To handle imbalanced data, you can use either undersampling or oversampling.\n",
        "\n",
        "Undersampling: This involves randomly removing samples from the majority class to balance the dataset. This can be done using:\n",
        "from imblearn.under_sampling import RandomUnderSampler\n",
        "\n",
        "rus = RandomUnderSampler(random_state=2529)\n",
        "x_rus, y_rus = rus.fit_resample(x, y)\n",
        "\n",
        "Oversampling: This involves randomly duplicating samples from the minority class to balance the dataset. This can be done using:\n",
        "from imblearn.over_sampling import RandomOverSampler\n",
        "\n",
        "ros = RandomOverSampler(random_state=2529)\n",
        "x_ros, y_ros = ros.fit_resample(x, y)\n",
        "\n",
        "Remember to install imblearn library (version 0.9.1) first.\n",
        "\n",
        "\n",
        "!pip install imblearn==0.9.1\n",
        "After applying either of these methods, the resulting datasets x_rus, y_rus or x_ros, y_ros will have a more balanced class distribution, which can improve the performance of machine learning models.\n"
      ],
      "metadata": {
        "id": "PvBf-rhPQvBl"
      }
    },
    {
      "cell_type": "code",
      "source": [
        "df['Churn'].value_counts()"
      ],
      "metadata": {
        "colab": {
          "base_uri": "https://localhost:8080/"
        },
        "id": "fs1vmJwpRbXP",
        "outputId": "29227230-a43b-44c5-a6e5-f9b2bfeccce6"
      },
      "execution_count": 35,
      "outputs": [
        {
          "output_type": "execute_result",
          "data": {
            "text/plain": [
              "Churn\n",
              "0    7963\n",
              "1    2037\n",
              "Name: count, dtype: int64"
            ]
          },
          "metadata": {},
          "execution_count": 35
        }
      ]
    },
    {
      "cell_type": "code",
      "source": [
        "sns.countplot(x='Churn',data=df)"
      ],
      "metadata": {
        "colab": {
          "base_uri": "https://localhost:8080/",
          "height": 467
        },
        "id": "tpyZ0eChRiXP",
        "outputId": "19579b6b-b091-4405-a236-d31b57001aba"
      },
      "execution_count": 36,
      "outputs": [
        {
          "output_type": "execute_result",
          "data": {
            "text/plain": [
              "<Axes: xlabel='Churn', ylabel='count'>"
            ]
          },
          "metadata": {},
          "execution_count": 36
        },
        {
          "output_type": "display_data",
          "data": {
            "text/plain": [
              "<Figure size 640x480 with 1 Axes>"
            ],
            "image/png": "[encoded data removed]"
          },
          "metadata": {}
        }
      ]
    },
    {
      "cell_type": "code",
      "source": [
        "x.shape,y.shape"
      ],
      "metadata": {
        "colab": {
          "base_uri": "https://localhost:8080/"
        },
        "id": "tJx1qcdTRqa7",
        "outputId": "b1c7321a-bb86-44a1-cc5d-fea67970be6b"
      },
      "execution_count": 37,
      "outputs": [
        {
          "output_type": "execute_result",
          "data": {
            "text/plain": [
              "((10000, 11), (10000,))"
            ]
          },
          "metadata": {},
          "execution_count": 37
        }
      ]
    },
    {
      "cell_type": "markdown",
      "source": [
        "random under sampling"
      ],
      "metadata": {
        "id": "l0q1woqzRvRu"
      }
    },
    {
      "cell_type": "code",
      "source": [
        "from imblearn.under_sampling import RandomUnderSampler"
      ],
      "metadata": {
        "id": "2aYSmuSbRzLf"
      },
      "execution_count": 38,
      "outputs": []
    },
    {
      "cell_type": "code",
      "source": [
        "rus= RandomUnderSampler(random_state=2529)"
      ],
      "metadata": {
        "id": "DfYjvZqkR3or"
      },
      "execution_count": 39,
      "outputs": []
    },
    {
      "cell_type": "code",
      "source": [
        "x_rus,y_rus = rus.fit_resample(x,y)"
      ],
      "metadata": {
        "id": "kyxmfKScR6qi"
      },
      "execution_count": 40,
      "outputs": []
    },
    {
      "cell_type": "code",
      "source": [
        "y.value_counts()"
      ],
      "metadata": {
        "colab": {
          "base_uri": "https://localhost:8080/"
        },
        "id": "IfimyfwzR_BF",
        "outputId": "9ba50e34-5eb7-4799-f6e0-0705c2ee2551"
      },
      "execution_count": 41,
      "outputs": [
        {
          "output_type": "execute_result",
          "data": {
            "text/plain": [
              "Churn\n",
              "0    7963\n",
              "1    2037\n",
              "Name: count, dtype: int64"
            ]
          },
          "metadata": {},
          "execution_count": 41
        }
      ]
    },
    {
      "cell_type": "code",
      "source": [
        "y_rus.value_counts()"
      ],
      "metadata": {
        "colab": {
          "base_uri": "https://localhost:8080/"
        },
        "id": "v0alcCLfSBu7",
        "outputId": "2b1952c4-b1f0-4e7d-db63-e86f3d8531c7"
      },
      "execution_count": 42,
      "outputs": [
        {
          "output_type": "execute_result",
          "data": {
            "text/plain": [
              "Churn\n",
              "0    2037\n",
              "1    2037\n",
              "Name: count, dtype: int64"
            ]
          },
          "metadata": {},
          "execution_count": 42
        }
      ]
    },
    {
      "cell_type": "code",
      "source": [
        "y_rus.plot(kind='hist')"
      ],
      "metadata": {
        "colab": {
          "base_uri": "https://localhost:8080/",
          "height": 448
        },
        "id": "fcjtv1RJSImR",
        "outputId": "57e58dc5-b2b3-4a68-eaf4-a254a3aad710"
      },
      "execution_count": 43,
      "outputs": [
        {
          "output_type": "execute_result",
          "data": {
            "text/plain": [
              "<Axes: ylabel='Frequency'>"
            ]
          },
          "metadata": {},
          "execution_count": 43
        },
        {
          "output_type": "display_data",
          "data": {
            "text/plain": [
              "<Figure size 640x480 with 1 Axes>"
            ],
            "image/png": "[encoded data removed]"
          },
          "metadata": {}
        }
      ]
    },
    {
      "cell_type": "markdown",
      "source": [
        "random over sampling"
      ],
      "metadata": {
        "id": "ctZk8BaqSRhY"
      }
    },
    {
      "cell_type": "code",
      "source": [
        "from imblearn.over_sampling import RandomOverSampler"
      ],
      "metadata": {
        "id": "kA3hzClqSTlI"
      },
      "execution_count": 45,
      "outputs": []
    },
    {
      "cell_type": "code",
      "source": [
        "ros= RandomOverSampler(random_state=2529)"
      ],
      "metadata": {
        "id": "j8jTtegdSXvv"
      },
      "execution_count": 46,
      "outputs": []
    },
    {
      "cell_type": "code",
      "source": [
        "x_ros,y_ros = ros.fit_resample(x,y)"
      ],
      "metadata": {
        "id": "ZUHexBE2Sbkn"
      },
      "execution_count": 47,
      "outputs": []
    },
    {
      "cell_type": "code",
      "source": [
        "x_ros.shape,y_ros.shape, x.shape,y.shape"
      ],
      "metadata": {
        "colab": {
          "base_uri": "https://localhost:8080/"
        },
        "id": "X-8AFciKSfZm",
        "outputId": "bcbac147-c688-497c-d093-173505245cff"
      },
      "execution_count": 48,
      "outputs": [
        {
          "output_type": "execute_result",
          "data": {
            "text/plain": [
              "((15926, 11), (15926,), (10000, 11), (10000,))"
            ]
          },
          "metadata": {},
          "execution_count": 48
        }
      ]
    },
    {
      "cell_type": "code",
      "source": [
        "y.value_counts()"
      ],
      "metadata": {
        "colab": {
          "base_uri": "https://localhost:8080/"
        },
        "id": "qukaQofYSogC",
        "outputId": "8050c652-849a-4ad5-bb3c-eb6038f12eb8"
      },
      "execution_count": 49,
      "outputs": [
        {
          "output_type": "execute_result",
          "data": {
            "text/plain": [
              "Churn\n",
              "0    7963\n",
              "1    2037\n",
              "Name: count, dtype: int64"
            ]
          },
          "metadata": {},
          "execution_count": 49
        }
      ]
    },
    {
      "cell_type": "code",
      "source": [
        "y_ros.value_counts()"
      ],
      "metadata": {
        "colab": {
          "base_uri": "https://localhost:8080/"
        },
        "id": "HzUFiBkuSzD2",
        "outputId": "3c0863d7-b779-4285-94b0-f436c56e8064"
      },
      "execution_count": 50,
      "outputs": [
        {
          "output_type": "execute_result",
          "data": {
            "text/plain": [
              "Churn\n",
              "1    7963\n",
              "0    7963\n",
              "Name: count, dtype: int64"
            ]
          },
          "metadata": {},
          "execution_count": 50
        }
      ]
    },
    {
      "cell_type": "code",
      "source": [
        "y_ros.plot(kind='hist')"
      ],
      "metadata": {
        "colab": {
          "base_uri": "https://localhost:8080/",
          "height": 448
        },
        "id": "pNjgS16hS7HG",
        "outputId": "fbcf3141-1270-4733-ae2e-ee4a265c9367"
      },
      "execution_count": 51,
      "outputs": [
        {
          "output_type": "execute_result",
          "data": {
            "text/plain": [
              "<Axes: ylabel='Frequency'>"
            ]
          },
          "metadata": {},
          "execution_count": 51
        },
        {
          "output_type": "display_data",
          "data": {
            "text/plain": [
              "<Figure size 640x480 with 1 Axes>"
            ],
            "image/png": "[encoded data removed]"
          },
          "metadata": {}
        }
      ]
    },
    {
      "cell_type": "markdown",
      "source": [
        "train test split"
      ],
      "metadata": {
        "id": "W_f28xaKTMTz"
      }
    },
    {
      "cell_type": "code",
      "source": [
        "from sklearn.model_selection import train_test_split"
      ],
      "metadata": {
        "id": "uKF00HmZTPOe"
      },
      "execution_count": 52,
      "outputs": []
    },
    {
      "cell_type": "markdown",
      "source": [
        "split original data"
      ],
      "metadata": {
        "id": "hBrPSVy9TUhU"
      }
    },
    {
      "cell_type": "code",
      "source": [
        "x_train,x_test,y_train,y_test = train_test_split(x,y,test_size=0.3,random_state=2529)"
      ],
      "metadata": {
        "id": "jInmc90sTWoc"
      },
      "execution_count": 53,
      "outputs": []
    },
    {
      "cell_type": "markdown",
      "source": [
        "split random under sampling"
      ],
      "metadata": {
        "id": "IQv8Et-DTZaj"
      }
    },
    {
      "cell_type": "code",
      "source": [
        "x_train_rus,x_test_rus,y_train_rus,y_test_rus = train_test_split(x_rus,y_rus,test_size=0.3,random_state=2529)"
      ],
      "metadata": {
        "id": "uPnk7RHWTccD"
      },
      "execution_count": 54,
      "outputs": []
    },
    {
      "cell_type": "markdown",
      "source": [
        "split random over sample data"
      ],
      "metadata": {
        "id": "_Vq1DmAvTf6y"
      }
    },
    {
      "cell_type": "code",
      "source": [
        "x_train_ros,x_test_ros,y_train_ros,y_test_ros = train_test_split(x_ros,y_ros,test_size=0.3,random_state=2529)"
      ],
      "metadata": {
        "id": "MI037XAcTkoy"
      },
      "execution_count": 55,
      "outputs": []
    },
    {
      "cell_type": "markdown",
      "source": [
        "standardize features"
      ],
      "metadata": {
        "id": "0vLJ58UFTyoU"
      }
    },
    {
      "cell_type": "code",
      "source": [
        "from sklearn.preprocessing import StandardScaler"
      ],
      "metadata": {
        "id": "cuqze6xzT2lS"
      },
      "execution_count": 56,
      "outputs": []
    },
    {
      "cell_type": "code",
      "source": [
        "sc = StandardScaler()"
      ],
      "metadata": {
        "id": "32jPPYo_T6d6"
      },
      "execution_count": 57,
      "outputs": []
    },
    {
      "cell_type": "markdown",
      "source": [
        "standardize original data"
      ],
      "metadata": {
        "id": "bV4MG-EqT8zp"
      }
    },
    {
      "cell_type": "code",
      "source": [
        "x_train[['CreditScore','Age','Tenure','Balance','Estimated Salary']] = sc.fit_transform(x_train[['CreditScore','Age','Tenure','Balance','Estimated Salary']])"
      ],
      "metadata": {
        "id": "J4UXj5X4T_2E"
      },
      "execution_count": 59,
      "outputs": []
    },
    {
      "cell_type": "code",
      "source": [
        "x_test[['CreditScore','Age','Tenure','Balance','Estimated Salary']] = sc.fit_transform(x_test[['CreditScore','Age','Tenure','Balance','Estimated Salary']])"
      ],
      "metadata": {
        "id": "FhLwhlI8UfgZ"
      },
      "execution_count": 60,
      "outputs": []
    },
    {
      "cell_type": "markdown",
      "source": [
        "standardize random under samle data"
      ],
      "metadata": {
        "id": "_cnbRW1DUjGY"
      }
    },
    {
      "cell_type": "code",
      "source": [
        "x_train_rus[['CreditScore','Age','Tenure','Balance','Estimated Salary']] = sc.fit_transform(x_train_rus[['CreditScore','Age','Tenure','Balance','Estimated Salary']])"
      ],
      "metadata": {
        "id": "UusHd1d_UnQ5"
      },
      "execution_count": 62,
      "outputs": []
    },
    {
      "cell_type": "code",
      "source": [
        "x_test_rus[['CreditScore','Age','Tenure','Balance','Estimated Salary']] = sc.fit_transform(x_test_rus[['CreditScore','Age','Tenure','Balance','Estimated Salary']])"
      ],
      "metadata": {
        "id": "P0RvPqVFU8x8"
      },
      "execution_count": 63,
      "outputs": []
    },
    {
      "cell_type": "markdown",
      "source": [
        "support vector machine classifier"
      ],
      "metadata": {
        "id": "Q2SoKc5wVADu"
      }
    },
    {
      "cell_type": "code",
      "source": [
        "from sklearn.svm import SVC"
      ],
      "metadata": {
        "id": "1W9Ax3dJVFgZ"
      },
      "execution_count": 64,
      "outputs": []
    },
    {
      "cell_type": "code",
      "source": [
        "svc = SVC()"
      ],
      "metadata": {
        "id": "sAIa8IGlVHNG"
      },
      "execution_count": 65,
      "outputs": []
    },
    {
      "cell_type": "code",
      "source": [
        "svc.fit (x_train,y_train)"
      ],
      "metadata": {
        "colab": {
          "base_uri": "https://localhost:8080/",
          "height": 74
        },
        "id": "mcpCXm6GVK87",
        "outputId": "f86f3595-3f76-467b-9107-632021ca46e5"
      },
      "execution_count": 66,
      "outputs": [
        {
          "output_type": "execute_result",
          "data": {
            "text/plain": [
              "SVC()"
            ],
            "text/html": [
              "<style>#sk-container-id-1 {color: black;background-color: white;}#sk-container-id-1 pre{padding: 0;}#sk-container-id-1 div.sk-toggleable {background-color: white;}#sk-container-id-1 label.sk-toggleable__label {cursor: pointer;display: block;width: 100%;margin-bottom: 0;padding: 0.3em;box-sizing: border-box;text-align: center;}#sk-container-id-1 label.sk-toggleable__label-arrow:before {content: \"▸\";float: left;margin-right: 0.25em;color: #696969;}#sk-container-id-1 label.sk-toggleable__label-arrow:hover:before {color: black;}#sk-container-id-1 div.sk-estimator:hover label.sk-toggleable__label-arrow:before {color: black;}#sk-container-id-1 div.sk-toggleable__content {max-height: 0;max-width: 0;overflow: hidden;text-align: left;background-color: #f0f8ff;}#sk-container-id-1 div.sk-toggleable__content pre {margin: 0.2em;color: black;border-radius: 0.25em;background-color: #f0f8ff;}#sk-container-id-1 input.sk-toggleable__control:checked~div.sk-toggleable__content {max-height: 200px;max-width: 100%;overflow: auto;}#sk-container-id-1 input.sk-toggleable__control:checked~label.sk-toggleable__label-arrow:before {content: \"▾\";}#sk-container-id-1 div.sk-estimator input.sk-toggleable__control:checked~label.sk-toggleable__label {background-color: #d4ebff;}#sk-container-id-1 div.sk-label input.sk-toggleable__control:checked~label.sk-toggleable__label {background-color: #d4ebff;}#sk-container-id-1 input.sk-hidden--visually {border: 0;clip: rect(1px 1px 1px 1px);clip: rect(1px, 1px, 1px, 1px);height: 1px;margin: -1px;overflow: hidden;padding: 0;position: absolute;width: 1px;}#sk-container-id-1 div.sk-estimator {font-family: monospace;background-color: #f0f8ff;border: 1px dotted black;border-radius: 0.25em;box-sizing: border-box;margin-bottom: 0.5em;}#sk-container-id-1 div.sk-estimator:hover {background-color: #d4ebff;}#sk-container-id-1 div.sk-parallel-item::after {content: \"\";width: 100%;border-bottom: 1px solid gray;flex-grow: 1;}#sk-container-id-1 div.sk-label:hover label.sk-toggleable__label {background-color: #d4ebff;}#sk-container-id-1 div.sk-serial::before {content: \"\";position: absolute;border-left: 1px solid gray;box-sizing: border-box;top: 0;bottom: 0;left: 50%;z-index: 0;}#sk-container-id-1 div.sk-serial {display: flex;flex-direction: column;align-items: center;background-color: white;padding-right: 0.2em;padding-left: 0.2em;position: relative;}#sk-container-id-1 div.sk-item {position: relative;z-index: 1;}#sk-container-id-1 div.sk-parallel {display: flex;align-items: stretch;justify-content: center;background-color: white;position: relative;}#sk-container-id-1 div.sk-item::before, #sk-container-id-1 div.sk-parallel-item::before {content: \"\";position: absolute;border-left: 1px solid gray;box-sizing: border-box;top: 0;bottom: 0;left: 50%;z-index: -1;}#sk-container-id-1 div.sk-parallel-item {display: flex;flex-direction: column;z-index: 1;position: relative;background-color: white;}#sk-container-id-1 div.sk-parallel-item:first-child::after {align-self: flex-end;width: 50%;}#sk-container-id-1 div.sk-parallel-item:last-child::after {align-self: flex-start;width: 50%;}#sk-container-id-1 div.sk-parallel-item:only-child::after {width: 0;}#sk-container-id-1 div.sk-dashed-wrapped {border: 1px dashed gray;margin: 0 0.4em 0.5em 0.4em;box-sizing: border-box;padding-bottom: 0.4em;background-color: white;}#sk-container-id-1 div.sk-label label {font-family: monospace;font-weight: bold;display: inline-block;line-height: 1.2em;}#sk-container-id-1 div.sk-label-container {text-align: center;}#sk-container-id-1 div.sk-container {/* jupyter's `normalize.less` sets `[hidden] { display: none; }` but bootstrap.min.css set `[hidden] { display: none !important; }` so we also need the `!important` here to be able to override the default hidden behavior on the sphinx rendered scikit-learn.org. See: https://github.com/scikit-learn/scikit-learn/issues/21755 */display: inline-block !important;position: relative;}#sk-container-id-1 div.sk-text-repr-fallback {display: none;}</style><div id=\"sk-container-id-1\" class=\"sk-top-container\"><div class=\"sk-text-repr-fallback\"><pre>SVC()</pre><b>In a Jupyter environment, please rerun this cell to show the HTML representation or trust the notebook. <br />On GitHub, the HTML representation is unable to render, please try loading this page with nbviewer.org.</b></div><div class=\"sk-container\" hidden><div class=\"sk-item\"><div class=\"sk-estimator sk-toggleable\"><input class=\"sk-toggleable__control sk-hidden--visually\" id=\"sk-estimator-id-1\" type=\"checkbox\" checked><label for=\"sk-estimator-id-1\" class=\"sk-toggleable__label sk-toggleable__label-arrow\">SVC</label><div class=\"sk-toggleable__content\"><pre>SVC()</pre></div></div></div></div></div>"
            ]
          },
          "metadata": {},
          "execution_count": 66
        }
      ]
    },
    {
      "cell_type": "code",
      "source": [
        "y_pred = svc.predict(x_test)"
      ],
      "metadata": {
        "id": "8wHNWE5EVPV6"
      },
      "execution_count": 68,
      "outputs": []
    },
    {
      "cell_type": "markdown",
      "source": [
        "model accuracy"
      ],
      "metadata": {
        "id": "GnmybZP9Vx7p"
      }
    },
    {
      "cell_type": "code",
      "source": [
        "from sklearn.metrics import accuracy_score,confusion_matrix,classification_report"
      ],
      "metadata": {
        "id": "5LqdVjAcVbrS"
      },
      "execution_count": 69,
      "outputs": []
    },
    {
      "cell_type": "code",
      "source": [
        "confusion_matrix(y_test,y_pred)"
      ],
      "metadata": {
        "colab": {
          "base_uri": "https://localhost:8080/"
        },
        "id": "4TZOo5_FVfkN",
        "outputId": "a695e050-32f1-4718-bcdf-e763ea80b337"
      },
      "execution_count": 70,
      "outputs": [
        {
          "output_type": "execute_result",
          "data": {
            "text/plain": [
              "array([[2381,   33],\n",
              "       [ 436,  150]])"
            ]
          },
          "metadata": {},
          "execution_count": 70
        }
      ]
    },
    {
      "cell_type": "code",
      "source": [
        "print(classification_report(y_test,y_pred))"
      ],
      "metadata": {
        "colab": {
          "base_uri": "https://localhost:8080/"
        },
        "id": "B3Ex5j0kVjiN",
        "outputId": "e2525964-1542-4b1f-f573-878a40a4a3c6"
      },
      "execution_count": 71,
      "outputs": [
        {
          "output_type": "stream",
          "name": "stdout",
          "text": [
            "              precision    recall  f1-score   support\n",
            "\n",
            "           0       0.85      0.99      0.91      2414\n",
            "           1       0.82      0.26      0.39       586\n",
            "\n",
            "    accuracy                           0.84      3000\n",
            "   macro avg       0.83      0.62      0.65      3000\n",
            "weighted avg       0.84      0.84      0.81      3000\n",
            "\n"
          ]
        }
      ]
    },
    {
      "cell_type": "markdown",
      "source": [
        "hyperparameter tunning"
      ],
      "metadata": {
        "id": "SL0YJ-4uV_Ju"
      }
    },
    {
      "cell_type": "code",
      "source": [
        "from sklearn.model_selection import GridSearchCV"
      ],
      "metadata": {
        "id": "BN8Atmn8WB1w"
      },
      "execution_count": 72,
      "outputs": []
    },
    {
      "cell_type": "code",
      "source": [
        "param_grid = {'C':[0.1,1,10],\n",
        "              'gamma':[1,0.1,0.01],\n",
        "              'kernel':['rbf'],\n",
        "              'class_weight':['balanced']}"
      ],
      "metadata": {
        "id": "AH1iU6QrWDwd"
      },
      "execution_count": 73,
      "outputs": []
    },
    {
      "cell_type": "code",
      "source": [
        "grid= GridSearchCV(SVC(),param_grid,refit=True,verbose=2,cv=2)\n",
        "grid.fit(x_train,y_train)"
      ],
      "metadata": {
        "colab": {
          "base_uri": "https://localhost:8080/",
          "height": 459
        },
        "id": "63lrD07_WUdH",
        "outputId": "125088c2-38dd-401e-f366-827da42a5e66"
      },
      "execution_count": 76,
      "outputs": [
        {
          "output_type": "stream",
          "name": "stdout",
          "text": [
            "Fitting 2 folds for each of 9 candidates, totalling 18 fits\n",
            "[CV] END ..C=0.1, class_weight=balanced, gamma=1, kernel=rbf; total time=   3.9s\n",
            "[CV] END ..C=0.1, class_weight=balanced, gamma=1, kernel=rbf; total time=   3.4s\n",
            "[CV] END C=0.1, class_weight=balanced, gamma=0.1, kernel=rbf; total time=   2.2s\n",
            "[CV] END C=0.1, class_weight=balanced, gamma=0.1, kernel=rbf; total time=   2.0s\n",
            "[CV] END C=0.1, class_weight=balanced, gamma=0.01, kernel=rbf; total time=   1.4s\n",
            "[CV] END C=0.1, class_weight=balanced, gamma=0.01, kernel=rbf; total time=   1.2s\n",
            "[CV] END ....C=1, class_weight=balanced, gamma=1, kernel=rbf; total time=   1.3s\n",
            "[CV] END ....C=1, class_weight=balanced, gamma=1, kernel=rbf; total time=   2.0s\n",
            "[CV] END ..C=1, class_weight=balanced, gamma=0.1, kernel=rbf; total time=   1.7s\n",
            "[CV] END ..C=1, class_weight=balanced, gamma=0.1, kernel=rbf; total time=   1.1s\n",
            "[CV] END .C=1, class_weight=balanced, gamma=0.01, kernel=rbf; total time=   1.0s\n",
            "[CV] END .C=1, class_weight=balanced, gamma=0.01, kernel=rbf; total time=   1.1s\n",
            "[CV] END ...C=10, class_weight=balanced, gamma=1, kernel=rbf; total time=   1.2s\n",
            "[CV] END ...C=10, class_weight=balanced, gamma=1, kernel=rbf; total time=   1.3s\n",
            "[CV] END .C=10, class_weight=balanced, gamma=0.1, kernel=rbf; total time=   1.0s\n",
            "[CV] END .C=10, class_weight=balanced, gamma=0.1, kernel=rbf; total time=   1.0s\n",
            "[CV] END C=10, class_weight=balanced, gamma=0.01, kernel=rbf; total time=   1.0s\n",
            "[CV] END C=10, class_weight=balanced, gamma=0.01, kernel=rbf; total time=   1.0s\n"
          ]
        },
        {
          "output_type": "execute_result",
          "data": {
            "text/plain": [
              "GridSearchCV(cv=2, estimator=SVC(),\n",
              "             param_grid={'C': [0.1, 1, 10], 'class_weight': ['balanced'],\n",
              "                         'gamma': [1, 0.1, 0.01], 'kernel': ['rbf']},\n",
              "             verbose=2)"
            ],
            "text/html": [
              "<style>#sk-container-id-2 {color: black;background-color: white;}#sk-container-id-2 pre{padding: 0;}#sk-container-id-2 div.sk-toggleable {background-color: white;}#sk-container-id-2 label.sk-toggleable__label {cursor: pointer;display: block;width: 100%;margin-bottom: 0;padding: 0.3em;box-sizing: border-box;text-align: center;}#sk-container-id-2 label.sk-toggleable__label-arrow:before {content: \"▸\";float: left;margin-right: 0.25em;color: #696969;}#sk-container-id-2 label.sk-toggleable__label-arrow:hover:before {color: black;}#sk-container-id-2 div.sk-estimator:hover label.sk-toggleable__label-arrow:before {color: black;}#sk-container-id-2 div.sk-toggleable__content {max-height: 0;max-width: 0;overflow: hidden;text-align: left;background-color: #f0f8ff;}#sk-container-id-2 div.sk-toggleable__content pre {margin: 0.2em;color: black;border-radius: 0.25em;background-color: #f0f8ff;}#sk-container-id-2 input.sk-toggleable__control:checked~div.sk-toggleable__content {max-height: 200px;max-width: 100%;overflow: auto;}#sk-container-id-2 input.sk-toggleable__control:checked~label.sk-toggleable__label-arrow:before {content: \"▾\";}#sk-container-id-2 div.sk-estimator input.sk-toggleable__control:checked~label.sk-toggleable__label {background-color: #d4ebff;}#sk-container-id-2 div.sk-label input.sk-toggleable__control:checked~label.sk-toggleable__label {background-color: #d4ebff;}#sk-container-id-2 input.sk-hidden--visually {border: 0;clip: rect(1px 1px 1px 1px);clip: rect(1px, 1px, 1px, 1px);height: 1px;margin: -1px;overflow: hidden;padding: 0;position: absolute;width: 1px;}#sk-container-id-2 div.sk-estimator {font-family: monospace;background-color: #f0f8ff;border: 1px dotted black;border-radius: 0.25em;box-sizing: border-box;margin-bottom: 0.5em;}#sk-container-id-2 div.sk-estimator:hover {background-color: #d4ebff;}#sk-container-id-2 div.sk-parallel-item::after {content: \"\";width: 100%;border-bottom: 1px solid gray;flex-grow: 1;}#sk-container-id-2 div.sk-label:hover label.sk-toggleable__label {background-color: #d4ebff;}#sk-container-id-2 div.sk-serial::before {content: \"\";position: absolute;border-left: 1px solid gray;box-sizing: border-box;top: 0;bottom: 0;left: 50%;z-index: 0;}#sk-container-id-2 div.sk-serial {display: flex;flex-direction: column;align-items: center;background-color: white;padding-right: 0.2em;padding-left: 0.2em;position: relative;}#sk-container-id-2 div.sk-item {position: relative;z-index: 1;}#sk-container-id-2 div.sk-parallel {display: flex;align-items: stretch;justify-content: center;background-color: white;position: relative;}#sk-container-id-2 div.sk-item::before, #sk-container-id-2 div.sk-parallel-item::before {content: \"\";position: absolute;border-left: 1px solid gray;box-sizing: border-box;top: 0;bottom: 0;left: 50%;z-index: -1;}#sk-container-id-2 div.sk-parallel-item {display: flex;flex-direction: column;z-index: 1;position: relative;background-color: white;}#sk-container-id-2 div.sk-parallel-item:first-child::after {align-self: flex-end;width: 50%;}#sk-container-id-2 div.sk-parallel-item:last-child::after {align-self: flex-start;width: 50%;}#sk-container-id-2 div.sk-parallel-item:only-child::after {width: 0;}#sk-container-id-2 div.sk-dashed-wrapped {border: 1px dashed gray;margin: 0 0.4em 0.5em 0.4em;box-sizing: border-box;padding-bottom: 0.4em;background-color: white;}#sk-container-id-2 div.sk-label label {font-family: monospace;font-weight: bold;display: inline-block;line-height: 1.2em;}#sk-container-id-2 div.sk-label-container {text-align: center;}#sk-container-id-2 div.sk-container {/* jupyter's `normalize.less` sets `[hidden] { display: none; }` but bootstrap.min.css set `[hidden] { display: none !important; }` so we also need the `!important` here to be able to override the default hidden behavior on the sphinx rendered scikit-learn.org. See: https://github.com/scikit-learn/scikit-learn/issues/21755 */display: inline-block !important;position: relative;}#sk-container-id-2 div.sk-text-repr-fallback {display: none;}</style><div id=\"sk-container-id-2\" class=\"sk-top-container\"><div class=\"sk-text-repr-fallback\"><pre>GridSearchCV(cv=2, estimator=SVC(),\n",
              "             param_grid={&#x27;C&#x27;: [0.1, 1, 10], &#x27;class_weight&#x27;: [&#x27;balanced&#x27;],\n",
              "                         &#x27;gamma&#x27;: [1, 0.1, 0.01], &#x27;kernel&#x27;: [&#x27;rbf&#x27;]},\n",
              "             verbose=2)</pre><b>In a Jupyter environment, please rerun this cell to show the HTML representation or trust the notebook. <br />On GitHub, the HTML representation is unable to render, please try loading this page with nbviewer.org.</b></div><div class=\"sk-container\" hidden><div class=\"sk-item sk-dashed-wrapped\"><div class=\"sk-label-container\"><div class=\"sk-label sk-toggleable\"><input class=\"sk-toggleable__control sk-hidden--visually\" id=\"sk-estimator-id-2\" type=\"checkbox\" ><label for=\"sk-estimator-id-2\" class=\"sk-toggleable__label sk-toggleable__label-arrow\">GridSearchCV</label><div class=\"sk-toggleable__content\"><pre>GridSearchCV(cv=2, estimator=SVC(),\n",
              "             param_grid={&#x27;C&#x27;: [0.1, 1, 10], &#x27;class_weight&#x27;: [&#x27;balanced&#x27;],\n",
              "                         &#x27;gamma&#x27;: [1, 0.1, 0.01], &#x27;kernel&#x27;: [&#x27;rbf&#x27;]},\n",
              "             verbose=2)</pre></div></div></div><div class=\"sk-parallel\"><div class=\"sk-parallel-item\"><div class=\"sk-item\"><div class=\"sk-label-container\"><div class=\"sk-label sk-toggleable\"><input class=\"sk-toggleable__control sk-hidden--visually\" id=\"sk-estimator-id-3\" type=\"checkbox\" ><label for=\"sk-estimator-id-3\" class=\"sk-toggleable__label sk-toggleable__label-arrow\">estimator: SVC</label><div class=\"sk-toggleable__content\"><pre>SVC()</pre></div></div></div><div class=\"sk-serial\"><div class=\"sk-item\"><div class=\"sk-estimator sk-toggleable\"><input class=\"sk-toggleable__control sk-hidden--visually\" id=\"sk-estimator-id-4\" type=\"checkbox\" ><label for=\"sk-estimator-id-4\" class=\"sk-toggleable__label sk-toggleable__label-arrow\">SVC</label><div class=\"sk-toggleable__content\"><pre>SVC()</pre></div></div></div></div></div></div></div></div></div></div>"
            ]
          },
          "metadata": {},
          "execution_count": 76
        }
      ]
    },
    {
      "cell_type": "code",
      "source": [
        "print(grid.best_estimator_)"
      ],
      "metadata": {
        "colab": {
          "base_uri": "https://localhost:8080/"
        },
        "id": "wtHhK1NZXFmP",
        "outputId": "bf126727-c5a4-4f3f-92b6-f645c50273b9"
      },
      "execution_count": 77,
      "outputs": [
        {
          "output_type": "stream",
          "name": "stdout",
          "text": [
            "SVC(C=10, class_weight='balanced', gamma=1)\n"
          ]
        }
      ]
    },
    {
      "cell_type": "code",
      "source": [
        "grid_prediction = grid.predict(x_test)"
      ],
      "metadata": {
        "id": "sIMMKAx7XH-e"
      },
      "execution_count": 78,
      "outputs": []
    },
    {
      "cell_type": "code",
      "source": [
        "confusion_matrix(y_test,grid_prediction)"
      ],
      "metadata": {
        "colab": {
          "base_uri": "https://localhost:8080/"
        },
        "id": "dR57A4xoXNkf",
        "outputId": "98566a9e-08bc-4c33-d674-84decc1d9d99"
      },
      "execution_count": 79,
      "outputs": [
        {
          "output_type": "execute_result",
          "data": {
            "text/plain": [
              "array([[2159,  255],\n",
              "       [ 343,  243]])"
            ]
          },
          "metadata": {},
          "execution_count": 79
        }
      ]
    },
    {
      "cell_type": "code",
      "source": [
        "print (classification_report(y_test,grid_prediction))"
      ],
      "metadata": {
        "colab": {
          "base_uri": "https://localhost:8080/"
        },
        "id": "jHtkqij7XRDG",
        "outputId": "fbc21c71-233c-4da7-e274-d2c94fac9aa8"
      },
      "execution_count": 80,
      "outputs": [
        {
          "output_type": "stream",
          "name": "stdout",
          "text": [
            "              precision    recall  f1-score   support\n",
            "\n",
            "           0       0.86      0.89      0.88      2414\n",
            "           1       0.49      0.41      0.45       586\n",
            "\n",
            "    accuracy                           0.80      3000\n",
            "   macro avg       0.68      0.65      0.66      3000\n",
            "weighted avg       0.79      0.80      0.79      3000\n",
            "\n"
          ]
        }
      ]
    },
    {
      "cell_type": "markdown",
      "source": [
        "model with random under sampling"
      ],
      "metadata": {
        "id": "p29ZhKjqXbxz"
      }
    },
    {
      "cell_type": "code",
      "source": [
        "svc_rus = SVC()"
      ],
      "metadata": {
        "id": "Fle3a6cYXjgV"
      },
      "execution_count": 81,
      "outputs": []
    },
    {
      "cell_type": "code",
      "source": [
        "svc_rus.fit(x_train_rus,y_train_rus)"
      ],
      "metadata": {
        "colab": {
          "base_uri": "https://localhost:8080/",
          "height": 74
        },
        "id": "k1BJWxQPXmcu",
        "outputId": "cad7de70-0f0c-446f-ccb9-dd423da752d2"
      },
      "execution_count": 82,
      "outputs": [
        {
          "output_type": "execute_result",
          "data": {
            "text/plain": [
              "SVC()"
            ],
            "text/html": [
              "<style>#sk-container-id-3 {color: black;background-color: white;}#sk-container-id-3 pre{padding: 0;}#sk-container-id-3 div.sk-toggleable {background-color: white;}#sk-container-id-3 label.sk-toggleable__label {cursor: pointer;display: block;width: 100%;margin-bottom: 0;padding: 0.3em;box-sizing: border-box;text-align: center;}#sk-container-id-3 label.sk-toggleable__label-arrow:before {content: \"▸\";float: left;margin-right: 0.25em;color: #696969;}#sk-container-id-3 label.sk-toggleable__label-arrow:hover:before {color: black;}#sk-container-id-3 div.sk-estimator:hover label.sk-toggleable__label-arrow:before {color: black;}#sk-container-id-3 div.sk-toggleable__content {max-height: 0;max-width: 0;overflow: hidden;text-align: left;background-color: #f0f8ff;}#sk-container-id-3 div.sk-toggleable__content pre {margin: 0.2em;color: black;border-radius: 0.25em;background-color: #f0f8ff;}#sk-container-id-3 input.sk-toggleable__control:checked~div.sk-toggleable__content {max-height: 200px;max-width: 100%;overflow: auto;}#sk-container-id-3 input.sk-toggleable__control:checked~label.sk-toggleable__label-arrow:before {content: \"▾\";}#sk-container-id-3 div.sk-estimator input.sk-toggleable__control:checked~label.sk-toggleable__label {background-color: #d4ebff;}#sk-container-id-3 div.sk-label input.sk-toggleable__control:checked~label.sk-toggleable__label {background-color: #d4ebff;}#sk-container-id-3 input.sk-hidden--visually {border: 0;clip: rect(1px 1px 1px 1px);clip: rect(1px, 1px, 1px, 1px);height: 1px;margin: -1px;overflow: hidden;padding: 0;position: absolute;width: 1px;}#sk-container-id-3 div.sk-estimator {font-family: monospace;background-color: #f0f8ff;border: 1px dotted black;border-radius: 0.25em;box-sizing: border-box;margin-bottom: 0.5em;}#sk-container-id-3 div.sk-estimator:hover {background-color: #d4ebff;}#sk-container-id-3 div.sk-parallel-item::after {content: \"\";width: 100%;border-bottom: 1px solid gray;flex-grow: 1;}#sk-container-id-3 div.sk-label:hover label.sk-toggleable__label {background-color: #d4ebff;}#sk-container-id-3 div.sk-serial::before {content: \"\";position: absolute;border-left: 1px solid gray;box-sizing: border-box;top: 0;bottom: 0;left: 50%;z-index: 0;}#sk-container-id-3 div.sk-serial {display: flex;flex-direction: column;align-items: center;background-color: white;padding-right: 0.2em;padding-left: 0.2em;position: relative;}#sk-container-id-3 div.sk-item {position: relative;z-index: 1;}#sk-container-id-3 div.sk-parallel {display: flex;align-items: stretch;justify-content: center;background-color: white;position: relative;}#sk-container-id-3 div.sk-item::before, #sk-container-id-3 div.sk-parallel-item::before {content: \"\";position: absolute;border-left: 1px solid gray;box-sizing: border-box;top: 0;bottom: 0;left: 50%;z-index: -1;}#sk-container-id-3 div.sk-parallel-item {display: flex;flex-direction: column;z-index: 1;position: relative;background-color: white;}#sk-container-id-3 div.sk-parallel-item:first-child::after {align-self: flex-end;width: 50%;}#sk-container-id-3 div.sk-parallel-item:last-child::after {align-self: flex-start;width: 50%;}#sk-container-id-3 div.sk-parallel-item:only-child::after {width: 0;}#sk-container-id-3 div.sk-dashed-wrapped {border: 1px dashed gray;margin: 0 0.4em 0.5em 0.4em;box-sizing: border-box;padding-bottom: 0.4em;background-color: white;}#sk-container-id-3 div.sk-label label {font-family: monospace;font-weight: bold;display: inline-block;line-height: 1.2em;}#sk-container-id-3 div.sk-label-container {text-align: center;}#sk-container-id-3 div.sk-container {/* jupyter's `normalize.less` sets `[hidden] { display: none; }` but bootstrap.min.css set `[hidden] { display: none !important; }` so we also need the `!important` here to be able to override the default hidden behavior on the sphinx rendered scikit-learn.org. See: https://github.com/scikit-learn/scikit-learn/issues/21755 */display: inline-block !important;position: relative;}#sk-container-id-3 div.sk-text-repr-fallback {display: none;}</style><div id=\"sk-container-id-3\" class=\"sk-top-container\"><div class=\"sk-text-repr-fallback\"><pre>SVC()</pre><b>In a Jupyter environment, please rerun this cell to show the HTML representation or trust the notebook. <br />On GitHub, the HTML representation is unable to render, please try loading this page with nbviewer.org.</b></div><div class=\"sk-container\" hidden><div class=\"sk-item\"><div class=\"sk-estimator sk-toggleable\"><input class=\"sk-toggleable__control sk-hidden--visually\" id=\"sk-estimator-id-5\" type=\"checkbox\" checked><label for=\"sk-estimator-id-5\" class=\"sk-toggleable__label sk-toggleable__label-arrow\">SVC</label><div class=\"sk-toggleable__content\"><pre>SVC()</pre></div></div></div></div></div>"
            ]
          },
          "metadata": {},
          "execution_count": 82
        }
      ]
    },
    {
      "cell_type": "code",
      "source": [
        "y_pred_rus = svc_rus.predict(x_test_rus)"
      ],
      "metadata": {
        "id": "CBSNejhXXowe"
      },
      "execution_count": 83,
      "outputs": []
    },
    {
      "cell_type": "markdown",
      "source": [
        "model accuracy"
      ],
      "metadata": {
        "id": "MNGkVm_4XsFI"
      }
    },
    {
      "cell_type": "code",
      "source": [
        "confusion_matrix(y_test_rus,y_pred_rus)"
      ],
      "metadata": {
        "colab": {
          "base_uri": "https://localhost:8080/"
        },
        "id": "e4XhfvupXuGI",
        "outputId": "cf21759a-0d25-468b-c981-88a8d493775b"
      },
      "execution_count": 84,
      "outputs": [
        {
          "output_type": "execute_result",
          "data": {
            "text/plain": [
              "array([[470, 157],\n",
              "       [174, 422]])"
            ]
          },
          "metadata": {},
          "execution_count": 84
        }
      ]
    },
    {
      "cell_type": "code",
      "source": [
        "print(classification_report(y_test_rus,y_pred_rus))"
      ],
      "metadata": {
        "colab": {
          "base_uri": "https://localhost:8080/"
        },
        "id": "LHEfrYevXxWt",
        "outputId": "4bedee06-d15c-4e01-b66f-8ba6eb260c4e"
      },
      "execution_count": 85,
      "outputs": [
        {
          "output_type": "stream",
          "name": "stdout",
          "text": [
            "              precision    recall  f1-score   support\n",
            "\n",
            "           0       0.73      0.75      0.74       627\n",
            "           1       0.73      0.71      0.72       596\n",
            "\n",
            "    accuracy                           0.73      1223\n",
            "   macro avg       0.73      0.73      0.73      1223\n",
            "weighted avg       0.73      0.73      0.73      1223\n",
            "\n"
          ]
        }
      ]
    },
    {
      "cell_type": "markdown",
      "source": [
        "hyperparameter tunning"
      ],
      "metadata": {
        "id": "qbkm2rigX6YM"
      }
    },
    {
      "cell_type": "code",
      "source": [
        "param_grid = {'C':[0.1,1,10],\n",
        "              'gamma':[1,0.1,0.01],\n",
        "              'kernel':['rbf'],\n",
        "              'class_weight':['balanced']}"
      ],
      "metadata": {
        "id": "xSvBK2ucX9F5"
      },
      "execution_count": 86,
      "outputs": []
    },
    {
      "cell_type": "code",
      "source": [
        "grid_rus= GridSearchCV(SVC(),param_grid,refit=True,verbose=2,cv=2)\n",
        "grid_rus.fit(x_train_rus,y_train_rus)"
      ],
      "metadata": {
        "colab": {
          "base_uri": "https://localhost:8080/",
          "height": 459
        },
        "id": "qIkAmH9UYFR2",
        "outputId": "81c7ca5f-ce28-4581-8408-8cc85d3bb49a"
      },
      "execution_count": 89,
      "outputs": [
        {
          "output_type": "stream",
          "name": "stdout",
          "text": [
            "Fitting 2 folds for each of 9 candidates, totalling 18 fits\n",
            "[CV] END ..C=0.1, class_weight=balanced, gamma=1, kernel=rbf; total time=   0.6s\n",
            "[CV] END ..C=0.1, class_weight=balanced, gamma=1, kernel=rbf; total time=   0.6s\n",
            "[CV] END C=0.1, class_weight=balanced, gamma=0.1, kernel=rbf; total time=   0.7s\n",
            "[CV] END C=0.1, class_weight=balanced, gamma=0.1, kernel=rbf; total time=   0.5s\n",
            "[CV] END C=0.1, class_weight=balanced, gamma=0.01, kernel=rbf; total time=   0.6s\n",
            "[CV] END C=0.1, class_weight=balanced, gamma=0.01, kernel=rbf; total time=   0.8s\n",
            "[CV] END ....C=1, class_weight=balanced, gamma=1, kernel=rbf; total time=   0.7s\n",
            "[CV] END ....C=1, class_weight=balanced, gamma=1, kernel=rbf; total time=   0.4s\n",
            "[CV] END ..C=1, class_weight=balanced, gamma=0.1, kernel=rbf; total time=   0.3s\n",
            "[CV] END ..C=1, class_weight=balanced, gamma=0.1, kernel=rbf; total time=   0.2s\n",
            "[CV] END .C=1, class_weight=balanced, gamma=0.01, kernel=rbf; total time=   0.2s\n",
            "[CV] END .C=1, class_weight=balanced, gamma=0.01, kernel=rbf; total time=   0.2s\n",
            "[CV] END ...C=10, class_weight=balanced, gamma=1, kernel=rbf; total time=   0.2s\n",
            "[CV] END ...C=10, class_weight=balanced, gamma=1, kernel=rbf; total time=   0.2s\n",
            "[CV] END .C=10, class_weight=balanced, gamma=0.1, kernel=rbf; total time=   0.2s\n",
            "[CV] END .C=10, class_weight=balanced, gamma=0.1, kernel=rbf; total time=   0.2s\n",
            "[CV] END C=10, class_weight=balanced, gamma=0.01, kernel=rbf; total time=   0.2s\n",
            "[CV] END C=10, class_weight=balanced, gamma=0.01, kernel=rbf; total time=   0.2s\n"
          ]
        },
        {
          "output_type": "execute_result",
          "data": {
            "text/plain": [
              "GridSearchCV(cv=2, estimator=SVC(),\n",
              "             param_grid={'C': [0.1, 1, 10], 'class_weight': ['balanced'],\n",
              "                         'gamma': [1, 0.1, 0.01], 'kernel': ['rbf']},\n",
              "             verbose=2)"
            ],
            "text/html": [
              "<style>#sk-container-id-4 {color: black;background-color: white;}#sk-container-id-4 pre{padding: 0;}#sk-container-id-4 div.sk-toggleable {background-color: white;}#sk-container-id-4 label.sk-toggleable__label {cursor: pointer;display: block;width: 100%;margin-bottom: 0;padding: 0.3em;box-sizing: border-box;text-align: center;}#sk-container-id-4 label.sk-toggleable__label-arrow:before {content: \"▸\";float: left;margin-right: 0.25em;color: #696969;}#sk-container-id-4 label.sk-toggleable__label-arrow:hover:before {color: black;}#sk-container-id-4 div.sk-estimator:hover label.sk-toggleable__label-arrow:before {color: black;}#sk-container-id-4 div.sk-toggleable__content {max-height: 0;max-width: 0;overflow: hidden;text-align: left;background-color: #f0f8ff;}#sk-container-id-4 div.sk-toggleable__content pre {margin: 0.2em;color: black;border-radius: 0.25em;background-color: #f0f8ff;}#sk-container-id-4 input.sk-toggleable__control:checked~div.sk-toggleable__content {max-height: 200px;max-width: 100%;overflow: auto;}#sk-container-id-4 input.sk-toggleable__control:checked~label.sk-toggleable__label-arrow:before {content: \"▾\";}#sk-container-id-4 div.sk-estimator input.sk-toggleable__control:checked~label.sk-toggleable__label {background-color: #d4ebff;}#sk-container-id-4 div.sk-label input.sk-toggleable__control:checked~label.sk-toggleable__label {background-color: #d4ebff;}#sk-container-id-4 input.sk-hidden--visually {border: 0;clip: rect(1px 1px 1px 1px);clip: rect(1px, 1px, 1px, 1px);height: 1px;margin: -1px;overflow: hidden;padding: 0;position: absolute;width: 1px;}#sk-container-id-4 div.sk-estimator {font-family: monospace;background-color: #f0f8ff;border: 1px dotted black;border-radius: 0.25em;box-sizing: border-box;margin-bottom: 0.5em;}#sk-container-id-4 div.sk-estimator:hover {background-color: #d4ebff;}#sk-container-id-4 div.sk-parallel-item::after {content: \"\";width: 100%;border-bottom: 1px solid gray;flex-grow: 1;}#sk-container-id-4 div.sk-label:hover label.sk-toggleable__label {background-color: #d4ebff;}#sk-container-id-4 div.sk-serial::before {content: \"\";position: absolute;border-left: 1px solid gray;box-sizing: border-box;top: 0;bottom: 0;left: 50%;z-index: 0;}#sk-container-id-4 div.sk-serial {display: flex;flex-direction: column;align-items: center;background-color: white;padding-right: 0.2em;padding-left: 0.2em;position: relative;}#sk-container-id-4 div.sk-item {position: relative;z-index: 1;}#sk-container-id-4 div.sk-parallel {display: flex;align-items: stretch;justify-content: center;background-color: white;position: relative;}#sk-container-id-4 div.sk-item::before, #sk-container-id-4 div.sk-parallel-item::before {content: \"\";position: absolute;border-left: 1px solid gray;box-sizing: border-box;top: 0;bottom: 0;left: 50%;z-index: -1;}#sk-container-id-4 div.sk-parallel-item {display: flex;flex-direction: column;z-index: 1;position: relative;background-color: white;}#sk-container-id-4 div.sk-parallel-item:first-child::after {align-self: flex-end;width: 50%;}#sk-container-id-4 div.sk-parallel-item:last-child::after {align-self: flex-start;width: 50%;}#sk-container-id-4 div.sk-parallel-item:only-child::after {width: 0;}#sk-container-id-4 div.sk-dashed-wrapped {border: 1px dashed gray;margin: 0 0.4em 0.5em 0.4em;box-sizing: border-box;padding-bottom: 0.4em;background-color: white;}#sk-container-id-4 div.sk-label label {font-family: monospace;font-weight: bold;display: inline-block;line-height: 1.2em;}#sk-container-id-4 div.sk-label-container {text-align: center;}#sk-container-id-4 div.sk-container {/* jupyter's `normalize.less` sets `[hidden] { display: none; }` but bootstrap.min.css set `[hidden] { display: none !important; }` so we also need the `!important` here to be able to override the default hidden behavior on the sphinx rendered scikit-learn.org. See: https://github.com/scikit-learn/scikit-learn/issues/21755 */display: inline-block !important;position: relative;}#sk-container-id-4 div.sk-text-repr-fallback {display: none;}</style><div id=\"sk-container-id-4\" class=\"sk-top-container\"><div class=\"sk-text-repr-fallback\"><pre>GridSearchCV(cv=2, estimator=SVC(),\n",
              "             param_grid={&#x27;C&#x27;: [0.1, 1, 10], &#x27;class_weight&#x27;: [&#x27;balanced&#x27;],\n",
              "                         &#x27;gamma&#x27;: [1, 0.1, 0.01], &#x27;kernel&#x27;: [&#x27;rbf&#x27;]},\n",
              "             verbose=2)</pre><b>In a Jupyter environment, please rerun this cell to show the HTML representation or trust the notebook. <br />On GitHub, the HTML representation is unable to render, please try loading this page with nbviewer.org.</b></div><div class=\"sk-container\" hidden><div class=\"sk-item sk-dashed-wrapped\"><div class=\"sk-label-container\"><div class=\"sk-label sk-toggleable\"><input class=\"sk-toggleable__control sk-hidden--visually\" id=\"sk-estimator-id-6\" type=\"checkbox\" ><label for=\"sk-estimator-id-6\" class=\"sk-toggleable__label sk-toggleable__label-arrow\">GridSearchCV</label><div class=\"sk-toggleable__content\"><pre>GridSearchCV(cv=2, estimator=SVC(),\n",
              "             param_grid={&#x27;C&#x27;: [0.1, 1, 10], &#x27;class_weight&#x27;: [&#x27;balanced&#x27;],\n",
              "                         &#x27;gamma&#x27;: [1, 0.1, 0.01], &#x27;kernel&#x27;: [&#x27;rbf&#x27;]},\n",
              "             verbose=2)</pre></div></div></div><div class=\"sk-parallel\"><div class=\"sk-parallel-item\"><div class=\"sk-item\"><div class=\"sk-label-container\"><div class=\"sk-label sk-toggleable\"><input class=\"sk-toggleable__control sk-hidden--visually\" id=\"sk-estimator-id-7\" type=\"checkbox\" ><label for=\"sk-estimator-id-7\" class=\"sk-toggleable__label sk-toggleable__label-arrow\">estimator: SVC</label><div class=\"sk-toggleable__content\"><pre>SVC()</pre></div></div></div><div class=\"sk-serial\"><div class=\"sk-item\"><div class=\"sk-estimator sk-toggleable\"><input class=\"sk-toggleable__control sk-hidden--visually\" id=\"sk-estimator-id-8\" type=\"checkbox\" ><label for=\"sk-estimator-id-8\" class=\"sk-toggleable__label sk-toggleable__label-arrow\">SVC</label><div class=\"sk-toggleable__content\"><pre>SVC()</pre></div></div></div></div></div></div></div></div></div></div>"
            ]
          },
          "metadata": {},
          "execution_count": 89
        }
      ]
    },
    {
      "cell_type": "code",
      "source": [
        "print(grid_rus.best_estimator_)"
      ],
      "metadata": {
        "colab": {
          "base_uri": "https://localhost:8080/"
        },
        "id": "lJ2DQYj6YKNP",
        "outputId": "cee7d68b-7ca4-4c47-e1c2-0ed0d6ca7461"
      },
      "execution_count": 90,
      "outputs": [
        {
          "output_type": "stream",
          "name": "stdout",
          "text": [
            "SVC(C=1, class_weight='balanced', gamma=0.1)\n"
          ]
        }
      ]
    },
    {
      "cell_type": "code",
      "source": [
        "grid_prediction_rus = grid_rus.predict(x_test_rus)"
      ],
      "metadata": {
        "id": "TuK3YoPPYdS4"
      },
      "execution_count": 91,
      "outputs": []
    },
    {
      "cell_type": "code",
      "source": [
        "confusion_matrix  (y_test_rus,grid_prediction_rus)"
      ],
      "metadata": {
        "colab": {
          "base_uri": "https://localhost:8080/"
        },
        "id": "7HoK3lroYgsK",
        "outputId": "4f183c99-05bf-4d4b-a5c3-b367f125d556"
      },
      "execution_count": 92,
      "outputs": [
        {
          "output_type": "execute_result",
          "data": {
            "text/plain": [
              "array([[476, 151],\n",
              "       [172, 424]])"
            ]
          },
          "metadata": {},
          "execution_count": 92
        }
      ]
    },
    {
      "cell_type": "code",
      "source": [
        "print (classification_report(y_test_rus,grid_prediction_rus))"
      ],
      "metadata": {
        "colab": {
          "base_uri": "https://localhost:8080/"
        },
        "id": "eGA6CqAdYj7s",
        "outputId": "f083b33d-e9a7-4ada-ddb9-a81ae3b60bdb"
      },
      "execution_count": 93,
      "outputs": [
        {
          "output_type": "stream",
          "name": "stdout",
          "text": [
            "              precision    recall  f1-score   support\n",
            "\n",
            "           0       0.73      0.76      0.75       627\n",
            "           1       0.74      0.71      0.72       596\n",
            "\n",
            "    accuracy                           0.74      1223\n",
            "   macro avg       0.74      0.74      0.74      1223\n",
            "weighted avg       0.74      0.74      0.74      1223\n",
            "\n"
          ]
        }
      ]
    },
    {
      "cell_type": "markdown",
      "source": [
        "model with random over sampling"
      ],
      "metadata": {
        "id": "oPtzCP1JYx0Z"
      }
    },
    {
      "cell_type": "code",
      "source": [
        "svc_ros = SVC()"
      ],
      "metadata": {
        "id": "M96lwcKgY1-V"
      },
      "execution_count": 94,
      "outputs": []
    },
    {
      "cell_type": "code",
      "source": [
        "svc_ros.fit(x_train_ros,y_train_ros)"
      ],
      "metadata": {
        "colab": {
          "base_uri": "https://localhost:8080/",
          "height": 74
        },
        "id": "a4VkmtAXY4VO",
        "outputId": "3beaa226-0af3-414c-d5df-14e208a8f2b7"
      },
      "execution_count": 95,
      "outputs": [
        {
          "output_type": "execute_result",
          "data": {
            "text/plain": [
              "SVC()"
            ],
            "text/html": [
              "<style>#sk-container-id-5 {color: black;background-color: white;}#sk-container-id-5 pre{padding: 0;}#sk-container-id-5 div.sk-toggleable {background-color: white;}#sk-container-id-5 label.sk-toggleable__label {cursor: pointer;display: block;width: 100%;margin-bottom: 0;padding: 0.3em;box-sizing: border-box;text-align: center;}#sk-container-id-5 label.sk-toggleable__label-arrow:before {content: \"▸\";float: left;margin-right: 0.25em;color: #696969;}#sk-container-id-5 label.sk-toggleable__label-arrow:hover:before {color: black;}#sk-container-id-5 div.sk-estimator:hover label.sk-toggleable__label-arrow:before {color: black;}#sk-container-id-5 div.sk-toggleable__content {max-height: 0;max-width: 0;overflow: hidden;text-align: left;background-color: #f0f8ff;}#sk-container-id-5 div.sk-toggleable__content pre {margin: 0.2em;color: black;border-radius: 0.25em;background-color: #f0f8ff;}#sk-container-id-5 input.sk-toggleable__control:checked~div.sk-toggleable__content {max-height: 200px;max-width: 100%;overflow: auto;}#sk-container-id-5 input.sk-toggleable__control:checked~label.sk-toggleable__label-arrow:before {content: \"▾\";}#sk-container-id-5 div.sk-estimator input.sk-toggleable__control:checked~label.sk-toggleable__label {background-color: #d4ebff;}#sk-container-id-5 div.sk-label input.sk-toggleable__control:checked~label.sk-toggleable__label {background-color: #d4ebff;}#sk-container-id-5 input.sk-hidden--visually {border: 0;clip: rect(1px 1px 1px 1px);clip: rect(1px, 1px, 1px, 1px);height: 1px;margin: -1px;overflow: hidden;padding: 0;position: absolute;width: 1px;}#sk-container-id-5 div.sk-estimator {font-family: monospace;background-color: #f0f8ff;border: 1px dotted black;border-radius: 0.25em;box-sizing: border-box;margin-bottom: 0.5em;}#sk-container-id-5 div.sk-estimator:hover {background-color: #d4ebff;}#sk-container-id-5 div.sk-parallel-item::after {content: \"\";width: 100%;border-bottom: 1px solid gray;flex-grow: 1;}#sk-container-id-5 div.sk-label:hover label.sk-toggleable__label {background-color: #d4ebff;}#sk-container-id-5 div.sk-serial::before {content: \"\";position: absolute;border-left: 1px solid gray;box-sizing: border-box;top: 0;bottom: 0;left: 50%;z-index: 0;}#sk-container-id-5 div.sk-serial {display: flex;flex-direction: column;align-items: center;background-color: white;padding-right: 0.2em;padding-left: 0.2em;position: relative;}#sk-container-id-5 div.sk-item {position: relative;z-index: 1;}#sk-container-id-5 div.sk-parallel {display: flex;align-items: stretch;justify-content: center;background-color: white;position: relative;}#sk-container-id-5 div.sk-item::before, #sk-container-id-5 div.sk-parallel-item::before {content: \"\";position: absolute;border-left: 1px solid gray;box-sizing: border-box;top: 0;bottom: 0;left: 50%;z-index: -1;}#sk-container-id-5 div.sk-parallel-item {display: flex;flex-direction: column;z-index: 1;position: relative;background-color: white;}#sk-container-id-5 div.sk-parallel-item:first-child::after {align-self: flex-end;width: 50%;}#sk-container-id-5 div.sk-parallel-item:last-child::after {align-self: flex-start;width: 50%;}#sk-container-id-5 div.sk-parallel-item:only-child::after {width: 0;}#sk-container-id-5 div.sk-dashed-wrapped {border: 1px dashed gray;margin: 0 0.4em 0.5em 0.4em;box-sizing: border-box;padding-bottom: 0.4em;background-color: white;}#sk-container-id-5 div.sk-label label {font-family: monospace;font-weight: bold;display: inline-block;line-height: 1.2em;}#sk-container-id-5 div.sk-label-container {text-align: center;}#sk-container-id-5 div.sk-container {/* jupyter's `normalize.less` sets `[hidden] { display: none; }` but bootstrap.min.css set `[hidden] { display: none !important; }` so we also need the `!important` here to be able to override the default hidden behavior on the sphinx rendered scikit-learn.org. See: https://github.com/scikit-learn/scikit-learn/issues/21755 */display: inline-block !important;position: relative;}#sk-container-id-5 div.sk-text-repr-fallback {display: none;}</style><div id=\"sk-container-id-5\" class=\"sk-top-container\"><div class=\"sk-text-repr-fallback\"><pre>SVC()</pre><b>In a Jupyter environment, please rerun this cell to show the HTML representation or trust the notebook. <br />On GitHub, the HTML representation is unable to render, please try loading this page with nbviewer.org.</b></div><div class=\"sk-container\" hidden><div class=\"sk-item\"><div class=\"sk-estimator sk-toggleable\"><input class=\"sk-toggleable__control sk-hidden--visually\" id=\"sk-estimator-id-9\" type=\"checkbox\" checked><label for=\"sk-estimator-id-9\" class=\"sk-toggleable__label sk-toggleable__label-arrow\">SVC</label><div class=\"sk-toggleable__content\"><pre>SVC()</pre></div></div></div></div></div>"
            ]
          },
          "metadata": {},
          "execution_count": 95
        }
      ]
    },
    {
      "cell_type": "code",
      "source": [
        "y_pred_ros = svc_ros.predict(x_test_ros)"
      ],
      "metadata": {
        "id": "odt5aLafY_4R"
      },
      "execution_count": 96,
      "outputs": []
    },
    {
      "cell_type": "markdown",
      "source": [
        "model accuracy"
      ],
      "metadata": {
        "id": "iOTe7CnDZIFQ"
      }
    },
    {
      "cell_type": "code",
      "source": [
        "confusion_matrix(y_test_ros,y_pred_ros)"
      ],
      "metadata": {
        "colab": {
          "base_uri": "https://localhost:8080/"
        },
        "id": "5a8k1zqzZKVO",
        "outputId": "ab861588-ee6d-4615-8d8f-6641b334ed2b"
      },
      "execution_count": 97,
      "outputs": [
        {
          "output_type": "execute_result",
          "data": {
            "text/plain": [
              "array([[ 921, 1458],\n",
              "       [ 592, 1807]])"
            ]
          },
          "metadata": {},
          "execution_count": 97
        }
      ]
    },
    {
      "cell_type": "code",
      "source": [
        "print(classification_report(y_test_ros,y_pred_ros))"
      ],
      "metadata": {
        "colab": {
          "base_uri": "https://localhost:8080/"
        },
        "id": "u2X2Z7VoZNtp",
        "outputId": "ccc20d80-973a-4567-989f-ce774bfbea25"
      },
      "execution_count": 98,
      "outputs": [
        {
          "output_type": "stream",
          "name": "stdout",
          "text": [
            "              precision    recall  f1-score   support\n",
            "\n",
            "           0       0.61      0.39      0.47      2379\n",
            "           1       0.55      0.75      0.64      2399\n",
            "\n",
            "    accuracy                           0.57      4778\n",
            "   macro avg       0.58      0.57      0.56      4778\n",
            "weighted avg       0.58      0.57      0.56      4778\n",
            "\n"
          ]
        }
      ]
    },
    {
      "cell_type": "markdown",
      "source": [
        "hyperparameter tunning"
      ],
      "metadata": {
        "id": "Wnz9wOnTZYVf"
      }
    },
    {
      "cell_type": "code",
      "source": [
        "param_grid  = {'C':[0.1,1,10],\n",
        "              'gamma':[1,0.1,0.01],\n",
        "              'kernel':['rbf'],\n",
        "              'class_weight':['balanced']}"
      ],
      "metadata": {
        "id": "rcKBkxKUZajl"
      },
      "execution_count": 99,
      "outputs": []
    },
    {
      "cell_type": "code",
      "source": [
        "grid_ros= GridSearchCV(SVC(),param_grid,refit=True,verbose=2,cv=2)\n",
        "grid_ros.fit(x_train_ros,y_train_ros)"
      ],
      "metadata": {
        "colab": {
          "base_uri": "https://localhost:8080/",
          "height": 459
        },
        "id": "MAGCRyyyZfKz",
        "outputId": "cfdbd35f-c654-42c0-ce53-f9c70e7a7de7"
      },
      "execution_count": 100,
      "outputs": [
        {
          "output_type": "stream",
          "name": "stdout",
          "text": [
            "Fitting 2 folds for each of 9 candidates, totalling 18 fits\n",
            "[CV] END ..C=0.1, class_weight=balanced, gamma=1, kernel=rbf; total time=   9.4s\n",
            "[CV] END ..C=0.1, class_weight=balanced, gamma=1, kernel=rbf; total time=   6.0s\n",
            "[CV] END C=0.1, class_weight=balanced, gamma=0.1, kernel=rbf; total time=   3.8s\n",
            "[CV] END C=0.1, class_weight=balanced, gamma=0.1, kernel=rbf; total time=   3.8s\n",
            "[CV] END C=0.1, class_weight=balanced, gamma=0.01, kernel=rbf; total time=   6.5s\n",
            "[CV] END C=0.1, class_weight=balanced, gamma=0.01, kernel=rbf; total time=   6.3s\n",
            "[CV] END ....C=1, class_weight=balanced, gamma=1, kernel=rbf; total time=   8.7s\n",
            "[CV] END ....C=1, class_weight=balanced, gamma=1, kernel=rbf; total time=   9.0s\n",
            "[CV] END ..C=1, class_weight=balanced, gamma=0.1, kernel=rbf; total time=   7.4s\n",
            "[CV] END ..C=1, class_weight=balanced, gamma=0.1, kernel=rbf; total time=   6.5s\n",
            "[CV] END .C=1, class_weight=balanced, gamma=0.01, kernel=rbf; total time=   9.5s\n",
            "[CV] END .C=1, class_weight=balanced, gamma=0.01, kernel=rbf; total time=   7.7s\n",
            "[CV] END ...C=10, class_weight=balanced, gamma=1, kernel=rbf; total time=   3.3s\n",
            "[CV] END ...C=10, class_weight=balanced, gamma=1, kernel=rbf; total time=   3.3s\n",
            "[CV] END .C=10, class_weight=balanced, gamma=0.1, kernel=rbf; total time=   3.3s\n",
            "[CV] END .C=10, class_weight=balanced, gamma=0.1, kernel=rbf; total time=   4.8s\n",
            "[CV] END C=10, class_weight=balanced, gamma=0.01, kernel=rbf; total time=   3.3s\n",
            "[CV] END C=10, class_weight=balanced, gamma=0.01, kernel=rbf; total time=   3.3s\n"
          ]
        },
        {
          "output_type": "execute_result",
          "data": {
            "text/plain": [
              "GridSearchCV(cv=2, estimator=SVC(),\n",
              "             param_grid={'C': [0.1, 1, 10], 'class_weight': ['balanced'],\n",
              "                         'gamma': [1, 0.1, 0.01], 'kernel': ['rbf']},\n",
              "             verbose=2)"
            ],
            "text/html": [
              "<style>#sk-container-id-6 {color: black;background-color: white;}#sk-container-id-6 pre{padding: 0;}#sk-container-id-6 div.sk-toggleable {background-color: white;}#sk-container-id-6 label.sk-toggleable__label {cursor: pointer;display: block;width: 100%;margin-bottom: 0;padding: 0.3em;box-sizing: border-box;text-align: center;}#sk-container-id-6 label.sk-toggleable__label-arrow:before {content: \"▸\";float: left;margin-right: 0.25em;color: #696969;}#sk-container-id-6 label.sk-toggleable__label-arrow:hover:before {color: black;}#sk-container-id-6 div.sk-estimator:hover label.sk-toggleable__label-arrow:before {color: black;}#sk-container-id-6 div.sk-toggleable__content {max-height: 0;max-width: 0;overflow: hidden;text-align: left;background-color: #f0f8ff;}#sk-container-id-6 div.sk-toggleable__content pre {margin: 0.2em;color: black;border-radius: 0.25em;background-color: #f0f8ff;}#sk-container-id-6 input.sk-toggleable__control:checked~div.sk-toggleable__content {max-height: 200px;max-width: 100%;overflow: auto;}#sk-container-id-6 input.sk-toggleable__control:checked~label.sk-toggleable__label-arrow:before {content: \"▾\";}#sk-container-id-6 div.sk-estimator input.sk-toggleable__control:checked~label.sk-toggleable__label {background-color: #d4ebff;}#sk-container-id-6 div.sk-label input.sk-toggleable__control:checked~label.sk-toggleable__label {background-color: #d4ebff;}#sk-container-id-6 input.sk-hidden--visually {border: 0;clip: rect(1px 1px 1px 1px);clip: rect(1px, 1px, 1px, 1px);height: 1px;margin: -1px;overflow: hidden;padding: 0;position: absolute;width: 1px;}#sk-container-id-6 div.sk-estimator {font-family: monospace;background-color: #f0f8ff;border: 1px dotted black;border-radius: 0.25em;box-sizing: border-box;margin-bottom: 0.5em;}#sk-container-id-6 div.sk-estimator:hover {background-color: #d4ebff;}#sk-container-id-6 div.sk-parallel-item::after {content: \"\";width: 100%;border-bottom: 1px solid gray;flex-grow: 1;}#sk-container-id-6 div.sk-label:hover label.sk-toggleable__label {background-color: #d4ebff;}#sk-container-id-6 div.sk-serial::before {content: \"\";position: absolute;border-left: 1px solid gray;box-sizing: border-box;top: 0;bottom: 0;left: 50%;z-index: 0;}#sk-container-id-6 div.sk-serial {display: flex;flex-direction: column;align-items: center;background-color: white;padding-right: 0.2em;padding-left: 0.2em;position: relative;}#sk-container-id-6 div.sk-item {position: relative;z-index: 1;}#sk-container-id-6 div.sk-parallel {display: flex;align-items: stretch;justify-content: center;background-color: white;position: relative;}#sk-container-id-6 div.sk-item::before, #sk-container-id-6 div.sk-parallel-item::before {content: \"\";position: absolute;border-left: 1px solid gray;box-sizing: border-box;top: 0;bottom: 0;left: 50%;z-index: -1;}#sk-container-id-6 div.sk-parallel-item {display: flex;flex-direction: column;z-index: 1;position: relative;background-color: white;}#sk-container-id-6 div.sk-parallel-item:first-child::after {align-self: flex-end;width: 50%;}#sk-container-id-6 div.sk-parallel-item:last-child::after {align-self: flex-start;width: 50%;}#sk-container-id-6 div.sk-parallel-item:only-child::after {width: 0;}#sk-container-id-6 div.sk-dashed-wrapped {border: 1px dashed gray;margin: 0 0.4em 0.5em 0.4em;box-sizing: border-box;padding-bottom: 0.4em;background-color: white;}#sk-container-id-6 div.sk-label label {font-family: monospace;font-weight: bold;display: inline-block;line-height: 1.2em;}#sk-container-id-6 div.sk-label-container {text-align: center;}#sk-container-id-6 div.sk-container {/* jupyter's `normalize.less` sets `[hidden] { display: none; }` but bootstrap.min.css set `[hidden] { display: none !important; }` so we also need the `!important` here to be able to override the default hidden behavior on the sphinx rendered scikit-learn.org. See: https://github.com/scikit-learn/scikit-learn/issues/21755 */display: inline-block !important;position: relative;}#sk-container-id-6 div.sk-text-repr-fallback {display: none;}</style><div id=\"sk-container-id-6\" class=\"sk-top-container\"><div class=\"sk-text-repr-fallback\"><pre>GridSearchCV(cv=2, estimator=SVC(),\n",
              "             param_grid={&#x27;C&#x27;: [0.1, 1, 10], &#x27;class_weight&#x27;: [&#x27;balanced&#x27;],\n",
              "                         &#x27;gamma&#x27;: [1, 0.1, 0.01], &#x27;kernel&#x27;: [&#x27;rbf&#x27;]},\n",
              "             verbose=2)</pre><b>In a Jupyter environment, please rerun this cell to show the HTML representation or trust the notebook. <br />On GitHub, the HTML representation is unable to render, please try loading this page with nbviewer.org.</b></div><div class=\"sk-container\" hidden><div class=\"sk-item sk-dashed-wrapped\"><div class=\"sk-label-container\"><div class=\"sk-label sk-toggleable\"><input class=\"sk-toggleable__control sk-hidden--visually\" id=\"sk-estimator-id-10\" type=\"checkbox\" ><label for=\"sk-estimator-id-10\" class=\"sk-toggleable__label sk-toggleable__label-arrow\">GridSearchCV</label><div class=\"sk-toggleable__content\"><pre>GridSearchCV(cv=2, estimator=SVC(),\n",
              "             param_grid={&#x27;C&#x27;: [0.1, 1, 10], &#x27;class_weight&#x27;: [&#x27;balanced&#x27;],\n",
              "                         &#x27;gamma&#x27;: [1, 0.1, 0.01], &#x27;kernel&#x27;: [&#x27;rbf&#x27;]},\n",
              "             verbose=2)</pre></div></div></div><div class=\"sk-parallel\"><div class=\"sk-parallel-item\"><div class=\"sk-item\"><div class=\"sk-label-container\"><div class=\"sk-label sk-toggleable\"><input class=\"sk-toggleable__control sk-hidden--visually\" id=\"sk-estimator-id-11\" type=\"checkbox\" ><label for=\"sk-estimator-id-11\" class=\"sk-toggleable__label sk-toggleable__label-arrow\">estimator: SVC</label><div class=\"sk-toggleable__content\"><pre>SVC()</pre></div></div></div><div class=\"sk-serial\"><div class=\"sk-item\"><div class=\"sk-estimator sk-toggleable\"><input class=\"sk-toggleable__control sk-hidden--visually\" id=\"sk-estimator-id-12\" type=\"checkbox\" ><label for=\"sk-estimator-id-12\" class=\"sk-toggleable__label sk-toggleable__label-arrow\">SVC</label><div class=\"sk-toggleable__content\"><pre>SVC()</pre></div></div></div></div></div></div></div></div></div></div>"
            ]
          },
          "metadata": {},
          "execution_count": 100
        }
      ]
    },
    {
      "cell_type": "code",
      "source": [
        "print(grid_ros.best_estimator_)"
      ],
      "metadata": {
        "colab": {
          "base_uri": "https://localhost:8080/"
        },
        "id": "w-lEcvMHZnvh",
        "outputId": "3abf6410-706d-43f5-ba27-14a0f6337550"
      },
      "execution_count": 101,
      "outputs": [
        {
          "output_type": "stream",
          "name": "stdout",
          "text": [
            "SVC(C=1, class_weight='balanced', gamma=1)\n"
          ]
        }
      ]
    },
    {
      "cell_type": "code",
      "source": [
        "grid_prediction_ros = grid_ros.predict(x_test_ros)"
      ],
      "metadata": {
        "id": "6rBZ3LcOZqcM"
      },
      "execution_count": 102,
      "outputs": []
    },
    {
      "cell_type": "code",
      "source": [
        "confusion_matrix  (y_test_ros,grid_prediction_ros)"
      ],
      "metadata": {
        "colab": {
          "base_uri": "https://localhost:8080/"
        },
        "id": "8_EGjwgEZt85",
        "outputId": "dfacc071-deaa-438d-ed0f-ab9295a3790c"
      },
      "execution_count": 103,
      "outputs": [
        {
          "output_type": "execute_result",
          "data": {
            "text/plain": [
              "array([[2379,    0],\n",
              "       [ 125, 2274]])"
            ]
          },
          "metadata": {},
          "execution_count": 103
        }
      ]
    },
    {
      "cell_type": "code",
      "source": [
        "print (classification_report(y_test_ros,grid_prediction_ros))"
      ],
      "metadata": {
        "colab": {
          "base_uri": "https://localhost:8080/"
        },
        "id": "4pabo5f3Zwh-",
        "outputId": "3040131f-b84f-421b-8d55-28bc49a370ba"
      },
      "execution_count": 104,
      "outputs": [
        {
          "output_type": "stream",
          "name": "stdout",
          "text": [
            "              precision    recall  f1-score   support\n",
            "\n",
            "           0       0.95      1.00      0.97      2379\n",
            "           1       1.00      0.95      0.97      2399\n",
            "\n",
            "    accuracy                           0.97      4778\n",
            "   macro avg       0.98      0.97      0.97      4778\n",
            "weighted avg       0.98      0.97      0.97      4778\n",
            "\n"
          ]
        }
      ]
    },
    {
      "cell_type": "markdown",
      "source": [
        "lets compare"
      ],
      "metadata": {
        "id": "zPjk3uWfaVkl"
      }
    },
    {
      "cell_type": "code",
      "source": [
        "print(classification_report(y_test, y_pred))"
      ],
      "metadata": {
        "colab": {
          "base_uri": "https://localhost:8080/"
        },
        "id": "IkmFS96taXZh",
        "outputId": "156b3263-ef6c-4dff-bf72-abc9218189b2"
      },
      "execution_count": 106,
      "outputs": [
        {
          "output_type": "stream",
          "name": "stdout",
          "text": [
            "              precision    recall  f1-score   support\n",
            "\n",
            "           0       0.85      0.99      0.91      2414\n",
            "           1       0.82      0.26      0.39       586\n",
            "\n",
            "    accuracy                           0.84      3000\n",
            "   macro avg       0.83      0.62      0.65      3000\n",
            "weighted avg       0.84      0.84      0.81      3000\n",
            "\n"
          ]
        }
      ]
    },
    {
      "cell_type": "code",
      "source": [
        "print(classification_report(y_test,grid_prediction))"
      ],
      "metadata": {
        "colab": {
          "base_uri": "https://localhost:8080/"
        },
        "id": "k8HF96gnanK8",
        "outputId": "0b98c0c7-608c-477f-a7b6-f4dc4fe3e0d3"
      },
      "execution_count": 107,
      "outputs": [
        {
          "output_type": "stream",
          "name": "stdout",
          "text": [
            "              precision    recall  f1-score   support\n",
            "\n",
            "           0       0.86      0.89      0.88      2414\n",
            "           1       0.49      0.41      0.45       586\n",
            "\n",
            "    accuracy                           0.80      3000\n",
            "   macro avg       0.68      0.65      0.66      3000\n",
            "weighted avg       0.79      0.80      0.79      3000\n",
            "\n"
          ]
        }
      ]
    },
    {
      "cell_type": "code",
      "source": [
        "print (classification_report(y_test_ros,y_pred_ros))"
      ],
      "metadata": {
        "colab": {
          "base_uri": "https://localhost:8080/"
        },
        "id": "QH9uqgLxazjZ",
        "outputId": "5b25523b-dfd6-4e2a-e97a-d8b1f8c9aecc"
      },
      "execution_count": 110,
      "outputs": [
        {
          "output_type": "stream",
          "name": "stdout",
          "text": [
            "              precision    recall  f1-score   support\n",
            "\n",
            "           0       0.61      0.39      0.47      2379\n",
            "           1       0.55      0.75      0.64      2399\n",
            "\n",
            "    accuracy                           0.57      4778\n",
            "   macro avg       0.58      0.57      0.56      4778\n",
            "weighted avg       0.58      0.57      0.56      4778\n",
            "\n"
          ]
        }
      ]
    },
    {
      "cell_type": "code",
      "source": [
        "print (classification_report(y_test_ros,grid_prediction_ros))"
      ],
      "metadata": {
        "colab": {
          "base_uri": "https://localhost:8080/"
        },
        "id": "AB3uZDvEa7ku",
        "outputId": "7fb68332-2fef-4aa9-e830-55aaed33d019"
      },
      "execution_count": 111,
      "outputs": [
        {
          "output_type": "stream",
          "name": "stdout",
          "text": [
            "              precision    recall  f1-score   support\n",
            "\n",
            "           0       0.95      1.00      0.97      2379\n",
            "           1       1.00      0.95      0.97      2399\n",
            "\n",
            "    accuracy                           0.97      4778\n",
            "   macro avg       0.98      0.97      0.97      4778\n",
            "weighted avg       0.98      0.97      0.97      4778\n",
            "\n"
          ]
        }
      ]
    }
  ]
}